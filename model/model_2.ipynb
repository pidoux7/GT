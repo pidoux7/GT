{
 "cells": [
  {
   "cell_type": "markdown",
   "metadata": {},
   "source": [
    "# Imports"
   ]
  },
  {
   "cell_type": "code",
   "execution_count": 16,
   "metadata": {
    "ExecuteTime": {
     "end_time": "2024-01-18T16:15:54.829073Z",
     "start_time": "2024-01-18T16:15:54.811715Z"
    }
   },
   "outputs": [],
   "source": [
    "# Authenticate and create the PyDrive client.\n",
    "# This only needs to be done once per notebook.\n",
    "\n",
    "import torch\n",
    "from torch_geometric.data import Data\n",
    "\n",
    "import numpy as np\n",
    "import sparse\n",
    "\n",
    "import torch.nn as nn\n",
    "import torch.nn.functional as F\n",
    "import torch_geometric.nn as tgmnn\n",
    "from torch_geometric.nn import global_mean_pool\n",
    "from torch_geometric.loader import DataListLoader as GraphLoader\n",
    "from torch_geometric.data import Batch\n",
    "\n",
    "from torch.nn import TransformerEncoder, TransformerEncoderLayer, TransformerDecoder, TransformerDecoderLayer\n",
    "import time as time\n",
    "from sklearn import preprocessing\n",
    "import math\n",
    "from torch.utils.data import Dataset\n",
    "import copy\n",
    "import sklearn.metrics as skm\n",
    "import pandas as pd\n",
    "import random\n",
    "from torch.utils.data.dataset import Dataset\n",
    "import pytorch_pretrained_bert as Bert\n",
    "import itertools\n",
    "from einops import rearrange, repeat\n",
    "import ast\n",
    "from typing import Optional, Tuple, Union\n",
    "from torch_geometric.nn.conv import MessagePassing\n",
    "from torch_geometric.nn.dense.linear import Linear\n",
    "from torch_geometric.typing import Adj, OptTensor, PairTensor, SparseTensor\n",
    "from torch_geometric.utils import softmax\n",
    "from torch_geometric.nn.conv import MessagePassing\n",
    "from torch_geometric.nn import LayerNorm\n",
    "import torch.nn.functional as F\n",
    "from torch import Tensor\n",
    "import pickle\n",
    "from sklearn.model_selection import ShuffleSplit\n",
    "import transformers\n",
    "import os\n",
    "from sklearn.metrics import roc_auc_score\n",
    "from sklearn.metrics import precision_recall_curve, auc\n",
    "from sklearn.metrics import precision_score, recall_score, f1_score\n",
    "from torchmetrics.classification import BinaryAccuracy\n",
    "from tqdm import tqdm\n",
    "from matplotlib import pyplot as plt"
   ]
  },
  {
   "cell_type": "code",
   "outputs": [],
   "source": [
    "# if you are using a mac this cell aims to solve this error: \n",
    "# NotImplementedError: The operator 'aten::scatter_reduce.two_out' is not currently implemented for the MPS device. If you want this op to be added in priority during the prototype phase of this feature, please comment on https://github.com/pytorch/pytorch/issues/77764. As a temporary fix, you can set the environment variable ⁠ PYTORCH_ENABLE_MPS_FALLBACK=1 ⁠ to use the CPU as a fallback for this op. WARNING: this will be slower than running natively on MPS.\n",
    "\n",
    "# You will probably need first to execute this bash command in your terminal: touch .zshenv && echo 'export PYTORCH_ENABLE_MPS_FALLBACK=1' >> .zshenv\n",
    "# And then restart the notebook\n",
    "\n",
    "#import os\n",
    "os.environ['PYTORCH_ENABLE_MPS_FALLBACK'] = '1'"
   ],
   "metadata": {
    "collapsed": false
   }
  },
  {
   "cell_type": "markdown",
   "metadata": {},
   "source": [
    "# MODELE"
   ]
  },
  {
   "cell_type": "code",
   "execution_count": 2,
   "metadata": {
    "ExecuteTime": {
     "end_time": "2024-01-18T16:14:46.487713Z",
     "start_time": "2024-01-18T16:14:46.477744Z"
    }
   },
   "outputs": [],
   "source": [
    "\n",
    "\n",
    "class TransformerConv(MessagePassing):\n",
    "    _alpha: OptTensor\n",
    "    def __init__(\n",
    "        self,\n",
    "        in_channels: Union[int, Tuple[int, int]],\n",
    "        out_channels: int,\n",
    "        heads: int = 1,\n",
    "        concat: bool = True,\n",
    "        beta: bool = False,\n",
    "        dropout: float = 0.,\n",
    "        edge_dim: Optional[int] = None,\n",
    "        bias: bool = True,\n",
    "        root_weight: bool = True,\n",
    "        **kwargs,\n",
    "    ):\n",
    "        kwargs.setdefault('aggr', 'add')\n",
    "        super().__init__(node_dim=0, **kwargs)\n",
    "\n",
    "        self.in_channels = in_channels\n",
    "        self.out_channels = out_channels\n",
    "        self.heads = heads\n",
    "        self.beta = beta and root_weight\n",
    "        self.root_weight = root_weight\n",
    "        self.concat = concat\n",
    "        self.dropout = dropout\n",
    "        self.edge_dim = edge_dim\n",
    "        self._alpha = None\n",
    "\n",
    "        if isinstance(in_channels, int):\n",
    "            in_channels = (in_channels, in_channels)\n",
    "\n",
    "        self.lin_key = Linear(in_channels[0], heads * out_channels)\n",
    "        self.lin_query = Linear(in_channels[1], heads * out_channels)\n",
    "        self.lin_value = Linear(in_channels[0], heads * out_channels)\n",
    "        self.layernorm1 = LayerNorm(out_channels)\n",
    "        self.layernorm2 = LayerNorm(out_channels)\n",
    "        self.gelu = nn.GELU()\n",
    "        self.proj = Linear(heads * out_channels, out_channels)\n",
    "        self.ffn = Linear(out_channels, out_channels)\n",
    "        self.ffn2 = Linear(out_channels, out_channels)\n",
    "        if edge_dim is not None:\n",
    "            self.lin_edge = Linear(edge_dim, heads * out_channels, bias=False)\n",
    "        else:\n",
    "            self.lin_edge = self.register_parameter('lin_edge', None)\n",
    "\n",
    "\n",
    "        self.reset_parameters()\n",
    "\n",
    "    def reset_parameters(self):\n",
    "        super().reset_parameters()\n",
    "        self.lin_key.reset_parameters()\n",
    "        self.lin_query.reset_parameters()\n",
    "        self.lin_value.reset_parameters()\n",
    "        if self.edge_dim:\n",
    "            self.lin_edge.reset_parameters()\n",
    "\n",
    "\n",
    "    def forward(self, x: Union[Tensor, PairTensor], edge_index: Adj,\n",
    "                edge_attr: OptTensor = None, batch=None, return_attention_weights=None):\n",
    "        # type: (Union[Tensor, PairTensor], Tensor, OptTensor, NoneType) -> Tensor  # noqa\n",
    "        # type: (Union[Tensor, PairTensor], SparseTensor, OptTensor, NoneType) -> Tensor  # noqa\n",
    "        # type: (Union[Tensor, PairTensor], Tensor, OptTensor, bool) -> Tuple[Tensor, Tuple[Tensor, Tensor]]  # noqa\n",
    "        # type: (Union[Tensor, PairTensor], Tensor, OptTensor, bool) -> Tuple[Tensor, Tuple[Tensor, Tensor]]  # noqa\n",
    "        # type: (Union[Tensor, PairTensor], SparseTensor, OptTensor, bool) -> Tuple[Tensor, SparseTensor]  # noqa\n",
    "        r\"\"\"Runs the forward pass of the module.\n",
    "\n",
    "        Args:\n",
    "            return_attention_weights (bool, optional): If set to :obj:`True`,\n",
    "                will additionally return the tuple\n",
    "                :obj:`(edge_index, attention_weights)`, holding the computed\n",
    "                attention weights for each edge. (default: :obj:`None`)\n",
    "        \"\"\"\n",
    "        H, C = self.heads, self.out_channels\n",
    "        residual = x\n",
    "        x = self.layernorm1(x, batch)\n",
    "        if isinstance(x, Tensor):\n",
    "            x: PairTensor = (x, x)\n",
    "        query = self.lin_query(x[1]).view(-1, H, C)\n",
    "        key = self.lin_key(x[0]).view(-1, H, C)\n",
    "        value = self.lin_value(x[0]).view(-1, H, C)\n",
    "        # propagate_type: (query: Tensor, key:Tensor, value: Tensor, edge_attr: OptTensor) # noqa\n",
    "        out = self.propagate(edge_index, query=query, key=key, value=value,\n",
    "                             edge_attr=edge_attr, size=None)\n",
    "        alpha = self._alpha\n",
    "        self._alpha = None\n",
    "        if self.concat:\n",
    "            out = self.proj(out.view(-1, self.heads * self.out_channels))\n",
    "        else:\n",
    "            out = out.mean(dim=1)\n",
    "        out = F.dropout(out, p=self.dropout, training=self.training)\n",
    "        out = out+residual\n",
    "        residual = out\n",
    "\n",
    "        out = self.layernorm2(out)\n",
    "        out = self.gelu(self.ffn(out))\n",
    "        out = F.dropout(out, p=self.dropout, training=self.training)\n",
    "        out = self.ffn2(out)\n",
    "        out = F.dropout(out, p=self.dropout, training=self.training)\n",
    "        out = out + residual\n",
    "        if isinstance(return_attention_weights, bool):\n",
    "            assert alpha is not None\n",
    "            if isinstance(edge_index, Tensor):\n",
    "                return out, (edge_index, alpha)\n",
    "            elif isinstance(edge_index, SparseTensor):\n",
    "                return out, edge_index.set_value(alpha, layout='coo')\n",
    "        else:\n",
    "            return out\n",
    "\n",
    "    def message(self, query_i: Tensor, key_j: Tensor, value_j: Tensor,\n",
    "                edge_attr: OptTensor, index: Tensor, ptr: OptTensor,\n",
    "                size_i: Optional[int]) -> Tensor:\n",
    "\n",
    "\n",
    "        if self.lin_edge is not None:\n",
    "            assert edge_attr is not None\n",
    "            edge_attr = self.lin_edge(edge_attr).view(-1, self.heads,\n",
    "                                                      self.out_channels)\n",
    "            key_j = key_j + edge_attr\n",
    "\n",
    "        alpha = (query_i * key_j).sum(dim=-1) / math.sqrt(self.out_channels)\n",
    "        alpha = softmax(alpha, index, ptr, size_i)\n",
    "        self._alpha = alpha\n",
    "        alpha = F.dropout(alpha, p=self.dropout, training=self.training)\n",
    "\n",
    "        out = value_j\n",
    "        if edge_attr is not None:\n",
    "            out = out + edge_attr\n",
    "\n",
    "        out = out * alpha.view(-1, self.heads, 1)\n",
    "        return out\n",
    "\n",
    "    def __repr__(self) -> str:\n",
    "        return (f'{self.__class__.__name__}({self.in_channels}, '\n",
    "                f'{self.out_channels}, heads={self.heads})')\n",
    "\n",
    "\n",
    "class GraphTransformer(torch.nn.Module):\n",
    "    def __init__(self, config):\n",
    "        super().__init__()\n",
    "\n",
    "        self.transformerconv1 = TransformerConv(config.hidden_size // 5, config.hidden_size // 5, heads=2, edge_dim=config.hidden_size // 5, dropout=config.hidden_dropout_prob, concat=True)\n",
    "        self.transformerconv2 = TransformerConv(config.hidden_size // 5, config.hidden_size // 5, heads=2, edge_dim=config.hidden_size // 5, dropout=config.hidden_dropout_prob, concat=True)\n",
    "        self.transformerconv3 = TransformerConv(config.hidden_size // 5, config.hidden_size // 5, heads=2, edge_dim=config.hidden_size // 5, dropout=config.hidden_dropout_prob, concat=False)\n",
    "\n",
    "        self.embed = nn.Embedding(config.vocab_size, config.hidden_size // 5)\n",
    "        self.embed_ee = nn.Embedding(config.node_attr_size, config.hidden_size // 5)\n",
    "\n",
    "    def forward(self, x, edge_index, edge_attr, batch):\n",
    "        indices = (x==0).nonzero().squeeze()\n",
    "        h_nodes = self.transformerconv1(x=self.embed(x), edge_index=edge_index, edge_attr=self.embed_ee(edge_attr), batch=batch)\n",
    "        h_nodes = nn.GELU()(h_nodes)\n",
    "        h_nodes = self.transformerconv2(x=h_nodes, edge_index=edge_index, edge_attr=self.embed_ee(edge_attr), batch=batch)\n",
    "        h_nodes = nn.GELU()(h_nodes)\n",
    "        h_nodes = self.transformerconv3(x=h_nodes, edge_index=edge_index, edge_attr=self.embed_ee(edge_attr), batch=batch)\n",
    "        x = h_nodes[indices]\n",
    "        return x\n",
    "\n",
    "\n",
    "\n",
    "class BertEmbeddings(nn.Module):\n",
    "    \"\"\"Construct the embeddings from word, segment, age\n",
    "    \"\"\"\n",
    "\n",
    "    def __init__(self, config):\n",
    "        super(BertEmbeddings, self).__init__()\n",
    "        #self.word_embeddings = nn.Linear(config.vocab_size, config.hidden_size)\n",
    "        self.word_embeddings = GraphTransformer(config)\n",
    "        self.type_embeddings = nn.Embedding(config.type_vocab_size, config.hidden_size//5)\n",
    "        self.age_embeddings = nn.Embedding(config.age_vocab_size, config.hidden_size//5). \\\n",
    "            from_pretrained(embeddings=self._init_posi_embedding(config.age_vocab_size, config.hidden_size//5))\n",
    "        self.time_embeddings = nn.Embedding(config.time_vocab_size , config.hidden_size//5). \\\n",
    "            from_pretrained(embeddings=self._init_posi_embedding(config.time_vocab_size, config.hidden_size//5))\n",
    "        self.posi_embeddings = nn.Embedding(config.max_position_embeddings, config.hidden_size//5). \\\n",
    "            from_pretrained(embeddings=self._init_posi_embedding(config.max_position_embeddings, config.hidden_size//5))\n",
    "\n",
    "\n",
    "        self.seq_layers = nn.Sequential(\n",
    "            nn.LayerNorm(config.hidden_size),\n",
    "            nn.Dropout(config.hidden_dropout_prob),\n",
    "            nn.Linear(config.hidden_size, config.hidden_size),\n",
    "            nn.GELU(),\n",
    "            nn.Linear(config.hidden_size, config.hidden_size),\n",
    "            nn.GELU()\n",
    "        )\n",
    "\n",
    "        self.LayerNorm = nn.LayerNorm(config.hidden_size)\n",
    "        self.acti = nn.GELU()\n",
    "        self.cls_token = nn.Parameter(torch.randn(1, 1, config.hidden_size))\n",
    "\n",
    "    def forward(self, nodes, edge_index,  edge_attr, batch, age_ids, time_ids,  type_ids, posi_ids):\n",
    "        word_embed = self.word_embeddings(nodes, edge_index, edge_attr, batch)\n",
    "        type_embeddings = self.type_embeddings(type_ids)\n",
    "        age_embed = self.age_embeddings(age_ids)\n",
    "        time_embeddings = self.time_embeddings(time_ids)\n",
    "        posi_embeddings = self.posi_embeddings(posi_ids)\n",
    "\n",
    "        word_embed = torch.reshape(word_embed, type_embeddings.shape)\n",
    "        embeddings = torch.cat((word_embed, type_embeddings, posi_embeddings, age_embed, time_embeddings), dim=2)\n",
    "        \n",
    "        b, n, _ = embeddings.shape\n",
    "        cls_tokens = repeat(self.cls_token, '1 1 d -> b 1 d', b = b)\n",
    "        embeddings = torch.cat((cls_tokens, embeddings), dim=1)\n",
    "        embeddings = self.seq_layers(embeddings)\n",
    "        embeddings = self.LayerNorm(embeddings)\n",
    "        \n",
    "        return embeddings\n",
    "\n",
    "    def _init_posi_embedding(self, max_position_embedding, hidden_size):\n",
    "        def even_code(pos, idx):\n",
    "            return np.sin(pos / (10000 ** (2 * idx / hidden_size)))\n",
    "\n",
    "        def odd_code(pos, idx):\n",
    "            return np.cos(pos / (10000 ** (2 * idx / hidden_size)))\n",
    "\n",
    "        # initialize position embedding table\n",
    "        lookup_table = np.zeros((max_position_embedding, hidden_size), dtype=np.float32)\n",
    "\n",
    "        # reset table parameters with hard encoding\n",
    "        # set even dimension\n",
    "        for pos in range(max_position_embedding):\n",
    "            for idx in np.arange(0, hidden_size, step=2):\n",
    "                lookup_table[pos, idx] = even_code(pos, idx)\n",
    "        # set odd dimension\n",
    "        for pos in range(max_position_embedding):\n",
    "            for idx in np.arange(1, hidden_size, step=2):\n",
    "                lookup_table[pos, idx] = odd_code(pos, idx)\n",
    "\n",
    "        return torch.tensor(lookup_table)\n",
    "\n",
    "\n",
    "\n",
    "class BertModel(Bert.modeling.BertPreTrainedModel):\n",
    "    def __init__(self, config):\n",
    "        super(BertModel, self).__init__(config)\n",
    "        self.embeddings = BertEmbeddings(config=config)\n",
    "        self.encoder = Bert.modeling.BertEncoder(config=config)\n",
    "        self.pooler = Bert.modeling.BertPooler(config)\n",
    "        self.apply(self.init_bert_weights)\n",
    "\n",
    "    def forward(self, nodes, edge_index, edge_attr, batch, age_ids, time_ids, type_ids, posi_ids, attention_mask=None, output_all_encoded_layers=True):\n",
    "\n",
    "        if attention_mask is None:\n",
    "            attention_mask = torch.ones_like(age_ids)\n",
    "\n",
    "        # We create a 3D attention mask from a 2D tensor mask.\n",
    "        # Sizes are [batch_size, 1, 1, to_seq_length]\n",
    "        extended_attention_mask = attention_mask.unsqueeze(1).unsqueeze(2)\n",
    "\n",
    "        # Since attention_mask is 1.0 for positions we want to attend and 0.0 for\n",
    "        # masked positions, this operation will create a tensor which is 0.0 for\n",
    "        # positions we want to attend and -10000.0 for masked positions.\n",
    "        # Since we are adding it to the raw scores before the softmax, this is\n",
    "        # effectively the same as removing these entirely.\n",
    "        extended_attention_mask = extended_attention_mask.to(dtype=next(self.parameters()).dtype)  # fp16 compatibility\n",
    "        extended_attention_mask = (1.0 - extended_attention_mask) * -10000.0\n",
    "\n",
    "        embedding_output = self.embeddings(nodes, edge_index, edge_attr, batch, age_ids, time_ids, type_ids, posi_ids)\n",
    "        encoded_layers = self.encoder(embedding_output, extended_attention_mask, output_all_encoded_layers=output_all_encoded_layers)\n",
    "        \n",
    "        sequence_output = encoded_layers[-1]\n",
    "\n",
    "        pooled_output = self.pooler(sequence_output)\n",
    "        \n",
    "        if not output_all_encoded_layers:\n",
    "            encoded_layers = encoded_layers[-1]\n",
    "\n",
    "        return encoded_layers, pooled_output\n",
    "\n",
    "\n",
    "\n",
    "\n",
    "class BertForMTR(Bert.modeling.BertPreTrainedModel):\n",
    "    def __init__(self, config):\n",
    "        super(BertForMTR, self).__init__(config)\n",
    "        self.num_labels = 1\n",
    "        self.bert = BertModel(config)\n",
    "        self.dropout = nn.Dropout(config.hidden_dropout_prob)\n",
    "        self.classifier = nn.Linear(config.hidden_size, 1)\n",
    "        self.apply(self.init_bert_weights)\n",
    "\n",
    "    def forward(self, nodes, edge_index, edge_attr, batch, age_ids, time_ids, type_ids, posi_ids, attention_mask=None, labels=None):\n",
    "        encoded_layer, pooled_output = self.bert(nodes, edge_index, edge_attr, batch, age_ids, time_ids, type_ids, posi_ids, attention_mask, output_all_encoded_layers=False)\n",
    "        logits = self.classifier(pooled_output).squeeze(dim=1)\n",
    "\n",
    "        weights = torch.where(labels == 1, torch.tensor(2), torch.tensor(1.0))  # more important weight in the loss for the patients that die\n",
    "        bce_logits_loss = nn.BCEWithLogitsLoss(reduction='mean', weight=weights)\n",
    "        discr_supervised_loss = bce_logits_loss(logits, labels)\n",
    "        \n",
    "        return encoded_layer, pooled_output, logits, discr_supervised_loss\n",
    "    \n",
    "\n",
    "\n",
    "\n",
    "class BertConfig(Bert.modeling.BertConfig):\n",
    "    def __init__(self, config):\n",
    "        super(BertConfig, self).__init__(\n",
    "            vocab_size_or_config_json_file=config.get('vocab_size'),\n",
    "            hidden_size=config['hidden_size'],\n",
    "            num_hidden_layers=config.get('num_hidden_layers'),\n",
    "            num_attention_heads=config.get('num_attention_heads'),\n",
    "            intermediate_size=config.get('intermediate_size'),\n",
    "            hidden_act=config.get('hidden_act'),\n",
    "            hidden_dropout_prob=config.get('hidden_dropout_prob'),\n",
    "            attention_probs_dropout_prob=config.get('attention_probs_dropout_prob'),\n",
    "            max_position_embeddings = config.get('max_position_embedding'),\n",
    "            initializer_range=config.get('initializer_range'),\n",
    "        )\n",
    "        self.age_vocab_size = config.get('age_vocab_size')\n",
    "        self.type_vocab_size = config.get('type_vocab_size')\n",
    "        self.time_vocab_size = config.get('time_vocab_size')\n",
    "        self.graph_dropout_prob = config.get('graph_dropout_prob')\n",
    "        self.node_attr_size = config.get('node_attr_size')\n",
    "\n",
    "\n",
    "\n",
    "class TrainConfig(object):\n",
    "    def __init__(self, config):\n",
    "        self.batch_size = config.get('batch_size')\n",
    "        self.max_len_seq = config.get('max_len_seq')\n",
    "        self.train_loader_workers = config.get('train_loader_workers')\n",
    "        self.test_loader_workers = config.get('test_loader_workers')\n",
    "        self.device = config.get('device')\n",
    "        self.output_dir = config.get('output_dir')\n",
    "        self.output_name = config.get('output_name')\n",
    "        self.best_name = config.get('best_name')\n",
    "\n",
    "\n",
    "\n",
    "class GDSet(Dataset):\n",
    "    def __init__(self, g):\n",
    "        self.g = g\n",
    "\n",
    "    def __getitem__(self, index):\n",
    "\n",
    "        g = self.g[index]\n",
    "        for i in range(len(g)):\n",
    "          g[i]['posi_ids'] = i\n",
    "        return g\n",
    "\n",
    "    def __len__(self):\n",
    "        return len(self.g)"
   ]
  },
  {
   "cell_type": "markdown",
   "metadata": {},
   "source": [
    "# DATA"
   ]
  },
  {
   "cell_type": "code",
   "execution_count": 3,
   "metadata": {
    "ExecuteTime": {
     "end_time": "2024-01-18T16:14:46.497374Z",
     "start_time": "2024-01-18T16:14:46.479853Z"
    }
   },
   "outputs": [],
   "source": [
    "path = '../../data/'\n",
    "path_results = '../../results/'"
   ]
  },
  {
   "cell_type": "code",
   "execution_count": 4,
   "metadata": {
    "ExecuteTime": {
     "end_time": "2024-01-18T16:14:47.810303Z",
     "start_time": "2024-01-18T16:14:46.482262Z"
    }
   },
   "outputs": [],
   "source": [
    "with open(path + 'data_pad_after_min2.pkl', 'rb') as handle:\n",
    "    dataset_loaded = pickle.load(handle)"
   ]
  },
  {
   "cell_type": "code",
   "execution_count": 5,
   "metadata": {
    "ExecuteTime": {
     "end_time": "2024-01-18T16:14:47.812241Z",
     "start_time": "2024-01-18T16:14:47.810563Z"
    }
   },
   "outputs": [],
   "source": [
    "dataset=dataset_loaded"
   ]
  },
  {
   "cell_type": "code",
   "execution_count": 6,
   "metadata": {
    "ExecuteTime": {
     "end_time": "2024-01-18T16:14:47.814657Z",
     "start_time": "2024-01-18T16:14:47.812828Z"
    }
   },
   "outputs": [
    {
     "name": "stdout",
     "output_type": "stream",
     "text": [
      "100\n",
      "50\n",
      "Data(subject_id=[1], hadm_id=[1], label=[1], age=[1], rang=[1], type=[1], x=[56], edge_index=[2, 1540], edge_attr=[1540], mask_v=[1], time=[1])\n"
     ]
    }
   ],
   "source": [
    "print(len(dataset))\n",
    "print(len(dataset[0]))\n",
    "print(dataset[0][-1])"
   ]
  },
  {
   "cell_type": "code",
   "execution_count": 7,
   "metadata": {
    "ExecuteTime": {
     "end_time": "2024-01-18T16:14:47.875456Z",
     "start_time": "2024-01-18T16:14:47.814763Z"
    }
   },
   "outputs": [
    {
     "name": "stdout",
     "output_type": "stream",
     "text": [
      "vocab_size 1055\n",
      "max noeud 9377\n",
      "node_attr_size 8\n",
      "max edge_attr 7\n",
      "age_size 48\n",
      "max age 130\n",
      "time_size 248\n",
      "max time 367\n",
      "type_size 9\n",
      "max type 10\n",
      "label_size 2\n",
      "max label 1\n",
      "hadm_size 394\n",
      "subject_size 100\n",
      "maskv_size 2\n",
      "max maskv 1\n",
      "rang_size 24\n",
      "max rang 51\n"
     ]
    }
   ],
   "source": [
    "noeud_unique = set()\n",
    "edge_attr_unique = set()\n",
    "age_unique = set()\n",
    "time_unique = set()\n",
    "type_unique = set()\n",
    "label_unique = set()\n",
    "hadm_unique = set()\n",
    "subject_unique = set()\n",
    "mask_v_unique = set()\n",
    "rang_unique = set()\n",
    "for patient in dataset:\n",
    "    for visite in patient:\n",
    "        noeuds = visite.x.tolist()\n",
    "        edge = visite.edge_attr.tolist()\n",
    "        label = visite.label.tolist()\n",
    "        age = visite.age.tolist()\n",
    "        time = visite.time.tolist()\n",
    "        typ = visite.type.tolist()\n",
    "        mask_v = visite.mask_v.tolist()\n",
    "        rang = visite.rang.tolist()\n",
    "        hadm = visite.hadm_id.tolist()\n",
    "        subject = visite.subject_id.tolist()\n",
    "        for noeud in noeuds:\n",
    "            noeud_unique.add(noeud)\n",
    "        for attribut in edge:\n",
    "            edge_attr_unique.add(attribut)\n",
    "        for lab in label:\n",
    "            label_unique.add(lab)\n",
    "        for a in age:\n",
    "            age_unique.add(a)\n",
    "        for t in time:\n",
    "            time_unique.add(t)\n",
    "        for ty in typ:\n",
    "            type_unique.add(ty)\n",
    "        for mask in mask_v:\n",
    "            mask_v_unique.add(mask)\n",
    "        for r in rang:\n",
    "            rang_unique.add(r)\n",
    "        for h in hadm:\n",
    "            hadm_unique.add(h)\n",
    "        for s in subject:\n",
    "            subject_unique.add(s)\n",
    "        \n",
    "\n",
    "vocab_size = len(noeud_unique)\n",
    "edge_attr_size = len(edge_attr_unique)\n",
    "age_size = len(age_unique)\n",
    "time_size = len(time_unique)\n",
    "type_size = len(type_unique)\n",
    "label_size = len(label_unique)\n",
    "hadm_size = len(hadm_unique)\n",
    "subject_size = len(subject_unique)\n",
    "mask_v_size = len(mask_v_unique)\n",
    "rang_size = len(rang_unique)\n",
    "\n",
    "print('vocab_size',vocab_size)\n",
    "print('max noeud',max(noeud_unique))\n",
    "print('node_attr_size',edge_attr_size)\n",
    "print('max edge_attr',max(edge_attr_unique))\n",
    "print('age_size',age_size)\n",
    "print('max age',max(age_unique))\n",
    "print('time_size',time_size)\n",
    "print('max time',max(time_unique))\n",
    "print('type_size',type_size)\n",
    "print('max type',max(type_unique))\n",
    "print('label_size',label_size)\n",
    "print('max label',max(label_unique))\n",
    "print('hadm_size',hadm_size)\n",
    "print('subject_size',subject_size)\n",
    "print('maskv_size',mask_v_size)\n",
    "print('max maskv',max(mask_v_unique))\n",
    "print('rang_size',rang_size)\n",
    "print('max rang',max(rang_unique))"
   ]
  },
  {
   "cell_type": "code",
   "execution_count": 8,
   "metadata": {
    "ExecuteTime": {
     "end_time": "2024-01-18T16:14:47.880265Z",
     "start_time": "2024-01-18T16:14:47.876670Z"
    }
   },
   "outputs": [],
   "source": [
    "def split_dataset(dataset, train_params, random_seed=1):\n",
    "  rs = ShuffleSplit(n_splits=1, test_size=train_params.get('test_split'), random_state=random_seed)\n",
    "\n",
    "  for i, (train_index_tmp, test_index) in enumerate(rs.split(dataset)):\n",
    "    rs2 = ShuffleSplit(n_splits=1, test_size=train_params.get('val_split'), random_state=random_seed)\n",
    "    \n",
    "    for j, (train_index, val_index) in enumerate(rs2.split(train_index_tmp)):\n",
    "      train_index = train_index_tmp[train_index]\n",
    "      val_index = train_index_tmp[val_index]\n",
    "      \n",
    "      trainDSet = [dataset[x] for x in train_index]\n",
    "      valDSet = [dataset[x] for x in val_index]\n",
    "      testDSet = [dataset[x] for x in test_index]\n",
    "\n",
    "      return trainDSet, valDSet, testDSet"
   ]
  },
  {
   "cell_type": "markdown",
   "metadata": {},
   "source": [
    "# Config file "
   ]
  },
  {
   "cell_type": "code",
   "execution_count": 9,
   "metadata": {
    "ExecuteTime": {
     "end_time": "2024-01-18T16:14:47.881723Z",
     "start_time": "2024-01-18T16:14:47.879580Z"
    }
   },
   "outputs": [],
   "source": [
    "train_params = {\n",
    "    'batch_size': 5,\n",
    "    'max_len_seq': 50,\n",
    "    #'device': \"cuda\" if torch.cuda.is_available() else (\"mps\" if torch.backends.mps.is_available() else \"cpu\"),\n",
    "    'device': \"cpu\",\n",
    "    'data_len' : len(dataset),\n",
    "    'val_split' : 0.1,\n",
    "    'test_split' : 0.2,\n",
    "    'train_data_len' : int(0.9*0.8*len(dataset)),   # the train dataset is 90% of 80% of the whole dataset\n",
    "    'val_data_len' : int(0.1*0.8*len(dataset)),   # the validation dataset is 10% of 80% of the whole dataset\n",
    "    'test_data_len' : int(0.2*len(dataset)),   # the test dataset is 20% of the whole dataset\n",
    "    'epochs' : 15,\n",
    "    'lr': 0.0001,\n",
    "    'weight_decay': 0.0001,\n",
    "}\n",
    "\n",
    "model_config = {\n",
    "    'vocab_size': 9405, # number of disease + symbols for word embedding\n",
    "    'edge_relationship_size': 8, # number of vocab for edge_attr\n",
    "    'hidden_size': 50*5, # word embedding and seg embedding hidden size\n",
    "    'age_vocab_size': 151, # number of vocab for age embedding\n",
    "    'time_vocab_size': 380, # number of vocab for time embedding\n",
    "    'type_vocab_size': 11+1, # number of vocab for type embedding + 1 for mask\n",
    "    'node_attr_size': 8, # number of vocab for node_attr embedding\n",
    "    'num_labels': 1,\n",
    "    'max_position_embedding': 50, # maximum number of tokens\n",
    "    'hidden_dropout_prob': 0.2, # dropout rate\n",
    "    'graph_dropout_prob': 0.2, # dropout rate\n",
    "    'num_hidden_layers': 6, # number of multi-head attention layers required\n",
    "    'num_attention_heads': 2, # number of attention heads\n",
    "    'attention_probs_dropout_prob': 0.2, # multi-head attention dropout rate\n",
    "    'intermediate_size': 512, # the size of the \"intermediate\" layer in the transformer encoder\n",
    "    'hidden_act': 'gelu', # The non-linear activation function in the encoder and the pooler \"gelu\", 'relu', 'swish' are supported\n",
    "    'initializer_range': 0.02, # parameter weight initializer range\n",
    "    'n_layers' : 3 - 1,\n",
    "    'alpha' : 0.1\n",
    "}"
   ]
  },
  {
   "cell_type": "markdown",
   "metadata": {},
   "source": [
    "# fonction entrainement"
   ]
  },
  {
   "cell_type": "code",
   "execution_count": 29,
   "metadata": {
    "ExecuteTime": {
     "end_time": "2024-01-18T16:21:44.675338Z",
     "start_time": "2024-01-18T16:21:44.669291Z"
    }
   },
   "outputs": [],
   "source": [
    "def train(model, optim_model, trainload, device):\n",
    "    tr_loss = 0\n",
    "    start = time.time()\n",
    "    model.train()\n",
    "\n",
    "    for step, data in tqdm(enumerate(trainload)):\n",
    "        optim_model.zero_grad()\n",
    "\n",
    "        batched_data = Batch()\n",
    "        graph_batch = batched_data.from_data_list(list(itertools.chain.from_iterable(data)))\n",
    "        graph_batch = graph_batch.to(device)\n",
    "        nodes = graph_batch.x\n",
    "        edge_index = graph_batch.edge_index\n",
    "        edge_attr = graph_batch.edge_attr\n",
    "        batch = graph_batch.batch\n",
    "        \n",
    "        age_ids = torch.reshape(graph_batch.age, [graph_batch.age.shape[0] // 50, 50])\n",
    "        time_ids = torch.reshape(graph_batch.time, [graph_batch.time.shape[0] // 50, 50])\n",
    "        type_ids = torch.reshape(graph_batch.type, [graph_batch.type.shape[0] // 50, 50])\n",
    "        posi_ids = torch.reshape(graph_batch.posi_ids, [graph_batch.posi_ids.shape[0] // 50, 50])\n",
    "        attMask = torch.reshape(graph_batch.mask_v, [graph_batch.mask_v.shape[0] // 50, 50])\n",
    "        attMask = torch.cat((torch.ones((attMask.shape[0], 1)).to(device), attMask), dim=1)\n",
    "        labels = torch.reshape(graph_batch.label, [graph_batch.label.shape[0] // 50, 50])[:, -1].float()\n",
    "\n",
    "        _, _, logits, loss = model(nodes, edge_index, edge_attr, batch, age_ids, time_ids,type_ids,posi_ids,attMask, labels)\n",
    "\n",
    "        loss.backward()\n",
    "        tr_loss += loss.item()\n",
    "        optim_model.step()\n",
    "        del loss\n",
    "    \n",
    "    print(\"TOTAL TRAIN LOSS\",(tr_loss * train_params['batch_size']) / len(trainload))\n",
    "    cost = time.time() - start\n",
    "    print(\"TRAINING TIME\", cost)\n",
    "\n",
    "    return tr_loss, cost\n",
    "\n",
    "\n",
    "def eval(model, optim_model, _valload, saving, device):\n",
    "    tr_loss = 0\n",
    "    start = time.time()\n",
    "    model.eval()\n",
    "    all_labels = []\n",
    "    all_logits = []\n",
    "    all_pred = []\n",
    "    sig = nn.Sigmoid()\n",
    "    with torch.no_grad():\n",
    "        for step, data in enumerate(_valload):\n",
    "            optim_model.zero_grad()\n",
    "\n",
    "            batched_data = Batch()\n",
    "            graph_batch = batched_data.from_data_list(list(itertools.chain.from_iterable(data)))\n",
    "            graph_batch = graph_batch.to(device)\n",
    "            nodes = graph_batch.x\n",
    "            edge_index = graph_batch.edge_index\n",
    "            edge_attr = graph_batch.edge_attr\n",
    "            batch = graph_batch.batch\n",
    "\n",
    "            age_ids = torch.reshape(graph_batch.age, [graph_batch.age.shape[0] // 50, 50])\n",
    "            time_ids = torch.reshape(graph_batch.time, [graph_batch.time.shape[0] // 50, 50])\n",
    "            type_ids = torch.reshape(graph_batch.type, [graph_batch.type.shape[0] // 50, 50])\n",
    "            posi_ids = torch.reshape(graph_batch.posi_ids, [graph_batch.posi_ids.shape[0] // 50, 50])\n",
    "            attMask = torch.reshape(graph_batch.mask_v, [graph_batch.mask_v.shape[0] // 50, 50])\n",
    "            attMask = torch.cat((torch.ones((attMask.shape[0], 1)).to(device), attMask), dim=1)\n",
    "            labels = torch.reshape(graph_batch.label, [graph_batch.label.shape[0] // 50, 50])[:, 0].float()\n",
    "\n",
    "            _, _, logits, loss = model(nodes, edge_index, edge_attr, batch, age_ids, time_ids,type_ids,posi_ids,attMask, labels)\n",
    "\n",
    "            tr_loss += loss.item()\n",
    "            del loss\n",
    "\n",
    "            pred = np.where(sig(logits).cpu().detach().numpy() > 0.5, 1, 0)\n",
    "            all_pred.extend(pred)\n",
    "            all_logits.extend(logits.cpu().numpy())\n",
    "            all_labels.extend(labels.cpu().numpy())\n",
    "\n",
    "    print(\"TOTAL VAL LOSS\",(tr_loss * train_params['batch_size']) / len(_valload))\n",
    "    accuracy = skm.accuracy_score(all_labels, all_pred)\n",
    "\n",
    "    cost = time.time() - start\n",
    "    print(\"EVAL TIME\", cost)\n",
    "\n",
    "    return tr_loss, cost, accuracy\n",
    "\n",
    "\n",
    "def test(testload, model, device):\n",
    "    model.eval()\n",
    "    tr_loss = 0\n",
    "    start = time.time()\n",
    "    all_labels = []\n",
    "    all_logits = []\n",
    "    all_pred = []\n",
    "\n",
    "    with torch.no_grad():\n",
    "        for step, data in enumerate(testload):\n",
    "            # Process the batch data and move it to the device\n",
    "            batched_data = Batch()\n",
    "            graph_batch = batched_data.from_data_list(list(itertools.chain.from_iterable(data)))\n",
    "            graph_batch = graph_batch.to(device)\n",
    "\n",
    "            # Extract relevant data from the batch\n",
    "            nodes = graph_batch.x\n",
    "            edge_index = graph_batch.edge_index\n",
    "            edge_attr = graph_batch.edge_attr\n",
    "            batch = graph_batch.batch\n",
    "\n",
    "            # extract age, time, type, posi, mask, label\n",
    "            age_ids = torch.reshape(graph_batch.age, [graph_batch.age.shape[0] // 50, 50])\n",
    "            time_ids = torch.reshape(graph_batch.time, [graph_batch.time.shape[0] // 50, 50])\n",
    "            type_ids = torch.reshape(graph_batch.type, [graph_batch.type.shape[0] // 50, 50])\n",
    "            posi_ids = torch.reshape(graph_batch.posi_ids, [graph_batch.posi_ids.shape[0] // 50, 50])\n",
    "            attMask = torch.reshape(graph_batch.mask_v, [graph_batch.mask_v.shape[0] // 50, 50])\n",
    "            attMask = torch.cat((torch.ones((attMask.shape[0], 1)).to(device), attMask), dim=1)\n",
    "            labels = torch.reshape(graph_batch.label, [graph_batch.label.shape[0] // 50, 50])[:, 0].float()\n",
    "\n",
    "            # Forward pass\n",
    "            _, _, logits, loss = model(nodes, edge_index, edge_attr, batch, age_ids, time_ids, type_ids, posi_ids, attMask, labels)\n",
    "\n",
    "            tr_loss += loss.item()\n",
    "            del loss\n",
    "\n",
    "            pred = torch.sigmoid(logits)\n",
    "            all_pred.extend(pred.detach().cpu().numpy())\n",
    "            # Accumulate logits, labels for later evaluation\n",
    "            all_logits.extend(logits.cpu().numpy())\n",
    "            all_labels.extend(labels.cpu().numpy())\n",
    "\n",
    "    print(\"TOTAL TEST LOSS \", (tr_loss * train_params['batch_size']) / len(testload))\n",
    "    cost = time.time() - start\n",
    "    print(\"TEST TEST TIME\", cost)\n",
    "    \n",
    "    predicted_probabilities = [torch.sigmoid(torch.tensor(l)) for l in all_logits]\n",
    "    auroc = roc_auc_score(all_labels, predicted_probabilities)\n",
    "    precision, recall, thresholds = precision_recall_curve(all_labels, predicted_probabilities)   \n",
    "    auprc = auc(recall, precision)\n",
    "    \n",
    "    threshold = 0.5\n",
    "    predicted_labels = [1 if l > threshold else 0 for l in all_logits]\n",
    "    f1 = f1_score(all_labels, predicted_labels, average='weighted')\n",
    "    accuracy = skm.accuracy_score(all_labels, predicted_labels)\n",
    "\n",
    "    return auroc, auprc, f1, accuracy, cost\n",
    "\n",
    "\n",
    "\n",
    "def run_epoch(model, optim_model, trainload, valload, device, exp):\n",
    "    best_val = math.inf\n",
    "    loss_train_liste = []\n",
    "    loss_val_liste = []\n",
    "\n",
    "    for e in range(train_params[\"epochs\"]):\n",
    "        print(\"Epoch n\" + str(e))\n",
    "\n",
    "        train_loss, train_time_cost = train(model, optim_model, trainload, device)\n",
    "        val_loss, val_time_cost, accuracy = eval(model, optim_model, valload, False, device)\n",
    "\n",
    "        train_loss = (train_loss * train_params['batch_size']) / len(trainload)\n",
    "        val_loss = (val_loss * train_params['batch_size']) / len(valload)\n",
    "        loss_train_liste.append(train_loss)\n",
    "        loss_val_liste.append(val_loss)\n",
    "        \n",
    "        with open(path_results + 'losses_and_times/' + \"GT_behrt_log_train_\" + f'{exp}' + \".txt\", 'a') as f:\n",
    "            f.write(\"Epoch n\" + str(e) + '\\n TRAIN {}\\t{} secs\\n'.format(train_loss, train_time_cost))\n",
    "            f.write('EVAL {}\\t{} secs\\n'.format(val_loss, val_time_cost) + '\\n\\n\\n')\n",
    "\n",
    "        if val_loss < best_val:\n",
    "            print(\"** ** * Saving fine - tuned model ** ** * \")\n",
    "            model_to_save = model.module if hasattr(model, 'module') else model\n",
    "            torch.save(model_to_save.state_dict(), path_results + 'weights/' + 'GT_bert_num_' + f'{exp}' + '.pch')\n",
    "            # sauvegarder les parametre du model\n",
    "            best_val = val_loss\n",
    "        print('\\n')\n",
    "\n",
    "\n",
    "    epoch = [i for i in range(train_params[\"epochs\"])]\n",
    "    plt.plot(epoch, loss_train_liste)\n",
    "    plt.legend(['train'])\n",
    "    plt.plot(epoch,loss_val_liste)\n",
    "    plt.legend(['val'])\n",
    "    plt.xlabel('Epochs')\n",
    "    plt.ylabel('Loss')\n",
    "    plt.savefig(path_results + 'plots/' + 'GT_bert.png')\n",
    "    plt.show()\n",
    "\n",
    "    return train_loss, val_loss, accuracy, train_time_cost, val_time_cost\n",
    "\n",
    "\n",
    "\n",
    "def experiment(num_experiments=5):\n",
    "    conf = BertConfig(model_config)\n",
    "    df = pd.DataFrame(columns=['Experiment', 'Model', 'Metric', 'Score'])\n",
    "\n",
    "    for exp in tqdm(range(num_experiments)):\n",
    "        model = BertForMTR(conf).to(train_params['device'])\n",
    "        \n",
    "        # taking back the weights of the pretraining 2\n",
    "        model.load_state_dict(torch.load(path_results + 'weights/' + 'GraphTransformer_pretrain_2_num_' + f'{exp}' + '.pch', map_location=train_params.get('device')))\n",
    "        \n",
    "        transformer_vars = [i for i in model.parameters()]\n",
    "        optim_model = torch.optim.AdamW(transformer_vars, lr=train_params['lr'], weight_decay=train_params['weight_decay'])\n",
    "        scheduler = None\n",
    "    \n",
    "        print(f\"\\n Experiment {exp + 1}\")\n",
    "        trainDSet, valDSet, testDSet = split_dataset(dataset, train_params, random_seed=exp)\n",
    "        trainload =  GraphLoader(GDSet(trainDSet), batch_size=train_params['batch_size'], shuffle=False) \n",
    "        valload =  GraphLoader(GDSet(valDSet), batch_size=train_params['batch_size'], shuffle=False)\n",
    "        testload =  GraphLoader(GDSet(testDSet), batch_size=train_params['batch_size'], shuffle=False)\n",
    "\n",
    "        #pretrain à ajouter ici\n",
    "        train_loss, val_loss, accuracy_val ,train_time_cost, val_time_cost= run_epoch(model, optim_model, trainload, valload, train_params['device'], exp)\n",
    "        auc_roc, aupcr, f1, accuracy_test, cost = test(testload, model, train_params['device'])\n",
    "\n",
    "        df.loc[len(df)] = [exp + 1, 'GT_BERT', 'Test AUROC', auc_roc]\n",
    "        df.loc[len(df)] = [exp + 1, 'GT_BERT', 'Test AUPRC', aupcr]\n",
    "        df.loc[len(df)] = [exp + 1, 'GT_BERT', 'Test F1', f1]\n",
    "        df.loc[len(df)] = [exp + 1, 'GT_BERT', 'Val Accuracy', accuracy_val]\n",
    "        df.loc[len(df)] = [exp + 1, 'GT_BERT', 'Test Accuracy', accuracy_test]\n",
    "        df.loc[len(df)] = [exp + 1, 'GT_BERT', 'Train Loss', train_loss]\n",
    "        df.loc[len(df)] = [exp + 1, 'GT_BERT', 'Val Loss', val_loss]\n",
    "        df.loc[len(df)] = [exp + 1, 'GT_BERT', 'Train Time', train_time_cost]\n",
    "        df.loc[len(df)] = [exp + 1, 'GT_BERT', 'Val Time', val_time_cost]\n",
    "        df.loc[len(df)] = [exp + 1, 'GT_BERT', 'Test Time', cost]\n",
    "        \n",
    "    df.to_csv(path_results + 'dataframes/' + 'GT_behrt_results.csv')\n",
    "\n",
    "    return df, model\n",
    "\n"
   ]
  },
  {
   "cell_type": "markdown",
   "metadata": {},
   "source": [
    "# Main"
   ]
  },
  {
   "cell_type": "code",
   "execution_count": 30,
   "metadata": {
    "ExecuteTime": {
     "end_time": "2024-01-18T16:22:10.756191Z",
     "start_time": "2024-01-18T16:21:45.900428Z"
    }
   },
   "outputs": [
    {
     "name": "stderr",
     "output_type": "stream",
     "text": [
      "  0%|          | 0/5 [00:00<?, ?it/s]\n",
      "0it [00:00, ?it/s]\u001B[A\n",
      "1it [00:00,  8.60it/s]\u001B[A"
     ]
    },
    {
     "name": "stdout",
     "output_type": "stream",
     "text": [
      "\n",
      " Experiment 1\n",
      "Epoch n0\n"
     ]
    },
    {
     "name": "stderr",
     "output_type": "stream",
     "text": [
      "\n",
      "3it [00:00,  9.03it/s]\u001B[A\n",
      "5it [00:00,  9.67it/s]\u001B[A\n",
      "6it [00:00,  9.63it/s]\u001B[A\n",
      "7it [00:00,  9.57it/s]\u001B[A\n",
      "8it [00:00,  9.58it/s]\u001B[A\n",
      "10it [00:01,  8.98it/s]\u001B[A\n",
      "12it [00:01,  9.60it/s]\u001B[A\n",
      "13it [00:01,  9.54it/s]\u001B[A\n",
      "15it [00:01,  9.89it/s]\u001B[A\n",
      "\n",
      "0it [00:00, ?it/s]\u001B[A"
     ]
    },
    {
     "name": "stdout",
     "output_type": "stream",
     "text": [
      "TOTAL TRAIN LOSS 3.3231103320916495\n",
      "TRAINING TIME 1.5183680057525635\n",
      "TOTAL VAL LOSS 2.9489926993846893\n",
      "EVAL TIME 0.058181047439575195\n",
      "** ** * Saving fine - tuned model ** ** * \n",
      "\n",
      "\n",
      "Epoch n1\n"
     ]
    },
    {
     "name": "stderr",
     "output_type": "stream",
     "text": [
      "\n",
      "1it [00:00,  7.63it/s]\u001B[A\n",
      "3it [00:00,  8.21it/s]\u001B[A\n",
      "5it [00:00,  8.94it/s]\u001B[A\n",
      "6it [00:00,  8.93it/s]\u001B[A\n",
      "7it [00:00,  8.86it/s]\u001B[A\n",
      "8it [00:00,  8.94it/s]\u001B[A\n",
      "10it [00:01,  8.60it/s]\u001B[A\n",
      "12it [00:01,  9.21it/s]\u001B[A\n",
      "13it [00:01,  9.42it/s]\u001B[A\n",
      "15it [00:01,  9.68it/s]\u001B[A\n",
      "\n",
      "0it [00:00, ?it/s]\u001B[A\n",
      "1it [00:00,  9.44it/s]\u001B[A"
     ]
    },
    {
     "name": "stdout",
     "output_type": "stream",
     "text": [
      "TOTAL TRAIN LOSS 3.223714917898178\n",
      "TRAINING TIME 1.5510289669036865\n",
      "TOTAL VAL LOSS 2.930605262517929\n",
      "EVAL TIME 0.05234193801879883\n",
      "** ** * Saving fine - tuned model ** ** * \n",
      "\n",
      "\n",
      "Epoch n2\n"
     ]
    },
    {
     "name": "stderr",
     "output_type": "stream",
     "text": [
      "\n",
      "3it [00:00,  9.54it/s]\u001B[A\n",
      "5it [00:00,  9.90it/s]\u001B[A\n",
      "6it [00:00,  9.57it/s]\u001B[A\n",
      "7it [00:00,  9.30it/s]\u001B[A\n",
      "8it [00:00,  9.26it/s]\u001B[A\n",
      "10it [00:01,  8.91it/s]\u001B[A\n",
      "12it [00:01,  9.47it/s]\u001B[A\n",
      "13it [00:01,  9.41it/s]\u001B[A\n",
      "15it [00:01,  9.72it/s]\u001B[A\n"
     ]
    },
    {
     "name": "stdout",
     "output_type": "stream",
     "text": [
      "TOTAL TRAIN LOSS 3.2507387697696686\n",
      "TRAINING TIME 1.5438673496246338\n",
      "TOTAL VAL LOSS 2.9441413283348083\n",
      "EVAL TIME 0.05110812187194824\n"
     ]
    },
    {
     "data": {
      "text/plain": "<Figure size 640x480 with 1 Axes>",
      "image/png": "[encoded data removed]"
     },
     "metadata": {},
     "output_type": "display_data"
    },
    {
     "name": "stderr",
     "output_type": "stream",
     "text": [
      " 20%|██        | 1/5 [00:05<00:20,  5.16s/it]\n",
      "0it [00:00, ?it/s]\u001B[A"
     ]
    },
    {
     "name": "stdout",
     "output_type": "stream",
     "text": [
      "TOTAL TEST LOSS  2.8008894622325897\n",
      "TEST TEST TIME 0.1350090503692627\n",
      "\n",
      " Experiment 2\n",
      "Epoch n0\n"
     ]
    },
    {
     "name": "stderr",
     "output_type": "stream",
     "text": [
      "\n",
      "2it [00:00, 10.14it/s]\u001B[A\n",
      "4it [00:00, 10.39it/s]\u001B[A\n",
      "5it [00:00, 10.26it/s]\u001B[A\n",
      "6it [00:00,  9.87it/s]\u001B[A\n",
      "8it [00:00, 10.18it/s]\u001B[A\n",
      "9it [00:00,  8.77it/s]\u001B[A\n",
      "10it [00:01,  8.86it/s]\u001B[A\n",
      "11it [00:01,  9.12it/s]\u001B[A\n",
      "12it [00:01,  9.21it/s]\u001B[A\n",
      "15it [00:01, 10.14it/s]\u001B[A\n",
      "\n",
      "0it [00:00, ?it/s]\u001B[A"
     ]
    },
    {
     "name": "stdout",
     "output_type": "stream",
     "text": [
      "TOTAL TRAIN LOSS 3.204754372437795\n",
      "TRAINING TIME 1.480443000793457\n",
      "TOTAL VAL LOSS 3.8028281927108765\n",
      "EVAL TIME 0.06152987480163574\n",
      "** ** * Saving fine - tuned model ** ** * \n",
      "\n",
      "\n",
      "Epoch n1\n"
     ]
    },
    {
     "name": "stderr",
     "output_type": "stream",
     "text": [
      "\n",
      "2it [00:00, 10.48it/s]\u001B[A\n",
      "4it [00:00, 10.73it/s]\u001B[A\n",
      "6it [00:00, 10.65it/s]\u001B[A\n",
      "8it [00:00, 10.70it/s]\u001B[A\n",
      "9it [00:00,  9.01it/s]\u001B[A\n",
      "10it [00:00,  9.25it/s]\u001B[A\n",
      "12it [00:01,  9.56it/s]\u001B[A\n",
      "15it [00:01, 10.59it/s]\u001B[A\n",
      "\n",
      "0it [00:00, ?it/s]\u001B[A"
     ]
    },
    {
     "name": "stdout",
     "output_type": "stream",
     "text": [
      "TOTAL TRAIN LOSS 3.1194505592187247\n",
      "TRAINING TIME 1.4174408912658691\n",
      "TOTAL VAL LOSS 3.8696137070655823\n",
      "EVAL TIME 0.0612030029296875\n",
      "\n",
      "\n",
      "Epoch n2\n"
     ]
    },
    {
     "name": "stderr",
     "output_type": "stream",
     "text": [
      "\n",
      "2it [00:00, 10.69it/s]\u001B[A\n",
      "4it [00:00, 10.82it/s]\u001B[A\n",
      "6it [00:00, 10.70it/s]\u001B[A\n",
      "8it [00:00, 10.77it/s]\u001B[A\n",
      "9it [00:00,  9.17it/s]\u001B[A\n",
      "10it [00:00,  9.35it/s]\u001B[A\n",
      "12it [00:01,  9.66it/s]\u001B[A\n",
      "15it [00:01, 10.64it/s]\u001B[A"
     ]
    },
    {
     "name": "stdout",
     "output_type": "stream",
     "text": [
      "TOTAL TRAIN LOSS 3.1239288250605264\n",
      "TRAINING TIME 1.4111509323120117\n",
      "TOTAL VAL LOSS 3.8336269557476044\n",
      "EVAL TIME 0.05320096015930176\n"
     ]
    },
    {
     "name": "stderr",
     "output_type": "stream",
     "text": [
      "\n"
     ]
    },
    {
     "data": {
      "text/plain": "<Figure size 640x480 with 1 Axes>",
      "image/png": "[encoded data removed]"
     },
     "metadata": {},
     "output_type": "display_data"
    },
    {
     "name": "stderr",
     "output_type": "stream",
     "text": [
      " 40%|████      | 2/5 [00:10<00:15,  5.07s/it]\n",
      "0it [00:00, ?it/s]\u001B[A"
     ]
    },
    {
     "name": "stdout",
     "output_type": "stream",
     "text": [
      "TOTAL TEST LOSS  2.7874090522527695\n",
      "TEST TEST TIME 0.14055705070495605\n",
      "\n",
      " Experiment 3\n",
      "Epoch n0\n"
     ]
    },
    {
     "name": "stderr",
     "output_type": "stream",
     "text": [
      "\n",
      "2it [00:00, 11.12it/s]\u001B[A\n",
      "4it [00:00, 10.52it/s]\u001B[A\n",
      "6it [00:00, 10.73it/s]\u001B[A\n",
      "7it [00:00, 10.37it/s]\u001B[A\n",
      "9it [00:00, 10.18it/s]\u001B[A\n",
      "11it [00:01, 10.31it/s]\u001B[A\n",
      "13it [00:01, 10.23it/s]\u001B[A\n",
      "15it [00:01, 10.45it/s]\u001B[A\n",
      "\n",
      "0it [00:00, ?it/s]\u001B[A"
     ]
    },
    {
     "name": "stdout",
     "output_type": "stream",
     "text": [
      "TOTAL TRAIN LOSS 3.248590553800265\n",
      "TRAINING TIME 1.4368829727172852\n",
      "TOTAL VAL LOSS 3.2815371081233025\n",
      "EVAL TIME 0.06650209426879883\n",
      "** ** * Saving fine - tuned model ** ** * \n",
      "\n",
      "\n",
      "Epoch n1\n"
     ]
    },
    {
     "name": "stderr",
     "output_type": "stream",
     "text": [
      "\n",
      "2it [00:00, 10.92it/s]\u001B[A\n",
      "3it [00:00, 10.48it/s]\u001B[A\n",
      "4it [00:00,  9.70it/s]\u001B[A\n",
      "6it [00:00, 10.05it/s]\u001B[A\n",
      "7it [00:00, 10.02it/s]\u001B[A\n",
      "9it [00:00, 10.08it/s]\u001B[A\n",
      "10it [00:00, 10.00it/s]\u001B[A\n",
      "12it [00:01, 10.23it/s]\u001B[A\n",
      "13it [00:01,  9.98it/s]\u001B[A\n",
      "15it [00:01, 10.40it/s]\u001B[A\n",
      "\n",
      "0it [00:00, ?it/s]\u001B[A"
     ]
    },
    {
     "name": "stdout",
     "output_type": "stream",
     "text": [
      "TOTAL TRAIN LOSS 2.9457099785407386\n",
      "TRAINING TIME 1.4441871643066406\n",
      "TOTAL VAL LOSS 3.2809075713157654\n",
      "EVAL TIME 0.06093788146972656\n",
      "** ** * Saving fine - tuned model ** ** * \n",
      "\n",
      "\n",
      "Epoch n2\n"
     ]
    },
    {
     "name": "stderr",
     "output_type": "stream",
     "text": [
      "\n",
      "2it [00:00, 11.45it/s]\u001B[A\n",
      "3it [00:00, 10.94it/s]\u001B[A\n",
      "4it [00:00,  9.95it/s]\u001B[A\n",
      "6it [00:00, 10.28it/s]\u001B[A\n",
      "7it [00:00, 10.12it/s]\u001B[A\n",
      "9it [00:00, 10.13it/s]\u001B[A\n",
      "11it [00:01, 10.20it/s]\u001B[A\n",
      "13it [00:01, 10.16it/s]\u001B[A\n",
      "15it [00:01, 10.52it/s]\u001B[A\n"
     ]
    },
    {
     "name": "stdout",
     "output_type": "stream",
     "text": [
      "TOTAL TRAIN LOSS 2.9304836293061576\n",
      "TRAINING TIME 1.4266231060028076\n",
      "TOTAL VAL LOSS 3.2591843605041504\n",
      "EVAL TIME 0.055451154708862305\n",
      "** ** * Saving fine - tuned model ** ** * \n"
     ]
    },
    {
     "data": {
      "text/plain": "<Figure size 640x480 with 1 Axes>",
      "image/png": "[encoded data removed]"
     },
     "metadata": {},
     "output_type": "display_data"
    },
    {
     "name": "stderr",
     "output_type": "stream",
     "text": [
      " 60%|██████    | 3/5 [00:14<00:10,  5.02s/it]\n",
      "0it [00:00, ?it/s]\u001B[A"
     ]
    },
    {
     "name": "stdout",
     "output_type": "stream",
     "text": [
      "TOTAL TEST LOSS  4.24988679587841\n",
      "TEST TEST TIME 0.15360212326049805\n",
      "\n",
      " Experiment 4\n",
      "Epoch n0\n"
     ]
    },
    {
     "name": "stderr",
     "output_type": "stream",
     "text": [
      "\n",
      "2it [00:00, 10.98it/s]\u001B[A\n",
      "3it [00:00, 10.41it/s]\u001B[A\n",
      "5it [00:00, 10.49it/s]\u001B[A\n",
      "6it [00:00,  9.92it/s]\u001B[A\n",
      "7it [00:00,  9.93it/s]\u001B[A\n",
      "9it [00:00,  9.58it/s]\u001B[A\n",
      "10it [00:01,  9.55it/s]\u001B[A\n",
      "12it [00:01,  9.94it/s]\u001B[A\n",
      "15it [00:01, 10.03it/s]\u001B[A\n",
      "\n",
      "0it [00:00, ?it/s]\u001B[A"
     ]
    },
    {
     "name": "stdout",
     "output_type": "stream",
     "text": [
      "TOTAL TRAIN LOSS 3.4719921549161277\n",
      "TRAINING TIME 1.4964590072631836\n",
      "TOTAL VAL LOSS 1.8089934438467026\n",
      "EVAL TIME 0.05168008804321289\n",
      "** ** * Saving fine - tuned model ** ** * \n",
      "\n",
      "\n",
      "Epoch n1\n"
     ]
    },
    {
     "name": "stderr",
     "output_type": "stream",
     "text": [
      "\n",
      "2it [00:00, 10.77it/s]\u001B[A\n",
      "3it [00:00, 10.34it/s]\u001B[A\n",
      "5it [00:00, 10.34it/s]\u001B[A\n",
      "6it [00:00, 10.00it/s]\u001B[A\n",
      "8it [00:00, 10.27it/s]\u001B[A\n",
      "9it [00:00,  9.15it/s]\u001B[A\n",
      "10it [00:01,  9.03it/s]\u001B[A\n",
      "12it [00:01,  9.49it/s]\u001B[A\n",
      "15it [00:01,  9.88it/s]\u001B[A\n",
      "\n",
      "0it [00:00, ?it/s]\u001B[A"
     ]
    },
    {
     "name": "stdout",
     "output_type": "stream",
     "text": [
      "TOTAL TRAIN LOSS 3.3990347385406494\n",
      "TRAINING TIME 1.518812894821167\n",
      "TOTAL VAL LOSS 1.642771065235138\n",
      "EVAL TIME 0.0565338134765625\n",
      "** ** * Saving fine - tuned model ** ** * \n",
      "\n",
      "\n",
      "Epoch n2\n"
     ]
    },
    {
     "name": "stderr",
     "output_type": "stream",
     "text": [
      "\n",
      "2it [00:00, 11.07it/s]\u001B[A\n",
      "3it [00:00, 10.42it/s]\u001B[A\n",
      "5it [00:00, 10.38it/s]\u001B[A\n",
      "6it [00:00,  9.90it/s]\u001B[A\n",
      "8it [00:00, 10.04it/s]\u001B[A\n",
      "9it [00:00,  8.93it/s]\u001B[A\n",
      "10it [00:01,  9.14it/s]\u001B[A\n",
      "12it [00:01,  9.70it/s]\u001B[A\n",
      "15it [00:01, 10.00it/s]\u001B[A"
     ]
    },
    {
     "name": "stdout",
     "output_type": "stream",
     "text": [
      "TOTAL TRAIN LOSS 3.415649781624476\n",
      "TRAINING TIME 1.5005908012390137\n",
      "TOTAL VAL LOSS 1.67026087641716\n",
      "EVAL TIME 0.05009007453918457\n"
     ]
    },
    {
     "name": "stderr",
     "output_type": "stream",
     "text": [
      "\n"
     ]
    },
    {
     "data": {
      "text/plain": "<Figure size 640x480 with 1 Axes>",
      "image/png": "[encoded data removed]"
     },
     "metadata": {},
     "output_type": "display_data"
    },
    {
     "name": "stderr",
     "output_type": "stream",
     "text": [
      " 80%|████████  | 4/5 [00:19<00:05,  5.03s/it]\n",
      "0it [00:00, ?it/s]\u001B[A"
     ]
    },
    {
     "name": "stdout",
     "output_type": "stream",
     "text": [
      "TOTAL TEST LOSS  3.2192115113139153\n",
      "TEST TEST TIME 0.13420391082763672\n",
      "\n",
      " Experiment 5\n",
      "Epoch n0\n"
     ]
    },
    {
     "name": "stderr",
     "output_type": "stream",
     "text": [
      "\n",
      "2it [00:00, 11.09it/s]\u001B[A\n",
      "4it [00:00, 10.58it/s]\u001B[A\n",
      "6it [00:00,  9.78it/s]\u001B[A\n",
      "8it [00:00, 10.05it/s]\u001B[A\n",
      "10it [00:01, 10.21it/s]\u001B[A\n",
      "11it [00:01,  9.59it/s]\u001B[A\n",
      "13it [00:01, 10.03it/s]\u001B[A\n",
      "15it [00:01, 10.46it/s]\u001B[A\n",
      "\n",
      "0it [00:00, ?it/s]\u001B[A"
     ]
    },
    {
     "name": "stdout",
     "output_type": "stream",
     "text": [
      "TOTAL TRAIN LOSS 3.580237885316213\n",
      "TRAINING TIME 1.4352562427520752\n",
      "TOTAL VAL LOSS 4.655777961015701\n",
      "EVAL TIME 0.058828115463256836\n",
      "** ** * Saving fine - tuned model ** ** * \n",
      "\n",
      "\n",
      "Epoch n1\n"
     ]
    },
    {
     "name": "stderr",
     "output_type": "stream",
     "text": [
      "\n",
      "2it [00:00, 11.40it/s]\u001B[A\n",
      "4it [00:00, 10.65it/s]\u001B[A\n",
      "6it [00:00,  9.88it/s]\u001B[A\n",
      "8it [00:00, 10.02it/s]\u001B[A\n",
      "10it [00:01, 10.29it/s]\u001B[A\n",
      "11it [00:01, 10.08it/s]\u001B[A\n",
      "13it [00:01, 10.37it/s]\u001B[A\n",
      "15it [00:01, 10.49it/s]\u001B[A\n",
      "\n",
      "0it [00:00, ?it/s]\u001B[A"
     ]
    },
    {
     "name": "stdout",
     "output_type": "stream",
     "text": [
      "TOTAL TRAIN LOSS 3.2628484964370728\n",
      "TRAINING TIME 1.4310662746429443\n",
      "TOTAL VAL LOSS 4.618619680404663\n",
      "EVAL TIME 0.05359077453613281\n",
      "** ** * Saving fine - tuned model ** ** * \n",
      "\n",
      "\n",
      "Epoch n2\n"
     ]
    },
    {
     "name": "stderr",
     "output_type": "stream",
     "text": [
      "\n",
      "2it [00:00, 11.54it/s]\u001B[A\n",
      "3it [00:00, 11.00it/s]\u001B[A\n",
      "4it [00:00,  9.94it/s]\u001B[A\n",
      "6it [00:00,  9.35it/s]\u001B[A\n",
      "8it [00:00,  9.80it/s]\u001B[A\n",
      "10it [00:01, 10.09it/s]\u001B[A\n",
      "11it [00:01,  9.85it/s]\u001B[A\n",
      "13it [00:01, 10.29it/s]\u001B[A\n",
      "15it [00:01, 10.47it/s]\u001B[A\n"
     ]
    },
    {
     "name": "stdout",
     "output_type": "stream",
     "text": [
      "TOTAL TRAIN LOSS 3.2488413651784263\n",
      "TRAINING TIME 1.4338698387145996\n",
      "TOTAL VAL LOSS 4.562436640262604\n",
      "EVAL TIME 0.06128716468811035\n",
      "** ** * Saving fine - tuned model ** ** * \n"
     ]
    },
    {
     "data": {
      "text/plain": "<Figure size 640x480 with 1 Axes>",
      "image/png": "[encoded data removed]"
     },
     "metadata": {},
     "output_type": "display_data"
    },
    {
     "name": "stderr",
     "output_type": "stream",
     "text": [
      "100%|██████████| 5/5 [00:24<00:00,  4.97s/it]"
     ]
    },
    {
     "name": "stdout",
     "output_type": "stream",
     "text": [
      "TOTAL TEST LOSS  2.0151983574032784\n",
      "TEST TEST TIME 0.1358950138092041\n"
     ]
    },
    {
     "name": "stderr",
     "output_type": "stream",
     "text": [
      "\n"
     ]
    }
   ],
   "source": [
    "df, model = experiment(num_experiments=5)"
   ]
  },
  {
   "cell_type": "code",
   "execution_count": 31,
   "metadata": {
    "ExecuteTime": {
     "end_time": "2024-01-18T16:22:27.574218Z",
     "start_time": "2024-01-18T16:22:27.541973Z"
    }
   },
   "outputs": [
    {
     "data": {
      "text/plain": "    Experiment    Model         Metric     Score\n0            1  GT_BERT     Test AUROC  0.509804\n1            1  GT_BERT     Test AUPRC  0.176508\n2            1  GT_BERT        Test F1  0.781081\n3            1  GT_BERT   Val Accuracy  0.875000\n4            1  GT_BERT  Test Accuracy  0.850000\n5            1  GT_BERT     Train Loss  3.250739\n6            1  GT_BERT       Val Loss  2.944141\n7            1  GT_BERT     Train Time  1.543867\n8            1  GT_BERT       Val Time  0.051108\n9            1  GT_BERT      Test Time  0.135009\n10           2  GT_BERT     Test AUROC  0.490196\n11           2  GT_BERT     Test AUPRC  0.144371\n12           2  GT_BERT        Test F1  0.781081\n13           2  GT_BERT   Val Accuracy  0.750000\n14           2  GT_BERT  Test Accuracy  0.850000\n15           2  GT_BERT     Train Loss  3.123929\n16           2  GT_BERT       Val Loss  3.833627\n17           2  GT_BERT     Train Time  1.411151\n18           2  GT_BERT       Val Time  0.053201\n19           2  GT_BERT      Test Time  0.140557\n20           3  GT_BERT     Test AUROC  0.738095\n21           3  GT_BERT     Test AUPRC  0.415425\n22           3  GT_BERT        Test F1  0.576471\n23           3  GT_BERT   Val Accuracy  0.750000\n24           3  GT_BERT  Test Accuracy  0.700000\n25           3  GT_BERT     Train Loss  2.930484\n26           3  GT_BERT       Val Loss  3.259184\n27           3  GT_BERT     Train Time  1.426623\n28           3  GT_BERT       Val Time  0.055451\n29           3  GT_BERT      Test Time  0.153602\n30           4  GT_BERT     Test AUROC  0.812500\n31           4  GT_BERT     Test AUPRC  0.370833\n32           4  GT_BERT        Test F1  0.711111\n33           4  GT_BERT   Val Accuracy  1.000000\n34           4  GT_BERT  Test Accuracy  0.800000\n35           4  GT_BERT     Train Loss  3.415650\n36           4  GT_BERT       Val Loss  1.670261\n37           4  GT_BERT     Train Time  1.500591\n38           4  GT_BERT       Val Time  0.050090\n39           4  GT_BERT      Test Time  0.134204\n40           5  GT_BERT     Test AUROC  0.842105\n41           5  GT_BERT     Test AUPRC  0.125000\n42           5  GT_BERT        Test F1  0.925641\n43           5  GT_BERT   Val Accuracy  0.625000\n44           5  GT_BERT  Test Accuracy  0.950000\n45           5  GT_BERT     Train Loss  3.248841\n46           5  GT_BERT       Val Loss  4.562437\n47           5  GT_BERT     Train Time  1.433870\n48           5  GT_BERT       Val Time  0.061287\n49           5  GT_BERT      Test Time  0.135895",
      "text/html": "<div>\n<style scoped>\n    .dataframe tbody tr th:only-of-type {\n        vertical-align: middle;\n    }\n\n    .dataframe tbody tr th {\n        vertical-align: top;\n    }\n\n    .dataframe thead th {\n        text-align: right;\n    }\n</style>\n<table border=\"1\" class=\"dataframe\">\n  <thead>\n    <tr style=\"text-align: right;\">\n      <th></th>\n      <th>Experiment</th>\n      <th>Model</th>\n      <th>Metric</th>\n      <th>Score</th>\n    </tr>\n  </thead>\n  <tbody>\n    <tr>\n      <th>0</th>\n      <td>1</td>\n      <td>GT_BERT</td>\n      <td>Test AUROC</td>\n      <td>0.509804</td>\n    </tr>\n    <tr>\n      <th>1</th>\n      <td>1</td>\n      <td>GT_BERT</td>\n      <td>Test AUPRC</td>\n      <td>0.176508</td>\n    </tr>\n    <tr>\n      <th>2</th>\n      <td>1</td>\n      <td>GT_BERT</td>\n      <td>Test F1</td>\n      <td>0.781081</td>\n    </tr>\n    <tr>\n      <th>3</th>\n      <td>1</td>\n      <td>GT_BERT</td>\n      <td>Val Accuracy</td>\n      <td>0.875000</td>\n    </tr>\n    <tr>\n      <th>4</th>\n      <td>1</td>\n      <td>GT_BERT</td>\n      <td>Test Accuracy</td>\n      <td>0.850000</td>\n    </tr>\n    <tr>\n      <th>5</th>\n      <td>1</td>\n      <td>GT_BERT</td>\n      <td>Train Loss</td>\n      <td>3.250739</td>\n    </tr>\n    <tr>\n      <th>6</th>\n      <td>1</td>\n      <td>GT_BERT</td>\n      <td>Val Loss</td>\n      <td>2.944141</td>\n    </tr>\n    <tr>\n      <th>7</th>\n      <td>1</td>\n      <td>GT_BERT</td>\n      <td>Train Time</td>\n      <td>1.543867</td>\n    </tr>\n    <tr>\n      <th>8</th>\n      <td>1</td>\n      <td>GT_BERT</td>\n      <td>Val Time</td>\n      <td>0.051108</td>\n    </tr>\n    <tr>\n      <th>9</th>\n      <td>1</td>\n      <td>GT_BERT</td>\n      <td>Test Time</td>\n      <td>0.135009</td>\n    </tr>\n    <tr>\n      <th>10</th>\n      <td>2</td>\n      <td>GT_BERT</td>\n      <td>Test AUROC</td>\n      <td>0.490196</td>\n    </tr>\n    <tr>\n      <th>11</th>\n      <td>2</td>\n      <td>GT_BERT</td>\n      <td>Test AUPRC</td>\n      <td>0.144371</td>\n    </tr>\n    <tr>\n      <th>12</th>\n      <td>2</td>\n      <td>GT_BERT</td>\n      <td>Test F1</td>\n      <td>0.781081</td>\n    </tr>\n    <tr>\n      <th>13</th>\n      <td>2</td>\n      <td>GT_BERT</td>\n      <td>Val Accuracy</td>\n      <td>0.750000</td>\n    </tr>\n    <tr>\n      <th>14</th>\n      <td>2</td>\n      <td>GT_BERT</td>\n      <td>Test Accuracy</td>\n      <td>0.850000</td>\n    </tr>\n    <tr>\n      <th>15</th>\n      <td>2</td>\n      <td>GT_BERT</td>\n      <td>Train Loss</td>\n      <td>3.123929</td>\n    </tr>\n    <tr>\n      <th>16</th>\n      <td>2</td>\n      <td>GT_BERT</td>\n      <td>Val Loss</td>\n      <td>3.833627</td>\n    </tr>\n    <tr>\n      <th>17</th>\n      <td>2</td>\n      <td>GT_BERT</td>\n      <td>Train Time</td>\n      <td>1.411151</td>\n    </tr>\n    <tr>\n      <th>18</th>\n      <td>2</td>\n      <td>GT_BERT</td>\n      <td>Val Time</td>\n      <td>0.053201</td>\n    </tr>\n    <tr>\n      <th>19</th>\n      <td>2</td>\n      <td>GT_BERT</td>\n      <td>Test Time</td>\n      <td>0.140557</td>\n    </tr>\n    <tr>\n      <th>20</th>\n      <td>3</td>\n      <td>GT_BERT</td>\n      <td>Test AUROC</td>\n      <td>0.738095</td>\n    </tr>\n    <tr>\n      <th>21</th>\n      <td>3</td>\n      <td>GT_BERT</td>\n      <td>Test AUPRC</td>\n      <td>0.415425</td>\n    </tr>\n    <tr>\n      <th>22</th>\n      <td>3</td>\n      <td>GT_BERT</td>\n      <td>Test F1</td>\n      <td>0.576471</td>\n    </tr>\n    <tr>\n      <th>23</th>\n      <td>3</td>\n      <td>GT_BERT</td>\n      <td>Val Accuracy</td>\n      <td>0.750000</td>\n    </tr>\n    <tr>\n      <th>24</th>\n      <td>3</td>\n      <td>GT_BERT</td>\n      <td>Test Accuracy</td>\n      <td>0.700000</td>\n    </tr>\n    <tr>\n      <th>25</th>\n      <td>3</td>\n      <td>GT_BERT</td>\n      <td>Train Loss</td>\n      <td>2.930484</td>\n    </tr>\n    <tr>\n      <th>26</th>\n      <td>3</td>\n      <td>GT_BERT</td>\n      <td>Val Loss</td>\n      <td>3.259184</td>\n    </tr>\n    <tr>\n      <th>27</th>\n      <td>3</td>\n      <td>GT_BERT</td>\n      <td>Train Time</td>\n      <td>1.426623</td>\n    </tr>\n    <tr>\n      <th>28</th>\n      <td>3</td>\n      <td>GT_BERT</td>\n      <td>Val Time</td>\n      <td>0.055451</td>\n    </tr>\n    <tr>\n      <th>29</th>\n      <td>3</td>\n      <td>GT_BERT</td>\n      <td>Test Time</td>\n      <td>0.153602</td>\n    </tr>\n    <tr>\n      <th>30</th>\n      <td>4</td>\n      <td>GT_BERT</td>\n      <td>Test AUROC</td>\n      <td>0.812500</td>\n    </tr>\n    <tr>\n      <th>31</th>\n      <td>4</td>\n      <td>GT_BERT</td>\n      <td>Test AUPRC</td>\n      <td>0.370833</td>\n    </tr>\n    <tr>\n      <th>32</th>\n      <td>4</td>\n      <td>GT_BERT</td>\n      <td>Test F1</td>\n      <td>0.711111</td>\n    </tr>\n    <tr>\n      <th>33</th>\n      <td>4</td>\n      <td>GT_BERT</td>\n      <td>Val Accuracy</td>\n      <td>1.000000</td>\n    </tr>\n    <tr>\n      <th>34</th>\n      <td>4</td>\n      <td>GT_BERT</td>\n      <td>Test Accuracy</td>\n      <td>0.800000</td>\n    </tr>\n    <tr>\n      <th>35</th>\n      <td>4</td>\n      <td>GT_BERT</td>\n      <td>Train Loss</td>\n      <td>3.415650</td>\n    </tr>\n    <tr>\n      <th>36</th>\n      <td>4</td>\n      <td>GT_BERT</td>\n      <td>Val Loss</td>\n      <td>1.670261</td>\n    </tr>\n    <tr>\n      <th>37</th>\n      <td>4</td>\n      <td>GT_BERT</td>\n      <td>Train Time</td>\n      <td>1.500591</td>\n    </tr>\n    <tr>\n      <th>38</th>\n      <td>4</td>\n      <td>GT_BERT</td>\n      <td>Val Time</td>\n      <td>0.050090</td>\n    </tr>\n    <tr>\n      <th>39</th>\n      <td>4</td>\n      <td>GT_BERT</td>\n      <td>Test Time</td>\n      <td>0.134204</td>\n    </tr>\n    <tr>\n      <th>40</th>\n      <td>5</td>\n      <td>GT_BERT</td>\n      <td>Test AUROC</td>\n      <td>0.842105</td>\n    </tr>\n    <tr>\n      <th>41</th>\n      <td>5</td>\n      <td>GT_BERT</td>\n      <td>Test AUPRC</td>\n      <td>0.125000</td>\n    </tr>\n    <tr>\n      <th>42</th>\n      <td>5</td>\n      <td>GT_BERT</td>\n      <td>Test F1</td>\n      <td>0.925641</td>\n    </tr>\n    <tr>\n      <th>43</th>\n      <td>5</td>\n      <td>GT_BERT</td>\n      <td>Val Accuracy</td>\n      <td>0.625000</td>\n    </tr>\n    <tr>\n      <th>44</th>\n      <td>5</td>\n      <td>GT_BERT</td>\n      <td>Test Accuracy</td>\n      <td>0.950000</td>\n    </tr>\n    <tr>\n      <th>45</th>\n      <td>5</td>\n      <td>GT_BERT</td>\n      <td>Train Loss</td>\n      <td>3.248841</td>\n    </tr>\n    <tr>\n      <th>46</th>\n      <td>5</td>\n      <td>GT_BERT</td>\n      <td>Val Loss</td>\n      <td>4.562437</td>\n    </tr>\n    <tr>\n      <th>47</th>\n      <td>5</td>\n      <td>GT_BERT</td>\n      <td>Train Time</td>\n      <td>1.433870</td>\n    </tr>\n    <tr>\n      <th>48</th>\n      <td>5</td>\n      <td>GT_BERT</td>\n      <td>Val Time</td>\n      <td>0.061287</td>\n    </tr>\n    <tr>\n      <th>49</th>\n      <td>5</td>\n      <td>GT_BERT</td>\n      <td>Test Time</td>\n      <td>0.135895</td>\n    </tr>\n  </tbody>\n</table>\n</div>"
     },
     "execution_count": 31,
     "metadata": {},
     "output_type": "execute_result"
    }
   ],
   "source": [
    "df"
   ]
  },
  {
   "cell_type": "code",
   "execution_count": 32,
   "metadata": {
    "ExecuteTime": {
     "end_time": "2024-01-18T16:22:28.516248Z",
     "start_time": "2024-01-18T16:22:28.507150Z"
    }
   },
   "outputs": [
    {
     "data": {
      "text/plain": "     Model         Metric  Average Score  Standard Deviation\n0  GT_BERT     Test AUPRC           0.25                0.14\n1  GT_BERT     Test AUROC           0.68                0.17\n2  GT_BERT  Test Accuracy           0.83                0.09\n3  GT_BERT        Test F1           0.76                0.13\n4  GT_BERT      Test Time           0.14                0.01\n5  GT_BERT     Train Loss           3.19                0.18\n6  GT_BERT     Train Time           1.46                0.06\n7  GT_BERT   Val Accuracy           0.80                0.14\n8  GT_BERT       Val Loss           3.25                1.08\n9  GT_BERT       Val Time           0.05                0.00",
      "text/html": "<div>\n<style scoped>\n    .dataframe tbody tr th:only-of-type {\n        vertical-align: middle;\n    }\n\n    .dataframe tbody tr th {\n        vertical-align: top;\n    }\n\n    .dataframe thead th {\n        text-align: right;\n    }\n</style>\n<table border=\"1\" class=\"dataframe\">\n  <thead>\n    <tr style=\"text-align: right;\">\n      <th></th>\n      <th>Model</th>\n      <th>Metric</th>\n      <th>Average Score</th>\n      <th>Standard Deviation</th>\n    </tr>\n  </thead>\n  <tbody>\n    <tr>\n      <th>0</th>\n      <td>GT_BERT</td>\n      <td>Test AUPRC</td>\n      <td>0.25</td>\n      <td>0.14</td>\n    </tr>\n    <tr>\n      <th>1</th>\n      <td>GT_BERT</td>\n      <td>Test AUROC</td>\n      <td>0.68</td>\n      <td>0.17</td>\n    </tr>\n    <tr>\n      <th>2</th>\n      <td>GT_BERT</td>\n      <td>Test Accuracy</td>\n      <td>0.83</td>\n      <td>0.09</td>\n    </tr>\n    <tr>\n      <th>3</th>\n      <td>GT_BERT</td>\n      <td>Test F1</td>\n      <td>0.76</td>\n      <td>0.13</td>\n    </tr>\n    <tr>\n      <th>4</th>\n      <td>GT_BERT</td>\n      <td>Test Time</td>\n      <td>0.14</td>\n      <td>0.01</td>\n    </tr>\n    <tr>\n      <th>5</th>\n      <td>GT_BERT</td>\n      <td>Train Loss</td>\n      <td>3.19</td>\n      <td>0.18</td>\n    </tr>\n    <tr>\n      <th>6</th>\n      <td>GT_BERT</td>\n      <td>Train Time</td>\n      <td>1.46</td>\n      <td>0.06</td>\n    </tr>\n    <tr>\n      <th>7</th>\n      <td>GT_BERT</td>\n      <td>Val Accuracy</td>\n      <td>0.80</td>\n      <td>0.14</td>\n    </tr>\n    <tr>\n      <th>8</th>\n      <td>GT_BERT</td>\n      <td>Val Loss</td>\n      <td>3.25</td>\n      <td>1.08</td>\n    </tr>\n    <tr>\n      <th>9</th>\n      <td>GT_BERT</td>\n      <td>Val Time</td>\n      <td>0.05</td>\n      <td>0.00</td>\n    </tr>\n  </tbody>\n</table>\n</div>"
     },
     "execution_count": 32,
     "metadata": {},
     "output_type": "execute_result"
    }
   ],
   "source": [
    "# Group by Model and Metric and calculate average and standard deviation\n",
    "result_df = df.groupby(['Model', 'Metric']).agg({'Score': ['mean', 'std']}).reset_index()\n",
    "\n",
    "# Rename columns for clarity\n",
    "result_df.columns = ['Model', 'Metric', 'Average Score', 'Standard Deviation']\n",
    "\n",
    "result_df['Average Score'] = result_df['Average Score'].round(2)\n",
    "result_df['Standard Deviation'] = result_df['Standard Deviation'].round(2)\n",
    "\n",
    "# Print the result\n",
    "result_df"
   ]
  },
  {
   "cell_type": "code",
   "execution_count": 33,
   "metadata": {
    "ExecuteTime": {
     "end_time": "2024-01-18T16:22:29.400860Z",
     "start_time": "2024-01-18T16:22:29.397908Z"
    }
   },
   "outputs": [
    {
     "data": {
      "text/plain": "3834573"
     },
     "execution_count": 33,
     "metadata": {},
     "output_type": "execute_result"
    }
   ],
   "source": [
    "def count_parameters(model):\n",
    "  return sum(p.numel() for p in model.parameters())\n",
    "\n",
    "count_parameters(model)"
   ]
  },
  {
   "cell_type": "code",
   "execution_count": 34,
   "metadata": {
    "collapsed": false,
    "ExecuteTime": {
     "end_time": "2024-01-18T16:22:30.526525Z",
     "start_time": "2024-01-18T16:22:30.519219Z"
    }
   },
   "outputs": [],
   "source": [
    "# saving results\n",
    "result_df.to_csv(path_results + 'dataframes/' + 'GT_behrt_results.csv')"
   ]
  }
 ],
 "metadata": {
  "kernelspec": {
   "display_name": "Python 3",
   "language": "python",
   "name": "python3"
  },
  "language_info": {
   "codemirror_mode": {
    "name": "ipython",
    "version": 3
   },
   "file_extension": ".py",
   "mimetype": "text/x-python",
   "name": "python",
   "nbconvert_exporter": "python",
   "pygments_lexer": "ipython3",
   "version": "3.10.12"
  }
 },
 "nbformat": 4,
 "nbformat_minor": 2
}
