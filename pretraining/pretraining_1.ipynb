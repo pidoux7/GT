{
 "cells": [
  {
   "cell_type": "markdown",
   "id": "eb3309d60ce9652b",
   "metadata": {
    "collapsed": false
   },
   "source": [
    "#################################################### Importing Libraries ####################################################"
   ]
  },
  {
   "cell_type": "code",
   "execution_count": 1,
   "id": "initial_id",
   "metadata": {
    "collapsed": true,
    "ExecuteTime": {
     "end_time": "2024-01-18T14:49:56.244798Z",
     "start_time": "2024-01-18T14:49:34.088486Z"
    }
   },
   "outputs": [
    {
     "name": "stdout",
     "output_type": "stream",
     "text": [
      "Requirement already satisfied: import_ipynb in /Users/garance/.pyenv/versions/3.11.5/envs/projet_AMAL/lib/python3.11/site-packages (0.1.3)\r\n",
      "\r\n",
      "\u001B[1m[\u001B[0m\u001B[34;49mnotice\u001B[0m\u001B[1;39;49m]\u001B[0m\u001B[39;49m A new release of pip is available: \u001B[0m\u001B[31;49m23.2.1\u001B[0m\u001B[39;49m -> \u001B[0m\u001B[32;49m23.3.2\u001B[0m\r\n",
      "\u001B[1m[\u001B[0m\u001B[34;49mnotice\u001B[0m\u001B[1;39;49m]\u001B[0m\u001B[39;49m To update, run: \u001B[0m\u001B[32;49mpip install --upgrade pip\u001B[0m\r\n",
      "\r\n",
      "\u001B[1m[\u001B[0m\u001B[34;49mnotice\u001B[0m\u001B[1;39;49m]\u001B[0m\u001B[39;49m A new release of pip is available: \u001B[0m\u001B[31;49m23.2.1\u001B[0m\u001B[39;49m -> \u001B[0m\u001B[32;49m23.3.2\u001B[0m\r\n",
      "\u001B[1m[\u001B[0m\u001B[34;49mnotice\u001B[0m\u001B[1;39;49m]\u001B[0m\u001B[39;49m To update, run: \u001B[0m\u001B[32;49mpip install --upgrade pip\u001B[0m\r\n",
      "Requirement already satisfied: pytorch_pretrained_bert in /Users/garance/.pyenv/versions/3.11.5/envs/projet_AMAL/lib/python3.11/site-packages (0.6.2)\r\n",
      "Requirement already satisfied: torch>=0.4.1 in /Users/garance/.pyenv/versions/3.11.5/envs/projet_AMAL/lib/python3.11/site-packages (from pytorch_pretrained_bert) (2.1.0)\r\n",
      "Requirement already satisfied: numpy in /Users/garance/.pyenv/versions/3.11.5/envs/projet_AMAL/lib/python3.11/site-packages (from pytorch_pretrained_bert) (1.26.2)\r\n",
      "Requirement already satisfied: boto3 in /Users/garance/.pyenv/versions/3.11.5/envs/projet_AMAL/lib/python3.11/site-packages (from pytorch_pretrained_bert) (1.34.11)\r\n",
      "Requirement already satisfied: requests in /Users/garance/.pyenv/versions/3.11.5/envs/projet_AMAL/lib/python3.11/site-packages (from pytorch_pretrained_bert) (2.31.0)\r\n",
      "Requirement already satisfied: tqdm in /Users/garance/.pyenv/versions/3.11.5/envs/projet_AMAL/lib/python3.11/site-packages (from pytorch_pretrained_bert) (4.47.0)\r\n",
      "Requirement already satisfied: regex in /Users/garance/.pyenv/versions/3.11.5/envs/projet_AMAL/lib/python3.11/site-packages (from pytorch_pretrained_bert) (2023.12.25)\r\n",
      "Requirement already satisfied: filelock in /Users/garance/.pyenv/versions/3.11.5/envs/projet_AMAL/lib/python3.11/site-packages (from torch>=0.4.1->pytorch_pretrained_bert) (3.13.1)\r\n",
      "Requirement already satisfied: typing-extensions in /Users/garance/.pyenv/versions/3.11.5/envs/projet_AMAL/lib/python3.11/site-packages (from torch>=0.4.1->pytorch_pretrained_bert) (4.9.0)\r\n",
      "Requirement already satisfied: sympy in /Users/garance/.pyenv/versions/3.11.5/envs/projet_AMAL/lib/python3.11/site-packages (from torch>=0.4.1->pytorch_pretrained_bert) (1.12)\r\n",
      "Requirement already satisfied: networkx in /Users/garance/.pyenv/versions/3.11.5/envs/projet_AMAL/lib/python3.11/site-packages (from torch>=0.4.1->pytorch_pretrained_bert) (3.2.1)\r\n",
      "Requirement already satisfied: jinja2 in /Users/garance/.pyenv/versions/3.11.5/envs/projet_AMAL/lib/python3.11/site-packages (from torch>=0.4.1->pytorch_pretrained_bert) (2.11.2)\r\n",
      "Requirement already satisfied: fsspec in /Users/garance/.pyenv/versions/3.11.5/envs/projet_AMAL/lib/python3.11/site-packages (from torch>=0.4.1->pytorch_pretrained_bert) (2023.12.2)\r\n",
      "Requirement already satisfied: botocore<1.35.0,>=1.34.11 in /Users/garance/.pyenv/versions/3.11.5/envs/projet_AMAL/lib/python3.11/site-packages (from boto3->pytorch_pretrained_bert) (1.34.11)\r\n",
      "Requirement already satisfied: jmespath<2.0.0,>=0.7.1 in /Users/garance/.pyenv/versions/3.11.5/envs/projet_AMAL/lib/python3.11/site-packages (from boto3->pytorch_pretrained_bert) (1.0.1)\r\n",
      "Requirement already satisfied: s3transfer<0.11.0,>=0.10.0 in /Users/garance/.pyenv/versions/3.11.5/envs/projet_AMAL/lib/python3.11/site-packages (from boto3->pytorch_pretrained_bert) (0.10.0)\r\n",
      "Requirement already satisfied: charset-normalizer<4,>=2 in /Users/garance/.pyenv/versions/3.11.5/envs/projet_AMAL/lib/python3.11/site-packages (from requests->pytorch_pretrained_bert) (3.3.2)\r\n",
      "Requirement already satisfied: idna<4,>=2.5 in /Users/garance/.pyenv/versions/3.11.5/envs/projet_AMAL/lib/python3.11/site-packages (from requests->pytorch_pretrained_bert) (3.6)\r\n",
      "Requirement already satisfied: urllib3<3,>=1.21.1 in /Users/garance/.pyenv/versions/3.11.5/envs/projet_AMAL/lib/python3.11/site-packages (from requests->pytorch_pretrained_bert) (2.0.7)\r\n",
      "Requirement already satisfied: certifi>=2017.4.17 in /Users/garance/.pyenv/versions/3.11.5/envs/projet_AMAL/lib/python3.11/site-packages (from requests->pytorch_pretrained_bert) (2023.11.17)\r\n",
      "Requirement already satisfied: python-dateutil<3.0.0,>=2.1 in /Users/garance/.pyenv/versions/3.11.5/envs/projet_AMAL/lib/python3.11/site-packages (from botocore<1.35.0,>=1.34.11->boto3->pytorch_pretrained_bert) (2.8.2)\r\n",
      "Requirement already satisfied: MarkupSafe>=0.23 in /Users/garance/.pyenv/versions/3.11.5/envs/projet_AMAL/lib/python3.11/site-packages (from jinja2->torch>=0.4.1->pytorch_pretrained_bert) (2.0.1)\r\n",
      "Requirement already satisfied: mpmath>=0.19 in /Users/garance/.pyenv/versions/3.11.5/envs/projet_AMAL/lib/python3.11/site-packages (from sympy->torch>=0.4.1->pytorch_pretrained_bert) (1.3.0)\r\n",
      "Requirement already satisfied: six>=1.5 in /Users/garance/.pyenv/versions/3.11.5/envs/projet_AMAL/lib/python3.11/site-packages (from python-dateutil<3.0.0,>=2.1->botocore<1.35.0,>=1.34.11->boto3->pytorch_pretrained_bert) (1.16.0)\r\n",
      "\r\n",
      "\u001B[1m[\u001B[0m\u001B[34;49mnotice\u001B[0m\u001B[1;39;49m]\u001B[0m\u001B[39;49m A new release of pip is available: \u001B[0m\u001B[31;49m23.2.1\u001B[0m\u001B[39;49m -> \u001B[0m\u001B[32;49m23.3.2\u001B[0m\r\n",
      "\u001B[1m[\u001B[0m\u001B[34;49mnotice\u001B[0m\u001B[1;39;49m]\u001B[0m\u001B[39;49m To update, run: \u001B[0m\u001B[32;49mpip install --upgrade pip\u001B[0m\r\n",
      "Requirement already satisfied: sparse in /Users/garance/.pyenv/versions/3.11.5/envs/projet_AMAL/lib/python3.11/site-packages (0.14.0)\r\n",
      "Requirement already satisfied: numpy>=1.17 in /Users/garance/.pyenv/versions/3.11.5/envs/projet_AMAL/lib/python3.11/site-packages (from sparse) (1.26.2)\r\n",
      "Requirement already satisfied: scipy>=0.19 in /Users/garance/.pyenv/versions/3.11.5/envs/projet_AMAL/lib/python3.11/site-packages (from sparse) (1.11.4)\r\n",
      "Requirement already satisfied: numba>=0.49 in /Users/garance/.pyenv/versions/3.11.5/envs/projet_AMAL/lib/python3.11/site-packages (from sparse) (0.58.1)\r\n",
      "Requirement already satisfied: llvmlite<0.42,>=0.41.0dev0 in /Users/garance/.pyenv/versions/3.11.5/envs/projet_AMAL/lib/python3.11/site-packages (from numba>=0.49->sparse) (0.41.1)\r\n",
      "\r\n",
      "\u001B[1m[\u001B[0m\u001B[34;49mnotice\u001B[0m\u001B[1;39;49m]\u001B[0m\u001B[39;49m A new release of pip is available: \u001B[0m\u001B[31;49m23.2.1\u001B[0m\u001B[39;49m -> \u001B[0m\u001B[32;49m23.3.2\u001B[0m\r\n",
      "\u001B[1m[\u001B[0m\u001B[34;49mnotice\u001B[0m\u001B[1;39;49m]\u001B[0m\u001B[39;49m To update, run: \u001B[0m\u001B[32;49mpip install --upgrade pip\u001B[0m\r\n",
      "Requirement already satisfied: transformers in /Users/garance/.pyenv/versions/3.11.5/envs/projet_AMAL/lib/python3.11/site-packages (4.36.2)\r\n",
      "Requirement already satisfied: filelock in /Users/garance/.pyenv/versions/3.11.5/envs/projet_AMAL/lib/python3.11/site-packages (from transformers) (3.13.1)\r\n",
      "Requirement already satisfied: huggingface-hub<1.0,>=0.19.3 in /Users/garance/.pyenv/versions/3.11.5/envs/projet_AMAL/lib/python3.11/site-packages (from transformers) (0.20.2)\r\n",
      "Requirement already satisfied: numpy>=1.17 in /Users/garance/.pyenv/versions/3.11.5/envs/projet_AMAL/lib/python3.11/site-packages (from transformers) (1.26.2)\r\n",
      "Requirement already satisfied: packaging>=20.0 in /Users/garance/.pyenv/versions/3.11.5/envs/projet_AMAL/lib/python3.11/site-packages (from transformers) (23.2)\r\n",
      "Requirement already satisfied: pyyaml>=5.1 in /Users/garance/.pyenv/versions/3.11.5/envs/projet_AMAL/lib/python3.11/site-packages (from transformers) (6.0.1)\r\n",
      "Requirement already satisfied: regex!=2019.12.17 in /Users/garance/.pyenv/versions/3.11.5/envs/projet_AMAL/lib/python3.11/site-packages (from transformers) (2023.12.25)\r\n",
      "Requirement already satisfied: requests in /Users/garance/.pyenv/versions/3.11.5/envs/projet_AMAL/lib/python3.11/site-packages (from transformers) (2.31.0)\r\n",
      "Requirement already satisfied: tokenizers<0.19,>=0.14 in /Users/garance/.pyenv/versions/3.11.5/envs/projet_AMAL/lib/python3.11/site-packages (from transformers) (0.15.0)\r\n",
      "Requirement already satisfied: safetensors>=0.3.1 in /Users/garance/.pyenv/versions/3.11.5/envs/projet_AMAL/lib/python3.11/site-packages (from transformers) (0.4.1)\r\n",
      "Requirement already satisfied: tqdm>=4.27 in /Users/garance/.pyenv/versions/3.11.5/envs/projet_AMAL/lib/python3.11/site-packages (from transformers) (4.47.0)\r\n",
      "Requirement already satisfied: fsspec>=2023.5.0 in /Users/garance/.pyenv/versions/3.11.5/envs/projet_AMAL/lib/python3.11/site-packages (from huggingface-hub<1.0,>=0.19.3->transformers) (2023.12.2)\r\n",
      "Requirement already satisfied: typing-extensions>=3.7.4.3 in /Users/garance/.pyenv/versions/3.11.5/envs/projet_AMAL/lib/python3.11/site-packages (from huggingface-hub<1.0,>=0.19.3->transformers) (4.9.0)\r\n",
      "Requirement already satisfied: charset-normalizer<4,>=2 in /Users/garance/.pyenv/versions/3.11.5/envs/projet_AMAL/lib/python3.11/site-packages (from requests->transformers) (3.3.2)\r\n",
      "Requirement already satisfied: idna<4,>=2.5 in /Users/garance/.pyenv/versions/3.11.5/envs/projet_AMAL/lib/python3.11/site-packages (from requests->transformers) (3.6)\r\n",
      "Requirement already satisfied: urllib3<3,>=1.21.1 in /Users/garance/.pyenv/versions/3.11.5/envs/projet_AMAL/lib/python3.11/site-packages (from requests->transformers) (2.0.7)\r\n",
      "Requirement already satisfied: certifi>=2017.4.17 in /Users/garance/.pyenv/versions/3.11.5/envs/projet_AMAL/lib/python3.11/site-packages (from requests->transformers) (2023.11.17)\r\n",
      "\r\n",
      "\u001B[1m[\u001B[0m\u001B[34;49mnotice\u001B[0m\u001B[1;39;49m]\u001B[0m\u001B[39;49m A new release of pip is available: \u001B[0m\u001B[31;49m23.2.1\u001B[0m\u001B[39;49m -> \u001B[0m\u001B[32;49m23.3.2\u001B[0m\r\n",
      "\u001B[1m[\u001B[0m\u001B[34;49mnotice\u001B[0m\u001B[1;39;49m]\u001B[0m\u001B[39;49m To update, run: \u001B[0m\u001B[32;49mpip install --upgrade pip\u001B[0m\r\n",
      "Requirement already satisfied: torchmetrics in /Users/garance/.pyenv/versions/3.11.5/envs/projet_AMAL/lib/python3.11/site-packages (1.2.1)\r\n",
      "Requirement already satisfied: numpy>1.20.0 in /Users/garance/.pyenv/versions/3.11.5/envs/projet_AMAL/lib/python3.11/site-packages (from torchmetrics) (1.26.2)\r\n",
      "Requirement already satisfied: packaging>17.1 in /Users/garance/.pyenv/versions/3.11.5/envs/projet_AMAL/lib/python3.11/site-packages (from torchmetrics) (23.2)\r\n",
      "Requirement already satisfied: torch>=1.8.1 in /Users/garance/.pyenv/versions/3.11.5/envs/projet_AMAL/lib/python3.11/site-packages (from torchmetrics) (2.1.0)\r\n",
      "Requirement already satisfied: lightning-utilities>=0.8.0 in /Users/garance/.pyenv/versions/3.11.5/envs/projet_AMAL/lib/python3.11/site-packages (from torchmetrics) (0.10.0)\r\n",
      "Requirement already satisfied: setuptools in /Users/garance/.pyenv/versions/3.11.5/envs/projet_AMAL/lib/python3.11/site-packages (from lightning-utilities>=0.8.0->torchmetrics) (65.5.0)\r\n",
      "Requirement already satisfied: typing-extensions in /Users/garance/.pyenv/versions/3.11.5/envs/projet_AMAL/lib/python3.11/site-packages (from lightning-utilities>=0.8.0->torchmetrics) (4.9.0)\r\n",
      "Requirement already satisfied: filelock in /Users/garance/.pyenv/versions/3.11.5/envs/projet_AMAL/lib/python3.11/site-packages (from torch>=1.8.1->torchmetrics) (3.13.1)\r\n",
      "Requirement already satisfied: sympy in /Users/garance/.pyenv/versions/3.11.5/envs/projet_AMAL/lib/python3.11/site-packages (from torch>=1.8.1->torchmetrics) (1.12)\r\n",
      "Requirement already satisfied: networkx in /Users/garance/.pyenv/versions/3.11.5/envs/projet_AMAL/lib/python3.11/site-packages (from torch>=1.8.1->torchmetrics) (3.2.1)\r\n",
      "Requirement already satisfied: jinja2 in /Users/garance/.pyenv/versions/3.11.5/envs/projet_AMAL/lib/python3.11/site-packages (from torch>=1.8.1->torchmetrics) (2.11.2)\r\n",
      "Requirement already satisfied: fsspec in /Users/garance/.pyenv/versions/3.11.5/envs/projet_AMAL/lib/python3.11/site-packages (from torch>=1.8.1->torchmetrics) (2023.12.2)\r\n",
      "Requirement already satisfied: MarkupSafe>=0.23 in /Users/garance/.pyenv/versions/3.11.5/envs/projet_AMAL/lib/python3.11/site-packages (from jinja2->torch>=1.8.1->torchmetrics) (2.0.1)\r\n",
      "Requirement already satisfied: mpmath>=0.19 in /Users/garance/.pyenv/versions/3.11.5/envs/projet_AMAL/lib/python3.11/site-packages (from sympy->torch>=1.8.1->torchmetrics) (1.3.0)\r\n",
      "\r\n",
      "\u001B[1m[\u001B[0m\u001B[34;49mnotice\u001B[0m\u001B[1;39;49m]\u001B[0m\u001B[39;49m A new release of pip is available: \u001B[0m\u001B[31;49m23.2.1\u001B[0m\u001B[39;49m -> \u001B[0m\u001B[32;49m23.3.2\u001B[0m\r\n",
      "\u001B[1m[\u001B[0m\u001B[34;49mnotice\u001B[0m\u001B[1;39;49m]\u001B[0m\u001B[39;49m To update, run: \u001B[0m\u001B[32;49mpip install --upgrade pip\u001B[0m\r\n",
      "2.1.0\n",
      "\r\n",
      "\u001B[1m[\u001B[0m\u001B[34;49mnotice\u001B[0m\u001B[1;39;49m]\u001B[0m\u001B[39;49m A new release of pip is available: \u001B[0m\u001B[31;49m23.2.1\u001B[0m\u001B[39;49m -> \u001B[0m\u001B[32;49m23.3.2\u001B[0m\r\n",
      "\u001B[1m[\u001B[0m\u001B[34;49mnotice\u001B[0m\u001B[1;39;49m]\u001B[0m\u001B[39;49m To update, run: \u001B[0m\u001B[32;49mpip install --upgrade pip\u001B[0m\r\n",
      "\r\n",
      "\u001B[1m[\u001B[0m\u001B[34;49mnotice\u001B[0m\u001B[1;39;49m]\u001B[0m\u001B[39;49m A new release of pip is available: \u001B[0m\u001B[31;49m23.2.1\u001B[0m\u001B[39;49m -> \u001B[0m\u001B[32;49m23.3.2\u001B[0m\r\n",
      "\u001B[1m[\u001B[0m\u001B[34;49mnotice\u001B[0m\u001B[1;39;49m]\u001B[0m\u001B[39;49m To update, run: \u001B[0m\u001B[32;49mpip install --upgrade pip\u001B[0m\r\n",
      "\r\n",
      "\u001B[1m[\u001B[0m\u001B[34;49mnotice\u001B[0m\u001B[1;39;49m]\u001B[0m\u001B[39;49m A new release of pip is available: \u001B[0m\u001B[31;49m23.2.1\u001B[0m\u001B[39;49m -> \u001B[0m\u001B[32;49m23.3.2\u001B[0m\r\n",
      "\u001B[1m[\u001B[0m\u001B[34;49mnotice\u001B[0m\u001B[1;39;49m]\u001B[0m\u001B[39;49m To update, run: \u001B[0m\u001B[32;49mpip install --upgrade pip\u001B[0m\r\n"
     ]
    }
   ],
   "source": [
    "!pip install import_ipynb\n",
    "!pip install -U -q PyDrive\n",
    "!pip install pytorch_pretrained_bert\n",
    "!pip install sparse\n",
    "!pip install transformers\n",
    "!pip install torchmetrics\n",
    "import os\n",
    "import torch\n",
    "os.environ['TORCH'] = torch.__version__\n",
    "print(torch.__version__)\n",
    "!pip install -q torch-scatter -f https://data.pyg.org/whl/torch-${TORCH}.html\n",
    "!pip install -q torch-sparse -f https://data.pyg.org/whl/torch-${TORCH}.html\n",
    "!pip install -q git+https://github.com/pyg-team/pytorch_geometric.git"
   ]
  },
  {
   "cell_type": "code",
   "execution_count": 2,
   "id": "39fd4fd9552085c2",
   "metadata": {
    "collapsed": false,
    "ExecuteTime": {
     "end_time": "2024-01-18T14:49:57.434648Z",
     "start_time": "2024-01-18T14:49:56.245502Z"
    }
   },
   "outputs": [
    {
     "name": "stdout",
     "output_type": "stream",
     "text": [
      "Requirement already satisfied: einops in /Users/garance/.pyenv/versions/3.11.5/envs/projet_AMAL/lib/python3.11/site-packages (0.7.0)\r\n",
      "\r\n",
      "\u001B[1m[\u001B[0m\u001B[34;49mnotice\u001B[0m\u001B[1;39;49m]\u001B[0m\u001B[39;49m A new release of pip is available: \u001B[0m\u001B[31;49m23.2.1\u001B[0m\u001B[39;49m -> \u001B[0m\u001B[32;49m23.3.2\u001B[0m\r\n",
      "\u001B[1m[\u001B[0m\u001B[34;49mnotice\u001B[0m\u001B[1;39;49m]\u001B[0m\u001B[39;49m To update, run: \u001B[0m\u001B[32;49mpip install --upgrade pip\u001B[0m\r\n"
     ]
    }
   ],
   "source": [
    "!pip install einops"
   ]
  },
  {
   "cell_type": "code",
   "execution_count": 3,
   "id": "a6e0e82211314cd0",
   "metadata": {
    "collapsed": false,
    "ExecuteTime": {
     "end_time": "2024-01-18T14:50:00.537277Z",
     "start_time": "2024-01-18T14:49:57.436106Z"
    }
   },
   "outputs": [
    {
     "name": "stderr",
     "output_type": "stream",
     "text": [
      "/Users/garance/.pyenv/versions/3.11.5/envs/projet_AMAL/lib/python3.11/site-packages/torch_geometric/typing.py:63: UserWarning: An issue occurred while importing 'torch-scatter'. Disabling its usage. Stacktrace: dlopen(/Users/garance/.pyenv/versions/3.11.5/envs/projet_AMAL/lib/python3.11/site-packages/torch_scatter/_scatter_cpu.so, 0x0006): Symbol not found: __ZN5torch8autograd13_wrap_outputsERKNSt3__16vectorIN2at6TensorENS1_9allocatorIS4_EEEERKNS1_13unordered_setIPN3c1010TensorImplENS1_4hashISD_EENS1_8equal_toISD_EENS5_ISD_EEEESL_NSB_8ArrayRefINSB_8optionalIS4_EEEERKNS1_10shared_ptrINS0_4NodeEEENS1_8functionIFS7_S7_S7_EEE\n",
      "  Referenced from: <BEF9F452-9D77-323E-91B8-AF667F303838> /Users/garance/.pyenv/versions/3.11.5/envs/projet_AMAL/lib/python3.11/site-packages/torch_scatter/_scatter_cpu.so\n",
      "  Expected in:     <66FB8649-BB87-3CD6-A177-462038DCAE02> /Users/garance/.pyenv/versions/3.11.5/envs/projet_AMAL/lib/python3.11/site-packages/torch/lib/libtorch_cpu.dylib\n",
      "  warnings.warn(f\"An issue occurred while importing 'torch-scatter'. \"\n",
      "/Users/garance/.pyenv/versions/3.11.5/envs/projet_AMAL/lib/python3.11/site-packages/torch_geometric/typing.py:101: UserWarning: An issue occurred while importing 'torch-sparse'. Disabling its usage. Stacktrace: dlopen(/Users/garance/.pyenv/versions/3.11.5/envs/projet_AMAL/lib/python3.11/site-packages/torch_sparse/_spmm_cpu.so, 0x0006): Symbol not found: __ZN5torch8autograd13_wrap_outputsERKNSt3__16vectorIN2at6TensorENS1_9allocatorIS4_EEEERKNS1_13unordered_setIPN3c1010TensorImplENS1_4hashISD_EENS1_8equal_toISD_EENS5_ISD_EEEESL_NSB_8ArrayRefINSB_8optionalIS4_EEEERKNS1_10shared_ptrINS0_4NodeEEENS1_8functionIFS7_S7_S7_EEE\n",
      "  Referenced from: <4D05D979-F268-321D-A145-18B3BDA59213> /Users/garance/.pyenv/versions/3.11.5/envs/projet_AMAL/lib/python3.11/site-packages/torch_sparse/_spmm_cpu.so\n",
      "  Expected in:     <66FB8649-BB87-3CD6-A177-462038DCAE02> /Users/garance/.pyenv/versions/3.11.5/envs/projet_AMAL/lib/python3.11/site-packages/torch/lib/libtorch_cpu.dylib\n",
      "  warnings.warn(f\"An issue occurred while importing 'torch-sparse'. \"\n"
     ]
    }
   ],
   "source": [
    "# Authenticate and create the PyDrive client.\n",
    "# This only needs to be done once per notebook.\n",
    "\n",
    "import torch\n",
    "from torch_geometric.data import Data\n",
    "\n",
    "import numpy as np\n",
    "import sparse\n",
    "\n",
    "import torch.nn as nn\n",
    "import torch.nn.functional as F\n",
    "import torch_geometric.nn as tgmnn\n",
    "from torch_geometric.nn import global_mean_pool\n",
    "from torch_geometric.loader import DataListLoader as GraphLoader\n",
    "from torch_geometric.data import Batch\n",
    "\n",
    "from torch.nn import TransformerEncoder, TransformerEncoderLayer, TransformerDecoder, TransformerDecoderLayer\n",
    "import time\n",
    "from sklearn import preprocessing\n",
    "import math\n",
    "from torch.utils.data import Dataset\n",
    "import copy\n",
    "import sklearn.metrics as skm\n",
    "import pandas as pd\n",
    "import random\n",
    "from torch.utils.data.dataset import Dataset\n",
    "import pytorch_pretrained_bert as Bert\n",
    "import itertools\n",
    "from einops import rearrange, repeat\n",
    "\n",
    "import ast\n",
    "from typing import Optional, Tuple, Union\n",
    "from torch_geometric.nn.conv import MessagePassing\n",
    "from torch_geometric.nn.dense.linear import Linear\n",
    "from torch_geometric.typing import Adj, OptTensor, PairTensor, SparseTensor\n",
    "from torch_geometric.utils import softmax\n",
    "from torch_geometric.nn.conv import MessagePassing\n",
    "from torch_geometric.nn import LayerNorm\n",
    "import torch.nn.functional as F\n",
    "from torch import Tensor\n",
    "\n",
    "from sklearn.model_selection import ShuffleSplit\n",
    "import pickle\n",
    "from matplotlib import pyplot as plt\n",
    "from tqdm import tqdm"
   ]
  },
  {
   "cell_type": "markdown",
   "id": "1e631e9d8d333ec2",
   "metadata": {
    "collapsed": false
   },
   "source": [
    "#################################################### Importing Data ####################################################"
   ]
  },
  {
   "cell_type": "code",
   "execution_count": 4,
   "id": "a4b39c3e0ba85e77",
   "metadata": {
    "collapsed": false,
    "ExecuteTime": {
     "end_time": "2024-01-18T14:50:00.548091Z",
     "start_time": "2024-01-18T14:50:00.537642Z"
    }
   },
   "outputs": [
    {
     "data": {
      "text/plain": "'\\nchemin = \"../Tests_donnees/\"\\n\\n# ouvrir un fichier pickle en mode lecture\\nwith open(chemin + \"dic_global_reverse.pkl\", \"rb\") as fichier:\\n    mon_depickler = pickle.Unpickler(fichier)\\n    dic = mon_depickler.load()\\n    \\n#print(dic.keys())\\n\\nnb_nodes = len(dic)+5\\nprint(nb_nodes)\\n'"
     },
     "execution_count": 4,
     "metadata": {},
     "output_type": "execute_result"
    }
   ],
   "source": [
    "#######################################################################################################################################\n",
    "\n",
    "'''\n",
    "chemin = \"../Tests_donnees/\"\n",
    "\n",
    "# ouvrir un fichier pickle en mode lecture\n",
    "with open(chemin + \"dic_global_reverse.pkl\", \"rb\") as fichier:\n",
    "    mon_depickler = pickle.Unpickler(fichier)\n",
    "    dic = mon_depickler.load()\n",
    "    \n",
    "#print(dic.keys())\n",
    "\n",
    "nb_nodes = len(dic)+5\n",
    "print(nb_nodes)\n",
    "'''\n",
    "#######################################################################################################################################"
   ]
  },
  {
   "cell_type": "markdown",
   "id": "a93aef5aba8cac70",
   "metadata": {
    "collapsed": false
   },
   "source": [
    "#################################################### Defining classes ####################################################"
   ]
  },
  {
   "cell_type": "code",
   "execution_count": 5,
   "id": "4f4d4485cac2fe92",
   "metadata": {
    "collapsed": false,
    "ExecuteTime": {
     "end_time": "2024-01-18T14:50:00.548950Z",
     "start_time": "2024-01-18T14:50:00.546347Z"
    }
   },
   "outputs": [],
   "source": [
    "#######################################################################################################################################\n",
    "###################################################### Transformer Conv ###############################################################\n",
    "#######################################################################################################################################\n",
    "\n",
    "class TransformerConv(MessagePassing):\n",
    "    _alpha: OptTensor\n",
    "    def __init__(\n",
    "        self,\n",
    "        in_channels: Union[int, Tuple[int, int]],\n",
    "        out_channels: int,\n",
    "        heads: int = 1,\n",
    "        concat: bool = True,\n",
    "        beta: bool = False,\n",
    "        dropout: float = 0.,\n",
    "        edge_dim: Optional[int] = None,\n",
    "        bias: bool = True,\n",
    "        root_weight: bool = True,\n",
    "        **kwargs,\n",
    "    ):\n",
    "        kwargs.setdefault('aggr', 'add')\n",
    "        super().__init__(node_dim=0, **kwargs)\n",
    "\n",
    "        self.in_channels = in_channels\n",
    "        self.out_channels = out_channels\n",
    "        self.heads = heads\n",
    "        self.beta = beta and root_weight\n",
    "        self.root_weight = root_weight\n",
    "        self.concat = concat\n",
    "        self.dropout = dropout\n",
    "        self.edge_dim = edge_dim\n",
    "        self._alpha = None\n",
    "\n",
    "        if isinstance(in_channels, int):\n",
    "            in_channels = (in_channels, in_channels)\n",
    "\n",
    "        self.lin_key = Linear(in_channels[0], heads * out_channels)\n",
    "        self.lin_query = Linear(in_channels[1], heads * out_channels)\n",
    "        self.lin_value = Linear(in_channels[0], heads * out_channels)\n",
    "        self.layernorm1 = LayerNorm(out_channels)\n",
    "        self.layernorm2 = LayerNorm(out_channels)\n",
    "        self.gelu = nn.GELU()\n",
    "        self.proj = Linear(heads * out_channels, out_channels)\n",
    "        self.ffn = Linear(out_channels, out_channels)\n",
    "        self.ffn2 = Linear(out_channels, out_channels)\n",
    "        if edge_dim is not None:\n",
    "            self.lin_edge = Linear(edge_dim, heads * out_channels, bias=False)\n",
    "        else:\n",
    "            self.lin_edge = self.register_parameter('lin_edge', None)\n",
    "\n",
    "\n",
    "        self.reset_parameters()\n",
    "\n",
    "    def reset_parameters(self):\n",
    "        super().reset_parameters()\n",
    "        self.lin_key.reset_parameters()\n",
    "        self.lin_query.reset_parameters()\n",
    "        self.lin_value.reset_parameters()\n",
    "        if self.edge_dim:\n",
    "            self.lin_edge.reset_parameters()\n",
    "\n",
    "\n",
    "    def forward(self, x: Union[Tensor, PairTensor], edge_index: Adj,\n",
    "                edge_attr: OptTensor = None, batch=None, return_attention_weights=None):\n",
    "        # type: (Union[Tensor, PairTensor], Tensor, OptTensor, NoneType) -> Tensor  # noqa\n",
    "        # type: (Union[Tensor, PairTensor], SparseTensor, OptTensor, NoneType) -> Tensor  # noqa\n",
    "        # type: (Union[Tensor, PairTensor], Tensor, OptTensor, bool) -> Tuple[Tensor, Tuple[Tensor, Tensor]]  # noqa\n",
    "        # type: (Union[Tensor, PairTensor], Tensor, OptTensor, bool) -> Tuple[Tensor, Tuple[Tensor, Tensor]]  # noqa\n",
    "        # type: (Union[Tensor, PairTensor], SparseTensor, OptTensor, bool) -> Tuple[Tensor, SparseTensor]  # noqa\n",
    "        r\"\"\"Runs the forward pass of the module.\n",
    "\n",
    "        Args:\n",
    "            return_attention_weights (bool, optional): If set to :obj:`True`,\n",
    "                will additionally return the tuple\n",
    "                :obj:`(edge_index, attention_weights)`, holding the computed\n",
    "                attention weights for each edge. (default: :obj:`None`)\n",
    "        \"\"\"\n",
    "        H, C = self.heads, self.out_channels\n",
    "        residual = x\n",
    "        x = self.layernorm1(x, batch)\n",
    "        if isinstance(x, Tensor):\n",
    "            x: PairTensor = (x, x)\n",
    "        query = self.lin_query(x[1]).view(-1, H, C)\n",
    "        key = self.lin_key(x[0]).view(-1, H, C)\n",
    "        value = self.lin_value(x[0]).view(-1, H, C)\n",
    "        # propagate_type: (query: Tensor, key:Tensor, value: Tensor, edge_attr: OptTensor) # noqa\n",
    "        out = self.propagate(edge_index, query=query, key=key, value=value,\n",
    "                             edge_attr=edge_attr, size=None)\n",
    "        alpha = self._alpha\n",
    "        self._alpha = None\n",
    "        if self.concat:\n",
    "            out = self.proj(out.view(-1, self.heads * self.out_channels))\n",
    "        else:\n",
    "            out = out.mean(dim=1)\n",
    "        out = F.dropout(out, p=self.dropout, training=self.training)\n",
    "        out = out+residual\n",
    "        residual = out\n",
    "\n",
    "        out = self.layernorm2(out)\n",
    "        out = self.gelu(self.ffn(out))\n",
    "        out = F.dropout(out, p=self.dropout, training=self.training)\n",
    "        out = self.ffn2(out)\n",
    "        out = F.dropout(out, p=self.dropout, training=self.training)\n",
    "        out = out + residual\n",
    "        if isinstance(return_attention_weights, bool):\n",
    "            assert alpha is not None\n",
    "            if isinstance(edge_index, Tensor):\n",
    "                return out, (edge_index, alpha)\n",
    "            elif isinstance(edge_index, SparseTensor):\n",
    "                return out, edge_index.set_value(alpha, layout='coo')\n",
    "        else:\n",
    "            return out\n",
    "\n",
    "    def message(self, query_i: Tensor, key_j: Tensor, value_j: Tensor,\n",
    "                edge_attr: OptTensor, index: Tensor, ptr: OptTensor,\n",
    "                size_i: Optional[int]) -> Tensor:\n",
    "\n",
    "\n",
    "        if self.lin_edge is not None:\n",
    "            assert edge_attr is not None\n",
    "            edge_attr = self.lin_edge(edge_attr).view(-1, self.heads,\n",
    "                                                      self.out_channels)\n",
    "            key_j = key_j + edge_attr\n",
    "\n",
    "        alpha = (query_i * key_j).sum(dim=-1) / math.sqrt(self.out_channels)\n",
    "        alpha = softmax(alpha, index, ptr, size_i)\n",
    "        self._alpha = alpha\n",
    "        alpha = F.dropout(alpha, p=self.dropout, training=self.training)\n",
    "\n",
    "        out = value_j\n",
    "        if edge_attr is not None:\n",
    "            out = out + edge_attr\n",
    "\n",
    "        out = out * alpha.view(-1, self.heads, 1)\n",
    "        return out\n",
    "\n",
    "    def __repr__(self) -> str:\n",
    "        return (f'{self.__class__.__name__}({self.in_channels}, '\n",
    "                f'{self.out_channels}, heads={self.heads})')"
   ]
  },
  {
   "cell_type": "code",
   "execution_count": 6,
   "id": "f416b0d45c5ca51c",
   "metadata": {
    "collapsed": false,
    "ExecuteTime": {
     "end_time": "2024-01-18T14:50:00.551666Z",
     "start_time": "2024-01-18T14:50:00.550038Z"
    }
   },
   "outputs": [],
   "source": [
    "#######################################################################################################################################\n",
    "###################################################### Graph Transformer ###############################################################\n",
    "#######################################################################################################################################\n",
    "\n",
    "class GraphTransformer(torch.nn.Module):\n",
    "    def __init__(self, config):\n",
    "        super().__init__()\n",
    "        \n",
    "        self.transformerconv1 = TransformerConv(config.hidden_size // 5, config.hidden_size // 5, heads=2, edge_dim=config.hidden_size // 5, dropout=config.hidden_dropout_prob, concat=True)\n",
    "        self.transformerconv2 = TransformerConv(config.hidden_size // 5, config.hidden_size // 5, heads=2, edge_dim=config.hidden_size // 5, dropout=config.hidden_dropout_prob, concat=True)\n",
    "        self.transformerconv3 = TransformerConv(config.hidden_size // 5, config.hidden_size // 5, heads=2, edge_dim=config.hidden_size // 5, dropout=config.hidden_dropout_prob, concat=False)\n",
    "        \n",
    "        self.embed = nn.Embedding(config.vocab_size, config.hidden_size // 5) \n",
    "        self.embed_ee = nn.Embedding(config.node_attr_size, config.hidden_size // 5)\n",
    "                    \n",
    "\n",
    "    def forward(self, x, edge_index, edge_index_readout, edge_attr, batch):\n",
    "        #print(\"GT\")\n",
    "        indices = (x==0).nonzero().squeeze()\n",
    "        h_nodes = self.transformerconv1(x=self.embed(x), edge_index=edge_index, edge_attr=self.embed_ee(edge_attr), batch=batch)\n",
    "        h_nodes = nn.GELU()(h_nodes)\n",
    "        h_nodes = self.transformerconv2(x=h_nodes, edge_index=edge_index, edge_attr=self.embed_ee(edge_attr), batch=batch)\n",
    "        h_nodes = nn.GELU()(h_nodes)\n",
    "        h_nodes = self.transformerconv3(x=h_nodes, edge_index=edge_index, edge_attr=self.embed_ee(edge_attr), batch=batch)\n",
    "        x = h_nodes[indices]\n",
    "        return x, h_nodes"
   ]
  },
  {
   "cell_type": "code",
   "execution_count": 7,
   "id": "b2c6b6ff5ca752b7",
   "metadata": {
    "collapsed": false,
    "ExecuteTime": {
     "end_time": "2024-01-18T14:50:00.556410Z",
     "start_time": "2024-01-18T14:50:00.553126Z"
    }
   },
   "outputs": [],
   "source": [
    "#######################################################################################################################################\n",
    "######################################################## Bert Config ##################################################################\n",
    "#######################################################################################################################################\n",
    "\n",
    "class BertConfig(Bert.modeling.BertConfig):\n",
    "    def __init__(self, config):\n",
    "        super(BertConfig, self).__init__(\n",
    "            vocab_size_or_config_json_file=config.get('vocab_size'),\n",
    "            hidden_size=config['hidden_size'],\n",
    "            num_hidden_layers=config.get('num_hidden_layers'),\n",
    "            num_attention_heads=config.get('num_attention_heads'),\n",
    "            intermediate_size=config.get('intermediate_size'),\n",
    "            hidden_act=config.get('hidden_act'),\n",
    "            hidden_dropout_prob=config.get('hidden_dropout_prob'),\n",
    "            attention_probs_dropout_prob=config.get('attention_probs_dropout_prob'),\n",
    "            max_position_embeddings = config.get('max_position_embedding'),\n",
    "            initializer_range=config.get('initializer_range'),\n",
    "        )\n",
    "        self.age_vocab_size = config.get('age_vocab_size')\n",
    "        self.type_vocab_size = config.get('type_vocab_size')\n",
    "        self.time_vocab_size = config.get('time_vocab_size')\n",
    "        self.graph_dropout_prob = config.get('graph_dropout_prob')\n",
    "        self.node_attr_size = config.get('node_attr_size')\n",
    "        "
   ]
  },
  {
   "cell_type": "code",
   "execution_count": 8,
   "id": "8e7c1dd8",
   "metadata": {
    "ExecuteTime": {
     "end_time": "2024-01-18T14:50:00.557753Z",
     "start_time": "2024-01-18T14:50:00.555839Z"
    }
   },
   "outputs": [],
   "source": [
    "class Pre_training_1(nn.Module):\n",
    "    def __init__(self, config):\n",
    "        super(Pre_training_1, self).__init__()\n",
    "        self.config = config\n",
    "        self.gnn = GraphTransformer(config)\n",
    "        self.linear = nn.Linear(self.config.hidden_size // 5, self.config.vocab_size)\n",
    "        self.layers = nn.ModuleList([self.gnn, self.linear])\n",
    "\n",
    "    def forward(self, nodes, edge_index, edge_index_readout, edge_attr, batch):\n",
    "        # Define the forward pass using self.gnn and self.linear as needed\n",
    "        vst,x = self.gnn(nodes, edge_index, edge_index_readout, edge_attr, batch)\n",
    "        x = self.linear(x)\n",
    "        return x"
   ]
  },
  {
   "cell_type": "code",
   "execution_count": 9,
   "id": "e351bc79848c792a",
   "metadata": {
    "collapsed": false,
    "ExecuteTime": {
     "end_time": "2024-01-18T14:50:00.575885Z",
     "start_time": "2024-01-18T14:50:00.558408Z"
    }
   },
   "outputs": [],
   "source": [
    "#######################################################################################################################################\n",
    "############################################################ GDSet ####################################################################\n",
    "#######################################################################################################################################\n",
    "\n",
    "class GDSet(Dataset):\n",
    "    def __init__(self, g):\n",
    "        self.g = g\n",
    "\n",
    "    def __getitem__(self, index):\n",
    "\n",
    "        g = self.g[index]\n",
    "        for i in range(len(g)):\n",
    "          g[i]['posi_ids'] = i\n",
    "        return g\n",
    "\n",
    "    def __len__(self):\n",
    "        return len(self.g)"
   ]
  },
  {
   "cell_type": "markdown",
   "id": "af27382901bf1746",
   "metadata": {
    "collapsed": false
   },
   "source": [
    "#################################################### Importing Data ######################################################"
   ]
  },
  {
   "cell_type": "code",
   "outputs": [],
   "source": [
    "path = '../../data/'\n",
    "path_results = '../../results/'"
   ],
   "metadata": {
    "collapsed": false,
    "ExecuteTime": {
     "end_time": "2024-01-18T14:50:00.577373Z",
     "start_time": "2024-01-18T14:50:00.561280Z"
    }
   },
   "id": "532b044cc487cb7c",
   "execution_count": 10
  },
  {
   "cell_type": "code",
   "execution_count": 12,
   "id": "81192e04deabcfb9",
   "metadata": {
    "collapsed": false,
    "ExecuteTime": {
     "end_time": "2024-01-18T14:51:09.134488Z",
     "start_time": "2024-01-18T14:51:07.968476Z"
    }
   },
   "outputs": [],
   "source": [
    "with open(path + 'data_pad100.pkl', 'rb') as handle:\n",
    "    dataset = pickle.load(handle)"
   ]
  },
  {
   "cell_type": "markdown",
   "id": "d9db8d113daefd13",
   "metadata": {
    "collapsed": false
   },
   "source": [
    "##################################################### Splitting Data ######################################################"
   ]
  },
  {
   "cell_type": "code",
   "execution_count": 19,
   "id": "36bd142a2914b09e",
   "metadata": {
    "collapsed": false,
    "ExecuteTime": {
     "end_time": "2024-01-18T14:53:31.107168Z",
     "start_time": "2024-01-18T14:53:31.092333Z"
    }
   },
   "outputs": [],
   "source": [
    "#######################################################################################################################################\n",
    "pourcentage_nodes_to_mask = 0.15\n",
    "labels_masked_nodes = []\n",
    "mask_node_embeddings = 2"
   ]
  },
  {
   "cell_type": "code",
   "execution_count": 20,
   "id": "11f332815fae943e",
   "metadata": {
    "collapsed": false,
    "ExecuteTime": {
     "end_time": "2024-01-18T14:53:31.822022Z",
     "start_time": "2024-01-18T14:53:31.816874Z"
    }
   },
   "outputs": [],
   "source": [
    "def split_dataset(dataset, train_params, random_seed=1):\n",
    "  rs = ShuffleSplit(n_splits=1, test_size=train_params.get('test_split'), random_state=random_seed)\n",
    "\n",
    "  for i, (train_index_tmp, test_index) in enumerate(rs.split(dataset)):\n",
    "    rs2 = ShuffleSplit(n_splits=1, test_size=train_params.get('val_split'), random_state=random_seed)\n",
    "    \n",
    "    for j, (train_index, val_index) in enumerate(rs2.split(train_index_tmp)):\n",
    "      train_index = train_index_tmp[train_index]\n",
    "      val_index = train_index_tmp[val_index]\n",
    "      trainDSet = [dataset[x] for x in train_index]\n",
    "      valDSet = [dataset[x] for x in val_index]\n",
    "      testDSet = [dataset[x] for x in test_index]\n",
    "\n",
    "      return trainDSet, valDSet, testDSet"
   ]
  },
  {
   "cell_type": "markdown",
   "id": "55a004db21db04ce",
   "metadata": {
    "collapsed": false
   },
   "source": [
    "###################################################### Config Files ######################################################"
   ]
  },
  {
   "cell_type": "code",
   "execution_count": 34,
   "id": "c2724e7a55d6dadc",
   "metadata": {
    "collapsed": false,
    "ExecuteTime": {
     "end_time": "2024-01-18T14:55:43.934511Z",
     "start_time": "2024-01-18T14:55:43.919657Z"
    }
   },
   "outputs": [],
   "source": [
    "train_params = {\n",
    "    'batch_size': 5,\n",
    "    'max_len_seq': 50,\n",
    "    'device': \"cuda\" if torch.cuda.is_available() else (\"mps\" if torch.backends.mps.is_available() else \"cpu\"),\n",
    "    'data_len' : len(dataset),\n",
    "    'val_split' : 0.1,\n",
    "    'test_split' : 0.2,\n",
    "    'train_data_len' : int(0.9*0.8*len(dataset)),   # the train dataset is 90% of 80% of the whole dataset\n",
    "    'val_data_len' : int(0.1*0.8*len(dataset)),   # the validation dataset is 10% of 80% of the whole dataset\n",
    "    'test_data_len' : int(0.2*len(dataset)),   # the test dataset is 20% of the whole dataset\n",
    "    'epochs' : 20,\n",
    "    'lr': 0.0001,\n",
    "    'weight_decay': 0.0001\n",
    "}\n",
    "\n",
    "model_config = {\n",
    "    'vocab_size': 9405, # number of disease + symbols for word embedding (avec vst) + 1 for mask\n",
    "    'edge_relationship_size': 8, # number of vocab for edge_attr\n",
    "    'hidden_size': 50*5, # word embedding and seg embedding hidden size\n",
    "    'seg_vocab_size': 2, # number of vocab for seg embedding\n",
    "    'age_vocab_size': 151, # number of vocab for age embedding\n",
    "    'time_vocab_size': 380, # number of vocab for time embedding\n",
    "    'type_vocab_size': 11+1, # number of vocab for type embedding + 1 for mask\n",
    "    'node_attr_size': 8, # number of vocab for node_attr embedding\n",
    "    'num_labels':1,\n",
    "    'max_position_embedding': 50, # maximum number of tokens\n",
    "    'hidden_dropout_prob': 0.2, # dropout rate\n",
    "    'graph_dropout_prob': 0.2, # dropout rate\n",
    "    'num_hidden_layers': 6, # number of multi-head attention layers required\n",
    "    'num_attention_heads': 2, # number of attention heads\n",
    "    'attention_probs_dropout_prob': 0.2, # multi-head attention dropout rate\n",
    "    'intermediate_size': 512, # the size of the \"intermediate\" layer in the transformer encoder\n",
    "    'hidden_act': 'gelu', # The non-linear activation function in the encoder and the pooler \"gelu\", 'relu', 'swish' are supported\n",
    "    'initializer_range': 0.02, # parameter weight initializer range\n",
    "    'n_layers' : 3 - 1,\n",
    "    'alpha' : 0.1\n",
    "}"
   ]
  },
  {
   "cell_type": "markdown",
   "id": "2d4fe3f5c666bab2",
   "metadata": {
    "collapsed": false
   },
   "source": [
    "######################################################## CUDA ##########################################################"
   ]
  },
  {
   "cell_type": "code",
   "execution_count": 35,
   "id": "1c787c2405763db0",
   "metadata": {
    "collapsed": false,
    "ExecuteTime": {
     "end_time": "2024-01-18T14:55:44.447692Z",
     "start_time": "2024-01-18T14:55:44.441084Z"
    }
   },
   "outputs": [
    {
     "name": "stdout",
     "output_type": "stream",
     "text": [
      "device:  cpu\n"
     ]
    }
   ],
   "source": [
    "#os.environ['CUDA_LAUNCH_BLOCKING'] = \"1\"\n",
    "\n",
    "# print which device is used\n",
    "print('device: ', train_params['device'])"
   ]
  },
  {
   "cell_type": "markdown",
   "id": "7cb286a7f3cab35",
   "metadata": {
    "collapsed": false
   },
   "source": [
    "#################################################### Training Functions ####################################################"
   ]
  },
  {
   "cell_type": "code",
   "execution_count": 36,
   "id": "9900c235",
   "metadata": {
    "ExecuteTime": {
     "end_time": "2024-01-18T14:55:45.028363Z",
     "start_time": "2024-01-18T14:55:45.021131Z"
    }
   },
   "outputs": [
    {
     "name": "stdout",
     "output_type": "stream",
     "text": [
      "55\n",
      "<class 'list'>\n",
      "torch.Size([9405])\n"
     ]
    }
   ],
   "source": [
    "print(len(vars))\n",
    "print(type(vars))\n",
    "print(vars[-1].shape)"
   ]
  },
  {
   "cell_type": "code",
   "execution_count": 47,
   "id": "f469dbb0caa05f8e",
   "metadata": {
    "collapsed": false,
    "ExecuteTime": {
     "end_time": "2024-01-18T15:01:15.873514Z",
     "start_time": "2024-01-18T15:01:15.859370Z"
    }
   },
   "outputs": [],
   "source": [
    "def train(model, optim, trainload, device):\n",
    "    tr_loss = 0\n",
    "    start = time.time()\n",
    "    model.train()\n",
    "    \n",
    "    CE_loss = torch.nn.CrossEntropyLoss(ignore_index=3)\n",
    "    \n",
    "    for step, data in tqdm(enumerate(trainload)):\n",
    "        optim.zero_grad()\n",
    "\n",
    "        batched_data = Batch()\n",
    "        graph_batch = batched_data.from_data_list(list(itertools.chain.from_iterable(data)))\n",
    "        graph_batch = graph_batch.to(device)\n",
    "        nodes = graph_batch.x\n",
    "                \n",
    "        list_index = [i for i in range(nodes.shape[0])]\n",
    "        random.shuffle(list_index)\n",
    "        index_nodes_to_mask = list_index[:int((nodes.shape[0]) * pourcentage_nodes_to_mask)]\n",
    "        index_nodes_not_masked = list(set(list_index) - set(index_nodes_to_mask))\n",
    "        labels_nodes = nodes\n",
    "        ytrue = nodes\n",
    "\n",
    "        labels_nodes[index_nodes_not_masked] = 3\n",
    "        nodes[index_nodes_to_mask] = mask_node_embeddings\n",
    "        \n",
    "        edge_index = graph_batch.edge_index\n",
    "        edge_index_readout = graph_batch.edge_index\n",
    "        edge_attr = graph_batch.edge_attr\n",
    "        batch = graph_batch.batch\n",
    "\n",
    "        pred = model(nodes, edge_index, edge_index_readout, edge_attr, batch)\n",
    "        \n",
    "        loss = CE_loss(pred, labels_nodes)\n",
    "        loss.backward()\n",
    "        tr_loss += loss.item()\n",
    "        optim.step()\n",
    "\n",
    "        del loss\n",
    "\n",
    "    print(\"TOTAL TRAIN LOSS\", (tr_loss * train_params['batch_size']) / len(trainload))\n",
    "    cost = time.time() - start\n",
    "    return tr_loss, cost, pred,ytrue"
   ]
  },
  {
   "cell_type": "code",
   "execution_count": 48,
   "id": "98d4b3ccd3dccc1f",
   "metadata": {
    "collapsed": false,
    "ExecuteTime": {
     "end_time": "2024-01-18T15:01:16.011585Z",
     "start_time": "2024-01-18T15:01:16.008136Z"
    }
   },
   "outputs": [],
   "source": [
    "def eval(model, _valload, device):\n",
    "    tr_loss = 0\n",
    "    start = time.time()\n",
    "    model.eval()\n",
    "    CE_loss = torch.nn.CrossEntropyLoss(ignore_index=3)\n",
    "    \n",
    "    with torch.no_grad():\n",
    "        for step, data in tqdm(enumerate(_valload)):\n",
    "            batched_data = Batch()\n",
    "            graph_batch = batched_data.from_data_list(list(itertools.chain.from_iterable(data)))\n",
    "            graph_batch = graph_batch.to(device)\n",
    "            nodes = graph_batch.x\n",
    "                    \n",
    "            list_index = [i for i in range(nodes.shape[0])]\n",
    "            random.shuffle(list_index)\n",
    "            index_nodes_to_mask = list_index[:int((nodes.shape[0]) * pourcentage_nodes_to_mask)]\n",
    "            index_nodes_not_masked = list(set(list_index) - set(index_nodes_to_mask))\n",
    "            labels_nodes = nodes\n",
    "            ytrue = nodes\n",
    "            \n",
    "            labels_nodes[index_nodes_not_masked] = 3\n",
    "            nodes[index_nodes_to_mask] = mask_node_embeddings\n",
    "            \n",
    "            edge_index = graph_batch.edge_index\n",
    "            edge_index_readout = graph_batch.edge_index\n",
    "            edge_attr = graph_batch.edge_attr\n",
    "            batch = graph_batch.batch\n",
    "\n",
    "            pred = model(nodes, edge_index, edge_index_readout, edge_attr, batch)\n",
    "\n",
    "            loss = CE_loss(pred, labels_nodes)\n",
    "            tr_loss += loss.item()\n",
    "            \n",
    "            del loss\n",
    "\n",
    "    print(\"TOTAL EVAL LOSS\", (tr_loss * train_params['batch_size']) / len(_valload))\n",
    "\n",
    "    cost = time.time() - start\n",
    "    return tr_loss, cost, pred, ytrue"
   ]
  },
  {
   "cell_type": "code",
   "execution_count": 49,
   "id": "e74b020a899d96a8",
   "metadata": {
    "collapsed": false,
    "ExecuteTime": {
     "end_time": "2024-01-18T15:01:16.205277Z",
     "start_time": "2024-01-18T15:01:16.201835Z"
    }
   },
   "outputs": [],
   "source": [
    "def run_epoch(model, optim_model, trainload, valload, device, exp):\n",
    "    best_val = math.inf\n",
    "    loss_train_liste = []\n",
    "    loss_val_liste = []\n",
    "    \n",
    "    for e in tqdm(range(train_params[\"epochs\"])):\n",
    "        print(\"Epoch n\" + str(e))\n",
    "        train_loss, train_time_cost, pred_train, ytrue_train = train(model, optim_model, trainload, device)\n",
    "        val_loss, val_time_cost, pred_eval, ytrue_eval = eval(model, valload, device)\n",
    "        accuracy_train = skm.accuracy_score(ytrue_train.cpu().detach().numpy(), pred_train.cpu().detach().numpy().argmax(axis=1))\n",
    "        accuracy_eval = skm.accuracy_score(ytrue_eval.cpu().detach().numpy(), pred_eval.cpu().detach().numpy().argmax(axis=1))\n",
    "\n",
    "        train_loss = (train_loss * train_params['batch_size']) / len(trainload)\n",
    "        val_loss = (val_loss * train_params['batch_size']) / len(valload)\n",
    "        loss_train_liste.append(train_loss)\n",
    "        loss_val_liste.append(val_loss)\n",
    "        print('TRAIN \\t{} secs'.format(train_time_cost))\n",
    "        print(f'TRAIN accuracy : {accuracy_train}')\n",
    "        \n",
    "        with open(path_results + 'losses_and_times/' + \"pre_training_1_log_train_\" + f'{exp}' + \".txt\", 'a') as f:\n",
    "            f.write(\"Epoch n\" + str(e) + '\\n TRAIN {}\\t{} secs\\n'.format(train_loss, train_time_cost))\n",
    "            f.write('EVAL {}\\t{} secs\\n'.format(val_loss, val_time_cost) + '\\n\\n\\n')\n",
    "        print('EVAL \\t{} secs'.format(val_time_cost))\n",
    "        print('EVAL accuracy : {}\\n\\n'.format(accuracy_eval))\n",
    "        \n",
    "        if val_loss < best_val:\n",
    "            print(\"** ** * Saving fine - tuned model ** ** * \")\n",
    "            torch.save(model.gnn.state_dict(), path_results + 'weights/' + 'GraphTransformer_pretrain_1_num_' + f'{exp}' + '.pch')\n",
    "            best_val = val_loss\n",
    "            \n",
    "    epoch = [i for i in range(train_params[\"epochs\"])]\n",
    "    plt.plot(epoch, loss_train_liste)\n",
    "    plt.legend(['train'])\n",
    "    plt.plot(epoch,loss_val_liste)\n",
    "    plt.legend(['val'])\n",
    "    plt.xlabel('Epochs')\n",
    "    plt.ylabel('Loss')\n",
    "    plt.savefig(path_results + 'plots/' + 'Pre_training_1.png')\n",
    "    plt.show()\n",
    "\n",
    "    return train_loss, val_loss, accuracy_train, accuracy_eval, train_time_cost, val_time_cost"
   ]
  },
  {
   "cell_type": "markdown",
   "id": "9fedbac940be492c",
   "metadata": {
    "collapsed": false
   },
   "source": [
    "################################################### Experiences ####################################################"
   ]
  },
  {
   "cell_type": "code",
   "outputs": [],
   "source": [
    "def experiment(num_experiments=5):\n",
    "    conf = BertConfig(model_config)\n",
    "    df = pd.DataFrame(columns=['Experiment', 'Model', 'Metric', 'Score'])\n",
    "\n",
    "    for exp in tqdm(range(num_experiments)):\n",
    "        model = Pre_training_1(conf).to(train_params['device'])\n",
    "        transformer_vars = [i for i in model.parameters()]\n",
    "        optim_model = torch.optim.AdamW(transformer_vars, lr=train_params['lr'], weight_decay=train_params['weight_decay'])\n",
    "    \n",
    "        print(f\"\\n Experiment {exp + 1}\")\n",
    "        trainDSet, valDSet, testDSet = split_dataset(dataset, train_params, random_seed=exp)\n",
    "        trainload =  GraphLoader(GDSet(trainDSet), batch_size=train_params['batch_size'], shuffle=False) \n",
    "        valload =  GraphLoader(GDSet(valDSet), batch_size=train_params['batch_size'], shuffle=False)\n",
    "\n",
    "        #pretrain à ajouter ici\n",
    "        train_loss, val_loss, accuracy_train, accuracy_eval, train_time_cost, val_time_cost = run_epoch(model, optim_model, trainload, valload, train_params['device'], exp)\n",
    "\n",
    "        df.loc[len(df)] = [exp + 1, 'GT_BERT', 'Val Accuracy', accuracy_eval]\n",
    "        df.loc[len(df)] = [exp + 1, 'GT_BERT', 'Train Loss', train_loss]\n",
    "        df.loc[len(df)] = [exp + 1, 'GT_BERT', 'Val Loss', val_loss]\n",
    "        df.loc[len(df)] = [exp + 1, 'GT_BERT', 'Train Time', train_time_cost]\n",
    "        df.loc[len(df)] = [exp + 1, 'GT_BERT', 'Val Time', val_time_cost]\n",
    "        \n",
    "    df.to_csv(path_results + 'dataframes/' + 'GT_behrt_results_pretraining_1.csv')\n",
    "\n",
    "    return df"
   ],
   "metadata": {
    "collapsed": false,
    "ExecuteTime": {
     "end_time": "2024-01-18T15:08:55.405986Z",
     "start_time": "2024-01-18T15:08:55.393278Z"
    }
   },
   "id": "f0d104d43e45d3da",
   "execution_count": 58
  },
  {
   "cell_type": "markdown",
   "id": "d25222bec6977e32",
   "metadata": {
    "collapsed": false
   },
   "source": [
    "######################################################## Main #########################################################"
   ]
  },
  {
   "cell_type": "code",
   "outputs": [
    {
     "name": "stderr",
     "output_type": "stream",
     "text": [
      "  0%|          | 0/5 [00:00<?, ?it/s]\n",
      "  0%|          | 0/20 [00:00<?, ?it/s]\u001B[A\n",
      "\n",
      "0it [00:00, ?it/s]\u001B[A\u001B[A\n",
      "\n",
      "2it [00:00, 11.95it/s]\u001B[A\u001B[A"
     ]
    },
    {
     "name": "stdout",
     "output_type": "stream",
     "text": [
      "\n",
      " Experiment 1\n",
      "Epoch n0\n"
     ]
    },
    {
     "name": "stderr",
     "output_type": "stream",
     "text": [
      "\n",
      "\n",
      "4it [00:00, 12.22it/s]\u001B[A\u001B[A\n",
      "\n",
      "6it [00:00, 12.50it/s]\u001B[A\u001B[A\n",
      "\n",
      "8it [00:00, 12.24it/s]\u001B[A\u001B[A\n",
      "\n",
      "10it [00:00, 11.15it/s]\u001B[A\u001B[A\n",
      "\n",
      "12it [00:00, 12.44it/s]\u001B[A\u001B[A\n",
      "\n",
      "15it [00:01, 12.56it/s]\u001B[A\u001B[A\n",
      "\n",
      "\n",
      "2it [00:00, 43.79it/s][A\n",
      "\n",
      "  5%|▌         | 1/20 [00:01<00:23,  1.25s/it]\u001B[A\n",
      "\n",
      "0it [00:00, ?it/s]\u001B[A\u001B[A"
     ]
    },
    {
     "name": "stdout",
     "output_type": "stream",
     "text": [
      "TOTAL TRAIN LOSS 46.66626707712809\n",
      "TOTAL EVAL LOSS 44.56988573074341\n",
      "TRAIN \t1.1956050395965576 secs\n",
      "TRAIN accuracy : 0.0\n",
      "EVAL \t0.04672098159790039 secs\n",
      "EVAL accuracy : 0.0\n",
      "\n",
      "\n",
      "** ** * Saving fine - tuned model ** ** * \n",
      "Epoch n1\n"
     ]
    },
    {
     "name": "stderr",
     "output_type": "stream",
     "text": [
      "\n",
      "\n",
      "2it [00:00, 12.90it/s]\u001B[A\u001B[A\n",
      "\n",
      "4it [00:00, 12.88it/s]\u001B[A\u001B[A\n",
      "\n",
      "6it [00:00, 13.23it/s]\u001B[A\u001B[A\n",
      "\n",
      "8it [00:00, 13.22it/s]\u001B[A\u001B[A\n",
      "\n",
      "10it [00:00, 11.96it/s]\u001B[A\u001B[A\n",
      "\n",
      "12it [00:00, 13.27it/s]\u001B[A\u001B[A\n",
      "\n",
      "15it [00:01, 13.31it/s]\u001B[A\u001B[A\n",
      "\n",
      "\n",
      "2it [00:00, 46.35it/s][A\n",
      "\n",
      " 10%|█         | 2/20 [00:02<00:22,  1.23s/it]\u001B[A\n",
      "\n",
      "0it [00:00, ?it/s]\u001B[A\u001B[A\n",
      "\n",
      "2it [00:00, 14.14it/s]\u001B[A\u001B[A"
     ]
    },
    {
     "name": "stdout",
     "output_type": "stream",
     "text": [
      "TOTAL TRAIN LOSS 42.741459687550865\n",
      "TOTAL EVAL LOSS 40.62490940093994\n",
      "TRAIN \t1.1284098625183105 secs\n",
      "TRAIN accuracy : 0.0\n",
      "EVAL \t0.04413199424743652 secs\n",
      "EVAL accuracy : 0.004228329809725159\n",
      "\n",
      "\n",
      "** ** * Saving fine - tuned model ** ** * \n",
      "Epoch n2\n"
     ]
    },
    {
     "name": "stderr",
     "output_type": "stream",
     "text": [
      "\n",
      "\n",
      "4it [00:00, 14.24it/s]\u001B[A\u001B[A\n",
      "\n",
      "6it [00:00, 14.25it/s]\u001B[A\u001B[A\n",
      "\n",
      "8it [00:00, 13.83it/s]\u001B[A\u001B[A\n",
      "\n",
      "10it [00:00, 12.33it/s]\u001B[A\u001B[A\n",
      "\n",
      "12it [00:00, 13.67it/s]\u001B[A\u001B[A\n",
      "\n",
      "15it [00:01, 13.74it/s]\u001B[A\u001B[A\n",
      "\n",
      "\n",
      "2it [00:00, 38.22it/s][A\n",
      "\n",
      " 15%|█▌        | 3/20 [00:03<00:20,  1.21s/it]\u001B[A\n",
      "\n",
      "0it [00:00, ?it/s]\u001B[A\u001B[A\n",
      "\n",
      "1it [00:00,  9.72it/s]\u001B[A\u001B[A"
     ]
    },
    {
     "name": "stdout",
     "output_type": "stream",
     "text": [
      "TOTAL TRAIN LOSS 38.702775160471596\n",
      "TOTAL EVAL LOSS 36.803730726242065\n",
      "TRAIN \t1.0931439399719238 secs\n",
      "TRAIN accuracy : 0.06805708013172337\n",
      "EVAL \t0.05336189270019531 secs\n",
      "EVAL accuracy : 0.08668076109936575\n",
      "\n",
      "\n",
      "** ** * Saving fine - tuned model ** ** * \n",
      "Epoch n3\n"
     ]
    },
    {
     "name": "stderr",
     "output_type": "stream",
     "text": [
      "\n",
      "\n",
      "3it [00:00, 10.31it/s]\u001B[A\u001B[A\n",
      "\n",
      "5it [00:00, 11.08it/s]\u001B[A\u001B[A\n",
      "\n",
      "7it [00:00, 11.04it/s]\u001B[A\u001B[A\n",
      "\n",
      "9it [00:00, 11.30it/s]\u001B[A\u001B[A\n",
      "\n",
      "10it [00:00,  9.39it/s]\u001B[A\u001B[A\n",
      "\n",
      "12it [00:01, 10.58it/s]\u001B[A\u001B[A\n",
      "\n",
      "15it [00:01, 11.53it/s]\u001B[A\u001B[A\n",
      "\n",
      "\n",
      "2it [00:00, 34.60it/s][A\n",
      "\n",
      " 20%|██        | 4/20 [00:04<00:20,  1.25s/it]\u001B[A\n",
      "\n",
      "0it [00:00, ?it/s]\u001B[A\u001B[A"
     ]
    },
    {
     "name": "stdout",
     "output_type": "stream",
     "text": [
      "TOTAL TRAIN LOSS 34.3411029179891\n",
      "TOTAL EVAL LOSS 32.221983671188354\n",
      "TRAIN \t1.3022241592407227 secs\n",
      "TRAIN accuracy : 0.12623490669593854\n",
      "EVAL \t0.05901789665222168 secs\n",
      "EVAL accuracy : 0.09513742071881606\n",
      "\n",
      "\n",
      "** ** * Saving fine - tuned model ** ** * \n",
      "Epoch n4\n"
     ]
    },
    {
     "name": "stderr",
     "output_type": "stream",
     "text": [
      "\n",
      "\n",
      "2it [00:00, 12.42it/s]\u001B[A\u001B[A\n",
      "\n",
      "4it [00:00, 12.48it/s]\u001B[A\u001B[A\n",
      "\n",
      "6it [00:00, 12.62it/s]\u001B[A\u001B[A\n",
      "\n",
      "8it [00:00, 12.64it/s]\u001B[A\u001B[A\n",
      "\n",
      "10it [00:00, 11.59it/s]\u001B[A\u001B[A\n",
      "\n",
      "12it [00:00, 12.98it/s]\u001B[A\u001B[A\n",
      "\n",
      "15it [00:01, 12.78it/s]\u001B[A\u001B[A\n",
      "\n",
      "\n",
      "2it [00:00, 39.28it/s][A\n",
      "\n",
      " 25%|██▌       | 5/20 [00:06<00:18,  1.25s/it]\u001B[A\n",
      "\n",
      "0it [00:00, ?it/s]\u001B[A\u001B[A"
     ]
    },
    {
     "name": "stdout",
     "output_type": "stream",
     "text": [
      "TOTAL TRAIN LOSS 29.491711457570393\n",
      "TOTAL EVAL LOSS 26.53027653694153\n",
      "TRAIN \t1.1745448112487793 secs\n",
      "TRAIN accuracy : 0.132821075740944\n",
      "EVAL \t0.05192899703979492 secs\n",
      "EVAL accuracy : 0.09725158562367865\n",
      "\n",
      "\n",
      "** ** * Saving fine - tuned model ** ** * \n",
      "Epoch n5\n"
     ]
    },
    {
     "name": "stderr",
     "output_type": "stream",
     "text": [
      "\n",
      "\n",
      "2it [00:00, 12.99it/s]\u001B[A\u001B[A\n",
      "\n",
      "4it [00:00, 13.07it/s]\u001B[A\u001B[A\n",
      "\n",
      "6it [00:00, 13.55it/s]\u001B[A\u001B[A\n",
      "\n",
      "8it [00:00, 13.48it/s]\u001B[A\u001B[A\n",
      "\n",
      "10it [00:00, 12.09it/s]\u001B[A\u001B[A\n",
      "\n",
      "12it [00:00, 13.46it/s]\u001B[A\u001B[A\n",
      "\n",
      "15it [00:01, 13.53it/s]\u001B[A\u001B[A\n",
      "\n",
      "\n",
      "2it [00:00, 44.72it/s][A\n",
      "\n",
      " 30%|███       | 6/20 [00:07<00:17,  1.22s/it]\u001B[A\n",
      "\n",
      "0it [00:00, ?it/s]\u001B[A\u001B[A\n",
      "\n"
     ]
    },
    {
     "name": "stdout",
     "output_type": "stream",
     "text": [
      "TOTAL TRAIN LOSS 23.61563714345296\n",
      "TOTAL EVAL LOSS 22.250627279281616\n",
      "TRAIN \t1.1095857620239258 secs\n",
      "TRAIN accuracy : 0.12623490669593854\n",
      "EVAL \t0.0460200309753418 secs\n",
      "EVAL accuracy : 0.09725158562367865\n",
      "\n",
      "\n",
      "** ** * Saving fine - tuned model ** ** * \n",
      "Epoch n6\n"
     ]
    },
    {
     "name": "stderr",
     "output_type": "stream",
     "text": [
      "2it [00:00, 14.31it/s]\u001B[A\u001B[A\n",
      "\n",
      "4it [00:00, 14.48it/s]\u001B[A\u001B[A\n",
      "\n",
      "6it [00:00, 14.56it/s]\u001B[A\u001B[A\n",
      "\n",
      "8it [00:00, 14.04it/s]\u001B[A\u001B[A\n",
      "\n",
      "10it [00:00, 12.10it/s]\u001B[A\u001B[A\n",
      "\n",
      "12it [00:00, 13.44it/s]\u001B[A\u001B[A\n",
      "\n",
      "15it [00:01, 13.64it/s]\u001B[A\u001B[A\n",
      "\n",
      "\n",
      "2it [00:00, 41.40it/s][A\n",
      "\n",
      " 35%|███▌      | 7/20 [00:08<00:15,  1.21s/it]\u001B[A\n",
      "\n",
      "0it [00:00, ?it/s]\u001B[A\u001B[A\n",
      "\n",
      "2it [00:00, 14.21it/s]\u001B[A\u001B[A"
     ]
    },
    {
     "name": "stdout",
     "output_type": "stream",
     "text": [
      "TOTAL TRAIN LOSS 17.572065273920696\n",
      "TOTAL EVAL LOSS 14.683980345726013\n",
      "TRAIN \t1.1018798351287842 secs\n",
      "TRAIN accuracy : 0.13611416026344675\n",
      "EVAL \t0.049345970153808594 secs\n",
      "EVAL accuracy : 0.09936575052854123\n",
      "\n",
      "\n",
      "** ** * Saving fine - tuned model ** ** * \n",
      "Epoch n7\n"
     ]
    },
    {
     "name": "stderr",
     "output_type": "stream",
     "text": [
      "\n",
      "\n",
      "4it [00:00, 14.14it/s]\u001B[A\u001B[A\n",
      "\n",
      "6it [00:00, 13.90it/s]\u001B[A\u001B[A\n",
      "\n",
      "8it [00:00, 13.65it/s]\u001B[A\u001B[A\n",
      "\n",
      "10it [00:00, 12.14it/s]\u001B[A\u001B[A\n",
      "\n",
      "12it [00:00, 13.45it/s]\u001B[A\u001B[A\n",
      "\n",
      "15it [00:01, 13.55it/s]\u001B[A\u001B[A\n",
      "\n",
      "\n",
      "2it [00:00, 46.32it/s][A\n",
      "\n",
      " 40%|████      | 8/20 [00:09<00:14,  1.19s/it]\u001B[A\n",
      "\n",
      "0it [00:00, ?it/s]\u001B[A\u001B[A\n",
      "\n",
      "2it [00:00, 13.70it/s]\u001B[A\u001B[A"
     ]
    },
    {
     "name": "stdout",
     "output_type": "stream",
     "text": [
      "TOTAL TRAIN LOSS 13.792365312576294\n",
      "TOTAL EVAL LOSS 14.345632791519165\n",
      "TRAIN \t1.1081867218017578 secs\n",
      "TRAIN accuracy : 0.13721185510428102\n",
      "EVAL \t0.0441739559173584 secs\n",
      "EVAL accuracy : 0.09513742071881606\n",
      "\n",
      "\n",
      "** ** * Saving fine - tuned model ** ** * \n",
      "Epoch n8\n"
     ]
    },
    {
     "name": "stderr",
     "output_type": "stream",
     "text": [
      "\n",
      "\n",
      "4it [00:00, 13.69it/s]\u001B[A\u001B[A\n",
      "\n",
      "6it [00:00, 13.93it/s]\u001B[A\u001B[A\n",
      "\n",
      "8it [00:00, 13.58it/s]\u001B[A\u001B[A\n",
      "\n",
      "10it [00:00, 12.14it/s]\u001B[A\u001B[A\n",
      "\n",
      "12it [00:00, 13.44it/s]\u001B[A\u001B[A\n",
      "\n",
      "15it [00:01, 13.50it/s]\u001B[A\u001B[A\n",
      "\n",
      "\n",
      "2it [00:00, 45.82it/s][A\n",
      "\n",
      " 45%|████▌     | 9/20 [00:10<00:13,  1.18s/it]\u001B[A\n",
      "\n",
      "0it [00:00, ?it/s]\u001B[A\u001B[A\n",
      "\n",
      "2it [00:00, 14.04it/s]\u001B[A\u001B[A"
     ]
    },
    {
     "name": "stdout",
     "output_type": "stream",
     "text": [
      "TOTAL TRAIN LOSS 11.981176813443502\n",
      "TOTAL EVAL LOSS 13.722577095031738\n",
      "TRAIN \t1.112062931060791 secs\n",
      "TRAIN accuracy : 0.12952799121844127\n",
      "EVAL \t0.04470014572143555 secs\n",
      "EVAL accuracy : 0.08879492600422834\n",
      "\n",
      "\n",
      "** ** * Saving fine - tuned model ** ** * \n",
      "Epoch n9\n"
     ]
    },
    {
     "name": "stderr",
     "output_type": "stream",
     "text": [
      "\n",
      "\n",
      "4it [00:00, 14.17it/s]\u001B[A\u001B[A\n",
      "\n",
      "6it [00:00, 14.33it/s]\u001B[A\u001B[A\n",
      "\n",
      "8it [00:00, 14.00it/s]\u001B[A\u001B[A\n",
      "\n",
      "10it [00:00, 12.52it/s]\u001B[A\u001B[A\n",
      "\n",
      "12it [00:00, 13.91it/s]\u001B[A\u001B[A\n",
      "\n",
      "15it [00:01, 13.97it/s]\u001B[A\u001B[A\n",
      "\n",
      "\n",
      "2it [00:00, 48.83it/s][A\n",
      "\n",
      " 50%|█████     | 10/20 [00:11<00:11,  1.17s/it]\u001B[A\n",
      "\n",
      "0it [00:00, ?it/s]\u001B[A\u001B[A\n",
      "\n",
      "2it [00:00, 14.18it/s]\u001B[A\u001B[A"
     ]
    },
    {
     "name": "stdout",
     "output_type": "stream",
     "text": [
      "TOTAL TRAIN LOSS 10.400543491045633\n",
      "TOTAL EVAL LOSS 11.450195908546448\n",
      "TRAIN \t1.0749790668487549 secs\n",
      "TRAIN accuracy : 0.14050493962678376\n",
      "EVAL \t0.042112112045288086 secs\n",
      "EVAL accuracy : 0.14799154334038056\n",
      "\n",
      "\n",
      "** ** * Saving fine - tuned model ** ** * \n",
      "Epoch n10\n"
     ]
    },
    {
     "name": "stderr",
     "output_type": "stream",
     "text": [
      "\n",
      "\n",
      "4it [00:00, 14.17it/s]\u001B[A\u001B[A\n",
      "\n",
      "6it [00:00, 14.37it/s]\u001B[A\u001B[A\n",
      "\n",
      "8it [00:00, 14.15it/s]\u001B[A\u001B[A\n",
      "\n",
      "10it [00:00, 12.53it/s]\u001B[A\u001B[A\n",
      "\n",
      "12it [00:00, 13.86it/s]\u001B[A\u001B[A\n",
      "\n",
      "15it [00:01, 13.99it/s]\u001B[A\u001B[A\n",
      "\n",
      "\n",
      "2it [00:00, 44.35it/s][A\n",
      "\n",
      " 55%|█████▌    | 11/20 [00:13<00:10,  1.15s/it]\u001B[A\n",
      "\n",
      "0it [00:00, ?it/s]\u001B[A\u001B[A\n",
      "\n",
      "2it [00:00, 13.47it/s]\u001B[A\u001B[A"
     ]
    },
    {
     "name": "stdout",
     "output_type": "stream",
     "text": [
      "TOTAL TRAIN LOSS 10.21046131849289\n",
      "TOTAL EVAL LOSS 12.463950514793396\n",
      "TRAIN \t1.073462963104248 secs\n",
      "TRAIN accuracy : 0.14489571899012074\n",
      "EVAL \t0.04617190361022949 secs\n",
      "EVAL accuracy : 0.14799154334038056\n",
      "\n",
      "\n",
      "Epoch n11\n"
     ]
    },
    {
     "name": "stderr",
     "output_type": "stream",
     "text": [
      "\n",
      "\n",
      "4it [00:00, 13.60it/s]\u001B[A\u001B[A\n",
      "\n",
      "6it [00:00, 13.80it/s]\u001B[A\u001B[A\n",
      "\n",
      "8it [00:00, 13.63it/s]\u001B[A\u001B[A\n",
      "\n",
      "10it [00:00, 12.14it/s]\u001B[A\u001B[A\n",
      "\n",
      "12it [00:00, 13.38it/s]\u001B[A\u001B[A\n",
      "\n",
      "15it [00:01, 13.54it/s]\u001B[A\u001B[A\n",
      "\n",
      "\n",
      "2it [00:00, 47.53it/s][A\n",
      "\n",
      " 60%|██████    | 12/20 [00:14<00:09,  1.15s/it]\u001B[A\n",
      "\n",
      "0it [00:00, ?it/s]\u001B[A\u001B[A\n",
      "\n",
      "2it [00:00, 13.57it/s]\u001B[A\u001B[A"
     ]
    },
    {
     "name": "stdout",
     "output_type": "stream",
     "text": [
      "TOTAL TRAIN LOSS 9.760764499505362\n",
      "TOTAL EVAL LOSS 9.46729600429535\n",
      "TRAIN \t1.1085150241851807 secs\n",
      "TRAIN accuracy : 0.14818880351262348\n",
      "EVAL \t0.04308485984802246 secs\n",
      "EVAL accuracy : 0.14799154334038056\n",
      "\n",
      "\n",
      "** ** * Saving fine - tuned model ** ** * \n",
      "Epoch n12\n"
     ]
    },
    {
     "name": "stderr",
     "output_type": "stream",
     "text": [
      "\n",
      "\n",
      "4it [00:00, 13.71it/s]\u001B[A\u001B[A\n",
      "\n",
      "6it [00:00, 13.94it/s]\u001B[A\u001B[A\n",
      "\n",
      "8it [00:00, 13.71it/s]\u001B[A\u001B[A\n",
      "\n",
      "10it [00:00, 12.12it/s]\u001B[A\u001B[A\n",
      "\n",
      "12it [00:00, 13.43it/s]\u001B[A\u001B[A\n",
      "\n",
      "15it [00:01, 13.54it/s]\u001B[A\u001B[A\n",
      "\n",
      "\n",
      "2it [00:00, 41.20it/s][A\n",
      "\n",
      " 65%|██████▌   | 13/20 [00:15<00:08,  1.16s/it]\u001B[A\n",
      "\n",
      "0it [00:00, ?it/s]\u001B[A\u001B[A"
     ]
    },
    {
     "name": "stdout",
     "output_type": "stream",
     "text": [
      "TOTAL TRAIN LOSS 9.106687247753143\n",
      "TOTAL EVAL LOSS 10.194292962551117\n",
      "TRAIN \t1.1085340976715088 secs\n",
      "TRAIN accuracy : 0.14928649835345773\n",
      "EVAL \t0.049591064453125 secs\n",
      "EVAL accuracy : 0.14799154334038056\n",
      "\n",
      "\n",
      "Epoch n13\n"
     ]
    },
    {
     "name": "stderr",
     "output_type": "stream",
     "text": [
      "\n",
      "\n",
      "2it [00:00, 13.62it/s]\u001B[A\u001B[A\n",
      "\n",
      "4it [00:00, 13.91it/s]\u001B[A\u001B[A\n",
      "\n",
      "6it [00:00, 14.18it/s]\u001B[A\u001B[A\n",
      "\n",
      "8it [00:00, 13.90it/s]\u001B[A\u001B[A\n",
      "\n",
      "10it [00:00, 12.49it/s]\u001B[A\u001B[A\n",
      "\n",
      "12it [00:00, 13.73it/s]\u001B[A\u001B[A\n",
      "\n",
      "15it [00:01, 13.92it/s]\u001B[A\u001B[A\n",
      "\n",
      "\n",
      "2it [00:00, 44.98it/s][A\n",
      "\n",
      " 70%|███████   | 14/20 [00:16<00:06,  1.15s/it]\u001B[A\n",
      "\n",
      "0it [00:00, ?it/s]\u001B[A\u001B[A\n",
      "\n",
      "2it [00:00, 14.13it/s]\u001B[A\u001B[A"
     ]
    },
    {
     "name": "stdout",
     "output_type": "stream",
     "text": [
      "TOTAL TRAIN LOSS 8.038825869560242\n",
      "TOTAL EVAL LOSS 10.351517498493195\n",
      "TRAIN \t1.078531265258789 secs\n",
      "TRAIN accuracy : 0.14928649835345773\n",
      "EVAL \t0.04548978805541992 secs\n",
      "EVAL accuracy : 0.14799154334038056\n",
      "\n",
      "\n",
      "Epoch n14\n"
     ]
    },
    {
     "name": "stderr",
     "output_type": "stream",
     "text": [
      "\n",
      "\n",
      "4it [00:00, 14.22it/s]\u001B[A\u001B[A\n",
      "\n",
      "6it [00:00, 14.40it/s]\u001B[A\u001B[A\n",
      "\n",
      "8it [00:00, 14.08it/s]\u001B[A\u001B[A\n",
      "\n",
      "10it [00:00, 12.51it/s]\u001B[A\u001B[A\n",
      "\n",
      "12it [00:00, 13.85it/s]\u001B[A\u001B[A\n",
      "\n",
      "15it [00:01, 14.02it/s]\u001B[A\u001B[A\n",
      "\n",
      "\n",
      "2it [00:00, 48.36it/s][A\n",
      "\n",
      " 75%|███████▌  | 15/20 [00:17<00:05,  1.14s/it]\u001B[A\n",
      "\n",
      "0it [00:00, ?it/s]\u001B[A\u001B[A\n",
      "\n",
      "2it [00:00, 13.53it/s]\u001B[A\u001B[A"
     ]
    },
    {
     "name": "stdout",
     "output_type": "stream",
     "text": [
      "TOTAL TRAIN LOSS 7.597671627998352\n",
      "TOTAL EVAL LOSS 7.308380305767059\n",
      "TRAIN \t1.0713708400726318 secs\n",
      "TRAIN accuracy : 0.14928649835345773\n",
      "EVAL \t0.042320966720581055 secs\n",
      "EVAL accuracy : 0.14799154334038056\n",
      "\n",
      "\n",
      "** ** * Saving fine - tuned model ** ** * \n",
      "Epoch n15\n"
     ]
    },
    {
     "name": "stderr",
     "output_type": "stream",
     "text": [
      "\n",
      "\n",
      "4it [00:00, 13.70it/s]\u001B[A\u001B[A\n",
      "\n",
      "6it [00:00, 13.91it/s]\u001B[A\u001B[A\n",
      "\n",
      "8it [00:00, 13.68it/s]\u001B[A\u001B[A\n",
      "\n",
      "10it [00:00, 12.21it/s]\u001B[A\u001B[A\n",
      "\n",
      "12it [00:00, 13.56it/s]\u001B[A\u001B[A\n",
      "\n",
      "15it [00:01, 13.37it/s]\u001B[A\u001B[A\n",
      "\n",
      "\n",
      "2it [00:00, 36.69it/s][A\n",
      "\n",
      " 80%|████████  | 16/20 [00:18<00:04,  1.15s/it]\u001B[A\n",
      "\n",
      "0it [00:00, ?it/s]\u001B[A\u001B[A"
     ]
    },
    {
     "name": "stdout",
     "output_type": "stream",
     "text": [
      "TOTAL TRAIN LOSS 6.707571407159169\n",
      "TOTAL EVAL LOSS 6.568104922771454\n",
      "TRAIN \t1.1229820251464844 secs\n",
      "TRAIN accuracy : 0.14928649835345773\n",
      "EVAL \t0.05554914474487305 secs\n",
      "EVAL accuracy : 0.14799154334038056\n",
      "\n",
      "\n",
      "** ** * Saving fine - tuned model ** ** * \n",
      "Epoch n16\n"
     ]
    },
    {
     "name": "stderr",
     "output_type": "stream",
     "text": [
      "\n",
      "\n",
      "2it [00:00, 12.43it/s]\u001B[A\u001B[A\n",
      "\n",
      "4it [00:00, 12.48it/s]\u001B[A\u001B[A\n",
      "\n",
      "6it [00:00, 12.74it/s]\u001B[A\u001B[A\n",
      "\n",
      "8it [00:00, 12.35it/s]\u001B[A\u001B[A\n",
      "\n",
      "10it [00:00, 11.24it/s]\u001B[A\u001B[A\n",
      "\n",
      "12it [00:00, 12.38it/s]\u001B[A\u001B[A\n",
      "\n",
      "15it [00:01, 12.30it/s]\u001B[A\u001B[A\n",
      "\n",
      "\n",
      "2it [00:00, 37.40it/s][A\n",
      "\n",
      " 85%|████████▌ | 17/20 [00:20<00:03,  1.19s/it]\u001B[A\n",
      "\n",
      "0it [00:00, ?it/s]\u001B[A\u001B[A"
     ]
    },
    {
     "name": "stdout",
     "output_type": "stream",
     "text": [
      "TOTAL TRAIN LOSS 5.449006060759227\n",
      "TOTAL EVAL LOSS 4.989313036203384\n",
      "TRAIN \t1.2207450866699219 secs\n",
      "TRAIN accuracy : 0.14928649835345773\n",
      "EVAL \t0.05453801155090332 secs\n",
      "EVAL accuracy : 0.14799154334038056\n",
      "\n",
      "\n",
      "** ** * Saving fine - tuned model ** ** * \n",
      "Epoch n17\n"
     ]
    },
    {
     "name": "stderr",
     "output_type": "stream",
     "text": [
      "\n",
      "\n",
      "2it [00:00, 12.66it/s]\u001B[A\u001B[A\n",
      "\n",
      "4it [00:00, 12.70it/s]\u001B[A\u001B[A\n",
      "\n",
      "6it [00:00, 12.71it/s]\u001B[A\u001B[A\n",
      "\n",
      "8it [00:00, 12.44it/s]\u001B[A\u001B[A\n",
      "\n",
      "10it [00:00, 11.12it/s]\u001B[A\u001B[A\n",
      "\n",
      "12it [00:00, 12.18it/s]\u001B[A\u001B[A\n",
      "\n",
      "15it [00:01, 12.25it/s]\u001B[A\u001B[A\n",
      "\n",
      "\n",
      "2it [00:00, 40.64it/s][A\n",
      "\n",
      " 90%|█████████ | 18/20 [00:21<00:02,  1.22s/it]\u001B[A\n",
      "\n",
      "0it [00:00, ?it/s]\u001B[A\u001B[A"
     ]
    },
    {
     "name": "stdout",
     "output_type": "stream",
     "text": [
      "TOTAL TRAIN LOSS 3.8704635302225747\n",
      "TOTAL EVAL LOSS 2.2202949970960617\n",
      "TRAIN \t1.2251310348510742 secs\n",
      "TRAIN accuracy : 0.14928649835345773\n",
      "EVAL \t0.0503239631652832 secs\n",
      "EVAL accuracy : 0.14799154334038056\n",
      "\n",
      "\n",
      "** ** * Saving fine - tuned model ** ** * \n",
      "Epoch n18\n"
     ]
    },
    {
     "name": "stderr",
     "output_type": "stream",
     "text": [
      "\n",
      "\n",
      "2it [00:00, 12.68it/s]\u001B[A\u001B[A\n",
      "\n",
      "4it [00:00, 12.80it/s]\u001B[A\u001B[A\n",
      "\n",
      "6it [00:00, 12.93it/s]\u001B[A\u001B[A\n",
      "\n",
      "8it [00:00, 12.58it/s]\u001B[A\u001B[A\n",
      "\n",
      "10it [00:00, 11.41it/s]\u001B[A\u001B[A\n",
      "\n",
      "12it [00:00, 12.51it/s]\u001B[A\u001B[A\n",
      "\n",
      "15it [00:01, 12.46it/s]\u001B[A\u001B[A\n",
      "\n",
      "\n",
      "2it [00:00, 36.54it/s][A\n",
      "\n",
      " 95%|█████████▌| 19/20 [00:22<00:01,  1.23s/it]\u001B[A\n",
      "\n",
      "0it [00:00, ?it/s]\u001B[A\u001B[A"
     ]
    },
    {
     "name": "stdout",
     "output_type": "stream",
     "text": [
      "TOTAL TRAIN LOSS 2.022865970929464\n",
      "TOTAL EVAL LOSS 0.45497456565499306\n",
      "TRAIN \t1.2050330638885498 secs\n",
      "TRAIN accuracy : 0.14928649835345773\n",
      "EVAL \t0.05585289001464844 secs\n",
      "EVAL accuracy : 0.14799154334038056\n",
      "\n",
      "\n",
      "** ** * Saving fine - tuned model ** ** * \n",
      "Epoch n19\n"
     ]
    },
    {
     "name": "stderr",
     "output_type": "stream",
     "text": [
      "\n",
      "\n",
      "2it [00:00, 13.69it/s]\u001B[A\u001B[A\n",
      "\n",
      "4it [00:00, 13.82it/s]\u001B[A\u001B[A\n",
      "\n",
      "6it [00:00, 13.94it/s]\u001B[A\u001B[A\n",
      "\n",
      "8it [00:00, 13.64it/s]\u001B[A\u001B[A\n",
      "\n",
      "10it [00:00, 12.22it/s]\u001B[A\u001B[A\n",
      "\n",
      "12it [00:00, 13.52it/s]\u001B[A\u001B[A\n",
      "\n",
      "15it [00:01, 13.64it/s]\u001B[A\u001B[A\n",
      "\n",
      "\n",
      "2it [00:00, 41.24it/s][A\n",
      "\n",
      "100%|██████████| 20/20 [00:23<00:00,  1.19s/it]\u001B[A\n"
     ]
    },
    {
     "name": "stdout",
     "output_type": "stream",
     "text": [
      "TOTAL TRAIN LOSS 0.739966860661904\n",
      "TOTAL EVAL LOSS 0.08467605570331216\n",
      "TRAIN \t1.100722074508667 secs\n",
      "TRAIN accuracy : 0.14928649835345773\n",
      "EVAL \t0.049577951431274414 secs\n",
      "EVAL accuracy : 0.14799154334038056\n",
      "\n",
      "\n",
      "** ** * Saving fine - tuned model ** ** * \n"
     ]
    },
    {
     "data": {
      "text/plain": "<Figure size 640x480 with 1 Axes>",
      "image/png": "[encoded data removed]"
     },
     "metadata": {},
     "output_type": "display_data"
    },
    {
     "name": "stderr",
     "output_type": "stream",
     "text": [
      " 20%|██        | 1/5 [00:23<01:35, 23.93s/it]\n",
      "  0%|          | 0/20 [00:00<?, ?it/s]\u001B[A\n",
      "\n",
      "0it [00:00, ?it/s]\u001B[A\u001B[A"
     ]
    },
    {
     "name": "stdout",
     "output_type": "stream",
     "text": [
      "\n",
      " Experiment 2\n",
      "Epoch n0\n"
     ]
    },
    {
     "name": "stderr",
     "output_type": "stream",
     "text": [
      "\n",
      "\n",
      "2it [00:00, 14.09it/s]\u001B[A\u001B[A\n",
      "\n",
      "4it [00:00, 14.82it/s]\u001B[A\u001B[A\n",
      "\n",
      "6it [00:00, 14.43it/s]\u001B[A\u001B[A\n",
      "\n",
      "8it [00:00, 14.92it/s]\u001B[A\u001B[A\n",
      "\n",
      "10it [00:00, 12.64it/s]\u001B[A\u001B[A\n",
      "\n",
      "12it [00:00, 13.19it/s]\u001B[A\u001B[A\n",
      "\n",
      "15it [00:01, 14.48it/s]\u001B[A\u001B[A\n",
      "\n",
      "\n",
      "2it [00:00, 44.47it/s][A\n",
      "\n",
      "  5%|▌         | 1/20 [00:01<00:20,  1.09s/it]\u001B[A\n",
      "\n",
      "0it [00:00, ?it/s]\u001B[A\u001B[A\n",
      "\n",
      "2it [00:00, 16.61it/s]\u001B[A\u001B[A"
     ]
    },
    {
     "name": "stdout",
     "output_type": "stream",
     "text": [
      "TOTAL TRAIN LOSS 46.80507246653239\n",
      "TOTAL EVAL LOSS 43.86143922805786\n",
      "TRAIN \t1.0371711254119873 secs\n",
      "TRAIN accuracy : 0.0\n",
      "EVAL \t0.0460209846496582 secs\n",
      "EVAL accuracy : 0.0\n",
      "\n",
      "\n",
      "** ** * Saving fine - tuned model ** ** * \n",
      "Epoch n1\n"
     ]
    },
    {
     "name": "stderr",
     "output_type": "stream",
     "text": [
      "\n",
      "\n",
      "4it [00:00, 16.72it/s]\u001B[A\u001B[A\n",
      "\n",
      "6it [00:00, 15.77it/s]\u001B[A\u001B[A\n",
      "\n",
      "8it [00:00, 16.01it/s]\u001B[A\u001B[A\n",
      "\n",
      "10it [00:00, 13.25it/s]\u001B[A\u001B[A\n",
      "\n",
      "12it [00:00, 13.67it/s]\u001B[A\u001B[A\n",
      "\n",
      "15it [00:00, 15.02it/s]\u001B[A\u001B[A\n",
      "\n",
      "\n",
      "2it [00:00, 45.24it/s][A\n",
      "\n",
      " 10%|█         | 2/20 [00:02<00:19,  1.08s/it]\u001B[A\n",
      "\n",
      "0it [00:00, ?it/s]\u001B[A\u001B[A\n",
      "\n",
      "2it [00:00, 14.75it/s]\u001B[A\u001B[A"
     ]
    },
    {
     "name": "stdout",
     "output_type": "stream",
     "text": [
      "TOTAL TRAIN LOSS 42.133727391560875\n",
      "TOTAL EVAL LOSS 39.22281742095947\n",
      "TRAIN \t0.9997639656066895 secs\n",
      "TRAIN accuracy : 0.0\n",
      "EVAL \t0.04517674446105957 secs\n",
      "EVAL accuracy : 0.0\n",
      "\n",
      "\n",
      "** ** * Saving fine - tuned model ** ** * \n",
      "Epoch n2\n"
     ]
    },
    {
     "name": "stderr",
     "output_type": "stream",
     "text": [
      "\n",
      "\n",
      "4it [00:00, 15.09it/s]\u001B[A\u001B[A\n",
      "\n",
      "6it [00:00, 14.68it/s]\u001B[A\u001B[A\n",
      "\n",
      "8it [00:00, 15.22it/s]\u001B[A\u001B[A\n",
      "\n",
      "10it [00:00, 13.04it/s]\u001B[A\u001B[A\n",
      "\n",
      "12it [00:00, 13.27it/s]\u001B[A\u001B[A\n",
      "\n",
      "15it [00:01, 14.56it/s]\u001B[A\u001B[A\n",
      "\n",
      "\n",
      "2it [00:00, 44.77it/s][A\n",
      "\n",
      " 15%|█▌        | 3/20 [00:03<00:18,  1.08s/it]\u001B[A\n",
      "\n",
      "0it [00:00, ?it/s]\u001B[A\u001B[A\n",
      "\n",
      "2it [00:00, 16.12it/s]\u001B[A\u001B[A"
     ]
    },
    {
     "name": "stdout",
     "output_type": "stream",
     "text": [
      "TOTAL TRAIN LOSS 37.7552596728007\n",
      "TOTAL EVAL LOSS 33.93115758895874\n",
      "TRAIN \t1.031480073928833 secs\n",
      "TRAIN accuracy : 0.06345177664974619\n",
      "EVAL \t0.04567599296569824 secs\n",
      "EVAL accuracy : 0.10583941605839416\n",
      "\n",
      "\n",
      "** ** * Saving fine - tuned model ** ** * \n",
      "Epoch n3\n"
     ]
    },
    {
     "name": "stderr",
     "output_type": "stream",
     "text": [
      "\n",
      "\n",
      "4it [00:00, 16.34it/s]\u001B[A\u001B[A\n",
      "\n",
      "6it [00:00, 15.42it/s]\u001B[A\u001B[A\n",
      "\n",
      "8it [00:00, 15.55it/s]\u001B[A\u001B[A\n",
      "\n",
      "10it [00:00, 13.06it/s]\u001B[A\u001B[A\n",
      "\n",
      "12it [00:00, 13.36it/s]\u001B[A\u001B[A\n",
      "\n",
      "15it [00:01, 14.64it/s]\u001B[A\u001B[A\n",
      "\n",
      "\n",
      "2it [00:00, 45.46it/s][A\n",
      "\n",
      " 20%|██        | 4/20 [00:04<00:17,  1.08s/it]\u001B[A\n",
      "\n",
      "0it [00:00, ?it/s]\u001B[A\u001B[A\n",
      "\n",
      "2it [00:00, 16.41it/s]\u001B[A\u001B[A"
     ]
    },
    {
     "name": "stdout",
     "output_type": "stream",
     "text": [
      "TOTAL TRAIN LOSS 33.17662111918131\n",
      "TOTAL EVAL LOSS 30.359779596328735\n",
      "TRAIN \t1.0252947807312012 secs\n",
      "TRAIN accuracy : 0.10152284263959391\n",
      "EVAL \t0.045056819915771484 secs\n",
      "EVAL accuracy : 0.10583941605839416\n",
      "\n",
      "\n",
      "** ** * Saving fine - tuned model ** ** * \n",
      "Epoch n4\n"
     ]
    },
    {
     "name": "stderr",
     "output_type": "stream",
     "text": [
      "\n",
      "\n",
      "4it [00:00, 16.48it/s]\u001B[A\u001B[A\n",
      "\n",
      "6it [00:00, 15.60it/s]\u001B[A\u001B[A\n",
      "\n",
      "8it [00:00, 15.83it/s]\u001B[A\u001B[A\n",
      "\n",
      "10it [00:00, 13.19it/s]\u001B[A\u001B[A\n",
      "\n",
      "12it [00:00, 13.44it/s]\u001B[A\u001B[A\n",
      "\n",
      "15it [00:01, 14.74it/s]\u001B[A\u001B[A\n",
      "\n",
      "\n",
      "2it [00:00, 45.98it/s][A\n",
      "\n",
      " 25%|██▌       | 5/20 [00:05<00:16,  1.08s/it]\u001B[A\n",
      "\n",
      "0it [00:00, ?it/s]\u001B[A\u001B[A\n",
      "\n",
      "2it [00:00, 16.27it/s]\u001B[A\u001B[A"
     ]
    },
    {
     "name": "stdout",
     "output_type": "stream",
     "text": [
      "TOTAL TRAIN LOSS 27.954294840494793\n",
      "TOTAL EVAL LOSS 23.889271020889282\n",
      "TRAIN \t1.0187861919403076 secs\n",
      "TRAIN accuracy : 0.10913705583756345\n",
      "EVAL \t0.04461407661437988 secs\n",
      "EVAL accuracy : 0.11131386861313869\n",
      "\n",
      "\n",
      "** ** * Saving fine - tuned model ** ** * \n",
      "Epoch n5\n"
     ]
    },
    {
     "name": "stderr",
     "output_type": "stream",
     "text": [
      "\n",
      "\n",
      "4it [00:00, 16.49it/s]\u001B[A\u001B[A\n",
      "\n",
      "6it [00:00, 15.60it/s]\u001B[A\u001B[A\n",
      "\n",
      "8it [00:00, 15.92it/s]\u001B[A\u001B[A\n",
      "\n",
      "10it [00:00, 13.26it/s]\u001B[A\u001B[A\n",
      "\n",
      "12it [00:00, 13.66it/s]\u001B[A\u001B[A\n",
      "\n",
      "15it [00:00, 15.06it/s]\u001B[A\u001B[A\n",
      "\n",
      "\n",
      "2it [00:00, 45.88it/s][A\n",
      "\n",
      " 30%|███       | 6/20 [00:06<00:14,  1.07s/it]\u001B[A\n",
      "\n",
      "0it [00:00, ?it/s]\u001B[A\u001B[A\n",
      "\n",
      "2it [00:00, 16.55it/s]\u001B[A\u001B[A"
     ]
    },
    {
     "name": "stdout",
     "output_type": "stream",
     "text": [
      "TOTAL TRAIN LOSS 22.052766879399616\n",
      "TOTAL EVAL LOSS 16.425456404685974\n",
      "TRAIN \t0.9973301887512207 secs\n",
      "TRAIN accuracy : 0.09644670050761421\n",
      "EVAL \t0.0446321964263916 secs\n",
      "EVAL accuracy : 0.10948905109489052\n",
      "\n",
      "\n",
      "** ** * Saving fine - tuned model ** ** * \n",
      "Epoch n6\n"
     ]
    },
    {
     "name": "stderr",
     "output_type": "stream",
     "text": [
      "\n",
      "\n",
      "4it [00:00, 16.70it/s]\u001B[A\u001B[A\n",
      "\n",
      "6it [00:00, 15.81it/s]\u001B[A\u001B[A\n",
      "\n",
      "8it [00:00, 16.02it/s]\u001B[A\u001B[A\n",
      "\n",
      "10it [00:00, 13.37it/s]\u001B[A\u001B[A\n",
      "\n",
      "12it [00:00, 13.71it/s]\u001B[A\u001B[A\n",
      "\n",
      "15it [00:00, 15.02it/s]\u001B[A\u001B[A\n",
      "\n",
      "\n",
      "2it [00:00, 45.33it/s][A\n",
      "\n",
      " 35%|███▌      | 7/20 [00:07<00:13,  1.06s/it]\u001B[A\n",
      "\n",
      "0it [00:00, ?it/s]\u001B[A\u001B[A\n",
      "\n",
      "2it [00:00, 16.38it/s]\u001B[A\u001B[A"
     ]
    },
    {
     "name": "stdout",
     "output_type": "stream",
     "text": [
      "TOTAL TRAIN LOSS 16.002097368240356\n",
      "TOTAL EVAL LOSS 14.267222881317139\n",
      "TRAIN \t0.9999878406524658 secs\n",
      "TRAIN accuracy : 0.116751269035533\n",
      "EVAL \t0.04535984992980957 secs\n",
      "EVAL accuracy : 0.11131386861313869\n",
      "\n",
      "\n",
      "** ** * Saving fine - tuned model ** ** * \n",
      "Epoch n7\n"
     ]
    },
    {
     "name": "stderr",
     "output_type": "stream",
     "text": [
      "\n",
      "\n",
      "4it [00:00, 16.36it/s]\u001B[A\u001B[A\n",
      "\n",
      "6it [00:00, 15.52it/s]\u001B[A\u001B[A\n",
      "\n",
      "8it [00:00, 15.68it/s]\u001B[A\u001B[A\n",
      "\n",
      "10it [00:00, 13.03it/s]\u001B[A\u001B[A\n",
      "\n",
      "12it [00:00, 13.31it/s]\u001B[A\u001B[A\n",
      "\n",
      "15it [00:01, 14.69it/s]\u001B[A\u001B[A\n",
      "\n",
      "\n",
      "2it [00:00, 43.91it/s][A\n",
      "\n",
      " 40%|████      | 8/20 [00:08<00:12,  1.07s/it]\u001B[A\n",
      "\n",
      "0it [00:00, ?it/s]\u001B[A\u001B[A\n",
      "\n",
      "2it [00:00, 15.88it/s]\u001B[A\u001B[A"
     ]
    },
    {
     "name": "stdout",
     "output_type": "stream",
     "text": [
      "TOTAL TRAIN LOSS 13.244287729263306\n",
      "TOTAL EVAL LOSS 10.865206718444824\n",
      "TRAIN \t1.0218589305877686 secs\n",
      "TRAIN accuracy : 0.10913705583756345\n",
      "EVAL \t0.04659295082092285 secs\n",
      "EVAL accuracy : 0.11131386861313869\n",
      "\n",
      "\n",
      "** ** * Saving fine - tuned model ** ** * \n",
      "Epoch n8\n"
     ]
    },
    {
     "name": "stderr",
     "output_type": "stream",
     "text": [
      "\n",
      "\n",
      "4it [00:00, 15.98it/s]\u001B[A\u001B[A\n",
      "\n",
      "6it [00:00, 15.23it/s]\u001B[A\u001B[A\n",
      "\n",
      "8it [00:00, 15.44it/s]\u001B[A\u001B[A\n",
      "\n",
      "10it [00:00, 12.77it/s]\u001B[A\u001B[A\n",
      "\n",
      "12it [00:00, 13.02it/s]\u001B[A\u001B[A\n",
      "\n",
      "15it [00:01, 14.38it/s]\u001B[A\u001B[A\n",
      "\n",
      "\n",
      "2it [00:00, 40.98it/s][A\n",
      "\n",
      " 45%|████▌     | 9/20 [00:09<00:11,  1.08s/it]\u001B[A\n",
      "\n",
      "0it [00:00, ?it/s]\u001B[A\u001B[A\n",
      "\n",
      "2it [00:00, 15.16it/s]\u001B[A\u001B[A"
     ]
    },
    {
     "name": "stdout",
     "output_type": "stream",
     "text": [
      "TOTAL TRAIN LOSS 11.601018150647482\n",
      "TOTAL EVAL LOSS 11.314515471458435\n",
      "TRAIN \t1.043884038925171 secs\n",
      "TRAIN accuracy : 0.11928934010152284\n",
      "EVAL \t0.04992198944091797 secs\n",
      "EVAL accuracy : 0.14963503649635038\n",
      "\n",
      "\n",
      "Epoch n9\n"
     ]
    },
    {
     "name": "stderr",
     "output_type": "stream",
     "text": [
      "\n",
      "\n",
      "4it [00:00, 15.60it/s]\u001B[A\u001B[A\n",
      "\n",
      "6it [00:00, 14.99it/s]\u001B[A\u001B[A\n",
      "\n",
      "8it [00:00, 15.56it/s]\u001B[A\u001B[A\n",
      "\n",
      "10it [00:00, 12.90it/s]\u001B[A\u001B[A\n",
      "\n",
      "12it [00:00, 13.37it/s]\u001B[A\u001B[A\n",
      "\n",
      "15it [00:01, 14.73it/s]\u001B[A\u001B[A\n",
      "\n",
      "\n",
      "2it [00:00, 44.96it/s][A\n",
      "\n",
      " 50%|█████     | 10/20 [00:10<00:10,  1.07s/it]\u001B[A\n",
      "\n",
      "0it [00:00, ?it/s]\u001B[A\u001B[A\n",
      "\n",
      "2it [00:00, 16.44it/s]\u001B[A\u001B[A"
     ]
    },
    {
     "name": "stdout",
     "output_type": "stream",
     "text": [
      "TOTAL TRAIN LOSS 10.784161965052286\n",
      "TOTAL EVAL LOSS 11.10108733177185\n",
      "TRAIN \t1.0195379257202148 secs\n",
      "TRAIN accuracy : 0.14213197969543148\n",
      "EVAL \t0.04545426368713379 secs\n",
      "EVAL accuracy : 0.14963503649635038\n",
      "\n",
      "\n",
      "Epoch n10\n"
     ]
    },
    {
     "name": "stderr",
     "output_type": "stream",
     "text": [
      "\n",
      "\n",
      "4it [00:00, 16.55it/s]\u001B[A\u001B[A\n",
      "\n",
      "6it [00:00, 15.72it/s]\u001B[A\u001B[A\n",
      "\n",
      "8it [00:00, 15.98it/s]\u001B[A\u001B[A\n",
      "\n",
      "10it [00:00, 13.07it/s]\u001B[A\u001B[A\n",
      "\n",
      "12it [00:00, 13.53it/s]\u001B[A\u001B[A\n",
      "\n",
      "15it [00:01, 14.91it/s]\u001B[A\u001B[A\n",
      "\n",
      "\n",
      "2it [00:00, 43.39it/s][A\n",
      "\n",
      " 55%|█████▌    | 11/20 [00:11<00:09,  1.07s/it]\u001B[A\n",
      "\n",
      "0it [00:00, ?it/s]\u001B[A\u001B[A\n",
      "\n",
      "2it [00:00, 16.42it/s]\u001B[A\u001B[A"
     ]
    },
    {
     "name": "stdout",
     "output_type": "stream",
     "text": [
      "TOTAL TRAIN LOSS 10.142752468585968\n",
      "TOTAL EVAL LOSS 10.20673930644989\n",
      "TRAIN \t1.0074670314788818 secs\n",
      "TRAIN accuracy : 0.14213197969543148\n",
      "EVAL \t0.04720616340637207 secs\n",
      "EVAL accuracy : 0.14963503649635038\n",
      "\n",
      "\n",
      "** ** * Saving fine - tuned model ** ** * \n",
      "Epoch n11\n"
     ]
    },
    {
     "name": "stderr",
     "output_type": "stream",
     "text": [
      "\n",
      "\n",
      "4it [00:00, 16.57it/s]\u001B[A\u001B[A\n",
      "\n",
      "6it [00:00, 15.16it/s]\u001B[A\u001B[A\n",
      "\n",
      "8it [00:00, 14.63it/s]\u001B[A\u001B[A\n",
      "\n",
      "10it [00:00, 12.40it/s]\u001B[A\u001B[A\n",
      "\n",
      "12it [00:00, 12.83it/s]\u001B[A\u001B[A\n",
      "\n",
      "15it [00:01, 14.03it/s]\u001B[A\u001B[A\n",
      "\n",
      "\n",
      "2it [00:00, 44.02it/s][A\n",
      "\n",
      " 60%|██████    | 12/20 [00:12<00:08,  1.09s/it]\u001B[A\n",
      "\n",
      "0it [00:00, ?it/s]\u001B[A\u001B[A\n",
      "\n",
      "2it [00:00, 14.23it/s]\u001B[A\u001B[A"
     ]
    },
    {
     "name": "stdout",
     "output_type": "stream",
     "text": [
      "TOTAL TRAIN LOSS 9.48126651843389\n",
      "TOTAL EVAL LOSS 8.342151045799255\n",
      "TRAIN \t1.0699169635772705 secs\n",
      "TRAIN accuracy : 0.14974619289340102\n",
      "EVAL \t0.04643821716308594 secs\n",
      "EVAL accuracy : 0.14963503649635038\n",
      "\n",
      "\n",
      "** ** * Saving fine - tuned model ** ** * \n",
      "Epoch n12\n"
     ]
    },
    {
     "name": "stderr",
     "output_type": "stream",
     "text": [
      "\n",
      "\n",
      "4it [00:00, 14.52it/s]\u001B[A\u001B[A\n",
      "\n",
      "6it [00:00, 13.65it/s]\u001B[A\u001B[A\n",
      "\n",
      "8it [00:00, 13.72it/s]\u001B[A\u001B[A\n",
      "\n",
      "10it [00:00, 11.99it/s]\u001B[A\u001B[A\n",
      "\n",
      "12it [00:00, 12.46it/s]\u001B[A\u001B[A\n",
      "\n",
      "15it [00:01, 13.69it/s]\u001B[A\u001B[A\n",
      "\n",
      "\n",
      "2it [00:00, 45.62it/s][A\n",
      "\n",
      " 65%|██████▌   | 13/20 [00:14<00:07,  1.10s/it]\u001B[A\n",
      "\n",
      "0it [00:00, ?it/s]\u001B[A\u001B[A\n",
      "\n",
      "2it [00:00, 15.92it/s]\u001B[A\u001B[A"
     ]
    },
    {
     "name": "stdout",
     "output_type": "stream",
     "text": [
      "TOTAL TRAIN LOSS 8.978919903437296\n",
      "TOTAL EVAL LOSS 11.918681263923645\n",
      "TRAIN \t1.0965569019317627 secs\n",
      "TRAIN accuracy : 0.14974619289340102\n",
      "EVAL \t0.044873952865600586 secs\n",
      "EVAL accuracy : 0.14963503649635038\n",
      "\n",
      "\n",
      "Epoch n13\n"
     ]
    },
    {
     "name": "stderr",
     "output_type": "stream",
     "text": [
      "\n",
      "\n",
      "4it [00:00, 16.07it/s]\u001B[A\u001B[A\n",
      "\n",
      "6it [00:00, 15.27it/s]\u001B[A\u001B[A\n",
      "\n",
      "8it [00:00, 15.31it/s]\u001B[A\u001B[A\n",
      "\n",
      "10it [00:00, 12.94it/s]\u001B[A\u001B[A\n",
      "\n",
      "12it [00:00, 13.29it/s]\u001B[A\u001B[A\n",
      "\n",
      "15it [00:01, 14.66it/s]\u001B[A\u001B[A\n",
      "\n",
      "\n",
      "2it [00:00, 43.98it/s][A\n",
      "\n",
      " 70%|███████   | 14/20 [00:15<00:06,  1.10s/it]\u001B[A\n",
      "\n",
      "0it [00:00, ?it/s]\u001B[A\u001B[A\n",
      "\n",
      "2it [00:00, 16.75it/s]\u001B[A\u001B[A"
     ]
    },
    {
     "name": "stdout",
     "output_type": "stream",
     "text": [
      "TOTAL TRAIN LOSS 7.7652455766995745\n",
      "TOTAL EVAL LOSS 6.646959185600281\n",
      "TRAIN \t1.0241038799285889 secs\n",
      "TRAIN accuracy : 0.14974619289340102\n",
      "EVAL \t0.04660391807556152 secs\n",
      "EVAL accuracy : 0.14963503649635038\n",
      "\n",
      "\n",
      "** ** * Saving fine - tuned model ** ** * \n",
      "Epoch n14\n"
     ]
    },
    {
     "name": "stderr",
     "output_type": "stream",
     "text": [
      "\n",
      "\n",
      "4it [00:00, 16.76it/s]\u001B[A\u001B[A\n",
      "\n",
      "6it [00:00, 15.85it/s]\u001B[A\u001B[A\n",
      "\n",
      "8it [00:00, 16.09it/s]\u001B[A\u001B[A\n",
      "\n",
      "10it [00:00, 13.18it/s]\u001B[A\u001B[A\n",
      "\n",
      "12it [00:00, 13.60it/s]\u001B[A\u001B[A\n",
      "\n",
      "15it [00:01, 14.98it/s]\u001B[A\u001B[A\n",
      "\n",
      "\n",
      "2it [00:00, 45.27it/s][A\n",
      "\n",
      " 75%|███████▌  | 15/20 [00:16<00:05,  1.08s/it]\u001B[A\n",
      "\n",
      "0it [00:00, ?it/s]\u001B[A\u001B[A\n",
      "\n",
      "2it [00:00, 16.21it/s]\u001B[A\u001B[A"
     ]
    },
    {
     "name": "stdout",
     "output_type": "stream",
     "text": [
      "TOTAL TRAIN LOSS 6.766274551550548\n",
      "TOTAL EVAL LOSS 7.5613293051719666\n",
      "TRAIN \t1.002563238143921 secs\n",
      "TRAIN accuracy : 0.14974619289340102\n",
      "EVAL \t0.04536294937133789 secs\n",
      "EVAL accuracy : 0.14963503649635038\n",
      "\n",
      "\n",
      "Epoch n15\n"
     ]
    },
    {
     "name": "stderr",
     "output_type": "stream",
     "text": [
      "\n",
      "\n",
      "4it [00:00, 16.30it/s]\u001B[A\u001B[A\n",
      "\n",
      "6it [00:00, 14.90it/s]\u001B[A\u001B[A\n",
      "\n",
      "8it [00:00, 14.77it/s]\u001B[A\u001B[A\n",
      "\n",
      "10it [00:00, 12.23it/s]\u001B[A\u001B[A\n",
      "\n",
      "12it [00:00, 12.31it/s]\u001B[A\u001B[A\n",
      "\n",
      "15it [00:01, 13.65it/s]\u001B[A\u001B[A\n",
      "\n",
      "\n",
      "2it [00:00, 32.86it/s][A\n",
      "\n",
      " 80%|████████  | 16/20 [00:17<00:04,  1.11s/it]\u001B[A\n",
      "\n",
      "0it [00:00, ?it/s]\u001B[A\u001B[A"
     ]
    },
    {
     "name": "stdout",
     "output_type": "stream",
     "text": [
      "TOTAL TRAIN LOSS 5.2989503145217896\n",
      "TOTAL EVAL LOSS 4.3502214550971985\n",
      "TRAIN \t1.100161075592041 secs\n",
      "TRAIN accuracy : 0.14974619289340102\n",
      "EVAL \t0.061866044998168945 secs\n",
      "EVAL accuracy : 0.14963503649635038\n",
      "\n",
      "\n",
      "** ** * Saving fine - tuned model ** ** * \n",
      "Epoch n16\n"
     ]
    },
    {
     "name": "stderr",
     "output_type": "stream",
     "text": [
      "\n",
      "\n",
      "2it [00:00, 14.63it/s]\u001B[A\u001B[A\n",
      "\n",
      "4it [00:00, 14.47it/s]\u001B[A\u001B[A\n",
      "\n",
      "6it [00:00, 13.80it/s]\u001B[A\u001B[A\n",
      "\n",
      "8it [00:00, 13.72it/s]\u001B[A\u001B[A\n",
      "\n",
      "10it [00:00, 11.73it/s]\u001B[A\u001B[A\n",
      "\n",
      "12it [00:00, 11.96it/s]\u001B[A\u001B[A\n",
      "\n",
      "15it [00:01, 13.05it/s]\u001B[A\u001B[A\n",
      "\n",
      "\n",
      "2it [00:00, 35.56it/s][A\n",
      "\n",
      " 85%|████████▌ | 17/20 [00:18<00:03,  1.14s/it]\u001B[A\n",
      "\n",
      "0it [00:00, ?it/s]\u001B[A\u001B[A\n",
      "\n"
     ]
    },
    {
     "name": "stdout",
     "output_type": "stream",
     "text": [
      "TOTAL TRAIN LOSS 3.8624922831853232\n",
      "TOTAL EVAL LOSS 1.3174798712134361\n",
      "TRAIN \t1.150949239730835 secs\n",
      "TRAIN accuracy : 0.14974619289340102\n",
      "EVAL \t0.0573430061340332 secs\n",
      "EVAL accuracy : 0.14963503649635038\n",
      "\n",
      "\n",
      "** ** * Saving fine - tuned model ** ** * \n",
      "Epoch n17\n"
     ]
    },
    {
     "name": "stderr",
     "output_type": "stream",
     "text": [
      "2it [00:00, 14.88it/s]\u001B[A\u001B[A\n",
      "\n",
      "4it [00:00, 14.90it/s]\u001B[A\u001B[A\n",
      "\n",
      "6it [00:00, 13.91it/s]\u001B[A\u001B[A\n",
      "\n",
      "8it [00:00, 13.99it/s]\u001B[A\u001B[A\n",
      "\n",
      "10it [00:00, 11.97it/s]\u001B[A\u001B[A\n",
      "\n",
      "12it [00:00, 12.41it/s]\u001B[A\u001B[A\n",
      "\n",
      "15it [00:01, 13.64it/s]\u001B[A\u001B[A\n",
      "\n",
      "\n",
      "2it [00:00, 44.31it/s][A\n",
      "\n",
      " 90%|█████████ | 18/20 [00:19<00:02,  1.14s/it]\u001B[A\n",
      "\n",
      "0it [00:00, ?it/s]\u001B[A\u001B[A\n",
      "\n",
      "2it [00:00, 15.97it/s]\u001B[A\u001B[A"
     ]
    },
    {
     "name": "stdout",
     "output_type": "stream",
     "text": [
      "TOTAL TRAIN LOSS 1.6467783749103546\n",
      "TOTAL EVAL LOSS 0.17784258350729942\n",
      "TRAIN \t1.1010031700134277 secs\n",
      "TRAIN accuracy : 0.14974619289340102\n",
      "EVAL \t0.04614710807800293 secs\n",
      "EVAL accuracy : 0.14963503649635038\n",
      "\n",
      "\n",
      "** ** * Saving fine - tuned model ** ** * \n",
      "Epoch n18\n"
     ]
    },
    {
     "name": "stderr",
     "output_type": "stream",
     "text": [
      "\n",
      "\n",
      "4it [00:00, 16.22it/s]\u001B[A\u001B[A\n",
      "\n",
      "6it [00:00, 15.52it/s]\u001B[A\u001B[A\n",
      "\n",
      "8it [00:00, 15.75it/s]\u001B[A\u001B[A\n",
      "\n",
      "10it [00:00, 13.15it/s]\u001B[A\u001B[A\n",
      "\n",
      "12it [00:00, 13.50it/s]\u001B[A\u001B[A\n",
      "\n",
      "15it [00:01, 14.86it/s]\u001B[A\u001B[A\n",
      "\n",
      "\n",
      "2it [00:00, 44.35it/s][A\n",
      "\n",
      " 95%|█████████▌| 19/20 [00:20<00:01,  1.12s/it]\u001B[A\n",
      "\n",
      "0it [00:00, ?it/s]\u001B[A\u001B[A\n",
      "\n",
      "2it [00:00, 16.90it/s]\u001B[A\u001B[A"
     ]
    },
    {
     "name": "stdout",
     "output_type": "stream",
     "text": [
      "TOTAL TRAIN LOSS 0.5492898523807526\n",
      "TOTAL EVAL LOSS 0.024862757418304682\n",
      "TRAIN \t1.0101628303527832 secs\n",
      "TRAIN accuracy : 0.14974619289340102\n",
      "EVAL \t0.04611086845397949 secs\n",
      "EVAL accuracy : 0.14963503649635038\n",
      "\n",
      "\n",
      "** ** * Saving fine - tuned model ** ** * \n",
      "Epoch n19\n"
     ]
    },
    {
     "name": "stderr",
     "output_type": "stream",
     "text": [
      "\n",
      "\n",
      "4it [00:00, 16.78it/s]\u001B[A\u001B[A\n",
      "\n",
      "6it [00:00, 15.87it/s]\u001B[A\u001B[A\n",
      "\n",
      "8it [00:00, 16.00it/s]\u001B[A\u001B[A\n",
      "\n",
      "10it [00:00, 13.14it/s]\u001B[A\u001B[A\n",
      "\n",
      "12it [00:00, 13.46it/s]\u001B[A\u001B[A\n",
      "\n",
      "15it [00:01, 14.83it/s]\u001B[A\u001B[A\n",
      "\n",
      "\n",
      "2it [00:00, 44.72it/s][A\n",
      "\n",
      "100%|██████████| 20/20 [00:21<00:00,  1.09s/it]\u001B[A"
     ]
    },
    {
     "name": "stdout",
     "output_type": "stream",
     "text": [
      "TOTAL TRAIN LOSS 0.27452008922894794\n",
      "TOTAL EVAL LOSS 0.008118796395137906\n",
      "TRAIN \t1.0125880241394043 secs\n",
      "TRAIN accuracy : 0.14974619289340102\n",
      "EVAL \t0.04585909843444824 secs\n",
      "EVAL accuracy : 0.14963503649635038\n",
      "\n",
      "\n",
      "** ** * Saving fine - tuned model ** ** * \n"
     ]
    },
    {
     "name": "stderr",
     "output_type": "stream",
     "text": [
      "\n"
     ]
    },
    {
     "data": {
      "text/plain": "<Figure size 640x480 with 1 Axes>",
      "image/png": "[encoded data removed]"
     },
     "metadata": {},
     "output_type": "display_data"
    },
    {
     "name": "stderr",
     "output_type": "stream",
     "text": [
      " 40%|████      | 2/5 [00:45<01:09, 23.33s/it]\n",
      "  0%|          | 0/20 [00:00<?, ?it/s]\u001B[A\n",
      "\n",
      "0it [00:00, ?it/s]\u001B[A\u001B[A"
     ]
    },
    {
     "name": "stdout",
     "output_type": "stream",
     "text": [
      "\n",
      " Experiment 3\n",
      "Epoch n0\n"
     ]
    },
    {
     "name": "stderr",
     "output_type": "stream",
     "text": [
      "\n",
      "\n",
      "2it [00:00, 15.13it/s]\u001B[A\u001B[A\n",
      "\n",
      "4it [00:00, 13.36it/s]\u001B[A\u001B[A\n",
      "\n",
      "6it [00:00, 13.75it/s]\u001B[A\u001B[A\n",
      "\n",
      "8it [00:00, 13.93it/s]\u001B[A\u001B[A\n",
      "\n",
      "10it [00:00, 12.92it/s]\u001B[A\u001B[A\n",
      "\n",
      "12it [00:00, 13.27it/s]\u001B[A\u001B[A\n",
      "\n",
      "15it [00:01, 13.30it/s]\u001B[A\u001B[A\n",
      "\n",
      "\n",
      "2it [00:00, 35.27it/s][A\n",
      "\n",
      "  5%|▌         | 1/20 [00:01<00:22,  1.19s/it]\u001B[A\n",
      "\n",
      "0it [00:00, ?it/s]\u001B[A\u001B[A\n",
      "\n",
      "2it [00:00, 16.04it/s]\u001B[A\u001B[A"
     ]
    },
    {
     "name": "stdout",
     "output_type": "stream",
     "text": [
      "TOTAL TRAIN LOSS 41.97106170654297\n",
      "TOTAL EVAL LOSS 38.468698263168335\n",
      "TRAIN \t1.129133701324463 secs\n",
      "TRAIN accuracy : 0.007792207792207792\n",
      "EVAL \t0.057904958724975586 secs\n",
      "EVAL accuracy : 0.0\n",
      "\n",
      "\n",
      "** ** * Saving fine - tuned model ** ** * \n",
      "Epoch n1\n"
     ]
    },
    {
     "name": "stderr",
     "output_type": "stream",
     "text": [
      "\n",
      "\n",
      "4it [00:00, 13.93it/s]\u001B[A\u001B[A\n",
      "\n",
      "6it [00:00, 14.17it/s]\u001B[A\u001B[A\n",
      "\n",
      "8it [00:00, 14.34it/s]\u001B[A\u001B[A\n",
      "\n",
      "10it [00:00, 12.96it/s]\u001B[A\u001B[A\n",
      "\n",
      "12it [00:00, 13.12it/s]\u001B[A\u001B[A\n",
      "\n",
      "15it [00:01, 13.25it/s]\u001B[A\u001B[A\n",
      "\n",
      "\n",
      "2it [00:00, 32.50it/s][A\n",
      "\n",
      " 10%|█         | 2/20 [00:02<00:21,  1.20s/it]\u001B[A\n",
      "\n",
      "0it [00:00, ?it/s]\u001B[A\u001B[A\n",
      "\n",
      "2it [00:00, 15.98it/s]\u001B[A\u001B[A"
     ]
    },
    {
     "name": "stdout",
     "output_type": "stream",
     "text": [
      "TOTAL TRAIN LOSS 36.32455635070801\n",
      "TOTAL EVAL LOSS 33.30509305000305\n",
      "TRAIN \t1.1328246593475342 secs\n",
      "TRAIN accuracy : 0.08831168831168831\n",
      "EVAL \t0.06256818771362305 secs\n",
      "EVAL accuracy : 0.10437710437710437\n",
      "\n",
      "\n",
      "** ** * Saving fine - tuned model ** ** * \n",
      "Epoch n2\n"
     ]
    },
    {
     "name": "stderr",
     "output_type": "stream",
     "text": [
      "\n",
      "\n",
      "4it [00:00, 13.66it/s]\u001B[A\u001B[A\n",
      "\n",
      "6it [00:00, 13.98it/s]\u001B[A\u001B[A\n",
      "\n",
      "8it [00:00, 14.32it/s]\u001B[A\u001B[A\n",
      "\n",
      "10it [00:00, 13.00it/s]\u001B[A\u001B[A\n",
      "\n",
      "12it [00:00, 13.28it/s]\u001B[A\u001B[A\n",
      "\n",
      "15it [00:01, 13.31it/s]\u001B[A\u001B[A\n",
      "\n",
      "\n",
      "2it [00:00, 34.84it/s][A\n",
      "\n",
      " 15%|█▌        | 3/20 [00:03<00:20,  1.20s/it]\u001B[A\n",
      "\n",
      "0it [00:00, ?it/s]\u001B[A\u001B[A\n",
      "\n",
      "2it [00:00, 15.76it/s]\u001B[A\u001B[A"
     ]
    },
    {
     "name": "stdout",
     "output_type": "stream",
     "text": [
      "TOTAL TRAIN LOSS 30.912319501241047\n",
      "TOTAL EVAL LOSS 26.050947904586792\n",
      "TRAIN \t1.1277239322662354 secs\n",
      "TRAIN accuracy : 0.11168831168831168\n",
      "EVAL \t0.058502197265625 secs\n",
      "EVAL accuracy : 0.11616161616161616\n",
      "\n",
      "\n",
      "** ** * Saving fine - tuned model ** ** * \n",
      "Epoch n3\n"
     ]
    },
    {
     "name": "stderr",
     "output_type": "stream",
     "text": [
      "\n",
      "\n",
      "4it [00:00, 13.92it/s]\u001B[A\u001B[A\n",
      "\n",
      "6it [00:00, 14.40it/s]\u001B[A\u001B[A\n",
      "\n",
      "8it [00:00, 14.82it/s]\u001B[A\u001B[A\n",
      "\n",
      "10it [00:00, 13.42it/s]\u001B[A\u001B[A\n",
      "\n",
      "12it [00:00, 13.60it/s]\u001B[A\u001B[A\n",
      "\n",
      "15it [00:01, 13.76it/s]\u001B[A\u001B[A\n",
      "\n",
      "\n",
      "2it [00:00, 34.52it/s][A\n",
      "\n",
      " 20%|██        | 4/20 [00:04<00:18,  1.18s/it]\u001B[A\n",
      "\n",
      "0it [00:00, ?it/s]\u001B[A\u001B[A\n",
      "\n",
      "2it [00:00, 16.50it/s]\u001B[A\u001B[A"
     ]
    },
    {
     "name": "stdout",
     "output_type": "stream",
     "text": [
      "TOTAL TRAIN LOSS 25.43566433588664\n",
      "TOTAL EVAL LOSS 21.198471784591675\n",
      "TRAIN \t1.091257095336914 secs\n",
      "TRAIN accuracy : 0.11688311688311688\n",
      "EVAL \t0.05900216102600098 secs\n",
      "EVAL accuracy : 0.11784511784511785\n",
      "\n",
      "\n",
      "** ** * Saving fine - tuned model ** ** * \n",
      "Epoch n4\n"
     ]
    },
    {
     "name": "stderr",
     "output_type": "stream",
     "text": [
      "\n",
      "\n",
      "4it [00:00, 14.38it/s]\u001B[A\u001B[A\n",
      "\n",
      "6it [00:00, 14.67it/s]\u001B[A\u001B[A\n",
      "\n",
      "8it [00:00, 14.73it/s]\u001B[A\u001B[A\n",
      "\n",
      "10it [00:00, 13.33it/s]\u001B[A\u001B[A\n",
      "\n",
      "12it [00:00, 13.63it/s]\u001B[A\u001B[A\n",
      "\n",
      "15it [00:01, 13.83it/s]\u001B[A\u001B[A\n",
      "\n",
      "\n",
      "2it [00:00, 40.62it/s][A\n",
      "\n",
      " 25%|██▌       | 5/20 [00:05<00:17,  1.17s/it]\u001B[A\n",
      "\n",
      "0it [00:00, ?it/s]\u001B[A\u001B[A\n",
      "\n",
      "2it [00:00, 17.49it/s]\u001B[A\u001B[A"
     ]
    },
    {
     "name": "stdout",
     "output_type": "stream",
     "text": [
      "TOTAL TRAIN LOSS 18.96231508255005\n",
      "TOTAL EVAL LOSS 15.839400887489319\n",
      "TRAIN \t1.08577299118042 secs\n",
      "TRAIN accuracy : 0.0987012987012987\n",
      "EVAL \t0.05034184455871582 secs\n",
      "EVAL accuracy : 0.09932659932659933\n",
      "\n",
      "\n",
      "** ** * Saving fine - tuned model ** ** * \n",
      "Epoch n5\n"
     ]
    },
    {
     "name": "stderr",
     "output_type": "stream",
     "text": [
      "\n",
      "\n",
      "4it [00:00, 15.21it/s]\u001B[A\u001B[A\n",
      "\n",
      "6it [00:00, 15.54it/s]\u001B[A\u001B[A\n",
      "\n",
      "8it [00:00, 15.87it/s]\u001B[A\u001B[A\n",
      "\n",
      "10it [00:00, 14.31it/s]\u001B[A\u001B[A\n",
      "\n",
      "12it [00:00, 14.58it/s]\u001B[A\u001B[A\n",
      "\n",
      "15it [00:01, 14.63it/s]\u001B[A\u001B[A\n",
      "\n",
      "\n",
      "2it [00:00, 37.60it/s][A\n",
      "\n",
      " 30%|███       | 6/20 [00:06<00:16,  1.15s/it]\u001B[A\n",
      "\n",
      "0it [00:00, ?it/s]\u001B[A\u001B[A\n",
      "\n",
      "2it [00:00, 16.81it/s]\u001B[A\u001B[A"
     ]
    },
    {
     "name": "stdout",
     "output_type": "stream",
     "text": [
      "TOTAL TRAIN LOSS 13.753760973612467\n",
      "TOTAL EVAL LOSS 12.29174256324768\n",
      "TRAIN \t1.0263378620147705 secs\n",
      "TRAIN accuracy : 0.11688311688311688\n",
      "EVAL \t0.05423903465270996 secs\n",
      "EVAL accuracy : 0.10942760942760943\n",
      "\n",
      "\n",
      "** ** * Saving fine - tuned model ** ** * \n",
      "Epoch n6\n"
     ]
    },
    {
     "name": "stderr",
     "output_type": "stream",
     "text": [
      "\n",
      "\n",
      "4it [00:00, 14.82it/s]\u001B[A\u001B[A\n",
      "\n",
      "6it [00:00, 15.27it/s]\u001B[A\u001B[A\n",
      "\n",
      "8it [00:00, 15.53it/s]\u001B[A\u001B[A\n",
      "\n",
      "10it [00:00, 14.14it/s]\u001B[A\u001B[A\n",
      "\n",
      "12it [00:00, 14.45it/s]\u001B[A\u001B[A\n",
      "\n",
      "15it [00:01, 14.50it/s]\u001B[A\u001B[A\n",
      "\n",
      "\n",
      "2it [00:00, 40.17it/s][A\n",
      "\n",
      " 35%|███▌      | 7/20 [00:08<00:14,  1.13s/it]\u001B[A\n",
      "\n",
      "0it [00:00, ?it/s]\u001B[A\u001B[A\n",
      "\n",
      "2it [00:00, 16.86it/s]\u001B[A\u001B[A"
     ]
    },
    {
     "name": "stdout",
     "output_type": "stream",
     "text": [
      "TOTAL TRAIN LOSS 10.66380492846171\n",
      "TOTAL EVAL LOSS 9.874744415283203\n",
      "TRAIN \t1.0355300903320312 secs\n",
      "TRAIN accuracy : 0.14285714285714285\n",
      "EVAL \t0.05085611343383789 secs\n",
      "EVAL accuracy : 0.14983164983164984\n",
      "\n",
      "\n",
      "** ** * Saving fine - tuned model ** ** * \n",
      "Epoch n7\n"
     ]
    },
    {
     "name": "stderr",
     "output_type": "stream",
     "text": [
      "\n",
      "\n",
      "4it [00:00, 14.83it/s]\u001B[A\u001B[A\n",
      "\n",
      "6it [00:00, 15.31it/s]\u001B[A\u001B[A\n",
      "\n",
      "8it [00:00, 15.56it/s]\u001B[A\u001B[A\n",
      "\n",
      "10it [00:00, 14.06it/s]\u001B[A\u001B[A\n",
      "\n",
      "12it [00:00, 14.66it/s]\u001B[A\u001B[A\n",
      "\n",
      "15it [00:01, 14.80it/s]\u001B[A\u001B[A\n",
      "\n",
      "\n",
      "2it [00:00, 41.97it/s][A\n",
      "\n",
      " 40%|████      | 8/20 [00:09<00:13,  1.11s/it]\u001B[A\n",
      "\n",
      "0it [00:00, ?it/s]\u001B[A\u001B[A\n",
      "\n",
      "2it [00:00, 18.42it/s]\u001B[A\u001B[A"
     ]
    },
    {
     "name": "stdout",
     "output_type": "stream",
     "text": [
      "TOTAL TRAIN LOSS 9.975730617841085\n",
      "TOTAL EVAL LOSS 8.065358698368073\n",
      "TRAIN \t1.0144708156585693 secs\n",
      "TRAIN accuracy : 0.14805194805194805\n",
      "EVAL \t0.048689842224121094 secs\n",
      "EVAL accuracy : 0.14983164983164984\n",
      "\n",
      "\n",
      "** ** * Saving fine - tuned model ** ** * \n",
      "Epoch n8\n"
     ]
    },
    {
     "name": "stderr",
     "output_type": "stream",
     "text": [
      "\n",
      "\n",
      "4it [00:00, 16.03it/s]\u001B[A\u001B[A\n",
      "\n",
      "6it [00:00, 16.45it/s]\u001B[A\u001B[A\n",
      "\n",
      "8it [00:00, 16.76it/s]\u001B[A\u001B[A\n",
      "\n",
      "10it [00:00, 15.16it/s]\u001B[A\u001B[A\n",
      "\n",
      "12it [00:00, 15.45it/s]\u001B[A\u001B[A\n",
      "\n",
      "15it [00:00, 15.53it/s]\u001B[A\u001B[A\n",
      "\n",
      "\n",
      "2it [00:00, 41.69it/s][A\n",
      "\n",
      " 45%|████▌     | 9/20 [00:10<00:11,  1.08s/it]\u001B[A\n",
      "\n",
      "0it [00:00, ?it/s]\u001B[A\u001B[A\n",
      "\n",
      "2it [00:00, 18.12it/s]\u001B[A\u001B[A"
     ]
    },
    {
     "name": "stdout",
     "output_type": "stream",
     "text": [
      "TOTAL TRAIN LOSS 9.122588753700256\n",
      "TOTAL EVAL LOSS 9.000009298324585\n",
      "TRAIN \t0.9670252799987793 secs\n",
      "TRAIN accuracy : 0.14805194805194805\n",
      "EVAL \t0.04893612861633301 secs\n",
      "EVAL accuracy : 0.14983164983164984\n",
      "\n",
      "\n",
      "Epoch n9\n"
     ]
    },
    {
     "name": "stderr",
     "output_type": "stream",
     "text": [
      "\n",
      "\n",
      "4it [00:00, 15.70it/s]\u001B[A\u001B[A\n",
      "\n",
      "6it [00:00, 16.19it/s]\u001B[A\u001B[A\n",
      "\n",
      "8it [00:00, 16.60it/s]\u001B[A\u001B[A\n",
      "\n",
      "10it [00:00, 14.96it/s]\u001B[A\u001B[A\n",
      "\n",
      "12it [00:00, 15.32it/s]\u001B[A\u001B[A\n",
      "\n",
      "15it [00:00, 15.25it/s]\u001B[A\u001B[A\n",
      "\n",
      "\n",
      "2it [00:00, 39.15it/s][A\n",
      "\n",
      " 50%|█████     | 10/20 [00:11<00:10,  1.07s/it]\u001B[A\n",
      "\n",
      "0it [00:00, ?it/s]\u001B[A\u001B[A\n",
      "\n",
      "2it [00:00, 17.10it/s]\u001B[A\u001B[A"
     ]
    },
    {
     "name": "stdout",
     "output_type": "stream",
     "text": [
      "TOTAL TRAIN LOSS 8.329655210177103\n",
      "TOTAL EVAL LOSS 7.080985754728317\n",
      "TRAIN \t0.984745979309082 secs\n",
      "TRAIN accuracy : 0.14805194805194805\n",
      "EVAL \t0.0522921085357666 secs\n",
      "EVAL accuracy : 0.14983164983164984\n",
      "\n",
      "\n",
      "** ** * Saving fine - tuned model ** ** * \n",
      "Epoch n10\n"
     ]
    },
    {
     "name": "stderr",
     "output_type": "stream",
     "text": [
      "\n",
      "\n",
      "4it [00:00, 14.86it/s]\u001B[A\u001B[A\n",
      "\n",
      "6it [00:00, 15.43it/s]\u001B[A\u001B[A\n",
      "\n",
      "8it [00:00, 15.79it/s]\u001B[A\u001B[A\n",
      "\n",
      "10it [00:00, 14.19it/s]\u001B[A\u001B[A\n",
      "\n",
      "12it [00:00, 14.53it/s]\u001B[A\u001B[A\n",
      "\n",
      "15it [00:01, 14.69it/s]\u001B[A\u001B[A\n",
      "\n",
      "\n",
      "2it [00:00, 37.01it/s][A\n",
      "\n",
      " 55%|█████▌    | 11/20 [00:12<00:09,  1.07s/it]\u001B[A\n",
      "\n",
      "0it [00:00, ?it/s]\u001B[A\u001B[A\n",
      "\n",
      "2it [00:00, 16.97it/s]\u001B[A\u001B[A"
     ]
    },
    {
     "name": "stdout",
     "output_type": "stream",
     "text": [
      "TOTAL TRAIN LOSS 6.556345999240875\n",
      "TOTAL EVAL LOSS 7.123779654502869\n",
      "TRAIN \t1.0220420360565186 secs\n",
      "TRAIN accuracy : 0.14805194805194805\n",
      "EVAL \t0.05527091026306152 secs\n",
      "EVAL accuracy : 0.14983164983164984\n",
      "\n",
      "\n",
      "Epoch n11\n"
     ]
    },
    {
     "name": "stderr",
     "output_type": "stream",
     "text": [
      "\n",
      "\n",
      "4it [00:00, 14.84it/s]\u001B[A\u001B[A\n",
      "\n",
      "6it [00:00, 15.37it/s]\u001B[A\u001B[A\n",
      "\n",
      "8it [00:00, 15.70it/s]\u001B[A\u001B[A\n",
      "\n",
      "10it [00:00, 14.22it/s]\u001B[A\u001B[A\n",
      "\n",
      "12it [00:00, 14.43it/s]\u001B[A\u001B[A\n",
      "\n",
      "15it [00:01, 14.61it/s]\u001B[A\u001B[A\n",
      "\n",
      "\n",
      "2it [00:00, 43.10it/s][A\n",
      "\n",
      " 60%|██████    | 12/20 [00:13<00:08,  1.08s/it]\u001B[A\n",
      "\n",
      "0it [00:00, ?it/s]\u001B[A\u001B[A\n",
      "\n",
      "2it [00:00, 17.73it/s]\u001B[A\u001B[A"
     ]
    },
    {
     "name": "stdout",
     "output_type": "stream",
     "text": [
      "TOTAL TRAIN LOSS 5.70713084936142\n",
      "TOTAL EVAL LOSS 4.524761587381363\n",
      "TRAIN \t1.0276970863342285 secs\n",
      "TRAIN accuracy : 0.14805194805194805\n",
      "EVAL \t0.0477750301361084 secs\n",
      "EVAL accuracy : 0.14983164983164984\n",
      "\n",
      "\n",
      "** ** * Saving fine - tuned model ** ** * \n",
      "Epoch n12\n"
     ]
    },
    {
     "name": "stderr",
     "output_type": "stream",
     "text": [
      "\n",
      "\n",
      "4it [00:00, 15.60it/s]\u001B[A\u001B[A\n",
      "\n",
      "6it [00:00, 16.29it/s]\u001B[A\u001B[A\n",
      "\n",
      "8it [00:00, 16.53it/s]\u001B[A\u001B[A\n",
      "\n",
      "10it [00:00, 14.94it/s]\u001B[A\u001B[A\n",
      "\n",
      "12it [00:00, 15.26it/s]\u001B[A\u001B[A\n",
      "\n",
      "15it [00:00, 15.35it/s]\u001B[A\u001B[A\n",
      "\n",
      "\n",
      "2it [00:00, 42.62it/s][A\n",
      "\n",
      " 65%|██████▌   | 13/20 [00:14<00:07,  1.06s/it]\u001B[A\n",
      "\n",
      "0it [00:00, ?it/s]\u001B[A\u001B[A\n",
      "\n",
      "2it [00:00, 17.99it/s]\u001B[A\u001B[A"
     ]
    },
    {
     "name": "stdout",
     "output_type": "stream",
     "text": [
      "TOTAL TRAIN LOSS 4.510978241761525\n",
      "TOTAL EVAL LOSS 2.993261367082596\n",
      "TRAIN \t0.9785869121551514 secs\n",
      "TRAIN accuracy : 0.14805194805194805\n",
      "EVAL \t0.04795074462890625 secs\n",
      "EVAL accuracy : 0.14983164983164984\n",
      "\n",
      "\n",
      "** ** * Saving fine - tuned model ** ** * \n",
      "Epoch n13\n"
     ]
    },
    {
     "name": "stderr",
     "output_type": "stream",
     "text": [
      "\n",
      "\n",
      "4it [00:00, 15.81it/s]\u001B[A\u001B[A\n",
      "\n",
      "6it [00:00, 16.35it/s]\u001B[A\u001B[A\n",
      "\n",
      "8it [00:00, 16.59it/s]\u001B[A\u001B[A\n",
      "\n",
      "10it [00:00, 14.90it/s]\u001B[A\u001B[A\n",
      "\n",
      "12it [00:00, 15.02it/s]\u001B[A\u001B[A\n",
      "\n",
      "15it [00:01, 14.91it/s]\u001B[A\u001B[A\n",
      "\n",
      "\n",
      "2it [00:00, 34.14it/s][A\n",
      "\n",
      " 70%|███████   | 14/20 [00:15<00:06,  1.07s/it]\u001B[A\n",
      "\n",
      "0it [00:00, ?it/s]\u001B[A\u001B[A\n",
      "\n",
      "2it [00:00, 16.27it/s]\u001B[A\u001B[A"
     ]
    },
    {
     "name": "stdout",
     "output_type": "stream",
     "text": [
      "TOTAL TRAIN LOSS 3.0791505177815757\n",
      "TOTAL EVAL LOSS 1.073720045387745\n",
      "TRAIN \t1.007106065750122 secs\n",
      "TRAIN accuracy : 0.14805194805194805\n",
      "EVAL \t0.059577226638793945 secs\n",
      "EVAL accuracy : 0.14983164983164984\n",
      "\n",
      "\n",
      "** ** * Saving fine - tuned model ** ** * \n",
      "Epoch n14\n"
     ]
    },
    {
     "name": "stderr",
     "output_type": "stream",
     "text": [
      "\n",
      "\n",
      "4it [00:00, 14.12it/s]\u001B[A\u001B[A\n",
      "\n",
      "6it [00:00, 14.21it/s]\u001B[A\u001B[A\n",
      "\n",
      "8it [00:00, 14.16it/s]\u001B[A\u001B[A\n",
      "\n",
      "10it [00:00, 12.81it/s]\u001B[A\u001B[A\n",
      "\n",
      "12it [00:00, 13.16it/s]\u001B[A\u001B[A\n",
      "\n",
      "15it [00:01, 13.28it/s]\u001B[A\u001B[A\n",
      "\n",
      "\n",
      "2it [00:00, 36.52it/s][A\n",
      "\n",
      " 75%|███████▌  | 15/20 [00:16<00:05,  1.10s/it]\u001B[A\n",
      "\n",
      "0it [00:00, ?it/s]\u001B[A\u001B[A\n",
      "\n",
      "2it [00:00, 16.30it/s]\u001B[A\u001B[A"
     ]
    },
    {
     "name": "stdout",
     "output_type": "stream",
     "text": [
      "TOTAL TRAIN LOSS 1.4625537941853206\n",
      "TOTAL EVAL LOSS 0.19257624633610249\n",
      "TRAIN \t1.1302692890167236 secs\n",
      "TRAIN accuracy : 0.14805194805194805\n",
      "EVAL \t0.055831193923950195 secs\n",
      "EVAL accuracy : 0.14983164983164984\n",
      "\n",
      "\n",
      "** ** * Saving fine - tuned model ** ** * \n",
      "Epoch n15\n"
     ]
    },
    {
     "name": "stderr",
     "output_type": "stream",
     "text": [
      "\n",
      "\n",
      "4it [00:00, 13.94it/s]\u001B[A\u001B[A\n",
      "\n",
      "6it [00:00, 14.13it/s]\u001B[A\u001B[A\n",
      "\n",
      "8it [00:00, 14.35it/s]\u001B[A\u001B[A\n",
      "\n",
      "10it [00:00, 13.18it/s]\u001B[A\u001B[A\n",
      "\n",
      "12it [00:00, 13.21it/s]\u001B[A\u001B[A\n",
      "\n",
      "15it [00:01, 13.37it/s]\u001B[A\u001B[A\n",
      "\n",
      "\n",
      "2it [00:00, 34.32it/s][A\n",
      "\n",
      " 80%|████████  | 16/20 [00:17<00:04,  1.13s/it]\u001B[A\n",
      "\n",
      "0it [00:00, ?it/s]\u001B[A\u001B[A\n",
      "\n",
      "2it [00:00, 15.63it/s]\u001B[A\u001B[A"
     ]
    },
    {
     "name": "stdout",
     "output_type": "stream",
     "text": [
      "TOTAL TRAIN LOSS 0.6128897853195667\n",
      "TOTAL EVAL LOSS 0.044971752213314176\n",
      "TRAIN \t1.1233479976654053 secs\n",
      "TRAIN accuracy : 0.14805194805194805\n",
      "EVAL \t0.059345245361328125 secs\n",
      "EVAL accuracy : 0.14983164983164984\n",
      "\n",
      "\n",
      "** ** * Saving fine - tuned model ** ** * \n",
      "Epoch n16\n"
     ]
    },
    {
     "name": "stderr",
     "output_type": "stream",
     "text": [
      "\n",
      "\n",
      "4it [00:00, 13.69it/s]\u001B[A\u001B[A\n",
      "\n",
      "6it [00:00, 14.09it/s]\u001B[A\u001B[A\n",
      "\n",
      "8it [00:00, 14.33it/s]\u001B[A\u001B[A\n",
      "\n",
      "10it [00:00, 12.96it/s]\u001B[A\u001B[A\n",
      "\n",
      "12it [00:00, 13.40it/s]\u001B[A\u001B[A\n",
      "\n",
      "15it [00:01, 13.76it/s]\u001B[A\u001B[A\n",
      "\n",
      "\n",
      "2it [00:00, 43.48it/s][A\n",
      "\n",
      " 85%|████████▌ | 17/20 [00:18<00:03,  1.13s/it]\u001B[A\n",
      "\n",
      "0it [00:00, ?it/s]\u001B[A\u001B[A\n",
      "\n",
      "2it [00:00, 17.97it/s]\u001B[A\u001B[A"
     ]
    },
    {
     "name": "stdout",
     "output_type": "stream",
     "text": [
      "TOTAL TRAIN LOSS 0.2951223204533259\n",
      "TOTAL EVAL LOSS 0.014298855676315725\n",
      "TRAIN \t1.0917091369628906 secs\n",
      "TRAIN accuracy : 0.14805194805194805\n",
      "EVAL \t0.04717898368835449 secs\n",
      "EVAL accuracy : 0.14983164983164984\n",
      "\n",
      "\n",
      "** ** * Saving fine - tuned model ** ** * \n",
      "Epoch n17\n"
     ]
    },
    {
     "name": "stderr",
     "output_type": "stream",
     "text": [
      "\n",
      "\n",
      "4it [00:00, 15.76it/s]\u001B[A\u001B[A\n",
      "\n",
      "6it [00:00, 16.20it/s]\u001B[A\u001B[A\n",
      "\n",
      "8it [00:00, 16.49it/s]\u001B[A\u001B[A\n",
      "\n",
      "10it [00:00, 14.85it/s]\u001B[A\u001B[A\n",
      "\n",
      "12it [00:00, 15.25it/s]\u001B[A\u001B[A\n",
      "\n",
      "15it [00:00, 15.37it/s]\u001B[A\u001B[A\n",
      "\n",
      "\n",
      "2it [00:00, 43.10it/s][A\n",
      "\n",
      " 90%|█████████ | 18/20 [00:20<00:02,  1.10s/it]\u001B[A\n",
      "\n",
      "0it [00:00, ?it/s]\u001B[A\u001B[A\n",
      "\n",
      "2it [00:00, 17.07it/s]\u001B[A\u001B[A"
     ]
    },
    {
     "name": "stdout",
     "output_type": "stream",
     "text": [
      "TOTAL TRAIN LOSS 0.21100480078409115\n",
      "TOTAL EVAL LOSS 0.007066093385219574\n",
      "TRAIN \t0.9770407676696777 secs\n",
      "TRAIN accuracy : 0.14805194805194805\n",
      "EVAL \t0.04745316505432129 secs\n",
      "EVAL accuracy : 0.14983164983164984\n",
      "\n",
      "\n",
      "** ** * Saving fine - tuned model ** ** * \n",
      "Epoch n18\n"
     ]
    },
    {
     "name": "stderr",
     "output_type": "stream",
     "text": [
      "\n",
      "\n",
      "4it [00:00, 14.66it/s]\u001B[A\u001B[A\n",
      "\n",
      "6it [00:00, 14.69it/s]\u001B[A\u001B[A\n",
      "\n",
      "8it [00:00, 14.99it/s]\u001B[A\u001B[A\n",
      "\n",
      "10it [00:00, 13.46it/s]\u001B[A\u001B[A\n",
      "\n",
      "12it [00:00, 13.68it/s]\u001B[A\u001B[A\n",
      "\n",
      "15it [00:01, 13.72it/s]\u001B[A\u001B[A\n",
      "\n",
      "\n",
      "2it [00:00, 35.78it/s][A\n",
      "\n",
      " 95%|█████████▌| 19/20 [00:21<00:01,  1.12s/it]\u001B[A\n",
      "\n",
      "0it [00:00, ?it/s]\u001B[A\u001B[A\n",
      "\n",
      "2it [00:00, 16.26it/s]\u001B[A\u001B[A"
     ]
    },
    {
     "name": "stdout",
     "output_type": "stream",
     "text": [
      "TOTAL TRAIN LOSS 0.13969779883821806\n",
      "TOTAL EVAL LOSS 0.0036835248465649784\n",
      "TRAIN \t1.0942978858947754 secs\n",
      "TRAIN accuracy : 0.14805194805194805\n",
      "EVAL \t0.056982994079589844 secs\n",
      "EVAL accuracy : 0.14983164983164984\n",
      "\n",
      "\n",
      "** ** * Saving fine - tuned model ** ** * \n",
      "Epoch n19\n"
     ]
    },
    {
     "name": "stderr",
     "output_type": "stream",
     "text": [
      "\n",
      "\n",
      "4it [00:00, 13.91it/s]\u001B[A\u001B[A\n",
      "\n",
      "6it [00:00, 14.35it/s]\u001B[A\u001B[A\n",
      "\n",
      "8it [00:00, 14.69it/s]\u001B[A\u001B[A\n",
      "\n",
      "10it [00:00, 13.26it/s]\u001B[A\u001B[A\n",
      "\n",
      "12it [00:00, 13.32it/s]\u001B[A\u001B[A\n",
      "\n",
      "15it [00:01, 13.37it/s]\u001B[A\u001B[A\n",
      "\n",
      "\n",
      "2it [00:00, 35.26it/s][A\n",
      "\n",
      "100%|██████████| 20/20 [00:22<00:00,  1.12s/it]\u001B[A"
     ]
    },
    {
     "name": "stdout",
     "output_type": "stream",
     "text": [
      "TOTAL TRAIN LOSS 0.11524035936842363\n",
      "TOTAL EVAL LOSS 0.00264392961980775\n",
      "TRAIN \t1.123058795928955 secs\n",
      "TRAIN accuracy : 0.14805194805194805\n",
      "EVAL \t0.05784106254577637 secs\n",
      "EVAL accuracy : 0.14983164983164984\n",
      "\n",
      "\n",
      "** ** * Saving fine - tuned model ** ** * \n"
     ]
    },
    {
     "name": "stderr",
     "output_type": "stream",
     "text": [
      "\n"
     ]
    },
    {
     "data": {
      "text/plain": "<Figure size 640x480 with 1 Axes>",
      "image/png": "[encoded data removed]"
     },
     "metadata": {},
     "output_type": "display_data"
    },
    {
     "name": "stderr",
     "output_type": "stream",
     "text": [
      " 60%|██████    | 3/5 [01:08<00:46, 23.07s/it]\n",
      "  0%|          | 0/20 [00:00<?, ?it/s]\u001B[A\n",
      "\n",
      "0it [00:00, ?it/s]\u001B[A\u001B[A"
     ]
    },
    {
     "name": "stdout",
     "output_type": "stream",
     "text": [
      "\n",
      " Experiment 4\n",
      "Epoch n0\n"
     ]
    },
    {
     "name": "stderr",
     "output_type": "stream",
     "text": [
      "\n",
      "\n",
      "2it [00:00, 13.29it/s]\u001B[A\u001B[A\n",
      "\n",
      "4it [00:00, 13.01it/s]\u001B[A\u001B[A\n",
      "\n",
      "6it [00:00, 12.70it/s]\u001B[A\u001B[A\n",
      "\n",
      "8it [00:00, 12.94it/s]\u001B[A\u001B[A\n",
      "\n",
      "9it [00:00, 10.88it/s]\u001B[A\u001B[A\n",
      "\n",
      "11it [00:00, 11.49it/s]\u001B[A\u001B[A\n",
      "\n",
      "13it [00:01, 12.78it/s]\u001B[A\u001B[A\n",
      "\n",
      "15it [00:01, 12.65it/s]\u001B[A\u001B[A\n",
      "\n",
      "\n",
      "2it [00:00, 45.32it/s][A\n",
      "\n",
      "  5%|▌         | 1/20 [00:01<00:23,  1.24s/it]\u001B[A\n",
      "\n",
      "0it [00:00, ?it/s]\u001B[A\u001B[A\n",
      "\n",
      "2it [00:00, 16.88it/s]\u001B[A\u001B[A"
     ]
    },
    {
     "name": "stdout",
     "output_type": "stream",
     "text": [
      "TOTAL TRAIN LOSS 48.16927528381348\n",
      "TOTAL EVAL LOSS 45.53425073623657\n",
      "TRAIN \t1.1868698596954346 secs\n",
      "TRAIN accuracy : 0.0\n",
      "EVAL \t0.045156240463256836 secs\n",
      "EVAL accuracy : 0.0\n",
      "\n",
      "\n",
      "** ** * Saving fine - tuned model ** ** * \n",
      "Epoch n1\n"
     ]
    },
    {
     "name": "stderr",
     "output_type": "stream",
     "text": [
      "\n",
      "\n",
      "4it [00:00, 15.93it/s]\u001B[A\u001B[A\n",
      "\n",
      "6it [00:00, 15.34it/s]\u001B[A\u001B[A\n",
      "\n",
      "8it [00:00, 15.50it/s]\u001B[A\u001B[A\n",
      "\n",
      "10it [00:00, 13.39it/s]\u001B[A\u001B[A\n",
      "\n",
      "12it [00:00, 14.11it/s]\u001B[A\u001B[A\n",
      "\n",
      "15it [00:01, 13.90it/s]\u001B[A\u001B[A\n",
      "\n",
      "\n",
      "2it [00:00, 47.01it/s][A\n",
      "\n",
      " 10%|█         | 2/20 [00:02<00:21,  1.21s/it]\u001B[A\n",
      "\n",
      "0it [00:00, ?it/s]\u001B[A\u001B[A\n",
      "\n",
      "2it [00:00, 17.16it/s]\u001B[A\u001B[A"
     ]
    },
    {
     "name": "stdout",
     "output_type": "stream",
     "text": [
      "TOTAL TRAIN LOSS 43.650281270345054\n",
      "TOTAL EVAL LOSS 41.57576322555542\n",
      "TRAIN \t1.0799047946929932 secs\n",
      "TRAIN accuracy : 0.0\n",
      "EVAL \t0.04357576370239258 secs\n",
      "EVAL accuracy : 0.0\n",
      "\n",
      "\n",
      "** ** * Saving fine - tuned model ** ** * \n",
      "Epoch n2\n"
     ]
    },
    {
     "name": "stderr",
     "output_type": "stream",
     "text": [
      "\n",
      "\n",
      "4it [00:00, 16.12it/s]\u001B[A\u001B[A\n",
      "\n",
      "6it [00:00, 15.37it/s]\u001B[A\u001B[A\n",
      "\n",
      "8it [00:00, 15.47it/s]\u001B[A\u001B[A\n",
      "\n",
      "10it [00:00, 13.19it/s]\u001B[A\u001B[A\n",
      "\n",
      "12it [00:00, 13.86it/s]\u001B[A\u001B[A\n",
      "\n",
      "15it [00:01, 13.69it/s]\u001B[A\u001B[A\n",
      "\n",
      "\n",
      "2it [00:00, 49.20it/s][A\n",
      "\n",
      " 15%|█▌        | 3/20 [00:03<00:20,  1.19s/it]\u001B[A\n",
      "\n",
      "0it [00:00, ?it/s]\u001B[A\u001B[A\n",
      "\n",
      "2it [00:00, 16.67it/s]\u001B[A\u001B[A"
     ]
    },
    {
     "name": "stdout",
     "output_type": "stream",
     "text": [
      "TOTAL TRAIN LOSS 39.39311440785726\n",
      "TOTAL EVAL LOSS 36.98142766952515\n",
      "TRAIN \t1.0967950820922852 secs\n",
      "TRAIN accuracy : 0.03740648379052369\n",
      "EVAL \t0.04181218147277832 secs\n",
      "EVAL accuracy : 0.038901601830663615\n",
      "\n",
      "\n",
      "** ** * Saving fine - tuned model ** ** * \n",
      "Epoch n3\n"
     ]
    },
    {
     "name": "stderr",
     "output_type": "stream",
     "text": [
      "\n",
      "\n",
      "4it [00:00, 15.63it/s]\u001B[A\u001B[A\n",
      "\n",
      "6it [00:00, 14.81it/s]\u001B[A\u001B[A\n",
      "\n",
      "8it [00:00, 15.01it/s]\u001B[A\u001B[A\n",
      "\n",
      "10it [00:00, 12.92it/s]\u001B[A\u001B[A\n",
      "\n",
      "12it [00:00, 13.72it/s]\u001B[A\u001B[A\n",
      "\n",
      "15it [00:01, 13.53it/s]\u001B[A\u001B[A\n",
      "\n",
      "\n",
      "2it [00:00, 48.95it/s][A\n",
      "\n",
      " 20%|██        | 4/20 [00:04<00:18,  1.18s/it]\u001B[A\n",
      "\n",
      "0it [00:00, ?it/s]\u001B[A\u001B[A\n",
      "\n",
      "2it [00:00, 16.16it/s]\u001B[A\u001B[A"
     ]
    },
    {
     "name": "stdout",
     "output_type": "stream",
     "text": [
      "TOTAL TRAIN LOSS 35.13338247934977\n",
      "TOTAL EVAL LOSS 33.19239854812622\n",
      "TRAIN \t1.1095848083496094 secs\n",
      "TRAIN accuracy : 0.06733167082294264\n",
      "EVAL \t0.04209780693054199 secs\n",
      "EVAL accuracy : 0.038901601830663615\n",
      "\n",
      "\n",
      "** ** * Saving fine - tuned model ** ** * \n",
      "Epoch n4\n"
     ]
    },
    {
     "name": "stderr",
     "output_type": "stream",
     "text": [
      "\n",
      "\n",
      "4it [00:00, 15.43it/s]\u001B[A\u001B[A\n",
      "\n",
      "6it [00:00, 14.77it/s]\u001B[A\u001B[A\n",
      "\n",
      "8it [00:00, 14.90it/s]\u001B[A\u001B[A\n",
      "\n",
      "10it [00:00, 12.87it/s]\u001B[A\u001B[A\n",
      "\n",
      "12it [00:00, 13.75it/s]\u001B[A\u001B[A\n",
      "\n",
      "15it [00:01, 13.59it/s]\u001B[A\u001B[A\n",
      "\n",
      "\n",
      "2it [00:00, 45.46it/s][A\n",
      "\n",
      " 25%|██▌       | 5/20 [00:05<00:17,  1.17s/it]\u001B[A\n",
      "\n",
      "0it [00:00, ?it/s]\u001B[A\u001B[A\n",
      "\n",
      "2it [00:00, 16.93it/s]\u001B[A\u001B[A"
     ]
    },
    {
     "name": "stdout",
     "output_type": "stream",
     "text": [
      "TOTAL TRAIN LOSS 30.475135644276936\n",
      "TOTAL EVAL LOSS 28.7222421169281\n",
      "TRAIN \t1.1050081253051758 secs\n",
      "TRAIN accuracy : 0.1172069825436409\n",
      "EVAL \t0.045156002044677734 secs\n",
      "EVAL accuracy : 0.10297482837528604\n",
      "\n",
      "\n",
      "** ** * Saving fine - tuned model ** ** * \n",
      "Epoch n5\n"
     ]
    },
    {
     "name": "stderr",
     "output_type": "stream",
     "text": [
      "\n",
      "\n",
      "4it [00:00, 16.04it/s]\u001B[A\u001B[A\n",
      "\n",
      "6it [00:00, 15.36it/s]\u001B[A\u001B[A\n",
      "\n",
      "8it [00:00, 15.54it/s]\u001B[A\u001B[A\n",
      "\n",
      "10it [00:00, 13.29it/s]\u001B[A\u001B[A\n",
      "\n",
      "12it [00:00, 13.94it/s]\u001B[A\u001B[A\n",
      "\n",
      "15it [00:01, 13.79it/s]\u001B[A\u001B[A\n",
      "\n",
      "\n",
      "2it [00:00, 44.97it/s][A\n",
      "\n",
      " 30%|███       | 6/20 [00:06<00:16,  1.16s/it]\u001B[A\n",
      "\n",
      "0it [00:00, ?it/s]\u001B[A\u001B[A\n",
      "\n",
      "2it [00:00, 17.16it/s]\u001B[A\u001B[A"
     ]
    },
    {
     "name": "stdout",
     "output_type": "stream",
     "text": [
      "TOTAL TRAIN LOSS 25.900302171707153\n",
      "TOTAL EVAL LOSS 23.3652663230896\n",
      "TRAIN \t1.0892221927642822 secs\n",
      "TRAIN accuracy : 0.1172069825436409\n",
      "EVAL \t0.04549813270568848 secs\n",
      "EVAL accuracy : 0.09839816933638444\n",
      "\n",
      "\n",
      "** ** * Saving fine - tuned model ** ** * \n",
      "Epoch n6\n"
     ]
    },
    {
     "name": "stderr",
     "output_type": "stream",
     "text": [
      "\n",
      "\n",
      "4it [00:00, 16.06it/s]\u001B[A\u001B[A\n",
      "\n",
      "6it [00:00, 15.40it/s]\u001B[A\u001B[A\n",
      "\n",
      "8it [00:00, 15.53it/s]\u001B[A\u001B[A\n",
      "\n",
      "10it [00:00, 13.24it/s]\u001B[A\u001B[A\n",
      "\n",
      "12it [00:00, 13.88it/s]\u001B[A\u001B[A\n",
      "\n",
      "15it [00:01, 13.66it/s]\u001B[A\u001B[A\n",
      "\n",
      "\n",
      "2it [00:00, 44.09it/s][A\n",
      "\n",
      " 35%|███▌      | 7/20 [00:08<00:15,  1.16s/it]\u001B[A\n",
      "\n",
      "0it [00:00, ?it/s]\u001B[A\u001B[A\n",
      "\n",
      "2it [00:00, 16.32it/s]\u001B[A\u001B[A"
     ]
    },
    {
     "name": "stdout",
     "output_type": "stream",
     "text": [
      "TOTAL TRAIN LOSS 20.00403626759847\n",
      "TOTAL EVAL LOSS 17.229522466659546\n",
      "TRAIN \t1.0990750789642334 secs\n",
      "TRAIN accuracy : 0.10972568578553615\n",
      "EVAL \t0.04640007019042969 secs\n",
      "EVAL accuracy : 0.10297482837528604\n",
      "\n",
      "\n",
      "** ** * Saving fine - tuned model ** ** * \n",
      "Epoch n7\n"
     ]
    },
    {
     "name": "stderr",
     "output_type": "stream",
     "text": [
      "\n",
      "\n",
      "4it [00:00, 15.50it/s]\u001B[A\u001B[A\n",
      "\n",
      "6it [00:00, 14.78it/s]\u001B[A\u001B[A\n",
      "\n",
      "8it [00:00, 15.01it/s]\u001B[A\u001B[A\n",
      "\n",
      "10it [00:00, 13.11it/s]\u001B[A\u001B[A\n",
      "\n",
      "12it [00:00, 13.69it/s]\u001B[A\u001B[A\n",
      "\n",
      "15it [00:01, 13.54it/s]\u001B[A\u001B[A\n",
      "\n",
      "\n",
      "2it [00:00, 46.51it/s][A\n",
      "\n",
      " 40%|████      | 8/20 [00:09<00:13,  1.16s/it]\u001B[A\n",
      "\n",
      "0it [00:00, ?it/s]\u001B[A\u001B[A\n",
      "\n",
      "2it [00:00, 16.56it/s]\u001B[A\u001B[A"
     ]
    },
    {
     "name": "stdout",
     "output_type": "stream",
     "text": [
      "TOTAL TRAIN LOSS 15.495924671490988\n",
      "TOTAL EVAL LOSS 13.601375818252563\n",
      "TRAIN \t1.1093449592590332 secs\n",
      "TRAIN accuracy : 0.11221945137157108\n",
      "EVAL \t0.04419088363647461 secs\n",
      "EVAL accuracy : 0.10297482837528604\n",
      "\n",
      "\n",
      "** ** * Saving fine - tuned model ** ** * \n",
      "Epoch n8\n"
     ]
    },
    {
     "name": "stderr",
     "output_type": "stream",
     "text": [
      "\n",
      "\n",
      "4it [00:00, 15.58it/s]\u001B[A\u001B[A\n",
      "\n",
      "6it [00:00, 14.85it/s]\u001B[A\u001B[A\n",
      "\n",
      "8it [00:00, 15.06it/s]\u001B[A\u001B[A\n",
      "\n",
      "10it [00:00, 12.96it/s]\u001B[A\u001B[A\n",
      "\n",
      "12it [00:00, 13.83it/s]\u001B[A\u001B[A\n",
      "\n",
      "15it [00:01, 13.64it/s]\u001B[A\u001B[A\n",
      "\n",
      "\n",
      "2it [00:00, 46.44it/s][A\n",
      "\n",
      " 45%|████▌     | 9/20 [00:10<00:12,  1.16s/it]\u001B[A\n",
      "\n",
      "0it [00:00, ?it/s]\u001B[A\u001B[A\n",
      "\n",
      "2it [00:00, 16.57it/s]\u001B[A\u001B[A"
     ]
    },
    {
     "name": "stdout",
     "output_type": "stream",
     "text": [
      "TOTAL TRAIN LOSS 12.127256790796915\n",
      "TOTAL EVAL LOSS 12.687167525291443\n",
      "TRAIN \t1.1004388332366943 secs\n",
      "TRAIN accuracy : 0.12718204488778054\n",
      "EVAL \t0.044317007064819336 secs\n",
      "EVAL accuracy : 0.14874141876430205\n",
      "\n",
      "\n",
      "** ** * Saving fine - tuned model ** ** * \n",
      "Epoch n9\n"
     ]
    },
    {
     "name": "stderr",
     "output_type": "stream",
     "text": [
      "\n",
      "\n",
      "4it [00:00, 15.80it/s]\u001B[A\u001B[A\n",
      "\n",
      "6it [00:00, 15.14it/s]\u001B[A\u001B[A\n",
      "\n",
      "8it [00:00, 15.47it/s]\u001B[A\u001B[A\n",
      "\n",
      "10it [00:00, 13.22it/s]\u001B[A\u001B[A\n",
      "\n",
      "12it [00:00, 14.04it/s]\u001B[A\u001B[A\n",
      "\n",
      "15it [00:01, 13.86it/s]\u001B[A\u001B[A\n",
      "\n",
      "\n",
      "2it [00:00, 45.30it/s][A\n",
      "\n",
      " 50%|█████     | 10/20 [00:11<00:11,  1.15s/it]\u001B[A\n",
      "\n",
      "0it [00:00, ?it/s]\u001B[A\u001B[A\n",
      "\n",
      "2it [00:00, 16.70it/s]\u001B[A\u001B[A"
     ]
    },
    {
     "name": "stdout",
     "output_type": "stream",
     "text": [
      "TOTAL TRAIN LOSS 10.10440448919932\n",
      "TOTAL EVAL LOSS 12.906875014305115\n",
      "TRAIN \t1.0835559368133545 secs\n",
      "TRAIN accuracy : 0.14962593516209477\n",
      "EVAL \t0.04517030715942383 secs\n",
      "EVAL accuracy : 0.14874141876430205\n",
      "\n",
      "\n",
      "Epoch n10\n"
     ]
    },
    {
     "name": "stderr",
     "output_type": "stream",
     "text": [
      "\n",
      "\n",
      "4it [00:00, 15.79it/s]\u001B[A\u001B[A\n",
      "\n",
      "6it [00:00, 15.20it/s]\u001B[A\u001B[A\n",
      "\n",
      "8it [00:00, 15.43it/s]\u001B[A\u001B[A\n",
      "\n",
      "10it [00:00, 13.18it/s]\u001B[A\u001B[A\n",
      "\n",
      "12it [00:00, 13.83it/s]\u001B[A\u001B[A\n",
      "\n",
      "15it [00:01, 13.65it/s]\u001B[A\u001B[A\n",
      "\n",
      "\n",
      "2it [00:00, 47.88it/s][A\n",
      "\n",
      " 55%|█████▌    | 11/20 [00:12<00:10,  1.15s/it]\u001B[A\n",
      "\n",
      "0it [00:00, ?it/s]\u001B[A\u001B[A\n",
      "\n",
      "2it [00:00, 13.90it/s]\u001B[A\u001B[A"
     ]
    },
    {
     "name": "stdout",
     "output_type": "stream",
     "text": [
      "TOTAL TRAIN LOSS 9.944954335689545\n",
      "TOTAL EVAL LOSS 10.8149054646492\n",
      "TRAIN \t1.099902868270874 secs\n",
      "TRAIN accuracy : 0.14962593516209477\n",
      "EVAL \t0.04311990737915039 secs\n",
      "EVAL accuracy : 0.14874141876430205\n",
      "\n",
      "\n",
      "** ** * Saving fine - tuned model ** ** * \n",
      "Epoch n11\n"
     ]
    },
    {
     "name": "stderr",
     "output_type": "stream",
     "text": [
      "\n",
      "\n",
      "4it [00:00, 13.32it/s]\u001B[A\u001B[A\n",
      "\n",
      "6it [00:00, 12.92it/s]\u001B[A\u001B[A\n",
      "\n",
      "8it [00:00, 13.33it/s]\u001B[A\u001B[A\n",
      "\n",
      "10it [00:00, 11.94it/s]\u001B[A\u001B[A\n",
      "\n",
      "12it [00:00, 12.80it/s]\u001B[A\u001B[A\n",
      "\n",
      "15it [00:01, 12.65it/s]\u001B[A\u001B[A\n",
      "\n",
      "\n",
      "2it [00:00, 43.86it/s][A\n",
      "\n",
      " 60%|██████    | 12/20 [00:13<00:09,  1.18s/it]\u001B[A\n",
      "\n",
      "0it [00:00, ?it/s]\u001B[A\u001B[A\n",
      "\n",
      "2it [00:00, 15.82it/s]\u001B[A\u001B[A"
     ]
    },
    {
     "name": "stdout",
     "output_type": "stream",
     "text": [
      "TOTAL TRAIN LOSS 8.054416040579477\n",
      "TOTAL EVAL LOSS 8.485617637634277\n",
      "TRAIN \t1.186415195465088 secs\n",
      "TRAIN accuracy : 0.14962593516209477\n",
      "EVAL \t0.04665708541870117 secs\n",
      "EVAL accuracy : 0.14874141876430205\n",
      "\n",
      "\n",
      "** ** * Saving fine - tuned model ** ** * \n",
      "Epoch n12\n"
     ]
    },
    {
     "name": "stderr",
     "output_type": "stream",
     "text": [
      "\n",
      "\n",
      "4it [00:00, 15.11it/s]\u001B[A\u001B[A\n",
      "\n",
      "6it [00:00, 14.60it/s]\u001B[A\u001B[A\n",
      "\n",
      "8it [00:00, 14.80it/s]\u001B[A\u001B[A\n",
      "\n",
      "10it [00:00, 12.80it/s]\u001B[A\u001B[A\n",
      "\n",
      "12it [00:00, 13.68it/s]\u001B[A\u001B[A\n",
      "\n",
      "15it [00:01, 13.47it/s]\u001B[A\u001B[A\n",
      "\n",
      "\n",
      "2it [00:00, 48.38it/s][A\n",
      "\n",
      " 65%|██████▌   | 13/20 [00:15<00:08,  1.17s/it]\u001B[A\n",
      "\n",
      "0it [00:00, ?it/s]\u001B[A\u001B[A\n",
      "\n",
      "2it [00:00, 16.91it/s]\u001B[A\u001B[A"
     ]
    },
    {
     "name": "stdout",
     "output_type": "stream",
     "text": [
      "TOTAL TRAIN LOSS 7.148149410883586\n",
      "TOTAL EVAL LOSS 6.792775392532349\n",
      "TRAIN \t1.1146860122680664 secs\n",
      "TRAIN accuracy : 0.14962593516209477\n",
      "EVAL \t0.04238390922546387 secs\n",
      "EVAL accuracy : 0.14874141876430205\n",
      "\n",
      "\n",
      "** ** * Saving fine - tuned model ** ** * \n",
      "Epoch n13\n"
     ]
    },
    {
     "name": "stderr",
     "output_type": "stream",
     "text": [
      "\n",
      "\n",
      "4it [00:00, 16.06it/s]\u001B[A\u001B[A\n",
      "\n",
      "6it [00:00, 15.38it/s]\u001B[A\u001B[A\n",
      "\n",
      "8it [00:00, 15.27it/s]\u001B[A\u001B[A\n",
      "\n",
      "10it [00:00, 12.30it/s]\u001B[A\u001B[A\n",
      "\n",
      "12it [00:00, 13.05it/s]\u001B[A\u001B[A\n",
      "\n",
      "15it [00:01, 13.17it/s]\u001B[A\u001B[A\n",
      "\n",
      "\n",
      "2it [00:00, 41.06it/s][A\n",
      "\n",
      " 70%|███████   | 14/20 [00:16<00:07,  1.18s/it]\u001B[A\n",
      "\n",
      "0it [00:00, ?it/s]\u001B[A\u001B[A\n",
      "\n",
      "2it [00:00, 14.78it/s]\u001B[A\u001B[A"
     ]
    },
    {
     "name": "stdout",
     "output_type": "stream",
     "text": [
      "TOTAL TRAIN LOSS 6.3089122374852495\n",
      "TOTAL EVAL LOSS 5.547823905944824\n",
      "TRAIN \t1.1400890350341797 secs\n",
      "TRAIN accuracy : 0.14962593516209477\n",
      "EVAL \t0.049765825271606445 secs\n",
      "EVAL accuracy : 0.14874141876430205\n",
      "\n",
      "\n",
      "** ** * Saving fine - tuned model ** ** * \n",
      "Epoch n14\n"
     ]
    },
    {
     "name": "stderr",
     "output_type": "stream",
     "text": [
      "\n",
      "\n",
      "4it [00:00, 14.51it/s]\u001B[A\u001B[A\n",
      "\n",
      "6it [00:00, 14.19it/s]\u001B[A\u001B[A\n",
      "\n",
      "8it [00:00, 14.74it/s]\u001B[A\u001B[A\n",
      "\n",
      "10it [00:00, 12.80it/s]\u001B[A\u001B[A\n",
      "\n",
      "12it [00:00, 13.53it/s]\u001B[A\u001B[A\n",
      "\n",
      "15it [00:01, 13.41it/s]\u001B[A\u001B[A\n",
      "\n",
      "\n",
      "2it [00:00, 43.29it/s][A\n",
      "\n",
      " 75%|███████▌  | 15/20 [00:17<00:05,  1.18s/it]\u001B[A\n",
      "\n",
      "0it [00:00, ?it/s]\u001B[A\u001B[A\n",
      "\n",
      "2it [00:00, 16.63it/s]\u001B[A\u001B[A"
     ]
    },
    {
     "name": "stdout",
     "output_type": "stream",
     "text": [
      "TOTAL TRAIN LOSS 3.8647614022096\n",
      "TOTAL EVAL LOSS 2.544759064912796\n",
      "TRAIN \t1.1194472312927246 secs\n",
      "TRAIN accuracy : 0.14962593516209477\n",
      "EVAL \t0.04744410514831543 secs\n",
      "EVAL accuracy : 0.14874141876430205\n",
      "\n",
      "\n",
      "** ** * Saving fine - tuned model ** ** * \n",
      "Epoch n15\n"
     ]
    },
    {
     "name": "stderr",
     "output_type": "stream",
     "text": [
      "\n",
      "\n",
      "4it [00:00, 15.49it/s]\u001B[A\u001B[A\n",
      "\n",
      "6it [00:00, 14.84it/s]\u001B[A\u001B[A\n",
      "\n",
      "8it [00:00, 15.04it/s]\u001B[A\u001B[A\n",
      "\n",
      "10it [00:00, 12.83it/s]\u001B[A\u001B[A\n",
      "\n",
      "12it [00:00, 13.61it/s]\u001B[A\u001B[A\n",
      "\n",
      "15it [00:01, 13.41it/s]\u001B[A\u001B[A\n",
      "\n",
      "\n",
      "2it [00:00, 45.03it/s][A\n",
      "\n",
      " 80%|████████  | 16/20 [00:18<00:04,  1.18s/it]\u001B[A\n",
      "\n",
      "0it [00:00, ?it/s]\u001B[A\u001B[A\n",
      "\n",
      "2it [00:00, 15.72it/s]\u001B[A\u001B[A"
     ]
    },
    {
     "name": "stdout",
     "output_type": "stream",
     "text": [
      "TOTAL TRAIN LOSS 2.2353949596484504\n",
      "TOTAL EVAL LOSS 0.5167650245130062\n",
      "TRAIN \t1.119891881942749 secs\n",
      "TRAIN accuracy : 0.14962593516209477\n",
      "EVAL \t0.045411109924316406 secs\n",
      "EVAL accuracy : 0.14874141876430205\n",
      "\n",
      "\n",
      "** ** * Saving fine - tuned model ** ** * \n",
      "Epoch n16\n"
     ]
    },
    {
     "name": "stderr",
     "output_type": "stream",
     "text": [
      "\n",
      "\n",
      "4it [00:00, 14.98it/s]\u001B[A\u001B[A\n",
      "\n",
      "6it [00:00, 14.45it/s]\u001B[A\u001B[A\n",
      "\n",
      "8it [00:00, 14.67it/s]\u001B[A\u001B[A\n",
      "\n",
      "10it [00:00, 12.81it/s]\u001B[A\u001B[A\n",
      "\n",
      "12it [00:00, 13.66it/s]\u001B[A\u001B[A\n",
      "\n",
      "15it [00:01, 13.50it/s]\u001B[A\u001B[A\n",
      "\n",
      "\n",
      "2it [00:00, 44.76it/s][A\n",
      "\n",
      " 85%|████████▌ | 17/20 [00:19<00:03,  1.17s/it]\u001B[A\n",
      "\n",
      "0it [00:00, ?it/s]\u001B[A\u001B[A\n",
      "\n",
      "2it [00:00, 16.99it/s]\u001B[A\u001B[A"
     ]
    },
    {
     "name": "stdout",
     "output_type": "stream",
     "text": [
      "TOTAL TRAIN LOSS 0.9833492326239744\n",
      "TOTAL EVAL LOSS 0.08274924475699663\n",
      "TRAIN \t1.1125738620758057 secs\n",
      "TRAIN accuracy : 0.14962593516209477\n",
      "EVAL \t0.04590964317321777 secs\n",
      "EVAL accuracy : 0.14874141876430205\n",
      "\n",
      "\n",
      "** ** * Saving fine - tuned model ** ** * \n",
      "Epoch n17\n"
     ]
    },
    {
     "name": "stderr",
     "output_type": "stream",
     "text": [
      "\n",
      "\n",
      "4it [00:00, 16.01it/s]\u001B[A\u001B[A\n",
      "\n",
      "6it [00:00, 15.22it/s]\u001B[A\u001B[A\n",
      "\n",
      "8it [00:00, 15.35it/s]\u001B[A\u001B[A\n",
      "\n",
      "10it [00:00, 13.27it/s]\u001B[A\u001B[A\n",
      "\n",
      "12it [00:00, 14.11it/s]\u001B[A\u001B[A\n",
      "\n",
      "15it [00:01, 13.80it/s]\u001B[A\u001B[A\n",
      "\n",
      "\n",
      "2it [00:00, 37.12it/s][A\n",
      "\n",
      " 90%|█████████ | 18/20 [00:20<00:02,  1.17s/it]\u001B[A\n",
      "\n",
      "0it [00:00, ?it/s]\u001B[A\u001B[A\n",
      "\n",
      "2it [00:00, 15.51it/s]\u001B[A\u001B[A"
     ]
    },
    {
     "name": "stdout",
     "output_type": "stream",
     "text": [
      "TOTAL TRAIN LOSS 0.3901323278745015\n",
      "TOTAL EVAL LOSS 0.01747456146404147\n",
      "TRAIN \t1.0875990390777588 secs\n",
      "TRAIN accuracy : 0.14962593516209477\n",
      "EVAL \t0.05499911308288574 secs\n",
      "EVAL accuracy : 0.14874141876430205\n",
      "\n",
      "\n",
      "** ** * Saving fine - tuned model ** ** * \n",
      "Epoch n18\n"
     ]
    },
    {
     "name": "stderr",
     "output_type": "stream",
     "text": [
      "\n",
      "\n",
      "4it [00:00, 15.13it/s]\u001B[A\u001B[A\n",
      "\n",
      "6it [00:00, 14.59it/s]\u001B[A\u001B[A\n",
      "\n",
      "8it [00:00, 14.68it/s]\u001B[A\u001B[A\n",
      "\n",
      "10it [00:00, 12.50it/s]\u001B[A\u001B[A\n",
      "\n",
      "12it [00:00, 12.72it/s]\u001B[A\u001B[A\n",
      "\n",
      "15it [00:01, 12.91it/s]\u001B[A\u001B[A\n",
      "\n",
      "\n",
      "2it [00:00, 39.97it/s][A\n",
      "\n",
      " 95%|█████████▌| 19/20 [00:22<00:01,  1.18s/it]\u001B[A\n",
      "\n",
      "0it [00:00, ?it/s]\u001B[A\u001B[A\n",
      "\n",
      "2it [00:00, 15.13it/s]\u001B[A\u001B[A"
     ]
    },
    {
     "name": "stdout",
     "output_type": "stream",
     "text": [
      "TOTAL TRAIN LOSS 0.20076578545073667\n",
      "TOTAL EVAL LOSS 0.006956139113754034\n",
      "TRAIN \t1.1630258560180664 secs\n",
      "TRAIN accuracy : 0.14962593516209477\n",
      "EVAL \t0.05110502243041992 secs\n",
      "EVAL accuracy : 0.14874141876430205\n",
      "\n",
      "\n",
      "** ** * Saving fine - tuned model ** ** * \n",
      "Epoch n19\n"
     ]
    },
    {
     "name": "stderr",
     "output_type": "stream",
     "text": [
      "\n",
      "\n",
      "4it [00:00, 14.18it/s]\u001B[A\u001B[A\n",
      "\n",
      "6it [00:00, 13.54it/s]\u001B[A\u001B[A\n",
      "\n",
      "8it [00:00, 13.57it/s]\u001B[A\u001B[A\n",
      "\n",
      "10it [00:00, 11.90it/s]\u001B[A\u001B[A\n",
      "\n",
      "12it [00:00, 12.43it/s]\u001B[A\u001B[A\n",
      "\n",
      "15it [00:01, 12.35it/s]\u001B[A\u001B[A\n",
      "\n",
      "\n",
      "2it [00:00, 41.35it/s][A\n",
      "\n",
      "100%|██████████| 20/20 [00:23<00:00,  1.17s/it]\u001B[A"
     ]
    },
    {
     "name": "stdout",
     "output_type": "stream",
     "text": [
      "TOTAL TRAIN LOSS 0.14513772943367562\n",
      "TOTAL EVAL LOSS 0.0038061363738961518\n",
      "TRAIN \t1.2156476974487305 secs\n",
      "TRAIN accuracy : 0.14962593516209477\n",
      "EVAL \t0.04941987991333008 secs\n",
      "EVAL accuracy : 0.14874141876430205\n",
      "\n",
      "\n",
      "** ** * Saving fine - tuned model ** ** * \n"
     ]
    },
    {
     "name": "stderr",
     "output_type": "stream",
     "text": [
      "\n"
     ]
    },
    {
     "data": {
      "text/plain": "<Figure size 640x480 with 1 Axes>",
      "image/png": "[encoded data removed]"
     },
     "metadata": {},
     "output_type": "display_data"
    },
    {
     "name": "stderr",
     "output_type": "stream",
     "text": [
      " 80%|████████  | 4/5 [01:31<00:23, 23.22s/it]\n",
      "  0%|          | 0/20 [00:00<?, ?it/s]\u001B[A\n",
      "\n",
      "0it [00:00, ?it/s]\u001B[A\u001B[A"
     ]
    },
    {
     "name": "stdout",
     "output_type": "stream",
     "text": [
      "\n",
      " Experiment 5\n",
      "Epoch n0\n"
     ]
    },
    {
     "name": "stderr",
     "output_type": "stream",
     "text": [
      "\n",
      "\n",
      "2it [00:00, 14.42it/s]\u001B[A\u001B[A\n",
      "\n",
      "4it [00:00, 12.67it/s]\u001B[A\u001B[A\n",
      "\n",
      "6it [00:00, 11.60it/s]\u001B[A\u001B[A\n",
      "\n",
      "8it [00:00, 12.60it/s]\u001B[A\u001B[A\n",
      "\n",
      "10it [00:00, 13.18it/s]\u001B[A\u001B[A\n",
      "\n",
      "12it [00:00, 13.38it/s]\u001B[A\u001B[A\n",
      "\n",
      "15it [00:01, 13.47it/s]\u001B[A\u001B[A\n",
      "\n",
      "\n",
      "2it [00:00, 39.88it/s][A\n",
      "\n",
      "  5%|▌         | 1/20 [00:01<00:22,  1.17s/it]\u001B[A\n",
      "\n",
      "0it [00:00, ?it/s]\u001B[A\u001B[A\n",
      "\n",
      "2it [00:00, 17.56it/s]\u001B[A\u001B[A"
     ]
    },
    {
     "name": "stdout",
     "output_type": "stream",
     "text": [
      "TOTAL TRAIN LOSS 46.602540016174316\n",
      "TOTAL EVAL LOSS 44.00710105895996\n",
      "TRAIN \t1.1149346828460693 secs\n",
      "TRAIN accuracy : 0.0\n",
      "EVAL \t0.051191091537475586 secs\n",
      "EVAL accuracy : 0.0\n",
      "\n",
      "\n",
      "** ** * Saving fine - tuned model ** ** * \n",
      "Epoch n1\n"
     ]
    },
    {
     "name": "stderr",
     "output_type": "stream",
     "text": [
      "\n",
      "\n",
      "4it [00:00, 14.75it/s]\u001B[A\u001B[A\n",
      "\n",
      "6it [00:00, 12.88it/s]\u001B[A\u001B[A\n",
      "\n",
      "8it [00:00, 13.60it/s]\u001B[A\u001B[A\n",
      "\n",
      "10it [00:00, 13.97it/s]\u001B[A\u001B[A\n",
      "\n",
      "12it [00:00, 14.04it/s]\u001B[A\u001B[A\n",
      "\n",
      "15it [00:01, 14.11it/s]\u001B[A\u001B[A\n",
      "\n",
      "\n",
      "2it [00:00, 41.10it/s][A\n",
      "\n",
      " 10%|█         | 2/20 [00:02<00:20,  1.16s/it]\u001B[A\n",
      "\n",
      "0it [00:00, ?it/s]\u001B[A\u001B[A\n",
      "\n",
      "2it [00:00, 17.10it/s]\u001B[A\u001B[A"
     ]
    },
    {
     "name": "stdout",
     "output_type": "stream",
     "text": [
      "TOTAL TRAIN LOSS 42.231642723083496\n",
      "TOTAL EVAL LOSS 39.831470251083374\n",
      "TRAIN \t1.064450979232788 secs\n",
      "TRAIN accuracy : 0.005249343832020997\n",
      "EVAL \t0.04967093467712402 secs\n",
      "EVAL accuracy : 0.0\n",
      "\n",
      "\n",
      "** ** * Saving fine - tuned model ** ** * \n",
      "Epoch n2\n"
     ]
    },
    {
     "name": "stderr",
     "output_type": "stream",
     "text": [
      "\n",
      "\n",
      "4it [00:00, 14.34it/s]\u001B[A\u001B[A\n",
      "\n",
      "6it [00:00, 12.54it/s]\u001B[A\u001B[A\n",
      "\n",
      "8it [00:00, 13.26it/s]\u001B[A\u001B[A\n",
      "\n",
      "10it [00:00, 13.55it/s]\u001B[A\u001B[A\n",
      "\n",
      "12it [00:00, 13.76it/s]\u001B[A\u001B[A\n",
      "\n",
      "15it [00:01, 13.79it/s]\u001B[A\u001B[A\n",
      "\n",
      "\n",
      "2it [00:00, 36.43it/s][A\n",
      "\n",
      " 15%|█▌        | 3/20 [00:03<00:19,  1.16s/it]\u001B[A\n",
      "\n",
      "0it [00:00, ?it/s]\u001B[A\u001B[A\n",
      "\n",
      "2it [00:00, 16.30it/s]\u001B[A\u001B[A"
     ]
    },
    {
     "name": "stdout",
     "output_type": "stream",
     "text": [
      "TOTAL TRAIN LOSS 38.085278034210205\n",
      "TOTAL EVAL LOSS 34.44066047668457\n",
      "TRAIN \t1.0887930393218994 secs\n",
      "TRAIN accuracy : 0.07086614173228346\n",
      "EVAL \t0.05598306655883789 secs\n",
      "EVAL accuracy : 0.12436974789915967\n",
      "\n",
      "\n",
      "** ** * Saving fine - tuned model ** ** * \n",
      "Epoch n3\n"
     ]
    },
    {
     "name": "stderr",
     "output_type": "stream",
     "text": [
      "\n",
      "\n",
      "4it [00:00, 14.00it/s]\u001B[A\u001B[A\n",
      "\n",
      "6it [00:00, 12.27it/s]\u001B[A\u001B[A\n",
      "\n",
      "8it [00:00, 12.99it/s]\u001B[A\u001B[A\n",
      "\n",
      "10it [00:00, 13.41it/s]\u001B[A\u001B[A\n",
      "\n",
      "12it [00:00, 13.58it/s]\u001B[A\u001B[A\n",
      "\n",
      "15it [00:01, 13.62it/s]\u001B[A\u001B[A\n",
      "\n",
      "\n",
      "2it [00:00, 42.17it/s][A\n",
      "\n",
      " 20%|██        | 4/20 [00:04<00:18,  1.16s/it]\u001B[A\n",
      "\n",
      "0it [00:00, ?it/s]\u001B[A\u001B[A\n",
      "\n",
      "2it [00:00, 16.59it/s]\u001B[A\u001B[A"
     ]
    },
    {
     "name": "stdout",
     "output_type": "stream",
     "text": [
      "TOTAL TRAIN LOSS 33.480831146240234\n",
      "TOTAL EVAL LOSS 29.83402729034424\n",
      "TRAIN \t1.1027321815490723 secs\n",
      "TRAIN accuracy : 0.10236220472440945\n",
      "EVAL \t0.04848313331604004 secs\n",
      "EVAL accuracy : 0.11932773109243698\n",
      "\n",
      "\n",
      "** ** * Saving fine - tuned model ** ** * \n",
      "Epoch n4\n"
     ]
    },
    {
     "name": "stderr",
     "output_type": "stream",
     "text": [
      "\n",
      "\n",
      "4it [00:00, 14.01it/s]\u001B[A\u001B[A\n",
      "\n",
      "6it [00:00, 12.36it/s]\u001B[A\u001B[A\n",
      "\n",
      "8it [00:00, 13.22it/s]\u001B[A\u001B[A\n",
      "\n",
      "10it [00:00, 13.77it/s]\u001B[A\u001B[A\n",
      "\n",
      "12it [00:00, 13.80it/s]\u001B[A\u001B[A\n",
      "\n",
      "15it [00:01, 13.80it/s]\u001B[A\u001B[A\n",
      "\n",
      "\n",
      "2it [00:00, 39.22it/s][A\n",
      "\n",
      " 25%|██▌       | 5/20 [00:05<00:17,  1.15s/it]\u001B[A\n",
      "\n",
      "0it [00:00, ?it/s]\u001B[A\u001B[A\n",
      "\n",
      "2it [00:00, 17.59it/s]\u001B[A\u001B[A"
     ]
    },
    {
     "name": "stdout",
     "output_type": "stream",
     "text": [
      "TOTAL TRAIN LOSS 28.277639865875244\n",
      "TOTAL EVAL LOSS 25.101826190948486\n",
      "TRAIN \t1.0880608558654785 secs\n",
      "TRAIN accuracy : 0.10236220472440945\n",
      "EVAL \t0.05202007293701172 secs\n",
      "EVAL accuracy : 0.1092436974789916\n",
      "\n",
      "\n",
      "** ** * Saving fine - tuned model ** ** * \n",
      "Epoch n5\n"
     ]
    },
    {
     "name": "stderr",
     "output_type": "stream",
     "text": [
      "\n",
      "\n",
      "4it [00:00, 14.62it/s]\u001B[A\u001B[A\n",
      "\n",
      "6it [00:00, 12.74it/s]\u001B[A\u001B[A\n",
      "\n",
      "8it [00:00, 13.48it/s]\u001B[A\u001B[A\n",
      "\n",
      "10it [00:00, 13.93it/s]\u001B[A\u001B[A\n",
      "\n",
      "12it [00:00, 13.90it/s]\u001B[A\u001B[A\n",
      "\n",
      "15it [00:01, 13.98it/s]\u001B[A\u001B[A\n",
      "\n",
      "\n",
      "2it [00:00, 39.05it/s][A\n",
      "\n",
      " 30%|███       | 6/20 [00:06<00:16,  1.15s/it]\u001B[A\n",
      "\n",
      "0it [00:00, ?it/s]\u001B[A\u001B[A\n",
      "\n",
      "2it [00:00, 17.34it/s]\u001B[A\u001B[A"
     ]
    },
    {
     "name": "stdout",
     "output_type": "stream",
     "text": [
      "TOTAL TRAIN LOSS 22.614844640096027\n",
      "TOTAL EVAL LOSS 17.555880546569824\n",
      "TRAIN \t1.0745370388031006 secs\n",
      "TRAIN accuracy : 0.10236220472440945\n",
      "EVAL \t0.05226325988769531 secs\n",
      "EVAL accuracy : 0.11428571428571428\n",
      "\n",
      "\n",
      "** ** * Saving fine - tuned model ** ** * \n",
      "Epoch n6\n"
     ]
    },
    {
     "name": "stderr",
     "output_type": "stream",
     "text": [
      "\n",
      "\n",
      "4it [00:00, 14.40it/s]\u001B[A\u001B[A\n",
      "\n",
      "6it [00:00, 12.57it/s]\u001B[A\u001B[A\n",
      "\n",
      "8it [00:00, 12.77it/s]\u001B[A\u001B[A\n",
      "\n",
      "10it [00:00, 12.52it/s]\u001B[A\u001B[A\n",
      "\n",
      "12it [00:00, 12.48it/s]\u001B[A\u001B[A\n",
      "\n",
      "15it [00:01, 12.80it/s]\u001B[A\u001B[A\n",
      "\n",
      "\n",
      "2it [00:00, 34.05it/s][A\n",
      "\n",
      " 35%|███▌      | 7/20 [00:08<00:15,  1.17s/it]\u001B[A\n",
      "\n",
      "0it [00:00, ?it/s]\u001B[A\u001B[A\n",
      "\n"
     ]
    },
    {
     "name": "stdout",
     "output_type": "stream",
     "text": [
      "TOTAL TRAIN LOSS 16.761465152104694\n",
      "TOTAL EVAL LOSS 13.11899185180664\n",
      "TRAIN \t1.1728408336639404 secs\n",
      "TRAIN accuracy : 0.11811023622047244\n",
      "EVAL \t0.059777021408081055 secs\n",
      "EVAL accuracy : 0.1495798319327731\n",
      "\n",
      "\n",
      "** ** * Saving fine - tuned model ** ** * \n",
      "Epoch n7\n"
     ]
    },
    {
     "name": "stderr",
     "output_type": "stream",
     "text": [
      "2it [00:00, 15.04it/s]\u001B[A\u001B[A\n",
      "\n",
      "4it [00:00, 13.01it/s]\u001B[A\u001B[A\n",
      "\n",
      "6it [00:00, 11.55it/s]\u001B[A\u001B[A\n",
      "\n",
      "8it [00:00, 12.51it/s]\u001B[A\u001B[A\n",
      "\n",
      "10it [00:00, 13.05it/s]\u001B[A\u001B[A\n",
      "\n",
      "12it [00:00, 13.31it/s]\u001B[A\u001B[A\n",
      "\n",
      "15it [00:01, 13.20it/s]\u001B[A\u001B[A\n",
      "\n",
      "\n",
      "2it [00:00, 38.14it/s][A\n",
      "\n",
      " 40%|████      | 8/20 [00:09<00:14,  1.18s/it]\u001B[A\n",
      "\n",
      "0it [00:00, ?it/s]\u001B[A\u001B[A\n",
      "\n",
      "2it [00:00, 16.96it/s]\u001B[A\u001B[A"
     ]
    },
    {
     "name": "stdout",
     "output_type": "stream",
     "text": [
      "TOTAL TRAIN LOSS 13.179985562960306\n",
      "TOTAL EVAL LOSS 11.778773069381714\n",
      "TRAIN \t1.137416124343872 secs\n",
      "TRAIN accuracy : 0.14435695538057744\n",
      "EVAL \t0.05362105369567871 secs\n",
      "EVAL accuracy : 0.1495798319327731\n",
      "\n",
      "\n",
      "** ** * Saving fine - tuned model ** ** * \n",
      "Epoch n8\n"
     ]
    },
    {
     "name": "stderr",
     "output_type": "stream",
     "text": [
      "\n",
      "\n",
      "4it [00:00, 14.17it/s]\u001B[A\u001B[A\n",
      "\n",
      "6it [00:00, 12.29it/s]\u001B[A\u001B[A\n",
      "\n",
      "8it [00:00, 13.18it/s]\u001B[A\u001B[A\n",
      "\n",
      "10it [00:00, 13.65it/s]\u001B[A\u001B[A\n",
      "\n",
      "12it [00:00, 13.71it/s]\u001B[A\u001B[A\n",
      "\n",
      "15it [00:01, 13.82it/s]\u001B[A\u001B[A\n",
      "\n",
      "\n",
      "2it [00:00, 38.66it/s][A\n",
      "\n",
      " 45%|████▌     | 9/20 [00:10<00:12,  1.17s/it]\u001B[A\n",
      "\n",
      "0it [00:00, ?it/s]\u001B[A\u001B[A\n",
      "\n",
      "2it [00:00, 17.64it/s]\u001B[A\u001B[A"
     ]
    },
    {
     "name": "stdout",
     "output_type": "stream",
     "text": [
      "TOTAL TRAIN LOSS 11.652229110399881\n",
      "TOTAL EVAL LOSS 9.59326446056366\n",
      "TRAIN \t1.0862948894500732 secs\n",
      "TRAIN accuracy : 0.14960629921259844\n",
      "EVAL \t0.05274605751037598 secs\n",
      "EVAL accuracy : 0.1495798319327731\n",
      "\n",
      "\n",
      "** ** * Saving fine - tuned model ** ** * \n",
      "Epoch n9\n"
     ]
    },
    {
     "name": "stderr",
     "output_type": "stream",
     "text": [
      "\n",
      "\n",
      "4it [00:00, 14.49it/s]\u001B[A\u001B[A\n",
      "\n",
      "6it [00:00, 12.64it/s]\u001B[A\u001B[A\n",
      "\n",
      "8it [00:00, 13.40it/s]\u001B[A\u001B[A\n",
      "\n",
      "10it [00:00, 13.64it/s]\u001B[A\u001B[A\n",
      "\n",
      "12it [00:00, 13.74it/s]\u001B[A\u001B[A\n",
      "\n",
      "15it [00:01, 13.83it/s]\u001B[A\u001B[A\n",
      "\n",
      "\n",
      "2it [00:00, 38.94it/s][A\n",
      "\n",
      " 50%|█████     | 10/20 [00:11<00:11,  1.16s/it]\u001B[A\n",
      "\n",
      "0it [00:00, ?it/s]\u001B[A\u001B[A\n",
      "\n",
      "2it [00:00, 17.15it/s]\u001B[A\u001B[A"
     ]
    },
    {
     "name": "stdout",
     "output_type": "stream",
     "text": [
      "TOTAL TRAIN LOSS 9.876629511515299\n",
      "TOTAL EVAL LOSS 8.33202600479126\n",
      "TRAIN \t1.0857961177825928 secs\n",
      "TRAIN accuracy : 0.14960629921259844\n",
      "EVAL \t0.05258488655090332 secs\n",
      "EVAL accuracy : 0.1495798319327731\n",
      "\n",
      "\n",
      "** ** * Saving fine - tuned model ** ** * \n",
      "Epoch n10\n"
     ]
    },
    {
     "name": "stderr",
     "output_type": "stream",
     "text": [
      "\n",
      "\n",
      "4it [00:00, 14.35it/s]\u001B[A\u001B[A\n",
      "\n",
      "6it [00:00, 12.47it/s]\u001B[A\u001B[A\n",
      "\n",
      "8it [00:00, 13.09it/s]\u001B[A\u001B[A\n",
      "\n",
      "10it [00:00, 13.51it/s]\u001B[A\u001B[A\n",
      "\n",
      "12it [00:00, 13.58it/s]\u001B[A\u001B[A\n",
      "\n",
      "15it [00:01, 13.58it/s]\u001B[A\u001B[A\n",
      "\n",
      "\n",
      "2it [00:00, 40.23it/s][A\n",
      "\n",
      " 55%|█████▌    | 11/20 [00:12<00:10,  1.16s/it]\u001B[A\n",
      "\n",
      "0it [00:00, ?it/s]\u001B[A\u001B[A\n",
      "\n",
      "2it [00:00, 16.87it/s]\u001B[A\u001B[A"
     ]
    },
    {
     "name": "stdout",
     "output_type": "stream",
     "text": [
      "TOTAL TRAIN LOSS 9.262086272239685\n",
      "TOTAL EVAL LOSS 8.14855307340622\n",
      "TRAIN \t1.106015920639038 secs\n",
      "TRAIN accuracy : 0.14960629921259844\n",
      "EVAL \t0.05080604553222656 secs\n",
      "EVAL accuracy : 0.1495798319327731\n",
      "\n",
      "\n",
      "** ** * Saving fine - tuned model ** ** * \n",
      "Epoch n11\n"
     ]
    },
    {
     "name": "stderr",
     "output_type": "stream",
     "text": [
      "\n",
      "\n",
      "4it [00:00, 14.23it/s]\u001B[A\u001B[A\n",
      "\n",
      "6it [00:00, 12.42it/s]\u001B[A\u001B[A\n",
      "\n",
      "8it [00:00, 13.14it/s]\u001B[A\u001B[A\n",
      "\n",
      "10it [00:00, 13.55it/s]\u001B[A\u001B[A\n",
      "\n",
      "12it [00:00, 13.57it/s]\u001B[A\u001B[A\n",
      "\n",
      "15it [00:01, 13.53it/s]\u001B[A\u001B[A\n",
      "\n",
      "\n",
      "2it [00:00, 37.73it/s][A\n",
      "\n",
      " 60%|██████    | 12/20 [00:13<00:09,  1.17s/it]\u001B[A\n",
      "\n",
      "0it [00:00, ?it/s]\u001B[A\u001B[A\n",
      "\n",
      "2it [00:00, 17.39it/s]\u001B[A\u001B[A"
     ]
    },
    {
     "name": "stdout",
     "output_type": "stream",
     "text": [
      "TOTAL TRAIN LOSS 9.22084641456604\n",
      "TOTAL EVAL LOSS 6.759881675243378\n",
      "TRAIN \t1.1096148490905762 secs\n",
      "TRAIN accuracy : 0.14960629921259844\n",
      "EVAL \t0.05406308174133301 secs\n",
      "EVAL accuracy : 0.1495798319327731\n",
      "\n",
      "\n",
      "** ** * Saving fine - tuned model ** ** * \n",
      "Epoch n12\n"
     ]
    },
    {
     "name": "stderr",
     "output_type": "stream",
     "text": [
      "\n",
      "\n",
      "4it [00:00, 14.59it/s]\u001B[A\u001B[A\n",
      "\n",
      "6it [00:00, 12.66it/s]\u001B[A\u001B[A\n",
      "\n",
      "8it [00:00, 13.40it/s]\u001B[A\u001B[A\n",
      "\n",
      "10it [00:00, 13.84it/s]\u001B[A\u001B[A\n",
      "\n",
      "12it [00:00, 13.94it/s]\u001B[A\u001B[A\n",
      "\n",
      "15it [00:01, 14.03it/s]\u001B[A\u001B[A\n",
      "\n",
      "\n",
      "2it [00:00, 39.19it/s][A\n",
      "\n",
      " 65%|██████▌   | 13/20 [00:15<00:08,  1.15s/it]\u001B[A\n",
      "\n",
      "0it [00:00, ?it/s]\u001B[A\u001B[A\n",
      "\n",
      "2it [00:00, 15.77it/s]\u001B[A\u001B[A"
     ]
    },
    {
     "name": "stdout",
     "output_type": "stream",
     "text": [
      "TOTAL TRAIN LOSS 7.802872618039449\n",
      "TOTAL EVAL LOSS 7.016428112983704\n",
      "TRAIN \t1.0705211162567139 secs\n",
      "TRAIN accuracy : 0.14960629921259844\n",
      "EVAL \t0.0520777702331543 secs\n",
      "EVAL accuracy : 0.1495798319327731\n",
      "\n",
      "\n",
      "Epoch n13\n"
     ]
    },
    {
     "name": "stderr",
     "output_type": "stream",
     "text": [
      "\n",
      "\n",
      "4it [00:00, 13.28it/s]\u001B[A\u001B[A\n",
      "\n",
      "6it [00:00, 11.77it/s]\u001B[A\u001B[A\n",
      "\n",
      "8it [00:00, 12.37it/s]\u001B[A\u001B[A\n",
      "\n",
      "10it [00:00, 12.93it/s]\u001B[A\u001B[A\n",
      "\n",
      "12it [00:00, 13.29it/s]\u001B[A\u001B[A\n",
      "\n",
      "15it [00:01, 13.32it/s]\u001B[A\u001B[A\n",
      "\n",
      "\n",
      "2it [00:00, 37.66it/s][A\n",
      "\n",
      " 70%|███████   | 14/20 [00:16<00:06,  1.16s/it]\u001B[A\n",
      "\n",
      "0it [00:00, ?it/s]\u001B[A\u001B[A\n",
      "\n",
      "2it [00:00, 17.51it/s]\u001B[A\u001B[A"
     ]
    },
    {
     "name": "stdout",
     "output_type": "stream",
     "text": [
      "TOTAL TRAIN LOSS 7.120814859867096\n",
      "TOTAL EVAL LOSS 5.851656198501587\n",
      "TRAIN \t1.1271789073944092 secs\n",
      "TRAIN accuracy : 0.14960629921259844\n",
      "EVAL \t0.05413484573364258 secs\n",
      "EVAL accuracy : 0.1495798319327731\n",
      "\n",
      "\n",
      "** ** * Saving fine - tuned model ** ** * \n",
      "Epoch n14\n"
     ]
    },
    {
     "name": "stderr",
     "output_type": "stream",
     "text": [
      "\n",
      "\n",
      "4it [00:00, 14.41it/s]\u001B[A\u001B[A\n",
      "\n",
      "6it [00:00, 12.52it/s]\u001B[A\u001B[A\n",
      "\n",
      "8it [00:00, 13.23it/s]\u001B[A\u001B[A\n",
      "\n",
      "10it [00:00, 13.57it/s]\u001B[A\u001B[A\n",
      "\n",
      "12it [00:00, 13.56it/s]\u001B[A\u001B[A\n",
      "\n",
      "15it [00:01, 13.65it/s]\u001B[A\u001B[A\n",
      "\n",
      "\n",
      "2it [00:00, 36.99it/s][A\n",
      "\n",
      " 75%|███████▌  | 15/20 [00:17<00:05,  1.16s/it]\u001B[A\n",
      "\n",
      "0it [00:00, ?it/s]\u001B[A\u001B[A\n",
      "\n",
      "2it [00:00, 16.15it/s]\u001B[A\u001B[A"
     ]
    },
    {
     "name": "stdout",
     "output_type": "stream",
     "text": [
      "TOTAL TRAIN LOSS 5.793276071548462\n",
      "TOTAL EVAL LOSS 4.413490146398544\n",
      "TRAIN \t1.099992275238037 secs\n",
      "TRAIN accuracy : 0.14960629921259844\n",
      "EVAL \t0.05514693260192871 secs\n",
      "EVAL accuracy : 0.1495798319327731\n",
      "\n",
      "\n",
      "** ** * Saving fine - tuned model ** ** * \n",
      "Epoch n15\n"
     ]
    },
    {
     "name": "stderr",
     "output_type": "stream",
     "text": [
      "\n",
      "\n",
      "4it [00:00, 14.04it/s]\u001B[A\u001B[A\n",
      "\n",
      "6it [00:00, 12.47it/s]\u001B[A\u001B[A\n",
      "\n",
      "8it [00:00, 13.13it/s]\u001B[A\u001B[A\n",
      "\n",
      "10it [00:00, 13.55it/s]\u001B[A\u001B[A\n",
      "\n",
      "12it [00:00, 13.65it/s]\u001B[A\u001B[A\n",
      "\n",
      "15it [00:01, 13.80it/s]\u001B[A\u001B[A\n",
      "\n",
      "\n",
      "2it [00:00, 37.62it/s][A\n",
      "\n",
      " 80%|████████  | 16/20 [00:18<00:04,  1.16s/it]\u001B[A\n",
      "\n",
      "0it [00:00, ?it/s]\u001B[A\u001B[A\n",
      "\n",
      "2it [00:00, 16.55it/s]\u001B[A\u001B[A"
     ]
    },
    {
     "name": "stdout",
     "output_type": "stream",
     "text": [
      "TOTAL TRAIN LOSS 4.0971573193868\n",
      "TOTAL EVAL LOSS 1.9889848679304123\n",
      "TRAIN \t1.087622880935669 secs\n",
      "TRAIN accuracy : 0.14960629921259844\n",
      "EVAL \t0.054407358169555664 secs\n",
      "EVAL accuracy : 0.1495798319327731\n",
      "\n",
      "\n",
      "** ** * Saving fine - tuned model ** ** * \n",
      "Epoch n16\n"
     ]
    },
    {
     "name": "stderr",
     "output_type": "stream",
     "text": [
      "\n",
      "\n",
      "4it [00:00, 14.24it/s]\u001B[A\u001B[A\n",
      "\n",
      "6it [00:00, 12.51it/s]\u001B[A\u001B[A\n",
      "\n",
      "8it [00:00, 13.33it/s]\u001B[A\u001B[A\n",
      "\n",
      "10it [00:00, 13.78it/s]\u001B[A\u001B[A\n",
      "\n",
      "12it [00:00, 13.93it/s]\u001B[A\u001B[A\n",
      "\n",
      "15it [00:01, 13.93it/s]\u001B[A\u001B[A\n",
      "\n",
      "\n",
      "2it [00:00, 41.33it/s][A\n",
      "\n",
      " 85%|████████▌ | 17/20 [00:19<00:03,  1.15s/it]\u001B[A\n",
      "\n",
      "0it [00:00, ?it/s]\u001B[A\u001B[A\n",
      "\n",
      "2it [00:00, 16.47it/s]\u001B[A\u001B[A"
     ]
    },
    {
     "name": "stdout",
     "output_type": "stream",
     "text": [
      "TOTAL TRAIN LOSS 2.1590253909428916\n",
      "TOTAL EVAL LOSS 0.45328810811042786\n",
      "TRAIN \t1.0780160427093506 secs\n",
      "TRAIN accuracy : 0.14960629921259844\n",
      "EVAL \t0.049571990966796875 secs\n",
      "EVAL accuracy : 0.1495798319327731\n",
      "\n",
      "\n",
      "** ** * Saving fine - tuned model ** ** * \n",
      "Epoch n17\n"
     ]
    },
    {
     "name": "stderr",
     "output_type": "stream",
     "text": [
      "\n",
      "\n",
      "4it [00:00, 13.80it/s]\u001B[A\u001B[A\n",
      "\n",
      "6it [00:00, 12.08it/s]\u001B[A\u001B[A\n",
      "\n",
      "8it [00:00, 12.44it/s]\u001B[A\u001B[A\n",
      "\n",
      "10it [00:00, 12.54it/s]\u001B[A\u001B[A\n",
      "\n",
      "12it [00:01, 12.46it/s]\u001B[A\u001B[A\n",
      "\n",
      "15it [00:01, 12.68it/s]\u001B[A\u001B[A\n",
      "\n",
      "\n",
      "2it [00:00, 32.14it/s][A\n",
      "\n",
      " 90%|█████████ | 18/20 [00:20<00:02,  1.18s/it]\u001B[A\n",
      "\n",
      "0it [00:00, ?it/s]\u001B[A\u001B[A"
     ]
    },
    {
     "name": "stdout",
     "output_type": "stream",
     "text": [
      "TOTAL TRAIN LOSS 0.8931945512692133\n",
      "TOTAL EVAL LOSS 0.057597237173467875\n",
      "TRAIN \t1.184002161026001 secs\n",
      "TRAIN accuracy : 0.14960629921259844\n",
      "EVAL \t0.06328082084655762 secs\n",
      "EVAL accuracy : 0.1495798319327731\n",
      "\n",
      "\n",
      "** ** * Saving fine - tuned model ** ** * \n",
      "Epoch n18\n"
     ]
    },
    {
     "name": "stderr",
     "output_type": "stream",
     "text": [
      "\n",
      "\n",
      "2it [00:00, 14.34it/s]\u001B[A\u001B[A\n",
      "\n",
      "4it [00:00, 12.55it/s]\u001B[A\u001B[A\n",
      "\n",
      "6it [00:00, 11.45it/s]\u001B[A\u001B[A\n",
      "\n",
      "8it [00:00, 11.84it/s]\u001B[A\u001B[A\n",
      "\n",
      "10it [00:00, 12.09it/s]\u001B[A\u001B[A\n",
      "\n",
      "12it [00:01, 12.18it/s]\u001B[A\u001B[A\n",
      "\n",
      "15it [00:01, 12.28it/s]\u001B[A\u001B[A\n",
      "\n",
      "\n",
      "2it [00:00, 30.94it/s][A\n",
      "\n",
      " 95%|█████████▌| 19/20 [00:22<00:01,  1.22s/it]\u001B[A\n",
      "\n",
      "0it [00:00, ?it/s]\u001B[A\u001B[A\n",
      "\n",
      "2it [00:00, 15.96it/s]\u001B[A\u001B[A"
     ]
    },
    {
     "name": "stdout",
     "output_type": "stream",
     "text": [
      "TOTAL TRAIN LOSS 0.33383079804480076\n",
      "TOTAL EVAL LOSS 0.0164041668176651\n",
      "TRAIN \t1.222506046295166 secs\n",
      "TRAIN accuracy : 0.14960629921259844\n",
      "EVAL \t0.0657188892364502 secs\n",
      "EVAL accuracy : 0.1495798319327731\n",
      "\n",
      "\n",
      "** ** * Saving fine - tuned model ** ** * \n",
      "Epoch n19\n"
     ]
    },
    {
     "name": "stderr",
     "output_type": "stream",
     "text": [
      "\n",
      "\n",
      "4it [00:00, 13.45it/s]\u001B[A\u001B[A\n",
      "\n",
      "6it [00:00, 11.76it/s]\u001B[A\u001B[A\n",
      "\n",
      "8it [00:00, 12.21it/s]\u001B[A\u001B[A\n",
      "\n",
      "10it [00:00, 12.45it/s]\u001B[A\u001B[A\n",
      "\n",
      "12it [00:01, 12.45it/s]\u001B[A\u001B[A\n",
      "\n",
      "15it [00:01, 12.58it/s]\u001B[A\u001B[A\n",
      "\n",
      "\n",
      "2it [00:00, 32.31it/s][A\n",
      "\n",
      "100%|██████████| 20/20 [00:23<00:00,  1.18s/it]\u001B[A"
     ]
    },
    {
     "name": "stdout",
     "output_type": "stream",
     "text": [
      "TOTAL TRAIN LOSS 0.17888410575687885\n",
      "TOTAL EVAL LOSS 0.006990492984186858\n",
      "TRAIN \t1.1936888694763184 secs\n",
      "TRAIN accuracy : 0.14960629921259844\n",
      "EVAL \t0.06296658515930176 secs\n",
      "EVAL accuracy : 0.1495798319327731\n",
      "\n",
      "\n",
      "** ** * Saving fine - tuned model ** ** * \n"
     ]
    },
    {
     "name": "stderr",
     "output_type": "stream",
     "text": [
      "\n"
     ]
    },
    {
     "data": {
      "text/plain": "<Figure size 640x480 with 1 Axes>",
      "image/png": "[encoded data removed]"
     },
     "metadata": {},
     "output_type": "display_data"
    },
    {
     "name": "stderr",
     "output_type": "stream",
     "text": [
      "100%|██████████| 5/5 [01:55<00:00, 23.10s/it]\n"
     ]
    }
   ],
   "source": [
    "df = experiment(num_experiments=5)"
   ],
   "metadata": {
    "collapsed": false,
    "ExecuteTime": {
     "end_time": "2024-01-18T15:10:51.818465Z",
     "start_time": "2024-01-18T15:08:56.303165Z"
    }
   },
   "id": "36a55170938c7bf8",
   "execution_count": 59
  },
  {
   "cell_type": "code",
   "outputs": [
    {
     "data": {
      "text/plain": "    Experiment    Model        Metric     Score\n0            1  GT_BERT  Val Accuracy  0.147992\n1            1  GT_BERT    Train Loss  0.739967\n2            1  GT_BERT      Val Loss  0.084676\n3            1  GT_BERT    Train Time  1.100722\n4            1  GT_BERT      Val Time  0.049578\n5            2  GT_BERT  Val Accuracy  0.149635\n6            2  GT_BERT    Train Loss  0.274520\n7            2  GT_BERT      Val Loss  0.008119\n8            2  GT_BERT    Train Time  1.012588\n9            2  GT_BERT      Val Time  0.045859\n10           3  GT_BERT  Val Accuracy  0.149832\n11           3  GT_BERT    Train Loss  0.115240\n12           3  GT_BERT      Val Loss  0.002644\n13           3  GT_BERT    Train Time  1.123059\n14           3  GT_BERT      Val Time  0.057841\n15           4  GT_BERT  Val Accuracy  0.148741\n16           4  GT_BERT    Train Loss  0.145138\n17           4  GT_BERT      Val Loss  0.003806\n18           4  GT_BERT    Train Time  1.215648\n19           4  GT_BERT      Val Time  0.049420\n20           5  GT_BERT  Val Accuracy  0.149580\n21           5  GT_BERT    Train Loss  0.178884\n22           5  GT_BERT      Val Loss  0.006990\n23           5  GT_BERT    Train Time  1.193689\n24           5  GT_BERT      Val Time  0.062967",
      "text/html": "<div>\n<style scoped>\n    .dataframe tbody tr th:only-of-type {\n        vertical-align: middle;\n    }\n\n    .dataframe tbody tr th {\n        vertical-align: top;\n    }\n\n    .dataframe thead th {\n        text-align: right;\n    }\n</style>\n<table border=\"1\" class=\"dataframe\">\n  <thead>\n    <tr style=\"text-align: right;\">\n      <th></th>\n      <th>Experiment</th>\n      <th>Model</th>\n      <th>Metric</th>\n      <th>Score</th>\n    </tr>\n  </thead>\n  <tbody>\n    <tr>\n      <th>0</th>\n      <td>1</td>\n      <td>GT_BERT</td>\n      <td>Val Accuracy</td>\n      <td>0.147992</td>\n    </tr>\n    <tr>\n      <th>1</th>\n      <td>1</td>\n      <td>GT_BERT</td>\n      <td>Train Loss</td>\n      <td>0.739967</td>\n    </tr>\n    <tr>\n      <th>2</th>\n      <td>1</td>\n      <td>GT_BERT</td>\n      <td>Val Loss</td>\n      <td>0.084676</td>\n    </tr>\n    <tr>\n      <th>3</th>\n      <td>1</td>\n      <td>GT_BERT</td>\n      <td>Train Time</td>\n      <td>1.100722</td>\n    </tr>\n    <tr>\n      <th>4</th>\n      <td>1</td>\n      <td>GT_BERT</td>\n      <td>Val Time</td>\n      <td>0.049578</td>\n    </tr>\n    <tr>\n      <th>5</th>\n      <td>2</td>\n      <td>GT_BERT</td>\n      <td>Val Accuracy</td>\n      <td>0.149635</td>\n    </tr>\n    <tr>\n      <th>6</th>\n      <td>2</td>\n      <td>GT_BERT</td>\n      <td>Train Loss</td>\n      <td>0.274520</td>\n    </tr>\n    <tr>\n      <th>7</th>\n      <td>2</td>\n      <td>GT_BERT</td>\n      <td>Val Loss</td>\n      <td>0.008119</td>\n    </tr>\n    <tr>\n      <th>8</th>\n      <td>2</td>\n      <td>GT_BERT</td>\n      <td>Train Time</td>\n      <td>1.012588</td>\n    </tr>\n    <tr>\n      <th>9</th>\n      <td>2</td>\n      <td>GT_BERT</td>\n      <td>Val Time</td>\n      <td>0.045859</td>\n    </tr>\n    <tr>\n      <th>10</th>\n      <td>3</td>\n      <td>GT_BERT</td>\n      <td>Val Accuracy</td>\n      <td>0.149832</td>\n    </tr>\n    <tr>\n      <th>11</th>\n      <td>3</td>\n      <td>GT_BERT</td>\n      <td>Train Loss</td>\n      <td>0.115240</td>\n    </tr>\n    <tr>\n      <th>12</th>\n      <td>3</td>\n      <td>GT_BERT</td>\n      <td>Val Loss</td>\n      <td>0.002644</td>\n    </tr>\n    <tr>\n      <th>13</th>\n      <td>3</td>\n      <td>GT_BERT</td>\n      <td>Train Time</td>\n      <td>1.123059</td>\n    </tr>\n    <tr>\n      <th>14</th>\n      <td>3</td>\n      <td>GT_BERT</td>\n      <td>Val Time</td>\n      <td>0.057841</td>\n    </tr>\n    <tr>\n      <th>15</th>\n      <td>4</td>\n      <td>GT_BERT</td>\n      <td>Val Accuracy</td>\n      <td>0.148741</td>\n    </tr>\n    <tr>\n      <th>16</th>\n      <td>4</td>\n      <td>GT_BERT</td>\n      <td>Train Loss</td>\n      <td>0.145138</td>\n    </tr>\n    <tr>\n      <th>17</th>\n      <td>4</td>\n      <td>GT_BERT</td>\n      <td>Val Loss</td>\n      <td>0.003806</td>\n    </tr>\n    <tr>\n      <th>18</th>\n      <td>4</td>\n      <td>GT_BERT</td>\n      <td>Train Time</td>\n      <td>1.215648</td>\n    </tr>\n    <tr>\n      <th>19</th>\n      <td>4</td>\n      <td>GT_BERT</td>\n      <td>Val Time</td>\n      <td>0.049420</td>\n    </tr>\n    <tr>\n      <th>20</th>\n      <td>5</td>\n      <td>GT_BERT</td>\n      <td>Val Accuracy</td>\n      <td>0.149580</td>\n    </tr>\n    <tr>\n      <th>21</th>\n      <td>5</td>\n      <td>GT_BERT</td>\n      <td>Train Loss</td>\n      <td>0.178884</td>\n    </tr>\n    <tr>\n      <th>22</th>\n      <td>5</td>\n      <td>GT_BERT</td>\n      <td>Val Loss</td>\n      <td>0.006990</td>\n    </tr>\n    <tr>\n      <th>23</th>\n      <td>5</td>\n      <td>GT_BERT</td>\n      <td>Train Time</td>\n      <td>1.193689</td>\n    </tr>\n    <tr>\n      <th>24</th>\n      <td>5</td>\n      <td>GT_BERT</td>\n      <td>Val Time</td>\n      <td>0.062967</td>\n    </tr>\n  </tbody>\n</table>\n</div>"
     },
     "execution_count": 60,
     "metadata": {},
     "output_type": "execute_result"
    }
   ],
   "source": [
    "df"
   ],
   "metadata": {
    "collapsed": false,
    "ExecuteTime": {
     "end_time": "2024-01-18T15:11:55.937922Z",
     "start_time": "2024-01-18T15:11:55.916382Z"
    }
   },
   "id": "4edbf283ecdebead",
   "execution_count": 60
  },
  {
   "cell_type": "code",
   "outputs": [],
   "source": [
    "# Group by Model and Metric and calculate average and standard deviation\n",
    "result_df = df.groupby(['Model', 'Metric']).agg({'Score': ['mean', 'std']}).reset_index()\n",
    "\n",
    "# Rename columns for clarity\n",
    "result_df.columns = ['Model', 'Metric', 'Average Score', 'Standard Deviation']\n",
    "\n",
    "result_df['Average Score'] = result_df['Average Score'].round(2)\n",
    "result_df['Standard Deviation'] = result_df['Standard Deviation'].round(2)\n",
    "\n",
    "# save the result\n",
    "result_df.to_csv(path_results + 'dataframes/' + 'GT_behrt_results_pretraining_1_global.csv')"
   ],
   "metadata": {
    "collapsed": false,
    "ExecuteTime": {
     "end_time": "2024-01-18T15:11:56.313587Z",
     "start_time": "2024-01-18T15:11:56.309718Z"
    }
   },
   "id": "d224df88f97d04a3",
   "execution_count": 61
  },
  {
   "cell_type": "code",
   "outputs": [
    {
     "data": {
      "text/plain": "     Model        Metric  Average Score  Standard Deviation\n0  GT_BERT    Train Loss           0.29                0.26\n1  GT_BERT    Train Time           1.13                0.08\n2  GT_BERT  Val Accuracy           0.15                0.00\n3  GT_BERT      Val Loss           0.02                0.04\n4  GT_BERT      Val Time           0.05                0.01",
      "text/html": "<div>\n<style scoped>\n    .dataframe tbody tr th:only-of-type {\n        vertical-align: middle;\n    }\n\n    .dataframe tbody tr th {\n        vertical-align: top;\n    }\n\n    .dataframe thead th {\n        text-align: right;\n    }\n</style>\n<table border=\"1\" class=\"dataframe\">\n  <thead>\n    <tr style=\"text-align: right;\">\n      <th></th>\n      <th>Model</th>\n      <th>Metric</th>\n      <th>Average Score</th>\n      <th>Standard Deviation</th>\n    </tr>\n  </thead>\n  <tbody>\n    <tr>\n      <th>0</th>\n      <td>GT_BERT</td>\n      <td>Train Loss</td>\n      <td>0.29</td>\n      <td>0.26</td>\n    </tr>\n    <tr>\n      <th>1</th>\n      <td>GT_BERT</td>\n      <td>Train Time</td>\n      <td>1.13</td>\n      <td>0.08</td>\n    </tr>\n    <tr>\n      <th>2</th>\n      <td>GT_BERT</td>\n      <td>Val Accuracy</td>\n      <td>0.15</td>\n      <td>0.00</td>\n    </tr>\n    <tr>\n      <th>3</th>\n      <td>GT_BERT</td>\n      <td>Val Loss</td>\n      <td>0.02</td>\n      <td>0.04</td>\n    </tr>\n    <tr>\n      <th>4</th>\n      <td>GT_BERT</td>\n      <td>Val Time</td>\n      <td>0.05</td>\n      <td>0.01</td>\n    </tr>\n  </tbody>\n</table>\n</div>"
     },
     "execution_count": 62,
     "metadata": {},
     "output_type": "execute_result"
    }
   ],
   "source": [
    "# print results\n",
    "result_df"
   ],
   "metadata": {
    "collapsed": false,
    "ExecuteTime": {
     "end_time": "2024-01-18T15:11:57.073977Z",
     "start_time": "2024-01-18T15:11:57.067992Z"
    }
   },
   "id": "1af64f654cc95d4f",
   "execution_count": 62
  },
  {
   "cell_type": "markdown",
   "source": [
    "#################################################### Saving ####################################################"
   ],
   "metadata": {
    "collapsed": false
   },
   "id": "cc2d344faf136411"
  },
  {
   "cell_type": "code",
   "execution_count": null,
   "id": "023d8fb9",
   "metadata": {
    "ExecuteTime": {
     "start_time": "2024-01-18T14:50:00.792856Z"
    }
   },
   "outputs": [],
   "source": [
    "#Pour charger les parametre dans un nouveau modele:\n",
    "#new_gnn = GraphTransformer(conf)  # Créez une nouvelle instance de GraphTransformer\n",
    "#new_gnn.load_state_dict(torch.load('../../data/'+'GraphTransformer_pretrain_1' + '.pch'))"
   ]
  },
  {
   "cell_type": "code",
   "execution_count": null,
   "id": "cc26ccf6",
   "metadata": {
    "ExecuteTime": {
     "start_time": "2024-01-18T14:50:00.793511Z"
    }
   },
   "outputs": [],
   "source": []
  }
 ],
 "metadata": {
  "kernelspec": {
   "display_name": "Python 3",
   "language": "python",
   "name": "python3"
  },
  "language_info": {
   "codemirror_mode": {
    "name": "ipython",
    "version": 3
   },
   "file_extension": ".py",
   "mimetype": "text/x-python",
   "name": "python",
   "nbconvert_exporter": "python",
   "pygments_lexer": "ipython3",
   "version": "3.10.12"
  }
 },
 "nbformat": 4,
 "nbformat_minor": 5
}
