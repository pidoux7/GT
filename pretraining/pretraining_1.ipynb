{
 "cells": [
  {
   "cell_type": "markdown",
   "id": "eb3309d60ce9652b",
   "metadata": {
    "collapsed": false
   },
   "source": [
    "#################################################### Importing Libraries ####################################################"
   ]
  },
  {
   "cell_type": "code",
   "execution_count": 1,
   "id": "initial_id",
   "metadata": {
    "collapsed": true,
    "ExecuteTime": {
     "end_time": "2024-01-19T18:27:05.762239Z",
     "start_time": "2024-01-19T18:26:49.744089Z"
    }
   },
   "outputs": [
    {
     "name": "stdout",
     "output_type": "stream",
     "text": [
      "Requirement already satisfied: import_ipynb in /Users/garance/.pyenv/versions/3.11.5/envs/projet_AMAL/lib/python3.11/site-packages (0.1.3)\r\n",
      "\r\n",
      "\u001B[1m[\u001B[0m\u001B[34;49mnotice\u001B[0m\u001B[1;39;49m]\u001B[0m\u001B[39;49m A new release of pip is available: \u001B[0m\u001B[31;49m23.2.1\u001B[0m\u001B[39;49m -> \u001B[0m\u001B[32;49m23.3.2\u001B[0m\r\n",
      "\u001B[1m[\u001B[0m\u001B[34;49mnotice\u001B[0m\u001B[1;39;49m]\u001B[0m\u001B[39;49m To update, run: \u001B[0m\u001B[32;49mpip install --upgrade pip\u001B[0m\r\n",
      "\r\n",
      "\u001B[1m[\u001B[0m\u001B[34;49mnotice\u001B[0m\u001B[1;39;49m]\u001B[0m\u001B[39;49m A new release of pip is available: \u001B[0m\u001B[31;49m23.2.1\u001B[0m\u001B[39;49m -> \u001B[0m\u001B[32;49m23.3.2\u001B[0m\r\n",
      "\u001B[1m[\u001B[0m\u001B[34;49mnotice\u001B[0m\u001B[1;39;49m]\u001B[0m\u001B[39;49m To update, run: \u001B[0m\u001B[32;49mpip install --upgrade pip\u001B[0m\r\n",
      "Requirement already satisfied: pytorch_pretrained_bert in /Users/garance/.pyenv/versions/3.11.5/envs/projet_AMAL/lib/python3.11/site-packages (0.6.2)\r\n",
      "Requirement already satisfied: torch>=0.4.1 in /Users/garance/.pyenv/versions/3.11.5/envs/projet_AMAL/lib/python3.11/site-packages (from pytorch_pretrained_bert) (2.1.0)\r\n",
      "Requirement already satisfied: numpy in /Users/garance/.pyenv/versions/3.11.5/envs/projet_AMAL/lib/python3.11/site-packages (from pytorch_pretrained_bert) (1.26.2)\r\n",
      "Requirement already satisfied: boto3 in /Users/garance/.pyenv/versions/3.11.5/envs/projet_AMAL/lib/python3.11/site-packages (from pytorch_pretrained_bert) (1.34.11)\r\n",
      "Requirement already satisfied: requests in /Users/garance/.pyenv/versions/3.11.5/envs/projet_AMAL/lib/python3.11/site-packages (from pytorch_pretrained_bert) (2.31.0)\r\n",
      "Requirement already satisfied: tqdm in /Users/garance/.pyenv/versions/3.11.5/envs/projet_AMAL/lib/python3.11/site-packages (from pytorch_pretrained_bert) (4.47.0)\r\n",
      "Requirement already satisfied: regex in /Users/garance/.pyenv/versions/3.11.5/envs/projet_AMAL/lib/python3.11/site-packages (from pytorch_pretrained_bert) (2023.12.25)\r\n",
      "Requirement already satisfied: filelock in /Users/garance/.pyenv/versions/3.11.5/envs/projet_AMAL/lib/python3.11/site-packages (from torch>=0.4.1->pytorch_pretrained_bert) (3.13.1)\r\n",
      "Requirement already satisfied: typing-extensions in /Users/garance/.pyenv/versions/3.11.5/envs/projet_AMAL/lib/python3.11/site-packages (from torch>=0.4.1->pytorch_pretrained_bert) (4.9.0)\r\n",
      "Requirement already satisfied: sympy in /Users/garance/.pyenv/versions/3.11.5/envs/projet_AMAL/lib/python3.11/site-packages (from torch>=0.4.1->pytorch_pretrained_bert) (1.12)\r\n",
      "Requirement already satisfied: networkx in /Users/garance/.pyenv/versions/3.11.5/envs/projet_AMAL/lib/python3.11/site-packages (from torch>=0.4.1->pytorch_pretrained_bert) (3.2.1)\r\n",
      "Requirement already satisfied: jinja2 in /Users/garance/.pyenv/versions/3.11.5/envs/projet_AMAL/lib/python3.11/site-packages (from torch>=0.4.1->pytorch_pretrained_bert) (2.11.2)\r\n",
      "Requirement already satisfied: fsspec in /Users/garance/.pyenv/versions/3.11.5/envs/projet_AMAL/lib/python3.11/site-packages (from torch>=0.4.1->pytorch_pretrained_bert) (2023.12.2)\r\n",
      "Requirement already satisfied: botocore<1.35.0,>=1.34.11 in /Users/garance/.pyenv/versions/3.11.5/envs/projet_AMAL/lib/python3.11/site-packages (from boto3->pytorch_pretrained_bert) (1.34.11)\r\n",
      "Requirement already satisfied: jmespath<2.0.0,>=0.7.1 in /Users/garance/.pyenv/versions/3.11.5/envs/projet_AMAL/lib/python3.11/site-packages (from boto3->pytorch_pretrained_bert) (1.0.1)\r\n",
      "Requirement already satisfied: s3transfer<0.11.0,>=0.10.0 in /Users/garance/.pyenv/versions/3.11.5/envs/projet_AMAL/lib/python3.11/site-packages (from boto3->pytorch_pretrained_bert) (0.10.0)\r\n",
      "Requirement already satisfied: charset-normalizer<4,>=2 in /Users/garance/.pyenv/versions/3.11.5/envs/projet_AMAL/lib/python3.11/site-packages (from requests->pytorch_pretrained_bert) (3.3.2)\r\n",
      "Requirement already satisfied: idna<4,>=2.5 in /Users/garance/.pyenv/versions/3.11.5/envs/projet_AMAL/lib/python3.11/site-packages (from requests->pytorch_pretrained_bert) (3.6)\r\n",
      "Requirement already satisfied: urllib3<3,>=1.21.1 in /Users/garance/.pyenv/versions/3.11.5/envs/projet_AMAL/lib/python3.11/site-packages (from requests->pytorch_pretrained_bert) (2.0.7)\r\n",
      "Requirement already satisfied: certifi>=2017.4.17 in /Users/garance/.pyenv/versions/3.11.5/envs/projet_AMAL/lib/python3.11/site-packages (from requests->pytorch_pretrained_bert) (2023.11.17)\r\n",
      "Requirement already satisfied: python-dateutil<3.0.0,>=2.1 in /Users/garance/.pyenv/versions/3.11.5/envs/projet_AMAL/lib/python3.11/site-packages (from botocore<1.35.0,>=1.34.11->boto3->pytorch_pretrained_bert) (2.8.2)\r\n",
      "Requirement already satisfied: MarkupSafe>=0.23 in /Users/garance/.pyenv/versions/3.11.5/envs/projet_AMAL/lib/python3.11/site-packages (from jinja2->torch>=0.4.1->pytorch_pretrained_bert) (2.1.3)\r\n",
      "Requirement already satisfied: mpmath>=0.19 in /Users/garance/.pyenv/versions/3.11.5/envs/projet_AMAL/lib/python3.11/site-packages (from sympy->torch>=0.4.1->pytorch_pretrained_bert) (1.3.0)\r\n",
      "Requirement already satisfied: six>=1.5 in /Users/garance/.pyenv/versions/3.11.5/envs/projet_AMAL/lib/python3.11/site-packages (from python-dateutil<3.0.0,>=2.1->botocore<1.35.0,>=1.34.11->boto3->pytorch_pretrained_bert) (1.16.0)\r\n",
      "\r\n",
      "\u001B[1m[\u001B[0m\u001B[34;49mnotice\u001B[0m\u001B[1;39;49m]\u001B[0m\u001B[39;49m A new release of pip is available: \u001B[0m\u001B[31;49m23.2.1\u001B[0m\u001B[39;49m -> \u001B[0m\u001B[32;49m23.3.2\u001B[0m\r\n",
      "\u001B[1m[\u001B[0m\u001B[34;49mnotice\u001B[0m\u001B[1;39;49m]\u001B[0m\u001B[39;49m To update, run: \u001B[0m\u001B[32;49mpip install --upgrade pip\u001B[0m\r\n",
      "Requirement already satisfied: sparse in /Users/garance/.pyenv/versions/3.11.5/envs/projet_AMAL/lib/python3.11/site-packages (0.14.0)\r\n",
      "Requirement already satisfied: numpy>=1.17 in /Users/garance/.pyenv/versions/3.11.5/envs/projet_AMAL/lib/python3.11/site-packages (from sparse) (1.26.2)\r\n",
      "Requirement already satisfied: scipy>=0.19 in /Users/garance/.pyenv/versions/3.11.5/envs/projet_AMAL/lib/python3.11/site-packages (from sparse) (1.11.4)\r\n",
      "Requirement already satisfied: numba>=0.49 in /Users/garance/.pyenv/versions/3.11.5/envs/projet_AMAL/lib/python3.11/site-packages (from sparse) (0.58.1)\r\n",
      "Requirement already satisfied: llvmlite<0.42,>=0.41.0dev0 in /Users/garance/.pyenv/versions/3.11.5/envs/projet_AMAL/lib/python3.11/site-packages (from numba>=0.49->sparse) (0.41.1)\r\n",
      "\r\n",
      "\u001B[1m[\u001B[0m\u001B[34;49mnotice\u001B[0m\u001B[1;39;49m]\u001B[0m\u001B[39;49m A new release of pip is available: \u001B[0m\u001B[31;49m23.2.1\u001B[0m\u001B[39;49m -> \u001B[0m\u001B[32;49m23.3.2\u001B[0m\r\n",
      "\u001B[1m[\u001B[0m\u001B[34;49mnotice\u001B[0m\u001B[1;39;49m]\u001B[0m\u001B[39;49m To update, run: \u001B[0m\u001B[32;49mpip install --upgrade pip\u001B[0m\r\n",
      "Requirement already satisfied: transformers in /Users/garance/.pyenv/versions/3.11.5/envs/projet_AMAL/lib/python3.11/site-packages (4.36.2)\r\n",
      "Requirement already satisfied: filelock in /Users/garance/.pyenv/versions/3.11.5/envs/projet_AMAL/lib/python3.11/site-packages (from transformers) (3.13.1)\r\n",
      "Requirement already satisfied: huggingface-hub<1.0,>=0.19.3 in /Users/garance/.pyenv/versions/3.11.5/envs/projet_AMAL/lib/python3.11/site-packages (from transformers) (0.20.2)\r\n",
      "Requirement already satisfied: numpy>=1.17 in /Users/garance/.pyenv/versions/3.11.5/envs/projet_AMAL/lib/python3.11/site-packages (from transformers) (1.26.2)\r\n",
      "Requirement already satisfied: packaging>=20.0 in /Users/garance/.pyenv/versions/3.11.5/envs/projet_AMAL/lib/python3.11/site-packages (from transformers) (23.2)\r\n",
      "Requirement already satisfied: pyyaml>=5.1 in /Users/garance/.pyenv/versions/3.11.5/envs/projet_AMAL/lib/python3.11/site-packages (from transformers) (6.0.1)\r\n",
      "Requirement already satisfied: regex!=2019.12.17 in /Users/garance/.pyenv/versions/3.11.5/envs/projet_AMAL/lib/python3.11/site-packages (from transformers) (2023.12.25)\r\n",
      "Requirement already satisfied: requests in /Users/garance/.pyenv/versions/3.11.5/envs/projet_AMAL/lib/python3.11/site-packages (from transformers) (2.31.0)\r\n",
      "Requirement already satisfied: tokenizers<0.19,>=0.14 in /Users/garance/.pyenv/versions/3.11.5/envs/projet_AMAL/lib/python3.11/site-packages (from transformers) (0.15.0)\r\n",
      "Requirement already satisfied: safetensors>=0.3.1 in /Users/garance/.pyenv/versions/3.11.5/envs/projet_AMAL/lib/python3.11/site-packages (from transformers) (0.4.1)\r\n",
      "Requirement already satisfied: tqdm>=4.27 in /Users/garance/.pyenv/versions/3.11.5/envs/projet_AMAL/lib/python3.11/site-packages (from transformers) (4.47.0)\r\n",
      "Requirement already satisfied: fsspec>=2023.5.0 in /Users/garance/.pyenv/versions/3.11.5/envs/projet_AMAL/lib/python3.11/site-packages (from huggingface-hub<1.0,>=0.19.3->transformers) (2023.12.2)\r\n",
      "Requirement already satisfied: typing-extensions>=3.7.4.3 in /Users/garance/.pyenv/versions/3.11.5/envs/projet_AMAL/lib/python3.11/site-packages (from huggingface-hub<1.0,>=0.19.3->transformers) (4.9.0)\r\n",
      "Requirement already satisfied: charset-normalizer<4,>=2 in /Users/garance/.pyenv/versions/3.11.5/envs/projet_AMAL/lib/python3.11/site-packages (from requests->transformers) (3.3.2)\r\n",
      "Requirement already satisfied: idna<4,>=2.5 in /Users/garance/.pyenv/versions/3.11.5/envs/projet_AMAL/lib/python3.11/site-packages (from requests->transformers) (3.6)\r\n",
      "Requirement already satisfied: urllib3<3,>=1.21.1 in /Users/garance/.pyenv/versions/3.11.5/envs/projet_AMAL/lib/python3.11/site-packages (from requests->transformers) (2.0.7)\r\n",
      "Requirement already satisfied: certifi>=2017.4.17 in /Users/garance/.pyenv/versions/3.11.5/envs/projet_AMAL/lib/python3.11/site-packages (from requests->transformers) (2023.11.17)\r\n",
      "\r\n",
      "\u001B[1m[\u001B[0m\u001B[34;49mnotice\u001B[0m\u001B[1;39;49m]\u001B[0m\u001B[39;49m A new release of pip is available: \u001B[0m\u001B[31;49m23.2.1\u001B[0m\u001B[39;49m -> \u001B[0m\u001B[32;49m23.3.2\u001B[0m\r\n",
      "\u001B[1m[\u001B[0m\u001B[34;49mnotice\u001B[0m\u001B[1;39;49m]\u001B[0m\u001B[39;49m To update, run: \u001B[0m\u001B[32;49mpip install --upgrade pip\u001B[0m\r\n",
      "Requirement already satisfied: torchmetrics in /Users/garance/.pyenv/versions/3.11.5/envs/projet_AMAL/lib/python3.11/site-packages (1.2.1)\r\n",
      "Requirement already satisfied: numpy>1.20.0 in /Users/garance/.pyenv/versions/3.11.5/envs/projet_AMAL/lib/python3.11/site-packages (from torchmetrics) (1.26.2)\r\n",
      "Requirement already satisfied: packaging>17.1 in /Users/garance/.pyenv/versions/3.11.5/envs/projet_AMAL/lib/python3.11/site-packages (from torchmetrics) (23.2)\r\n",
      "Requirement already satisfied: torch>=1.8.1 in /Users/garance/.pyenv/versions/3.11.5/envs/projet_AMAL/lib/python3.11/site-packages (from torchmetrics) (2.1.0)\r\n",
      "Requirement already satisfied: lightning-utilities>=0.8.0 in /Users/garance/.pyenv/versions/3.11.5/envs/projet_AMAL/lib/python3.11/site-packages (from torchmetrics) (0.10.0)\r\n",
      "Requirement already satisfied: setuptools in /Users/garance/.pyenv/versions/3.11.5/envs/projet_AMAL/lib/python3.11/site-packages (from lightning-utilities>=0.8.0->torchmetrics) (65.5.0)\r\n",
      "Requirement already satisfied: typing-extensions in /Users/garance/.pyenv/versions/3.11.5/envs/projet_AMAL/lib/python3.11/site-packages (from lightning-utilities>=0.8.0->torchmetrics) (4.9.0)\r\n",
      "Requirement already satisfied: filelock in /Users/garance/.pyenv/versions/3.11.5/envs/projet_AMAL/lib/python3.11/site-packages (from torch>=1.8.1->torchmetrics) (3.13.1)\r\n",
      "Requirement already satisfied: sympy in /Users/garance/.pyenv/versions/3.11.5/envs/projet_AMAL/lib/python3.11/site-packages (from torch>=1.8.1->torchmetrics) (1.12)\r\n",
      "Requirement already satisfied: networkx in /Users/garance/.pyenv/versions/3.11.5/envs/projet_AMAL/lib/python3.11/site-packages (from torch>=1.8.1->torchmetrics) (3.2.1)\r\n",
      "Requirement already satisfied: jinja2 in /Users/garance/.pyenv/versions/3.11.5/envs/projet_AMAL/lib/python3.11/site-packages (from torch>=1.8.1->torchmetrics) (2.11.2)\r\n",
      "Requirement already satisfied: fsspec in /Users/garance/.pyenv/versions/3.11.5/envs/projet_AMAL/lib/python3.11/site-packages (from torch>=1.8.1->torchmetrics) (2023.12.2)\r\n",
      "Requirement already satisfied: MarkupSafe>=0.23 in /Users/garance/.pyenv/versions/3.11.5/envs/projet_AMAL/lib/python3.11/site-packages (from jinja2->torch>=1.8.1->torchmetrics) (2.1.3)\r\n",
      "Requirement already satisfied: mpmath>=0.19 in /Users/garance/.pyenv/versions/3.11.5/envs/projet_AMAL/lib/python3.11/site-packages (from sympy->torch>=1.8.1->torchmetrics) (1.3.0)\r\n",
      "\r\n",
      "\u001B[1m[\u001B[0m\u001B[34;49mnotice\u001B[0m\u001B[1;39;49m]\u001B[0m\u001B[39;49m A new release of pip is available: \u001B[0m\u001B[31;49m23.2.1\u001B[0m\u001B[39;49m -> \u001B[0m\u001B[32;49m23.3.2\u001B[0m\r\n",
      "\u001B[1m[\u001B[0m\u001B[34;49mnotice\u001B[0m\u001B[1;39;49m]\u001B[0m\u001B[39;49m To update, run: \u001B[0m\u001B[32;49mpip install --upgrade pip\u001B[0m\r\n",
      "2.1.0\n",
      "\r\n",
      "\u001B[1m[\u001B[0m\u001B[34;49mnotice\u001B[0m\u001B[1;39;49m]\u001B[0m\u001B[39;49m A new release of pip is available: \u001B[0m\u001B[31;49m23.2.1\u001B[0m\u001B[39;49m -> \u001B[0m\u001B[32;49m23.3.2\u001B[0m\r\n",
      "\u001B[1m[\u001B[0m\u001B[34;49mnotice\u001B[0m\u001B[1;39;49m]\u001B[0m\u001B[39;49m To update, run: \u001B[0m\u001B[32;49mpip install --upgrade pip\u001B[0m\r\n",
      "\r\n",
      "\u001B[1m[\u001B[0m\u001B[34;49mnotice\u001B[0m\u001B[1;39;49m]\u001B[0m\u001B[39;49m A new release of pip is available: \u001B[0m\u001B[31;49m23.2.1\u001B[0m\u001B[39;49m -> \u001B[0m\u001B[32;49m23.3.2\u001B[0m\r\n",
      "\u001B[1m[\u001B[0m\u001B[34;49mnotice\u001B[0m\u001B[1;39;49m]\u001B[0m\u001B[39;49m To update, run: \u001B[0m\u001B[32;49mpip install --upgrade pip\u001B[0m\r\n",
      "\r\n",
      "\u001B[1m[\u001B[0m\u001B[34;49mnotice\u001B[0m\u001B[1;39;49m]\u001B[0m\u001B[39;49m A new release of pip is available: \u001B[0m\u001B[31;49m23.2.1\u001B[0m\u001B[39;49m -> \u001B[0m\u001B[32;49m23.3.2\u001B[0m\r\n",
      "\u001B[1m[\u001B[0m\u001B[34;49mnotice\u001B[0m\u001B[1;39;49m]\u001B[0m\u001B[39;49m To update, run: \u001B[0m\u001B[32;49mpip install --upgrade pip\u001B[0m\r\n"
     ]
    }
   ],
   "source": [
    "!pip install import_ipynb\n",
    "!pip install -U -q PyDrive\n",
    "!pip install pytorch_pretrained_bert\n",
    "!pip install sparse\n",
    "!pip install transformers\n",
    "!pip install torchmetrics\n",
    "import os\n",
    "import torch\n",
    "os.environ['TORCH'] = torch.__version__\n",
    "print(torch.__version__)\n",
    "!pip install -q torch-scatter -f https://data.pyg.org/whl/torch-${TORCH}.html\n",
    "!pip install -q torch-sparse -f https://data.pyg.org/whl/torch-${TORCH}.html\n",
    "!pip install -q git+https://github.com/pyg-team/pytorch_geometric.git"
   ]
  },
  {
   "cell_type": "code",
   "execution_count": 2,
   "id": "39fd4fd9552085c2",
   "metadata": {
    "collapsed": false,
    "ExecuteTime": {
     "end_time": "2024-01-19T18:27:06.975166Z",
     "start_time": "2024-01-19T18:27:05.762702Z"
    }
   },
   "outputs": [
    {
     "name": "stdout",
     "output_type": "stream",
     "text": [
      "Requirement already satisfied: einops in /Users/garance/.pyenv/versions/3.11.5/envs/projet_AMAL/lib/python3.11/site-packages (0.7.0)\r\n",
      "\r\n",
      "\u001B[1m[\u001B[0m\u001B[34;49mnotice\u001B[0m\u001B[1;39;49m]\u001B[0m\u001B[39;49m A new release of pip is available: \u001B[0m\u001B[31;49m23.2.1\u001B[0m\u001B[39;49m -> \u001B[0m\u001B[32;49m23.3.2\u001B[0m\r\n",
      "\u001B[1m[\u001B[0m\u001B[34;49mnotice\u001B[0m\u001B[1;39;49m]\u001B[0m\u001B[39;49m To update, run: \u001B[0m\u001B[32;49mpip install --upgrade pip\u001B[0m\r\n"
     ]
    }
   ],
   "source": [
    "!pip install einops"
   ]
  },
  {
   "cell_type": "code",
   "execution_count": 3,
   "id": "a6e0e82211314cd0",
   "metadata": {
    "collapsed": false,
    "ExecuteTime": {
     "end_time": "2024-01-19T18:27:08.148939Z",
     "start_time": "2024-01-19T18:27:06.978190Z"
    }
   },
   "outputs": [
    {
     "name": "stderr",
     "output_type": "stream",
     "text": [
      "/Users/garance/.pyenv/versions/3.11.5/envs/projet_AMAL/lib/python3.11/site-packages/torch_geometric/typing.py:63: UserWarning: An issue occurred while importing 'torch-scatter'. Disabling its usage. Stacktrace: dlopen(/Users/garance/.pyenv/versions/3.11.5/envs/projet_AMAL/lib/python3.11/site-packages/torch_scatter/_scatter_cpu.so, 0x0006): Symbol not found: __ZN5torch8autograd13_wrap_outputsERKNSt3__16vectorIN2at6TensorENS1_9allocatorIS4_EEEERKNS1_13unordered_setIPN3c1010TensorImplENS1_4hashISD_EENS1_8equal_toISD_EENS5_ISD_EEEESL_NSB_8ArrayRefINSB_8optionalIS4_EEEERKNS1_10shared_ptrINS0_4NodeEEENS1_8functionIFS7_S7_S7_EEE\n",
      "  Referenced from: <BEF9F452-9D77-323E-91B8-AF667F303838> /Users/garance/.pyenv/versions/3.11.5/envs/projet_AMAL/lib/python3.11/site-packages/torch_scatter/_scatter_cpu.so\n",
      "  Expected in:     <66FB8649-BB87-3CD6-A177-462038DCAE02> /Users/garance/.pyenv/versions/3.11.5/envs/projet_AMAL/lib/python3.11/site-packages/torch/lib/libtorch_cpu.dylib\n",
      "  warnings.warn(f\"An issue occurred while importing 'torch-scatter'. \"\n",
      "/Users/garance/.pyenv/versions/3.11.5/envs/projet_AMAL/lib/python3.11/site-packages/torch_geometric/typing.py:101: UserWarning: An issue occurred while importing 'torch-sparse'. Disabling its usage. Stacktrace: dlopen(/Users/garance/.pyenv/versions/3.11.5/envs/projet_AMAL/lib/python3.11/site-packages/torch_sparse/_spmm_cpu.so, 0x0006): Symbol not found: __ZN5torch8autograd13_wrap_outputsERKNSt3__16vectorIN2at6TensorENS1_9allocatorIS4_EEEERKNS1_13unordered_setIPN3c1010TensorImplENS1_4hashISD_EENS1_8equal_toISD_EENS5_ISD_EEEESL_NSB_8ArrayRefINSB_8optionalIS4_EEEERKNS1_10shared_ptrINS0_4NodeEEENS1_8functionIFS7_S7_S7_EEE\n",
      "  Referenced from: <4D05D979-F268-321D-A145-18B3BDA59213> /Users/garance/.pyenv/versions/3.11.5/envs/projet_AMAL/lib/python3.11/site-packages/torch_sparse/_spmm_cpu.so\n",
      "  Expected in:     <66FB8649-BB87-3CD6-A177-462038DCAE02> /Users/garance/.pyenv/versions/3.11.5/envs/projet_AMAL/lib/python3.11/site-packages/torch/lib/libtorch_cpu.dylib\n",
      "  warnings.warn(f\"An issue occurred while importing 'torch-sparse'. \"\n"
     ]
    }
   ],
   "source": [
    "# Authenticate and create the PyDrive client.\n",
    "# This only needs to be done once per notebook.\n",
    "\n",
    "import torch\n",
    "from torch_geometric.data import Data\n",
    "\n",
    "import numpy as np\n",
    "import sparse\n",
    "\n",
    "import torch.nn as nn\n",
    "import torch.nn.functional as F\n",
    "import torch_geometric.nn as tgmnn\n",
    "from torch_geometric.nn import global_mean_pool\n",
    "from torch_geometric.loader import DataListLoader as GraphLoader\n",
    "from torch_geometric.data import Batch\n",
    "\n",
    "from torch.nn import TransformerEncoder, TransformerEncoderLayer, TransformerDecoder, TransformerDecoderLayer\n",
    "import time\n",
    "from sklearn import preprocessing\n",
    "import math\n",
    "from torch.utils.data import Dataset\n",
    "import copy\n",
    "import sklearn.metrics as skm\n",
    "import pandas as pd\n",
    "import random\n",
    "from torch.utils.data.dataset import Dataset\n",
    "import pytorch_pretrained_bert as Bert\n",
    "import itertools\n",
    "from einops import rearrange, repeat\n",
    "\n",
    "import ast\n",
    "from typing import Optional, Tuple, Union\n",
    "from torch_geometric.nn.conv import MessagePassing\n",
    "from torch_geometric.nn.dense.linear import Linear\n",
    "from torch_geometric.typing import Adj, OptTensor, PairTensor, SparseTensor\n",
    "from torch_geometric.utils import softmax\n",
    "from torch_geometric.nn.conv import MessagePassing\n",
    "from torch_geometric.nn import LayerNorm\n",
    "import torch.nn.functional as F\n",
    "from torch import Tensor\n",
    "\n",
    "from sklearn.model_selection import ShuffleSplit\n",
    "import pickle\n",
    "from matplotlib import pyplot as plt\n",
    "from tqdm import tqdm\n",
    "\n",
    "from torch.utils.tensorboard import SummaryWriter"
   ]
  },
  {
   "cell_type": "markdown",
   "source": [
    "#################################################### Start tensorboard ####################################################"
   ],
   "metadata": {
    "collapsed": false
   },
   "id": "907727436e6962d1"
  },
  {
   "cell_type": "code",
   "outputs": [],
   "source": [
    "# %load_ext tensorboard\n",
    "# %reload_ext tensorboard\n",
    "# # %tensorboard --logdir $log_dir --port 6006"
   ],
   "metadata": {
    "collapsed": false,
    "ExecuteTime": {
     "end_time": "2024-01-19T18:27:08.157531Z",
     "start_time": "2024-01-19T18:27:08.149958Z"
    }
   },
   "id": "28d968c06dab59b6",
   "execution_count": 4
  },
  {
   "cell_type": "markdown",
   "source": [
    "#################################################### Defining classes ####################################################"
   ],
   "metadata": {
    "collapsed": false
   },
   "id": "a93aef5aba8cac70"
  },
  {
   "cell_type": "code",
   "execution_count": 5,
   "id": "4f4d4485cac2fe92",
   "metadata": {
    "collapsed": false,
    "ExecuteTime": {
     "end_time": "2024-01-19T18:27:08.163179Z",
     "start_time": "2024-01-19T18:27:08.159143Z"
    }
   },
   "outputs": [],
   "source": [
    "#######################################################################################################################################\n",
    "###################################################### Transformer Conv ###############################################################\n",
    "#######################################################################################################################################\n",
    "\n",
    "class TransformerConv(MessagePassing):\n",
    "    _alpha: OptTensor\n",
    "    def __init__(\n",
    "        self,\n",
    "        in_channels: Union[int, Tuple[int, int]],\n",
    "        out_channels: int,\n",
    "        heads: int = 1,\n",
    "        concat: bool = True,\n",
    "        beta: bool = False,\n",
    "        dropout: float = 0.,\n",
    "        edge_dim: Optional[int] = None,\n",
    "        bias: bool = True,\n",
    "        root_weight: bool = True,\n",
    "        **kwargs,\n",
    "    ):\n",
    "        kwargs.setdefault('aggr', 'add')\n",
    "        super().__init__(node_dim=0, **kwargs)\n",
    "\n",
    "        self.in_channels = in_channels\n",
    "        self.out_channels = out_channels\n",
    "        self.heads = heads\n",
    "        self.beta = beta and root_weight\n",
    "        self.root_weight = root_weight\n",
    "        self.concat = concat\n",
    "        self.dropout = dropout\n",
    "        self.edge_dim = edge_dim\n",
    "        self._alpha = None\n",
    "\n",
    "        if isinstance(in_channels, int):\n",
    "            in_channels = (in_channels, in_channels)\n",
    "\n",
    "        self.lin_key = Linear(in_channels[0], heads * out_channels)\n",
    "        self.lin_query = Linear(in_channels[1], heads * out_channels)\n",
    "        self.lin_value = Linear(in_channels[0], heads * out_channels)\n",
    "        self.layernorm1 = LayerNorm(out_channels)\n",
    "        self.layernorm2 = LayerNorm(out_channels)\n",
    "        self.gelu = nn.GELU()\n",
    "        self.proj = Linear(heads * out_channels, out_channels)\n",
    "        self.ffn = Linear(out_channels, out_channels)\n",
    "        self.ffn2 = Linear(out_channels, out_channels)\n",
    "        if edge_dim is not None:\n",
    "            self.lin_edge = Linear(edge_dim, heads * out_channels, bias=False)\n",
    "        else:\n",
    "            self.lin_edge = self.register_parameter('lin_edge', None)\n",
    "\n",
    "\n",
    "        self.reset_parameters()\n",
    "\n",
    "    def reset_parameters(self):\n",
    "        super().reset_parameters()\n",
    "        self.lin_key.reset_parameters()\n",
    "        self.lin_query.reset_parameters()\n",
    "        self.lin_value.reset_parameters()\n",
    "        if self.edge_dim:\n",
    "            self.lin_edge.reset_parameters()\n",
    "\n",
    "\n",
    "    def forward(self, x: Union[Tensor, PairTensor], edge_index: Adj,\n",
    "                edge_attr: OptTensor = None, batch=None, return_attention_weights=None):\n",
    "        # type: (Union[Tensor, PairTensor], Tensor, OptTensor, NoneType) -> Tensor  # noqa\n",
    "        # type: (Union[Tensor, PairTensor], SparseTensor, OptTensor, NoneType) -> Tensor  # noqa\n",
    "        # type: (Union[Tensor, PairTensor], Tensor, OptTensor, bool) -> Tuple[Tensor, Tuple[Tensor, Tensor]]  # noqa\n",
    "        # type: (Union[Tensor, PairTensor], Tensor, OptTensor, bool) -> Tuple[Tensor, Tuple[Tensor, Tensor]]  # noqa\n",
    "        # type: (Union[Tensor, PairTensor], SparseTensor, OptTensor, bool) -> Tuple[Tensor, SparseTensor]  # noqa\n",
    "        r\"\"\"Runs the forward pass of the module.\n",
    "\n",
    "        Args:\n",
    "            return_attention_weights (bool, optional): If set to :obj:`True`,\n",
    "                will additionally return the tuple\n",
    "                :obj:`(edge_index, attention_weights)`, holding the computed\n",
    "                attention weights for each edge. (default: :obj:`None`)\n",
    "        \"\"\"\n",
    "        H, C = self.heads, self.out_channels\n",
    "        residual = x\n",
    "        x = self.layernorm1(x, batch)\n",
    "        if isinstance(x, Tensor):\n",
    "            x: PairTensor = (x, x)\n",
    "        query = self.lin_query(x[1]).view(-1, H, C)\n",
    "        key = self.lin_key(x[0]).view(-1, H, C)\n",
    "        value = self.lin_value(x[0]).view(-1, H, C)\n",
    "        # propagate_type: (query: Tensor, key:Tensor, value: Tensor, edge_attr: OptTensor) # noqa\n",
    "        out = self.propagate(edge_index, query=query, key=key, value=value,\n",
    "                             edge_attr=edge_attr, size=None)\n",
    "        alpha = self._alpha\n",
    "        self._alpha = None\n",
    "        if self.concat:\n",
    "            out = self.proj(out.view(-1, self.heads * self.out_channels))\n",
    "        else:\n",
    "            out = out.mean(dim=1)\n",
    "        out = F.dropout(out, p=self.dropout, training=self.training)\n",
    "        out = out+residual\n",
    "        residual = out\n",
    "\n",
    "        out = self.layernorm2(out)\n",
    "        out = self.gelu(self.ffn(out))\n",
    "        out = F.dropout(out, p=self.dropout, training=self.training)\n",
    "        out = self.ffn2(out)\n",
    "        out = F.dropout(out, p=self.dropout, training=self.training)\n",
    "        out = out + residual\n",
    "        if isinstance(return_attention_weights, bool):\n",
    "            assert alpha is not None\n",
    "            if isinstance(edge_index, Tensor):\n",
    "                return out, (edge_index, alpha)\n",
    "            elif isinstance(edge_index, SparseTensor):\n",
    "                return out, edge_index.set_value(alpha, layout='coo')\n",
    "        else:\n",
    "            return out\n",
    "\n",
    "    def message(self, query_i: Tensor, key_j: Tensor, value_j: Tensor,\n",
    "                edge_attr: OptTensor, index: Tensor, ptr: OptTensor,\n",
    "                size_i: Optional[int]) -> Tensor:\n",
    "\n",
    "\n",
    "        if self.lin_edge is not None:\n",
    "            assert edge_attr is not None\n",
    "            edge_attr = self.lin_edge(edge_attr).view(-1, self.heads,\n",
    "                                                      self.out_channels)\n",
    "            key_j = key_j + edge_attr\n",
    "\n",
    "        alpha = (query_i * key_j).sum(dim=-1) / math.sqrt(self.out_channels)\n",
    "        alpha = softmax(alpha, index, ptr, size_i)\n",
    "        self._alpha = alpha\n",
    "        alpha = F.dropout(alpha, p=self.dropout, training=self.training)\n",
    "\n",
    "        out = value_j\n",
    "        if edge_attr is not None:\n",
    "            out = out + edge_attr\n",
    "\n",
    "        out = out * alpha.view(-1, self.heads, 1)\n",
    "        return out\n",
    "\n",
    "    def __repr__(self) -> str:\n",
    "        return (f'{self.__class__.__name__}({self.in_channels}, '\n",
    "                f'{self.out_channels}, heads={self.heads})')"
   ]
  },
  {
   "cell_type": "code",
   "execution_count": 6,
   "id": "f416b0d45c5ca51c",
   "metadata": {
    "collapsed": false,
    "ExecuteTime": {
     "end_time": "2024-01-19T18:27:08.164744Z",
     "start_time": "2024-01-19T18:27:08.162970Z"
    }
   },
   "outputs": [],
   "source": [
    "#######################################################################################################################################\n",
    "###################################################### Graph Transformer ###############################################################\n",
    "#######################################################################################################################################\n",
    "\n",
    "class GraphTransformer(torch.nn.Module):\n",
    "    def __init__(self, config):\n",
    "        super().__init__()\n",
    "        \n",
    "        self.transformerconv1 = TransformerConv(config.hidden_size // 5, config.hidden_size // 5, heads=2, edge_dim=config.hidden_size // 5, dropout=config.hidden_dropout_prob, concat=True)\n",
    "        self.transformerconv2 = TransformerConv(config.hidden_size // 5, config.hidden_size // 5, heads=2, edge_dim=config.hidden_size // 5, dropout=config.hidden_dropout_prob, concat=True)\n",
    "        self.transformerconv3 = TransformerConv(config.hidden_size // 5, config.hidden_size // 5, heads=2, edge_dim=config.hidden_size // 5, dropout=config.hidden_dropout_prob, concat=False)\n",
    "        \n",
    "        self.embed = nn.Embedding(config.vocab_size, config.hidden_size // 5) \n",
    "        self.embed_ee = nn.Embedding(config.node_attr_size, config.hidden_size // 5)\n",
    "                    \n",
    "\n",
    "    def forward(self, x, edge_index, edge_index_readout, edge_attr, batch):\n",
    "        #print(\"GT\")\n",
    "        indices = (x==0).nonzero().squeeze()\n",
    "        h_nodes = self.transformerconv1(x=self.embed(x), edge_index=edge_index, edge_attr=self.embed_ee(edge_attr), batch=batch)\n",
    "        h_nodes = nn.GELU()(h_nodes)\n",
    "        h_nodes = self.transformerconv2(x=h_nodes, edge_index=edge_index, edge_attr=self.embed_ee(edge_attr), batch=batch)\n",
    "        h_nodes = nn.GELU()(h_nodes)\n",
    "        h_nodes = self.transformerconv3(x=h_nodes, edge_index=edge_index, edge_attr=self.embed_ee(edge_attr), batch=batch)\n",
    "        x = h_nodes[indices]\n",
    "        return x, h_nodes"
   ]
  },
  {
   "cell_type": "code",
   "execution_count": 7,
   "id": "b2c6b6ff5ca752b7",
   "metadata": {
    "collapsed": false,
    "ExecuteTime": {
     "end_time": "2024-01-19T18:27:08.167246Z",
     "start_time": "2024-01-19T18:27:08.165858Z"
    }
   },
   "outputs": [],
   "source": [
    "#######################################################################################################################################\n",
    "######################################################## Bert Config ##################################################################\n",
    "#######################################################################################################################################\n",
    "\n",
    "class BertConfig(Bert.modeling.BertConfig):\n",
    "    def __init__(self, config):\n",
    "        super(BertConfig, self).__init__(\n",
    "            vocab_size_or_config_json_file=config.get('vocab_size'),\n",
    "            hidden_size=config['hidden_size'],\n",
    "            num_hidden_layers=config.get('num_hidden_layers'),\n",
    "            num_attention_heads=config.get('num_attention_heads'),\n",
    "            intermediate_size=config.get('intermediate_size'),\n",
    "            hidden_act=config.get('hidden_act'),\n",
    "            hidden_dropout_prob=config.get('hidden_dropout_prob'),\n",
    "            attention_probs_dropout_prob=config.get('attention_probs_dropout_prob'),\n",
    "            max_position_embeddings = config.get('max_position_embedding'),\n",
    "            initializer_range=config.get('initializer_range'),\n",
    "        )\n",
    "        self.age_vocab_size = config.get('age_vocab_size')\n",
    "        self.type_vocab_size = config.get('type_vocab_size')\n",
    "        self.time_vocab_size = config.get('time_vocab_size')\n",
    "        self.graph_dropout_prob = config.get('graph_dropout_prob')\n",
    "        self.node_attr_size = config.get('node_attr_size')\n",
    "        "
   ]
  },
  {
   "cell_type": "code",
   "execution_count": 8,
   "id": "8e7c1dd8",
   "metadata": {
    "ExecuteTime": {
     "end_time": "2024-01-19T18:27:08.187026Z",
     "start_time": "2024-01-19T18:27:08.168408Z"
    }
   },
   "outputs": [],
   "source": [
    "class Pre_training_1(nn.Module):\n",
    "    def __init__(self, config):\n",
    "        super(Pre_training_1, self).__init__()\n",
    "        self.config = config\n",
    "        self.gnn = GraphTransformer(config)\n",
    "        self.linear = nn.Linear(self.config.hidden_size // 5, self.config.vocab_size)\n",
    "        self.layers = nn.ModuleList([self.gnn, self.linear])\n",
    "\n",
    "    def forward(self, nodes, edge_index, edge_index_readout, edge_attr, batch):\n",
    "        # Define the forward pass using self.gnn and self.linear as needed\n",
    "        vst,x = self.gnn(nodes, edge_index, edge_index_readout, edge_attr, batch)\n",
    "        x = self.linear(x)\n",
    "        return x"
   ]
  },
  {
   "cell_type": "code",
   "execution_count": 9,
   "id": "e351bc79848c792a",
   "metadata": {
    "collapsed": false,
    "ExecuteTime": {
     "end_time": "2024-01-19T18:27:08.187469Z",
     "start_time": "2024-01-19T18:27:08.170721Z"
    }
   },
   "outputs": [],
   "source": [
    "#######################################################################################################################################\n",
    "############################################################ GDSet ####################################################################\n",
    "#######################################################################################################################################\n",
    "\n",
    "class GDSet(Dataset):\n",
    "    def __init__(self, g):\n",
    "        self.g = g\n",
    "\n",
    "    def __getitem__(self, index):\n",
    "\n",
    "        g = self.g[index]\n",
    "        for i in range(len(g)):\n",
    "          g[i]['posi_ids'] = i\n",
    "        return g\n",
    "\n",
    "    def __len__(self):\n",
    "        return len(self.g)"
   ]
  },
  {
   "cell_type": "markdown",
   "id": "af27382901bf1746",
   "metadata": {
    "collapsed": false
   },
   "source": [
    "#################################################### Importing Data ######################################################"
   ]
  },
  {
   "cell_type": "code",
   "outputs": [],
   "source": [
    "path = '../../data/'\n",
    "path_results = '../../results/'"
   ],
   "metadata": {
    "collapsed": false,
    "ExecuteTime": {
     "end_time": "2024-01-19T18:27:08.188494Z",
     "start_time": "2024-01-19T18:27:08.174019Z"
    }
   },
   "id": "532b044cc487cb7c",
   "execution_count": 10
  },
  {
   "cell_type": "code",
   "execution_count": 11,
   "id": "81192e04deabcfb9",
   "metadata": {
    "collapsed": false,
    "ExecuteTime": {
     "end_time": "2024-01-19T18:27:09.425756Z",
     "start_time": "2024-01-19T18:27:08.175693Z"
    }
   },
   "outputs": [],
   "source": [
    "with open(path + 'data_pad100.pkl', 'rb') as handle:\n",
    "    dataset = pickle.load(handle)"
   ]
  },
  {
   "cell_type": "markdown",
   "id": "d9db8d113daefd13",
   "metadata": {
    "collapsed": false
   },
   "source": [
    "##################################################### Splitting Data ######################################################"
   ]
  },
  {
   "cell_type": "code",
   "execution_count": 12,
   "id": "36bd142a2914b09e",
   "metadata": {
    "collapsed": false,
    "ExecuteTime": {
     "end_time": "2024-01-19T18:27:09.427571Z",
     "start_time": "2024-01-19T18:27:09.426078Z"
    }
   },
   "outputs": [],
   "source": [
    "#######################################################################################################################################\n",
    "pourcentage_nodes_to_mask = 0.15\n",
    "labels_masked_nodes = []\n",
    "mask_node_embeddings = 2"
   ]
  },
  {
   "cell_type": "code",
   "execution_count": 13,
   "id": "11f332815fae943e",
   "metadata": {
    "collapsed": false,
    "ExecuteTime": {
     "end_time": "2024-01-19T18:27:09.434598Z",
     "start_time": "2024-01-19T18:27:09.428870Z"
    }
   },
   "outputs": [],
   "source": [
    "def split_dataset(dataset, train_params, random_seed=1):\n",
    "  rs = ShuffleSplit(n_splits=1, test_size=train_params.get('test_split'), random_state=random_seed)\n",
    "\n",
    "  for i, (train_index_tmp, test_index) in enumerate(rs.split(dataset)):\n",
    "    rs2 = ShuffleSplit(n_splits=1, test_size=train_params.get('val_split'), random_state=random_seed)\n",
    "    \n",
    "    for j, (train_index, val_index) in enumerate(rs2.split(train_index_tmp)):\n",
    "      train_index = train_index_tmp[train_index]\n",
    "      val_index = train_index_tmp[val_index]\n",
    "      trainDSet = [dataset[x] for x in train_index]\n",
    "      valDSet = [dataset[x] for x in val_index]\n",
    "      testDSet = [dataset[x] for x in test_index]\n",
    "\n",
    "      return trainDSet, valDSet, testDSet"
   ]
  },
  {
   "cell_type": "markdown",
   "id": "55a004db21db04ce",
   "metadata": {
    "collapsed": false
   },
   "source": [
    "###################################################### Config Files ######################################################"
   ]
  },
  {
   "cell_type": "code",
   "execution_count": 14,
   "id": "c2724e7a55d6dadc",
   "metadata": {
    "collapsed": false,
    "ExecuteTime": {
     "end_time": "2024-01-19T18:27:09.435054Z",
     "start_time": "2024-01-19T18:27:09.432015Z"
    }
   },
   "outputs": [],
   "source": [
    "train_params = {\n",
    "    'batch_size': 5,\n",
    "    'max_len_seq': 50,\n",
    "    #'device': \"cuda\" if torch.cuda.is_available() else (\"mps\" if torch.backends.mps.is_available() else \"cpu\"),\n",
    "    'device': \"cpu\",\n",
    "    'data_len' : len(dataset),\n",
    "    'val_split' : 0.1,\n",
    "    'test_split' : 0.2,\n",
    "    'train_data_len' : int(0.9*0.8*len(dataset)),   # the train dataset is 90% of 80% of the whole dataset\n",
    "    'val_data_len' : int(0.1*0.8*len(dataset)),   # the validation dataset is 10% of 80% of the whole dataset\n",
    "    'test_data_len' : int(0.2*len(dataset)),   # the test dataset is 20% of the whole dataset\n",
    "    'epochs' : 15,\n",
    "    'lr': 0.0001,\n",
    "    'weight_decay': 0.0001\n",
    "}\n",
    "\n",
    "model_config = {\n",
    "    'vocab_size': 9405, # number of disease + symbols for word embedding (avec vst) + 1 for mask\n",
    "    'edge_relationship_size': 8, # number of vocab for edge_attr\n",
    "    'hidden_size': 50*5, # word embedding and seg embedding hidden size\n",
    "    'seg_vocab_size': 2, # number of vocab for seg embedding\n",
    "    'age_vocab_size': 151, # number of vocab for age embedding\n",
    "    'time_vocab_size': 380, # number of vocab for time embedding\n",
    "    'type_vocab_size': 11+1, # number of vocab for type embedding + 1 for mask\n",
    "    'node_attr_size': 8, # number of vocab for node_attr embedding\n",
    "    'num_labels':1,\n",
    "    'max_position_embedding': 50, # maximum number of tokens\n",
    "    'hidden_dropout_prob': 0.2, # dropout rate\n",
    "    'graph_dropout_prob': 0.2, # dropout rate\n",
    "    'num_hidden_layers': 6, # number of multi-head attention layers required\n",
    "    'num_attention_heads': 2, # number of attention heads\n",
    "    'attention_probs_dropout_prob': 0.2, # multi-head attention dropout rate\n",
    "    'intermediate_size': 512, # the size of the \"intermediate\" layer in the transformer encoder\n",
    "    'hidden_act': 'gelu', # The non-linear activation function in the encoder and the pooler \"gelu\", 'relu', 'swish' are supported\n",
    "    'initializer_range': 0.02, # parameter weight initializer range\n",
    "    'n_layers' : 3 - 1,\n",
    "    'alpha' : 0.1\n",
    "}"
   ]
  },
  {
   "cell_type": "markdown",
   "id": "2d4fe3f5c666bab2",
   "metadata": {
    "collapsed": false
   },
   "source": [
    "######################################################## CUDA ##########################################################"
   ]
  },
  {
   "cell_type": "code",
   "execution_count": 15,
   "id": "1c787c2405763db0",
   "metadata": {
    "collapsed": false,
    "ExecuteTime": {
     "end_time": "2024-01-19T18:27:09.436578Z",
     "start_time": "2024-01-19T18:27:09.433824Z"
    }
   },
   "outputs": [
    {
     "name": "stdout",
     "output_type": "stream",
     "text": [
      "device:  cpu\n"
     ]
    }
   ],
   "source": [
    "# print which device is used\n",
    "print('device: ', train_params['device'])"
   ]
  },
  {
   "cell_type": "markdown",
   "id": "7cb286a7f3cab35",
   "metadata": {
    "collapsed": false
   },
   "source": [
    "#################################################### Training Functions ####################################################"
   ]
  },
  {
   "cell_type": "code",
   "execution_count": 16,
   "id": "9900c235",
   "metadata": {
    "ExecuteTime": {
     "end_time": "2024-01-19T18:27:09.438484Z",
     "start_time": "2024-01-19T18:27:09.435708Z"
    }
   },
   "outputs": [],
   "source": [
    "# print(len(vars))\n",
    "# print(type(vars))\n",
    "# print(vars[-1].shape)"
   ]
  },
  {
   "cell_type": "code",
   "execution_count": 17,
   "id": "f469dbb0caa05f8e",
   "metadata": {
    "collapsed": false,
    "ExecuteTime": {
     "end_time": "2024-01-19T18:27:09.441925Z",
     "start_time": "2024-01-19T18:27:09.439832Z"
    }
   },
   "outputs": [],
   "source": [
    "def train(model, optim, trainload, device, writer, epoch):\n",
    "    tr_loss = 0\n",
    "    start = time.time()\n",
    "    model.train()\n",
    "    \n",
    "    CE_loss = torch.nn.CrossEntropyLoss(ignore_index=3)\n",
    "    \n",
    "    for step, data in tqdm(enumerate(trainload)):\n",
    "        optim.zero_grad()\n",
    "\n",
    "        batched_data = Batch()\n",
    "        graph_batch = batched_data.from_data_list(list(itertools.chain.from_iterable(data)))\n",
    "        graph_batch = graph_batch.to(device)\n",
    "        nodes = graph_batch.x\n",
    "                \n",
    "        list_index = [i for i in range(nodes.shape[0])]\n",
    "        random.shuffle(list_index)\n",
    "        index_nodes_to_mask = list_index[:int((nodes.shape[0]) * pourcentage_nodes_to_mask)]\n",
    "        index_nodes_not_masked = list(set(list_index) - set(index_nodes_to_mask))\n",
    "        labels_nodes = nodes\n",
    "        ytrue = nodes\n",
    "\n",
    "        labels_nodes[index_nodes_not_masked] = 3\n",
    "        nodes[index_nodes_to_mask] = mask_node_embeddings\n",
    "        \n",
    "        edge_index = graph_batch.edge_index\n",
    "        edge_index_readout = graph_batch.edge_index\n",
    "        edge_attr = graph_batch.edge_attr\n",
    "        batch = graph_batch.batch\n",
    "\n",
    "        pred = model(nodes, edge_index, edge_index_readout, edge_attr, batch)\n",
    "        \n",
    "        loss = CE_loss(pred, labels_nodes)\n",
    "        # Update TensorBoard for train loss per iteration\n",
    "        writer.add_scalar('Train Loss per Iteration', loss.item(), epoch * len(trainload) + step)\n",
    "        \n",
    "        loss.backward()\n",
    "        tr_loss += loss.item()\n",
    "        optim.step()\n",
    "\n",
    "        del loss\n",
    "\n",
    "    print(\"TOTAL TRAIN LOSS\", (tr_loss * train_params['batch_size']) / len(trainload))\n",
    "    cost = time.time() - start\n",
    "    \n",
    "    # Update TensorBoard for total train loss per epoch\n",
    "    writer.add_scalar('Total Train Loss per Epoch', (tr_loss * train_params['batch_size']) / len(trainload), epoch)\n",
    "    \n",
    "    return tr_loss, cost, pred,ytrue"
   ]
  },
  {
   "cell_type": "code",
   "execution_count": 18,
   "id": "98d4b3ccd3dccc1f",
   "metadata": {
    "collapsed": false,
    "ExecuteTime": {
     "end_time": "2024-01-19T18:27:09.447953Z",
     "start_time": "2024-01-19T18:27:09.443915Z"
    }
   },
   "outputs": [],
   "source": [
    "def eval(model, _valload, device, writer, epoch):\n",
    "    tr_loss = 0\n",
    "    start = time.time()\n",
    "    model.eval()\n",
    "    CE_loss = torch.nn.CrossEntropyLoss(ignore_index=3)\n",
    "    \n",
    "    with torch.no_grad():\n",
    "        for step, data in tqdm(enumerate(_valload)):\n",
    "            batched_data = Batch()\n",
    "            graph_batch = batched_data.from_data_list(list(itertools.chain.from_iterable(data)))\n",
    "            graph_batch = graph_batch.to(device)\n",
    "            nodes = graph_batch.x\n",
    "                    \n",
    "            list_index = [i for i in range(nodes.shape[0])]\n",
    "            random.shuffle(list_index)\n",
    "            index_nodes_to_mask = list_index[:int((nodes.shape[0]) * pourcentage_nodes_to_mask)]\n",
    "            index_nodes_not_masked = list(set(list_index) - set(index_nodes_to_mask))\n",
    "            labels_nodes = nodes\n",
    "            ytrue = nodes\n",
    "            \n",
    "            labels_nodes[index_nodes_not_masked] = 3\n",
    "            nodes[index_nodes_to_mask] = mask_node_embeddings\n",
    "            \n",
    "            edge_index = graph_batch.edge_index\n",
    "            edge_index_readout = graph_batch.edge_index\n",
    "            edge_attr = graph_batch.edge_attr\n",
    "            batch = graph_batch.batch\n",
    "\n",
    "            pred = model(nodes, edge_index, edge_index_readout, edge_attr, batch)\n",
    "\n",
    "            loss = CE_loss(pred, labels_nodes)\n",
    "            # Update TensorBoard for eval loss per iteration\n",
    "            writer.add_scalar('Eval Loss per Iteration', loss.item(), epoch * len(_valload) + step)\n",
    "            \n",
    "            tr_loss += loss.item()\n",
    "            \n",
    "            del loss\n",
    "\n",
    "    print(\"TOTAL EVAL LOSS\", (tr_loss * train_params['batch_size']) / len(_valload))\n",
    "    \n",
    "    # Update TensorBoard for total eval loss per epoch\n",
    "    writer.add_scalar('Total Eval Loss per Epoch', (tr_loss * train_params['batch_size']) / len(_valload), epoch)\n",
    "    \n",
    "    cost = time.time() - start\n",
    "    return tr_loss, cost, pred, ytrue"
   ]
  },
  {
   "cell_type": "code",
   "execution_count": 19,
   "id": "e74b020a899d96a8",
   "metadata": {
    "collapsed": false,
    "ExecuteTime": {
     "end_time": "2024-01-19T18:27:09.472434Z",
     "start_time": "2024-01-19T18:27:09.448764Z"
    }
   },
   "outputs": [],
   "source": [
    "def run_epoch(model, optim_model, trainload, valload, device, exp, writer):\n",
    "    best_val = math.inf\n",
    "    loss_train_liste = []\n",
    "    loss_val_liste = []\n",
    "    \n",
    "    for e in tqdm(range(train_params[\"epochs\"])):\n",
    "        print(\"Epoch n\" + str(e))\n",
    "        train_loss, train_time_cost, pred_train, ytrue_train = train(model, optim_model, trainload, device, writer, e)\n",
    "        val_loss, val_time_cost, pred_eval, ytrue_eval = eval(model, valload, device, writer, e)\n",
    "        accuracy_train = skm.accuracy_score(ytrue_train.cpu().detach().numpy(), pred_train.cpu().detach().numpy().argmax(axis=1))\n",
    "        accuracy_eval = skm.accuracy_score(ytrue_eval.cpu().detach().numpy(), pred_eval.cpu().detach().numpy().argmax(axis=1))\n",
    "\n",
    "        train_loss = (train_loss * train_params['batch_size']) / len(trainload)\n",
    "        val_loss = (val_loss * train_params['batch_size']) / len(valload)\n",
    "        loss_train_liste.append(train_loss)\n",
    "        loss_val_liste.append(val_loss)\n",
    "        print('TRAIN \\t{} secs'.format(train_time_cost))\n",
    "        print(f'TRAIN accuracy : {accuracy_train}')\n",
    "        \n",
    "        with open(path_results + 'losses_and_times/' + \"pre_training_1_log_train_\" + f'{exp}' + \".txt\", 'a') as f:\n",
    "            f.write(\"Epoch n\" + str(e) + '\\n TRAIN {}\\t{} secs\\n'.format(train_loss, train_time_cost))\n",
    "            f.write('EVAL {}\\t{} secs\\n'.format(val_loss, val_time_cost) + '\\n\\n\\n')\n",
    "        print('EVAL \\t{} secs'.format(val_time_cost))\n",
    "        print('EVAL accuracy : {}\\n\\n'.format(accuracy_eval))\n",
    "        \n",
    "        # ... (your existing code)\n",
    "\n",
    "        if val_loss < best_val:\n",
    "            print(\"** ** * Saving fine - tuned model ** ** * \")\n",
    "            torch.save(model.gnn.state_dict(), path_results + 'weights/' + 'GraphTransformer_pretrain_1_num_' + f'{exp}' + '.pch')\n",
    "            best_val = val_loss\n",
    "            \n",
    "    epoch = [i for i in range(train_params[\"epochs\"])]\n",
    "    plt.plot(epoch, loss_train_liste)\n",
    "    plt.legend(['train'])\n",
    "    plt.plot(epoch,loss_val_liste)\n",
    "    plt.legend(['val'])\n",
    "    plt.xlabel('Epochs')\n",
    "    plt.ylabel('Loss')\n",
    "    plt.savefig(path_results + 'plots/' + 'Pre_training_1.png')\n",
    "    plt.show()\n",
    "\n",
    "    return train_loss, val_loss, accuracy_train, accuracy_eval, train_time_cost, val_time_cost"
   ]
  },
  {
   "cell_type": "markdown",
   "id": "9fedbac940be492c",
   "metadata": {
    "collapsed": false
   },
   "source": [
    "################################################### Experiences ####################################################"
   ]
  },
  {
   "cell_type": "code",
   "outputs": [],
   "source": [
    "def experiment(num_experiments=5):\n",
    "    conf = BertConfig(model_config)\n",
    "    df = pd.DataFrame(columns=['Experiment', 'Model', 'Metric', 'Score'])\n",
    "\n",
    "    for exp in tqdm(range(num_experiments)):\n",
    "        model = Pre_training_1(conf).to(train_params['device'])\n",
    "        transformer_vars = [i for i in model.parameters()]\n",
    "        optim_model = torch.optim.AdamW(transformer_vars, lr=train_params['lr'], weight_decay=train_params['weight_decay'])\n",
    "\n",
    "        # Set log directory for TensorBoard\n",
    "        writer = SummaryWriter(path_results + 'runs/' + 'pre_training_1/' + str(exp + 1))\n",
    "\n",
    "\n",
    "        print(f\"\\n Experiment {exp + 1}\")\n",
    "        trainDSet, valDSet, testDSet = split_dataset(dataset, train_params, random_seed=exp)\n",
    "        trainload = GraphLoader(GDSet(trainDSet), batch_size=train_params['batch_size'], shuffle=False)\n",
    "        valload = GraphLoader(GDSet(valDSet), batch_size=train_params['batch_size'], shuffle=False)\n",
    "\n",
    "        train_loss, val_loss, accuracy_train, accuracy_eval, train_time_cost, val_time_cost = run_epoch(\n",
    "            model, optim_model, trainload, valload, train_params['device'], exp, writer\n",
    "        )\n",
    "\n",
    "        df.loc[len(df)] = [exp + 1, 'GT_BERT', 'Val Accuracy', accuracy_eval]\n",
    "        df.loc[len(df)] = [exp + 1, 'GT_BERT', 'Train Loss', train_loss]\n",
    "        df.loc[len(df)] = [exp + 1, 'GT_BERT', 'Val Loss', val_loss]\n",
    "        df.loc[len(df)] = [exp + 1, 'GT_BERT', 'Train Time', train_time_cost]\n",
    "        df.loc[len(df)] = [exp + 1, 'GT_BERT', 'Val Time', val_time_cost]\n",
    "\n",
    "        # Close the writer for the current experiment\n",
    "        writer.close()\n",
    "\n",
    "    df.to_csv(path_results + 'dataframes/' + 'GT_behrt_results_pretraining_1.csv')\n",
    "\n",
    "    return df"
   ],
   "metadata": {
    "collapsed": false,
    "ExecuteTime": {
     "end_time": "2024-01-19T18:27:09.472848Z",
     "start_time": "2024-01-19T18:27:09.452650Z"
    }
   },
   "id": "f0d104d43e45d3da",
   "execution_count": 20
  },
  {
   "cell_type": "markdown",
   "id": "d25222bec6977e32",
   "metadata": {
    "collapsed": false
   },
   "source": [
    "######################################################## Main #########################################################"
   ]
  },
  {
   "cell_type": "code",
   "outputs": [
    {
     "name": "stderr",
     "output_type": "stream",
     "text": [
      "  0%|          | 0/5 [00:00<?, ?it/s]\n",
      "  0%|          | 0/15 [00:00<?, ?it/s]\u001B[A\n",
      "\n",
      "0it [00:00, ?it/s]\u001B[A\u001B[A\n",
      "\n",
      "1it [00:00,  8.48it/s]\u001B[A\u001B[A"
     ]
    },
    {
     "name": "stdout",
     "output_type": "stream",
     "text": [
      "\n",
      " Experiment 1\n",
      "Epoch n0\n"
     ]
    },
    {
     "name": "stderr",
     "output_type": "stream",
     "text": [
      "\n",
      "\n",
      "3it [00:00,  9.52it/s]\u001B[A\u001B[A\n",
      "\n",
      "5it [00:00, 10.84it/s]\u001B[A\u001B[A\n",
      "\n",
      "7it [00:00, 11.35it/s]\u001B[A\u001B[A\n",
      "\n",
      "9it [00:00, 12.29it/s]\u001B[A\u001B[A\n",
      "\n",
      "11it [00:00, 11.27it/s]\u001B[A\u001B[A\n",
      "\n",
      "13it [00:01, 12.04it/s]\u001B[A\u001B[A\n",
      "\n",
      "15it [00:01, 12.94it/s]\u001B[A\u001B[A\n",
      "\n",
      "\n",
      "2it [00:00, 50.12it/s][A\n",
      "\n",
      "  7%|▋         | 1/15 [00:01<00:16,  1.21s/it]\u001B[A\n",
      "\n",
      "0it [00:00, ?it/s]\u001B[A\u001B[A\n",
      "\n",
      "2it [00:00, 15.11it/s]\u001B[A\u001B[A"
     ]
    },
    {
     "name": "stdout",
     "output_type": "stream",
     "text": [
      "TOTAL TRAIN LOSS 45.29020150502523\n",
      "TOTAL EVAL LOSS 42.65822887420654\n",
      "TRAIN \t1.1603326797485352 secs\n",
      "TRAIN accuracy : 0.0010976948408342481\n",
      "EVAL \t0.041108131408691406 secs\n",
      "EVAL accuracy : 0.0\n",
      "\n",
      "\n",
      "** ** * Saving fine - tuned model ** ** * \n",
      "Epoch n1\n"
     ]
    },
    {
     "name": "stderr",
     "output_type": "stream",
     "text": [
      "\n",
      "\n",
      "4it [00:00, 15.04it/s]\u001B[A\u001B[A\n",
      "\n",
      "6it [00:00, 15.16it/s]\u001B[A\u001B[A\n",
      "\n",
      "8it [00:00, 14.79it/s]\u001B[A\u001B[A\n",
      "\n",
      "10it [00:00, 13.00it/s]\u001B[A\u001B[A\n",
      "\n",
      "12it [00:00, 14.41it/s]\u001B[A\u001B[A\n",
      "\n",
      "15it [00:01, 14.37it/s]\u001B[A\u001B[A\n",
      "\n",
      "\n",
      "2it [00:00, 49.51it/s][A\n",
      "\n",
      " 13%|█▎        | 2/15 [00:02<00:15,  1.17s/it]\u001B[A\n",
      "\n",
      "0it [00:00, ?it/s]\u001B[A\u001B[A\n",
      "\n",
      "2it [00:00, 14.47it/s]\u001B[A\u001B[A"
     ]
    },
    {
     "name": "stdout",
     "output_type": "stream",
     "text": [
      "TOTAL TRAIN LOSS 39.98775657018026\n",
      "TOTAL EVAL LOSS 38.21118116378784\n",
      "TRAIN \t1.0446500778198242 secs\n",
      "TRAIN accuracy : 0.06366630076838639\n",
      "EVAL \t0.041628122329711914 secs\n",
      "EVAL accuracy : 0.035940803382663845\n",
      "\n",
      "\n",
      "** ** * Saving fine - tuned model ** ** * \n",
      "Epoch n2\n"
     ]
    },
    {
     "name": "stderr",
     "output_type": "stream",
     "text": [
      "\n",
      "\n",
      "4it [00:00, 14.47it/s]\u001B[A\u001B[A\n",
      "\n",
      "6it [00:00, 14.64it/s]\u001B[A\u001B[A\n",
      "\n",
      "8it [00:00, 14.49it/s]\u001B[A\u001B[A\n",
      "\n",
      "10it [00:00, 12.97it/s]\u001B[A\u001B[A\n",
      "\n",
      "13it [00:00, 14.17it/s]\u001B[A\u001B[A\n",
      "\n",
      "15it [00:01, 14.60it/s]\u001B[A\u001B[A\n",
      "\n",
      "\n",
      "2it [00:00, 51.72it/s][A\n",
      "\n",
      " 20%|██        | 3/15 [00:03<00:13,  1.14s/it]\u001B[A\n",
      "\n",
      "0it [00:00, ?it/s]\u001B[A\u001B[A\n",
      "\n",
      "2it [00:00, 15.26it/s]\u001B[A\u001B[A"
     ]
    },
    {
     "name": "stdout",
     "output_type": "stream",
     "text": [
      "TOTAL TRAIN LOSS 34.796333471934\n",
      "TOTAL EVAL LOSS 30.978626012802124\n",
      "TRAIN \t1.0282249450683594 secs\n",
      "TRAIN accuracy : 0.12294182217343579\n",
      "EVAL \t0.03963208198547363 secs\n",
      "EVAL accuracy : 0.10570824524312897\n",
      "\n",
      "\n",
      "** ** * Saving fine - tuned model ** ** * \n",
      "Epoch n3\n"
     ]
    },
    {
     "name": "stderr",
     "output_type": "stream",
     "text": [
      "\n",
      "\n",
      "4it [00:00, 15.36it/s]\u001B[A\u001B[A\n",
      "\n",
      "6it [00:00, 15.29it/s]\u001B[A\u001B[A\n",
      "\n",
      "8it [00:00, 14.21it/s]\u001B[A\u001B[A\n",
      "\n",
      "10it [00:00, 12.59it/s]\u001B[A\u001B[A\n",
      "\n",
      "12it [00:00, 13.92it/s]\u001B[A\u001B[A\n",
      "\n",
      "15it [00:01, 14.21it/s]\u001B[A\u001B[A\n",
      "\n",
      "\n",
      "2it [00:00, 49.23it/s][A\n",
      "\n",
      " 27%|██▋       | 4/15 [00:04<00:12,  1.13s/it]\u001B[A\n",
      "\n",
      "0it [00:00, ?it/s]\u001B[A\u001B[A\n",
      "\n",
      "2it [00:00, 14.37it/s]\u001B[A\u001B[A"
     ]
    },
    {
     "name": "stdout",
     "output_type": "stream",
     "text": [
      "TOTAL TRAIN LOSS 28.764902750651043\n",
      "TOTAL EVAL LOSS 24.864553213119507\n",
      "TRAIN \t1.0566580295562744 secs\n",
      "TRAIN accuracy : 0.12623490669593854\n",
      "EVAL \t0.04154491424560547 secs\n",
      "EVAL accuracy : 0.10993657505285412\n",
      "\n",
      "\n",
      "** ** * Saving fine - tuned model ** ** * \n",
      "Epoch n4\n"
     ]
    },
    {
     "name": "stderr",
     "output_type": "stream",
     "text": [
      "\n",
      "\n",
      "4it [00:00, 14.42it/s]\u001B[A\u001B[A\n",
      "\n",
      "6it [00:00, 14.62it/s]\u001B[A\u001B[A\n",
      "\n",
      "8it [00:00, 14.37it/s]\u001B[A\u001B[A\n",
      "\n",
      "10it [00:00, 12.74it/s]\u001B[A\u001B[A\n",
      "\n",
      "12it [00:00, 14.18it/s]\u001B[A\u001B[A\n",
      "\n",
      "15it [00:01, 14.25it/s]\u001B[A\u001B[A\n",
      "\n",
      "\n",
      "2it [00:00, 50.82it/s][A\n",
      "\n",
      " 33%|███▎      | 5/15 [00:05<00:11,  1.12s/it]\u001B[A\n",
      "\n",
      "0it [00:00, ?it/s]\u001B[A\u001B[A\n",
      "\n",
      "2it [00:00, 14.27it/s]\u001B[A\u001B[A"
     ]
    },
    {
     "name": "stdout",
     "output_type": "stream",
     "text": [
      "TOTAL TRAIN LOSS 21.995314836502075\n",
      "TOTAL EVAL LOSS 19.056379199028015\n",
      "TRAIN \t1.0539169311523438 secs\n",
      "TRAIN accuracy : 0.12843029637760703\n",
      "EVAL \t0.040376901626586914 secs\n",
      "EVAL accuracy : 0.10782241014799154\n",
      "\n",
      "\n",
      "** ** * Saving fine - tuned model ** ** * \n",
      "Epoch n5\n"
     ]
    },
    {
     "name": "stderr",
     "output_type": "stream",
     "text": [
      "\n",
      "\n",
      "4it [00:00, 14.35it/s]\u001B[A\u001B[A\n",
      "\n",
      "6it [00:00, 14.50it/s]\u001B[A\u001B[A\n",
      "\n",
      "8it [00:00, 14.13it/s]\u001B[A\u001B[A\n",
      "\n",
      "10it [00:00, 12.52it/s]\u001B[A\u001B[A\n",
      "\n",
      "12it [00:00, 13.82it/s]\u001B[A\u001B[A\n",
      "\n",
      "15it [00:01, 14.04it/s]\u001B[A\u001B[A\n",
      "\n",
      "\n",
      "2it [00:00, 49.86it/s][A\n",
      "\n",
      " 40%|████      | 6/15 [00:06<00:10,  1.12s/it]\u001B[A\n",
      "\n",
      "0it [00:00, ?it/s]\u001B[A\u001B[A\n",
      "\n",
      "2it [00:00, 14.09it/s]\u001B[A\u001B[A"
     ]
    },
    {
     "name": "stdout",
     "output_type": "stream",
     "text": [
      "TOTAL TRAIN LOSS 16.14639953772227\n",
      "TOTAL EVAL LOSS 15.069846510887146\n",
      "TRAIN \t1.0692529678344727 secs\n",
      "TRAIN accuracy : 0.13391877058177826\n",
      "EVAL \t0.04191398620605469 secs\n",
      "EVAL accuracy : 0.09725158562367865\n",
      "\n",
      "\n",
      "** ** * Saving fine - tuned model ** ** * \n",
      "Epoch n6\n"
     ]
    },
    {
     "name": "stderr",
     "output_type": "stream",
     "text": [
      "\n",
      "\n",
      "4it [00:00, 14.07it/s]\u001B[A\u001B[A\n",
      "\n",
      "6it [00:00, 14.09it/s]\u001B[A\u001B[A\n",
      "\n",
      "8it [00:00, 13.63it/s]\u001B[A\u001B[A\n",
      "\n",
      "10it [00:00, 11.89it/s]\u001B[A\u001B[A\n",
      "\n",
      "12it [00:00, 12.71it/s]\u001B[A\u001B[A\n",
      "\n",
      "15it [00:01, 13.07it/s]\u001B[A\u001B[A\n",
      "\n",
      "\n",
      "2it [00:00, 44.18it/s][A\n",
      "\n",
      " 47%|████▋     | 7/15 [00:07<00:09,  1.15s/it]\u001B[A\n",
      "\n",
      "0it [00:00, ?it/s]\u001B[A\u001B[A\n",
      "\n",
      "2it [00:00, 14.23it/s]\u001B[A\u001B[A"
     ]
    },
    {
     "name": "stdout",
     "output_type": "stream",
     "text": [
      "TOTAL TRAIN LOSS 13.192330002784729\n",
      "TOTAL EVAL LOSS 13.9601069688797\n",
      "TRAIN \t1.1489238739013672 secs\n",
      "TRAIN accuracy : 0.13172338090010977\n",
      "EVAL \t0.04647970199584961 secs\n",
      "EVAL accuracy : 0.14799154334038056\n",
      "\n",
      "\n",
      "** ** * Saving fine - tuned model ** ** * \n",
      "Epoch n7\n"
     ]
    },
    {
     "name": "stderr",
     "output_type": "stream",
     "text": [
      "\n",
      "\n",
      "4it [00:00, 14.34it/s]\u001B[A\u001B[A\n",
      "\n",
      "6it [00:00, 14.49it/s]\u001B[A\u001B[A\n",
      "\n",
      "8it [00:00, 14.15it/s]\u001B[A\u001B[A\n",
      "\n",
      "10it [00:00, 12.47it/s]\u001B[A\u001B[A\n",
      "\n",
      "12it [00:00, 13.87it/s]\u001B[A\u001B[A\n",
      "\n",
      "15it [00:01, 13.97it/s]\u001B[A\u001B[A\n",
      "\n",
      "\n",
      "2it [00:00, 50.33it/s][A\n",
      "\n",
      " 53%|█████▎    | 8/15 [00:09<00:07,  1.14s/it]\u001B[A\n",
      "\n",
      "0it [00:00, ?it/s]\u001B[A\u001B[A\n",
      "\n",
      "2it [00:00, 14.40it/s]\u001B[A\u001B[A"
     ]
    },
    {
     "name": "stdout",
     "output_type": "stream",
     "text": [
      "TOTAL TRAIN LOSS 10.563391923904419\n",
      "TOTAL EVAL LOSS 12.906854152679443\n",
      "TRAIN \t1.0746691226959229 secs\n",
      "TRAIN accuracy : 0.1394072447859495\n",
      "EVAL \t0.04083514213562012 secs\n",
      "EVAL accuracy : 0.14799154334038056\n",
      "\n",
      "\n",
      "** ** * Saving fine - tuned model ** ** * \n",
      "Epoch n8\n"
     ]
    },
    {
     "name": "stderr",
     "output_type": "stream",
     "text": [
      "\n",
      "\n",
      "4it [00:00, 14.49it/s]\u001B[A\u001B[A\n",
      "\n",
      "6it [00:00, 14.60it/s]\u001B[A\u001B[A\n",
      "\n",
      "8it [00:00, 14.22it/s]\u001B[A\u001B[A\n",
      "\n",
      "10it [00:00, 12.60it/s]\u001B[A\u001B[A\n",
      "\n",
      "12it [00:00, 14.02it/s]\u001B[A\u001B[A\n",
      "\n",
      "15it [00:01, 14.11it/s]\u001B[A\u001B[A\n",
      "\n",
      "\n",
      "2it [00:00, 49.12it/s][A\n",
      "\n",
      " 60%|██████    | 9/15 [00:10<00:06,  1.13s/it]\u001B[A\n",
      "\n",
      "0it [00:00, ?it/s]\u001B[A\u001B[A\n",
      "\n",
      "2it [00:00, 14.58it/s]\u001B[A\u001B[A"
     ]
    },
    {
     "name": "stdout",
     "output_type": "stream",
     "text": [
      "TOTAL TRAIN LOSS 9.951468686262766\n",
      "TOTAL EVAL LOSS 9.785663485527039\n",
      "TRAIN \t1.0643420219421387 secs\n",
      "TRAIN accuracy : 0.14818880351262348\n",
      "EVAL \t0.04179096221923828 secs\n",
      "EVAL accuracy : 0.14799154334038056\n",
      "\n",
      "\n",
      "** ** * Saving fine - tuned model ** ** * \n",
      "Epoch n9\n"
     ]
    },
    {
     "name": "stderr",
     "output_type": "stream",
     "text": [
      "\n",
      "\n",
      "4it [00:00, 14.42it/s]\u001B[A\u001B[A\n",
      "\n",
      "6it [00:00, 14.37it/s]\u001B[A\u001B[A\n",
      "\n",
      "8it [00:00, 14.09it/s]\u001B[A\u001B[A\n",
      "\n",
      "10it [00:00, 12.41it/s]\u001B[A\u001B[A\n",
      "\n",
      "12it [00:00, 13.80it/s]\u001B[A\u001B[A\n",
      "\n",
      "15it [00:01, 13.92it/s]\u001B[A\u001B[A\n",
      "\n",
      "\n",
      "2it [00:00, 45.76it/s][A\n",
      "\n",
      " 67%|██████▋   | 10/15 [00:11<00:05,  1.13s/it]\u001B[A\n",
      "\n",
      "0it [00:00, ?it/s]\u001B[A\u001B[A\n",
      "\n",
      "2it [00:00, 14.50it/s]\u001B[A\u001B[A"
     ]
    },
    {
     "name": "stdout",
     "output_type": "stream",
     "text": [
      "TOTAL TRAIN LOSS 8.816805283228556\n",
      "TOTAL EVAL LOSS 8.850778639316559\n",
      "TRAIN \t1.0790607929229736 secs\n",
      "TRAIN accuracy : 0.14928649835345773\n",
      "EVAL \t0.044747114181518555 secs\n",
      "EVAL accuracy : 0.14799154334038056\n",
      "\n",
      "\n",
      "** ** * Saving fine - tuned model ** ** * \n",
      "Epoch n10\n"
     ]
    },
    {
     "name": "stderr",
     "output_type": "stream",
     "text": [
      "\n",
      "\n",
      "4it [00:00, 14.42it/s]\u001B[A\u001B[A\n",
      "\n",
      "6it [00:00, 14.57it/s]\u001B[A\u001B[A\n",
      "\n",
      "8it [00:00, 14.16it/s]\u001B[A\u001B[A\n",
      "\n",
      "10it [00:00, 12.61it/s]\u001B[A\u001B[A\n",
      "\n",
      "12it [00:00, 13.97it/s]\u001B[A\u001B[A\n",
      "\n",
      "15it [00:01, 14.04it/s]\u001B[A\u001B[A\n",
      "\n",
      "\n",
      "2it [00:00, 48.30it/s][A\n",
      "\n",
      " 73%|███████▎  | 11/15 [00:12<00:04,  1.13s/it]\u001B[A\n",
      "\n",
      "0it [00:00, ?it/s]\u001B[A\u001B[A\n",
      "\n",
      "2it [00:00, 14.42it/s]\u001B[A\u001B[A"
     ]
    },
    {
     "name": "stdout",
     "output_type": "stream",
     "text": [
      "TOTAL TRAIN LOSS 7.907004038492839\n",
      "TOTAL EVAL LOSS 7.104201316833496\n",
      "TRAIN \t1.069901943206787 secs\n",
      "TRAIN accuracy : 0.14928649835345773\n",
      "EVAL \t0.04245185852050781 secs\n",
      "EVAL accuracy : 0.14799154334038056\n",
      "\n",
      "\n",
      "** ** * Saving fine - tuned model ** ** * \n",
      "Epoch n11\n"
     ]
    },
    {
     "name": "stderr",
     "output_type": "stream",
     "text": [
      "\n",
      "\n",
      "4it [00:00, 14.44it/s]\u001B[A\u001B[A\n",
      "\n",
      "6it [00:00, 14.59it/s]\u001B[A\u001B[A\n",
      "\n",
      "8it [00:00, 14.23it/s]\u001B[A\u001B[A\n",
      "\n",
      "10it [00:00, 12.55it/s]\u001B[A\u001B[A\n",
      "\n",
      "12it [00:00, 13.88it/s]\u001B[A\u001B[A\n",
      "\n",
      "15it [00:01, 14.02it/s]\u001B[A\u001B[A\n",
      "\n",
      "\n",
      "2it [00:00, 47.64it/s][A\n",
      "\n",
      " 80%|████████  | 12/15 [00:13<00:03,  1.13s/it]\u001B[A\n",
      "\n",
      "0it [00:00, ?it/s]\u001B[A\u001B[A\n",
      "\n",
      "2it [00:00, 14.50it/s]\u001B[A\u001B[A"
     ]
    },
    {
     "name": "stdout",
     "output_type": "stream",
     "text": [
      "TOTAL TRAIN LOSS 6.677627931038539\n",
      "TOTAL EVAL LOSS 6.085534989833832\n",
      "TRAIN \t1.0710132122039795 secs\n",
      "TRAIN accuracy : 0.14928649835345773\n",
      "EVAL \t0.04308795928955078 secs\n",
      "EVAL accuracy : 0.14799154334038056\n",
      "\n",
      "\n",
      "** ** * Saving fine - tuned model ** ** * \n",
      "Epoch n12\n"
     ]
    },
    {
     "name": "stderr",
     "output_type": "stream",
     "text": [
      "\n",
      "\n",
      "4it [00:00, 14.40it/s]\u001B[A\u001B[A\n",
      "\n",
      "6it [00:00, 14.48it/s]\u001B[A\u001B[A\n",
      "\n",
      "8it [00:00, 14.14it/s]\u001B[A\u001B[A\n",
      "\n",
      "10it [00:00, 12.59it/s]\u001B[A\u001B[A\n",
      "\n",
      "12it [00:00, 13.91it/s]\u001B[A\u001B[A\n",
      "\n",
      "15it [00:01, 13.96it/s]\u001B[A\u001B[A\n",
      "\n",
      "\n",
      "2it [00:00, 47.81it/s][A\n",
      "\n",
      " 87%|████████▋ | 13/15 [00:14<00:02,  1.13s/it]\u001B[A\n",
      "\n",
      "0it [00:00, ?it/s]\u001B[A\u001B[A"
     ]
    },
    {
     "name": "stdout",
     "output_type": "stream",
     "text": [
      "TOTAL TRAIN LOSS 5.08265499273936\n",
      "TOTAL EVAL LOSS 4.715603739023209\n",
      "TRAIN \t1.0752778053283691 secs\n",
      "TRAIN accuracy : 0.14928649835345773\n",
      "EVAL \t0.04285788536071777 secs\n",
      "EVAL accuracy : 0.14799154334038056\n",
      "\n",
      "\n",
      "** ** * Saving fine - tuned model ** ** * \n",
      "Epoch n13\n"
     ]
    },
    {
     "name": "stderr",
     "output_type": "stream",
     "text": [
      "\n",
      "\n",
      "2it [00:00, 12.95it/s]\u001B[A\u001B[A\n",
      "\n",
      "4it [00:00, 12.91it/s]\u001B[A\u001B[A\n",
      "\n",
      "6it [00:00, 13.09it/s]\u001B[A\u001B[A\n",
      "\n",
      "8it [00:00, 12.82it/s]\u001B[A\u001B[A\n",
      "\n",
      "10it [00:00, 11.76it/s]\u001B[A\u001B[A\n",
      "\n",
      "12it [00:00, 13.22it/s]\u001B[A\u001B[A\n",
      "\n",
      "15it [00:01, 13.27it/s]\u001B[A\u001B[A\n",
      "\n",
      "\n",
      "2it [00:00, 47.71it/s][A\n",
      "\n",
      " 93%|█████████▎| 14/15 [00:15<00:01,  1.14s/it]\u001B[A\n",
      "\n",
      "0it [00:00, ?it/s]\u001B[A\u001B[A\n",
      "\n",
      "2it [00:00, 14.58it/s]\u001B[A\u001B[A"
     ]
    },
    {
     "name": "stdout",
     "output_type": "stream",
     "text": [
      "TOTAL TRAIN LOSS 3.4580709089835486\n",
      "TOTAL EVAL LOSS 1.4437481760978699\n",
      "TRAIN \t1.1312999725341797 secs\n",
      "TRAIN accuracy : 0.14928649835345773\n",
      "EVAL \t0.04297304153442383 secs\n",
      "EVAL accuracy : 0.14799154334038056\n",
      "\n",
      "\n",
      "** ** * Saving fine - tuned model ** ** * \n",
      "Epoch n14\n"
     ]
    },
    {
     "name": "stderr",
     "output_type": "stream",
     "text": [
      "\n",
      "\n",
      "4it [00:00, 14.46it/s]\u001B[A\u001B[A\n",
      "\n",
      "6it [00:00, 14.54it/s]\u001B[A\u001B[A\n",
      "\n",
      "8it [00:00, 14.15it/s]\u001B[A\u001B[A\n",
      "\n",
      "10it [00:00, 12.60it/s]\u001B[A\u001B[A\n",
      "\n",
      "12it [00:00, 13.89it/s]\u001B[A\u001B[A\n",
      "\n",
      "15it [00:01, 13.97it/s]\u001B[A\u001B[A\n",
      "\n",
      "\n",
      "2it [00:00, 45.26it/s][A\n",
      "\n",
      "100%|██████████| 15/15 [00:16<00:00,  1.13s/it]\u001B[A\n"
     ]
    },
    {
     "name": "stdout",
     "output_type": "stream",
     "text": [
      "TOTAL TRAIN LOSS 1.60246042907238\n",
      "TOTAL EVAL LOSS 0.22742676548659801\n",
      "TRAIN \t1.07442307472229 secs\n",
      "TRAIN accuracy : 0.14928649835345773\n",
      "EVAL \t0.04520392417907715 secs\n",
      "EVAL accuracy : 0.14799154334038056\n",
      "\n",
      "\n",
      "** ** * Saving fine - tuned model ** ** * \n"
     ]
    },
    {
     "data": {
      "text/plain": "<Figure size 640x480 with 1 Axes>",
      "image/png": "[encoded data removed]"
     },
     "metadata": {},
     "output_type": "display_data"
    },
    {
     "name": "stderr",
     "output_type": "stream",
     "text": [
      " 20%|██        | 1/5 [00:17<01:08, 17.08s/it]\n",
      "  0%|          | 0/15 [00:00<?, ?it/s]\u001B[A\n",
      "\n",
      "0it [00:00, ?it/s]\u001B[A\u001B[A"
     ]
    },
    {
     "name": "stdout",
     "output_type": "stream",
     "text": [
      "\n",
      " Experiment 2\n",
      "Epoch n0\n"
     ]
    },
    {
     "name": "stderr",
     "output_type": "stream",
     "text": [
      "\n",
      "\n",
      "1it [00:00,  7.56it/s]\u001B[A\u001B[A\n",
      "\n",
      "3it [00:00,  8.58it/s]\u001B[A\u001B[A\n",
      "\n",
      "5it [00:00,  9.66it/s]\u001B[A\u001B[A\n",
      "\n",
      "7it [00:00, 10.57it/s]\u001B[A\u001B[A\n",
      "\n",
      "9it [00:00, 10.17it/s]\u001B[A\u001B[A\n",
      "\n",
      "11it [00:00, 11.14it/s]\u001B[A\u001B[A\n",
      "\n",
      "15it [00:01, 12.91it/s]\u001B[A\u001B[A\n",
      "\n",
      "\n",
      "2it [00:00, 47.33it/s][A\n",
      "\n",
      "  7%|▋         | 1/15 [00:01<00:16,  1.21s/it]\u001B[A\n",
      "\n",
      "0it [00:00, ?it/s]\u001B[A\u001B[A\n",
      "\n",
      "2it [00:00, 16.48it/s]\u001B[A\u001B[A"
     ]
    },
    {
     "name": "stdout",
     "output_type": "stream",
     "text": [
      "TOTAL TRAIN LOSS 47.32763163248698\n",
      "TOTAL EVAL LOSS 45.06115674972534\n",
      "TRAIN \t1.16432523727417 secs\n",
      "TRAIN accuracy : 0.0\n",
      "EVAL \t0.043710947036743164 secs\n",
      "EVAL accuracy : 0.0\n",
      "\n",
      "\n",
      "** ** * Saving fine - tuned model ** ** * \n",
      "Epoch n1\n"
     ]
    },
    {
     "name": "stderr",
     "output_type": "stream",
     "text": [
      "\n",
      "\n",
      "4it [00:00, 16.55it/s]\u001B[A\u001B[A\n",
      "\n",
      "6it [00:00, 15.67it/s]\u001B[A\u001B[A\n",
      "\n",
      "8it [00:00, 15.83it/s]\u001B[A\u001B[A\n",
      "\n",
      "10it [00:00, 13.05it/s]\u001B[A\u001B[A\n",
      "\n",
      "12it [00:00, 13.30it/s]\u001B[A\u001B[A\n",
      "\n",
      "15it [00:01, 14.69it/s]\u001B[A\u001B[A\n",
      "\n",
      "\n",
      "2it [00:00, 42.60it/s][A\n",
      "\n",
      " 13%|█▎        | 2/15 [00:02<00:15,  1.17s/it]\u001B[A\n",
      "\n",
      "0it [00:00, ?it/s]\u001B[A\u001B[A\n",
      "\n",
      "2it [00:00, 16.19it/s]\u001B[A\u001B[A"
     ]
    },
    {
     "name": "stdout",
     "output_type": "stream",
     "text": [
      "TOTAL TRAIN LOSS 43.019598960876465\n",
      "TOTAL EVAL LOSS 40.60549736022949\n",
      "TRAIN \t1.0222408771514893 secs\n",
      "TRAIN accuracy : 0.0\n",
      "EVAL \t0.04787898063659668 secs\n",
      "EVAL accuracy : 0.0\n",
      "\n",
      "\n",
      "** ** * Saving fine - tuned model ** ** * \n",
      "Epoch n2\n"
     ]
    },
    {
     "name": "stderr",
     "output_type": "stream",
     "text": [
      "\n",
      "\n",
      "4it [00:00, 16.27it/s]\u001B[A\u001B[A\n",
      "\n",
      "6it [00:00, 15.50it/s]\u001B[A\u001B[A\n",
      "\n",
      "8it [00:00, 15.77it/s]\u001B[A\u001B[A\n",
      "\n",
      "10it [00:00, 13.13it/s]\u001B[A\u001B[A\n",
      "\n",
      "12it [00:00, 13.41it/s]\u001B[A\u001B[A\n",
      "\n",
      "15it [00:01, 14.78it/s]\u001B[A\u001B[A\n",
      "\n",
      "\n",
      "2it [00:00, 43.15it/s][A\n",
      "\n",
      " 20%|██        | 3/15 [00:03<00:13,  1.14s/it]\u001B[A\n",
      "\n",
      "0it [00:00, ?it/s]\u001B[A\u001B[A\n",
      "\n",
      "2it [00:00, 16.03it/s]\u001B[A\u001B[A"
     ]
    },
    {
     "name": "stdout",
     "output_type": "stream",
     "text": [
      "TOTAL TRAIN LOSS 38.498351414998375\n",
      "TOTAL EVAL LOSS 35.964823961257935\n",
      "TRAIN \t1.0161690711975098 secs\n",
      "TRAIN accuracy : 0.03299492385786802\n",
      "EVAL \t0.04746413230895996 secs\n",
      "EVAL accuracy : 0.060218978102189784\n",
      "\n",
      "\n",
      "** ** * Saving fine - tuned model ** ** * \n",
      "Epoch n3\n"
     ]
    },
    {
     "name": "stderr",
     "output_type": "stream",
     "text": [
      "\n",
      "\n",
      "4it [00:00, 16.33it/s]\u001B[A\u001B[A\n",
      "\n",
      "6it [00:00, 15.30it/s]\u001B[A\u001B[A\n",
      "\n",
      "8it [00:00, 15.52it/s]\u001B[A\u001B[A\n",
      "\n",
      "10it [00:00, 13.04it/s]\u001B[A\u001B[A\n",
      "\n",
      "12it [00:00, 13.40it/s]\u001B[A\u001B[A\n",
      "\n",
      "15it [00:01, 14.75it/s]\u001B[A\u001B[A\n",
      "\n",
      "\n",
      "2it [00:00, 44.42it/s][A\n",
      "\n",
      " 27%|██▋       | 4/15 [00:04<00:12,  1.12s/it]\u001B[A\n",
      "\n",
      "0it [00:00, ?it/s]\u001B[A\u001B[A\n",
      "\n",
      "2it [00:00, 16.72it/s]\u001B[A\u001B[A"
     ]
    },
    {
     "name": "stdout",
     "output_type": "stream",
     "text": [
      "TOTAL TRAIN LOSS 33.11921167373657\n",
      "TOTAL EVAL LOSS 29.695979356765747\n",
      "TRAIN \t1.018531084060669 secs\n",
      "TRAIN accuracy : 0.10406091370558376\n",
      "EVAL \t0.04601097106933594 secs\n",
      "EVAL accuracy : 0.11131386861313869\n",
      "\n",
      "\n",
      "** ** * Saving fine - tuned model ** ** * \n",
      "Epoch n4\n"
     ]
    },
    {
     "name": "stderr",
     "output_type": "stream",
     "text": [
      "\n",
      "\n",
      "4it [00:00, 16.78it/s]\u001B[A\u001B[A\n",
      "\n",
      "6it [00:00, 15.68it/s]\u001B[A\u001B[A\n",
      "\n",
      "8it [00:00, 15.94it/s]\u001B[A\u001B[A\n",
      "\n",
      "10it [00:00, 13.14it/s]\u001B[A\u001B[A\n",
      "\n",
      "12it [00:00, 13.39it/s]\u001B[A\u001B[A\n",
      "\n",
      "15it [00:01, 14.82it/s]\u001B[A\u001B[A\n",
      "\n",
      "\n",
      "2it [00:00, 44.90it/s][A\n",
      "\n",
      " 33%|███▎      | 5/15 [00:05<00:11,  1.10s/it]\u001B[A\n",
      "\n",
      "0it [00:00, ?it/s]\u001B[A\u001B[A\n",
      "\n",
      "2it [00:00, 16.29it/s]\u001B[A\u001B[A"
     ]
    },
    {
     "name": "stdout",
     "output_type": "stream",
     "text": [
      "TOTAL TRAIN LOSS 27.235926151275635\n",
      "TOTAL EVAL LOSS 24.240858554840088\n",
      "TRAIN \t1.0135009288787842 secs\n",
      "TRAIN accuracy : 0.1065989847715736\n",
      "EVAL \t0.04572725296020508 secs\n",
      "EVAL accuracy : 0.10218978102189781\n",
      "\n",
      "\n",
      "** ** * Saving fine - tuned model ** ** * \n",
      "Epoch n5\n"
     ]
    },
    {
     "name": "stderr",
     "output_type": "stream",
     "text": [
      "\n",
      "\n",
      "4it [00:00, 16.38it/s]\u001B[A\u001B[A\n",
      "\n",
      "6it [00:00, 15.55it/s]\u001B[A\u001B[A\n",
      "\n",
      "8it [00:00, 15.67it/s]\u001B[A\u001B[A\n",
      "\n",
      "10it [00:00, 13.10it/s]\u001B[A\u001B[A\n",
      "\n",
      "12it [00:00, 13.41it/s]\u001B[A\u001B[A\n",
      "\n",
      "15it [00:01, 14.78it/s]\u001B[A\u001B[A\n",
      "\n",
      "\n",
      "2it [00:00, 41.54it/s][A\n",
      "\n",
      " 40%|████      | 6/15 [00:06<00:09,  1.09s/it]\u001B[A\n",
      "\n",
      "0it [00:00, ?it/s]\u001B[A\u001B[A\n",
      "\n",
      "2it [00:00, 16.38it/s]\u001B[A\u001B[A"
     ]
    },
    {
     "name": "stdout",
     "output_type": "stream",
     "text": [
      "TOTAL TRAIN LOSS 20.171891848246258\n",
      "TOTAL EVAL LOSS 17.233073115348816\n",
      "TRAIN \t1.016108751296997 secs\n",
      "TRAIN accuracy : 0.116751269035533\n",
      "EVAL \t0.04914999008178711 secs\n",
      "EVAL accuracy : 0.10583941605839416\n",
      "\n",
      "\n",
      "** ** * Saving fine - tuned model ** ** * \n",
      "Epoch n6\n"
     ]
    },
    {
     "name": "stderr",
     "output_type": "stream",
     "text": [
      "\n",
      "\n",
      "4it [00:00, 16.30it/s]\u001B[A\u001B[A\n",
      "\n",
      "6it [00:00, 15.34it/s]\u001B[A\u001B[A\n",
      "\n",
      "8it [00:00, 15.45it/s]\u001B[A\u001B[A\n",
      "\n",
      "10it [00:00, 12.94it/s]\u001B[A\u001B[A\n",
      "\n",
      "12it [00:00, 13.30it/s]\u001B[A\u001B[A\n",
      "\n",
      "15it [00:01, 14.63it/s]\u001B[A\u001B[A\n",
      "\n",
      "\n",
      "2it [00:00, 44.41it/s][A\n",
      "\n",
      " 47%|████▋     | 7/15 [00:07<00:08,  1.09s/it]\u001B[A\n",
      "\n",
      "0it [00:00, ?it/s]\u001B[A\u001B[A\n",
      "\n",
      "2it [00:00, 15.22it/s]\u001B[A\u001B[A"
     ]
    },
    {
     "name": "stdout",
     "output_type": "stream",
     "text": [
      "TOTAL TRAIN LOSS 14.96328604221344\n",
      "TOTAL EVAL LOSS 12.088613510131836\n",
      "TRAIN \t1.02656888961792 secs\n",
      "TRAIN accuracy : 0.11928934010152284\n",
      "EVAL \t0.04606223106384277 secs\n",
      "EVAL accuracy : 0.14963503649635038\n",
      "\n",
      "\n",
      "** ** * Saving fine - tuned model ** ** * \n",
      "Epoch n7\n"
     ]
    },
    {
     "name": "stderr",
     "output_type": "stream",
     "text": [
      "\n",
      "\n",
      "4it [00:00, 15.56it/s]\u001B[A\u001B[A\n",
      "\n",
      "6it [00:00, 15.07it/s]\u001B[A\u001B[A\n",
      "\n",
      "8it [00:00, 15.44it/s]\u001B[A\u001B[A\n",
      "\n",
      "10it [00:00, 13.01it/s]\u001B[A\u001B[A\n",
      "\n",
      "12it [00:00, 13.37it/s]\u001B[A\u001B[A\n",
      "\n",
      "15it [00:01, 14.70it/s]\u001B[A\u001B[A\n",
      "\n",
      "\n",
      "2it [00:00, 47.52it/s][A\n",
      "\n",
      " 53%|█████▎    | 8/15 [00:08<00:07,  1.08s/it]\u001B[A\n",
      "\n",
      "0it [00:00, ?it/s]\u001B[A\u001B[A\n",
      "\n",
      "2it [00:00, 16.49it/s]\u001B[A\u001B[A"
     ]
    },
    {
     "name": "stdout",
     "output_type": "stream",
     "text": [
      "TOTAL TRAIN LOSS 11.756239811579386\n",
      "TOTAL EVAL LOSS 12.261991500854492\n",
      "TRAIN \t1.0212280750274658 secs\n",
      "TRAIN accuracy : 0.12944162436548223\n",
      "EVAL \t0.04320693016052246 secs\n",
      "EVAL accuracy : 0.14963503649635038\n",
      "\n",
      "\n",
      "Epoch n8\n"
     ]
    },
    {
     "name": "stderr",
     "output_type": "stream",
     "text": [
      "\n",
      "\n",
      "4it [00:00, 16.68it/s]\u001B[A\u001B[A\n",
      "\n",
      "6it [00:00, 15.84it/s]\u001B[A\u001B[A\n",
      "\n",
      "8it [00:00, 15.94it/s]\u001B[A\u001B[A\n",
      "\n",
      "10it [00:00, 13.16it/s]\u001B[A\u001B[A\n",
      "\n",
      "12it [00:00, 13.40it/s]\u001B[A\u001B[A\n",
      "\n",
      "15it [00:01, 14.82it/s]\u001B[A\u001B[A\n",
      "\n",
      "\n",
      "2it [00:00, 46.98it/s][A\n",
      "\n",
      " 60%|██████    | 9/15 [00:09<00:06,  1.08s/it]\u001B[A\n",
      "\n",
      "0it [00:00, ?it/s]\u001B[A\u001B[A\n",
      "\n",
      "2it [00:00, 15.78it/s]\u001B[A\u001B[A"
     ]
    },
    {
     "name": "stdout",
     "output_type": "stream",
     "text": [
      "TOTAL TRAIN LOSS 9.977184772491455\n",
      "TOTAL EVAL LOSS 8.444171249866486\n",
      "TRAIN \t1.0130021572113037 secs\n",
      "TRAIN accuracy : 0.14720812182741116\n",
      "EVAL \t0.04369401931762695 secs\n",
      "EVAL accuracy : 0.14963503649635038\n",
      "\n",
      "\n",
      "** ** * Saving fine - tuned model ** ** * \n",
      "Epoch n9\n"
     ]
    },
    {
     "name": "stderr",
     "output_type": "stream",
     "text": [
      "\n",
      "\n",
      "4it [00:00, 16.00it/s]\u001B[A\u001B[A\n",
      "\n",
      "6it [00:00, 15.23it/s]\u001B[A\u001B[A\n",
      "\n",
      "8it [00:00, 15.47it/s]\u001B[A\u001B[A\n",
      "\n",
      "10it [00:00, 12.91it/s]\u001B[A\u001B[A\n",
      "\n",
      "12it [00:00, 13.28it/s]\u001B[A\u001B[A\n",
      "\n",
      "15it [00:01, 14.65it/s]\u001B[A\u001B[A\n",
      "\n",
      "\n",
      "2it [00:00, 47.78it/s][A\n",
      "\n",
      " 67%|██████▋   | 10/15 [00:10<00:05,  1.08s/it]\u001B[A\n",
      "\n",
      "0it [00:00, ?it/s]\u001B[A\u001B[A\n",
      "\n",
      "2it [00:00, 16.21it/s]\u001B[A\u001B[A"
     ]
    },
    {
     "name": "stdout",
     "output_type": "stream",
     "text": [
      "TOTAL TRAIN LOSS 8.991881569226583\n",
      "TOTAL EVAL LOSS 9.776853621006012\n",
      "TRAIN \t1.0253231525421143 secs\n",
      "TRAIN accuracy : 0.14974619289340102\n",
      "EVAL \t0.0429229736328125 secs\n",
      "EVAL accuracy : 0.14963503649635038\n",
      "\n",
      "\n",
      "Epoch n10\n"
     ]
    },
    {
     "name": "stderr",
     "output_type": "stream",
     "text": [
      "\n",
      "\n",
      "4it [00:00, 16.41it/s]\u001B[A\u001B[A\n",
      "\n",
      "6it [00:00, 15.55it/s]\u001B[A\u001B[A\n",
      "\n",
      "8it [00:00, 15.82it/s]\u001B[A\u001B[A\n",
      "\n",
      "10it [00:00, 13.12it/s]\u001B[A\u001B[A\n",
      "\n",
      "12it [00:00, 13.23it/s]\u001B[A\u001B[A\n",
      "\n",
      "15it [00:01, 14.72it/s]\u001B[A\u001B[A\n",
      "\n",
      "\n",
      "2it [00:00, 48.26it/s][A\n",
      "\n",
      " 73%|███████▎  | 11/15 [00:11<00:04,  1.07s/it]\u001B[A\n",
      "\n",
      "0it [00:00, ?it/s]\u001B[A\u001B[A\n",
      "\n",
      "2it [00:00, 14.35it/s]\u001B[A\u001B[A"
     ]
    },
    {
     "name": "stdout",
     "output_type": "stream",
     "text": [
      "TOTAL TRAIN LOSS 7.358186145623525\n",
      "TOTAL EVAL LOSS 5.89834988117218\n",
      "TRAIN \t1.0204651355743408 secs\n",
      "TRAIN accuracy : 0.14974619289340102\n",
      "EVAL \t0.04238390922546387 secs\n",
      "EVAL accuracy : 0.14963503649635038\n",
      "\n",
      "\n",
      "** ** * Saving fine - tuned model ** ** * \n",
      "Epoch n11\n"
     ]
    },
    {
     "name": "stderr",
     "output_type": "stream",
     "text": [
      "\n",
      "\n",
      "4it [00:00, 14.67it/s]\u001B[A\u001B[A\n",
      "\n",
      "6it [00:00, 14.40it/s]\u001B[A\u001B[A\n",
      "\n",
      "8it [00:00, 14.54it/s]\u001B[A\u001B[A\n",
      "\n",
      "10it [00:00, 12.21it/s]\u001B[A\u001B[A\n",
      "\n",
      "12it [00:00, 12.40it/s]\u001B[A\u001B[A\n",
      "\n",
      "15it [00:01, 13.68it/s]\u001B[A\u001B[A\n",
      "\n",
      "\n",
      "2it [00:00, 40.74it/s][A\n",
      "\n",
      " 80%|████████  | 12/15 [00:13<00:03,  1.10s/it]\u001B[A\n",
      "\n",
      "0it [00:00, ?it/s]\u001B[A\u001B[A\n",
      "\n",
      "2it [00:00, 15.14it/s]\u001B[A\u001B[A"
     ]
    },
    {
     "name": "stdout",
     "output_type": "stream",
     "text": [
      "TOTAL TRAIN LOSS 5.875433643658956\n",
      "TOTAL EVAL LOSS 4.323466867208481\n",
      "TRAIN \t1.0979328155517578 secs\n",
      "TRAIN accuracy : 0.14974619289340102\n",
      "EVAL \t0.05023908615112305 secs\n",
      "EVAL accuracy : 0.14963503649635038\n",
      "\n",
      "\n",
      "** ** * Saving fine - tuned model ** ** * \n",
      "Epoch n12\n"
     ]
    },
    {
     "name": "stderr",
     "output_type": "stream",
     "text": [
      "\n",
      "\n",
      "4it [00:00, 15.30it/s]\u001B[A\u001B[A\n",
      "\n",
      "6it [00:00, 14.41it/s]\u001B[A\u001B[A\n",
      "\n",
      "8it [00:00, 14.47it/s]\u001B[A\u001B[A\n",
      "\n",
      "10it [00:00, 12.19it/s]\u001B[A\u001B[A\n",
      "\n",
      "12it [00:00, 12.34it/s]\u001B[A\u001B[A\n",
      "\n",
      "15it [00:01, 13.57it/s]\u001B[A\u001B[A\n",
      "\n",
      "\n",
      "2it [00:00, 38.50it/s][A\n",
      "\n",
      " 87%|████████▋ | 13/15 [00:14<00:02,  1.12s/it]\u001B[A\n",
      "\n",
      "0it [00:00, ?it/s]\u001B[A\u001B[A\n",
      "\n",
      "2it [00:00, 14.65it/s]\u001B[A\u001B[A"
     ]
    },
    {
     "name": "stdout",
     "output_type": "stream",
     "text": [
      "TOTAL TRAIN LOSS 3.571419099966685\n",
      "TOTAL EVAL LOSS 1.5709593892097473\n",
      "TRAIN \t1.1065211296081543 secs\n",
      "TRAIN accuracy : 0.14974619289340102\n",
      "EVAL \t0.0531461238861084 secs\n",
      "EVAL accuracy : 0.14963503649635038\n",
      "\n",
      "\n",
      "** ** * Saving fine - tuned model ** ** * \n",
      "Epoch n13\n"
     ]
    },
    {
     "name": "stderr",
     "output_type": "stream",
     "text": [
      "\n",
      "\n",
      "4it [00:00, 14.36it/s]\u001B[A\u001B[A\n",
      "\n",
      "6it [00:00, 13.72it/s]\u001B[A\u001B[A\n",
      "\n",
      "8it [00:00, 13.92it/s]\u001B[A\u001B[A\n",
      "\n",
      "10it [00:00, 11.96it/s]\u001B[A\u001B[A\n",
      "\n",
      "12it [00:00, 12.23it/s]\u001B[A\u001B[A\n",
      "\n",
      "15it [00:01, 13.30it/s]\u001B[A\u001B[A\n",
      "\n",
      "\n",
      "2it [00:00, 42.42it/s][A\n",
      "\n",
      " 93%|█████████▎| 14/15 [00:15<00:01,  1.14s/it]\u001B[A\n",
      "\n",
      "0it [00:00, ?it/s]\u001B[A\u001B[A\n",
      "\n",
      "2it [00:00, 14.62it/s]\u001B[A\u001B[A"
     ]
    },
    {
     "name": "stdout",
     "output_type": "stream",
     "text": [
      "TOTAL TRAIN LOSS 1.6035562654336293\n",
      "TOTAL EVAL LOSS 0.178610198199749\n",
      "TRAIN \t1.1286602020263672 secs\n",
      "TRAIN accuracy : 0.14974619289340102\n",
      "EVAL \t0.0484309196472168 secs\n",
      "EVAL accuracy : 0.14963503649635038\n",
      "\n",
      "\n",
      "** ** * Saving fine - tuned model ** ** * \n",
      "Epoch n14\n"
     ]
    },
    {
     "name": "stderr",
     "output_type": "stream",
     "text": [
      "\n",
      "\n",
      "4it [00:00, 14.61it/s]\u001B[A\u001B[A\n",
      "\n",
      "6it [00:00, 13.95it/s]\u001B[A\u001B[A\n",
      "\n",
      "8it [00:00, 14.21it/s]\u001B[A\u001B[A\n",
      "\n",
      "10it [00:00, 12.07it/s]\u001B[A\u001B[A\n",
      "\n",
      "12it [00:00, 12.31it/s]\u001B[A\u001B[A\n",
      "\n",
      "15it [00:01, 13.67it/s]\u001B[A\u001B[A\n",
      "\n",
      "\n",
      "2it [00:00, 47.53it/s][A\n",
      "\n",
      "100%|██████████| 15/15 [00:16<00:00,  1.10s/it]\u001B[A"
     ]
    },
    {
     "name": "stdout",
     "output_type": "stream",
     "text": [
      "TOTAL TRAIN LOSS 0.615337036550045\n",
      "TOTAL EVAL LOSS 0.02964142942801118\n",
      "TRAIN \t1.098616123199463 secs\n",
      "TRAIN accuracy : 0.14974619289340102\n",
      "EVAL \t0.04326987266540527 secs\n",
      "EVAL accuracy : 0.14963503649635038\n",
      "\n",
      "\n",
      "** ** * Saving fine - tuned model ** ** * \n"
     ]
    },
    {
     "name": "stderr",
     "output_type": "stream",
     "text": [
      "\n"
     ]
    },
    {
     "data": {
      "text/plain": "<Figure size 640x480 with 1 Axes>",
      "image/png": "[encoded data removed]"
     },
     "metadata": {},
     "output_type": "display_data"
    },
    {
     "name": "stderr",
     "output_type": "stream",
     "text": [
      " 40%|████      | 2/5 [00:33<00:50, 16.96s/it]\n",
      "  0%|          | 0/15 [00:00<?, ?it/s]\u001B[A\n",
      "\n",
      "0it [00:00, ?it/s]\u001B[A\u001B[A"
     ]
    },
    {
     "name": "stdout",
     "output_type": "stream",
     "text": [
      "\n",
      " Experiment 3\n",
      "Epoch n0\n"
     ]
    },
    {
     "name": "stderr",
     "output_type": "stream",
     "text": [
      "\n",
      "\n",
      "2it [00:00, 13.91it/s]\u001B[A\u001B[A\n",
      "\n",
      "4it [00:00, 12.78it/s]\u001B[A\u001B[A\n",
      "\n",
      "6it [00:00, 13.52it/s]\u001B[A\u001B[A\n",
      "\n",
      "8it [00:00, 14.04it/s]\u001B[A\u001B[A\n",
      "\n",
      "10it [00:00, 13.34it/s]\u001B[A\u001B[A\n",
      "\n",
      "12it [00:00, 13.76it/s]\u001B[A\u001B[A\n",
      "\n",
      "15it [00:01, 13.96it/s]\u001B[A\u001B[A\n",
      "\n",
      "\n",
      "2it [00:00, 44.70it/s][A\n",
      "\n",
      "  7%|▋         | 1/15 [00:01<00:15,  1.13s/it]\u001B[A\n",
      "\n",
      "0it [00:00, ?it/s]\u001B[A\u001B[A\n",
      "\n",
      "2it [00:00, 17.86it/s]\u001B[A\u001B[A"
     ]
    },
    {
     "name": "stdout",
     "output_type": "stream",
     "text": [
      "TOTAL TRAIN LOSS 45.35800552368164\n",
      "TOTAL EVAL LOSS 42.86589860916138\n",
      "TRAIN \t1.0761139392852783 secs\n",
      "TRAIN accuracy : 0.0\n",
      "EVAL \t0.046003103256225586 secs\n",
      "EVAL accuracy : 0.0\n",
      "\n",
      "\n",
      "** ** * Saving fine - tuned model ** ** * \n",
      "Epoch n1\n"
     ]
    },
    {
     "name": "stderr",
     "output_type": "stream",
     "text": [
      "\n",
      "\n",
      "4it [00:00, 14.68it/s]\u001B[A\u001B[A\n",
      "\n",
      "6it [00:00, 14.91it/s]\u001B[A\u001B[A\n",
      "\n",
      "8it [00:00, 15.27it/s]\u001B[A\u001B[A\n",
      "\n",
      "10it [00:00, 14.10it/s]\u001B[A\u001B[A\n",
      "\n",
      "12it [00:00, 14.31it/s]\u001B[A\u001B[A\n",
      "\n",
      "15it [00:01, 14.16it/s]\u001B[A\u001B[A\n",
      "\n",
      "\n",
      "2it [00:00, 39.54it/s][A\n",
      "\n",
      " 13%|█▎        | 2/15 [00:02<00:14,  1.12s/it]\u001B[A\n",
      "\n",
      "0it [00:00, ?it/s]\u001B[A\u001B[A\n",
      "\n",
      "2it [00:00, 17.22it/s]\u001B[A\u001B[A"
     ]
    },
    {
     "name": "stdout",
     "output_type": "stream",
     "text": [
      "TOTAL TRAIN LOSS 41.36215957005819\n",
      "TOTAL EVAL LOSS 39.07206058502197\n",
      "TRAIN \t1.0605907440185547 secs\n",
      "TRAIN accuracy : 0.0\n",
      "EVAL \t0.05190300941467285 secs\n",
      "EVAL accuracy : 0.0\n",
      "\n",
      "\n",
      "** ** * Saving fine - tuned model ** ** * \n",
      "Epoch n2\n"
     ]
    },
    {
     "name": "stderr",
     "output_type": "stream",
     "text": [
      "\n",
      "\n",
      "4it [00:00, 14.88it/s]\u001B[A\u001B[A\n",
      "\n",
      "6it [00:00, 15.24it/s]\u001B[A\u001B[A\n",
      "\n",
      "8it [00:00, 15.49it/s]\u001B[A\u001B[A\n",
      "\n",
      "10it [00:00, 14.15it/s]\u001B[A\u001B[A\n",
      "\n",
      "12it [00:00, 14.48it/s]\u001B[A\u001B[A\n",
      "\n",
      "15it [00:01, 14.54it/s]\u001B[A\u001B[A\n",
      "\n",
      "\n",
      "2it [00:00, 42.19it/s][A\n",
      "\n",
      " 20%|██        | 3/15 [00:03<00:13,  1.11s/it]\u001B[A\n",
      "\n",
      "0it [00:00, ?it/s]\u001B[A\u001B[A\n",
      "\n",
      "2it [00:00, 15.62it/s]\u001B[A\u001B[A"
     ]
    },
    {
     "name": "stdout",
     "output_type": "stream",
     "text": [
      "TOTAL TRAIN LOSS 37.50322103500366\n",
      "TOTAL EVAL LOSS 34.84133839607239\n",
      "TRAIN \t1.032677173614502 secs\n",
      "TRAIN accuracy : 0.046753246753246755\n",
      "EVAL \t0.04840707778930664 secs\n",
      "EVAL accuracy : 0.10774410774410774\n",
      "\n",
      "\n",
      "** ** * Saving fine - tuned model ** ** * \n",
      "Epoch n3\n"
     ]
    },
    {
     "name": "stderr",
     "output_type": "stream",
     "text": [
      "\n",
      "\n",
      "4it [00:00, 13.87it/s]\u001B[A\u001B[A\n",
      "\n",
      "6it [00:00, 14.01it/s]\u001B[A\u001B[A\n",
      "\n",
      "8it [00:00, 14.29it/s]\u001B[A\u001B[A\n",
      "\n",
      "10it [00:00, 13.00it/s]\u001B[A\u001B[A\n",
      "\n",
      "12it [00:00, 13.29it/s]\u001B[A\u001B[A\n",
      "\n",
      "15it [00:01, 13.39it/s]\u001B[A\u001B[A\n",
      "\n",
      "\n",
      "2it [00:00, 33.04it/s][A\n",
      "\n",
      " 27%|██▋       | 4/15 [00:04<00:12,  1.14s/it]\u001B[A\n",
      "\n",
      "0it [00:00, ?it/s]\u001B[A\u001B[A\n",
      "\n",
      "2it [00:00, 16.05it/s]\u001B[A\u001B[A"
     ]
    },
    {
     "name": "stdout",
     "output_type": "stream",
     "text": [
      "TOTAL TRAIN LOSS 33.68971347808838\n",
      "TOTAL EVAL LOSS 31.020792722702026\n",
      "TRAIN \t1.12172269821167 secs\n",
      "TRAIN accuracy : 0.08051948051948052\n",
      "EVAL \t0.0617368221282959 secs\n",
      "EVAL accuracy : 0.10606060606060606\n",
      "\n",
      "\n",
      "** ** * Saving fine - tuned model ** ** * \n",
      "Epoch n4\n"
     ]
    },
    {
     "name": "stderr",
     "output_type": "stream",
     "text": [
      "\n",
      "\n",
      "4it [00:00, 14.14it/s]\u001B[A\u001B[A\n",
      "\n",
      "6it [00:00, 14.95it/s]\u001B[A\u001B[A\n",
      "\n",
      "8it [00:00, 15.45it/s]\u001B[A\u001B[A\n",
      "\n",
      "10it [00:00, 14.09it/s]\u001B[A\u001B[A\n",
      "\n",
      "12it [00:00, 14.54it/s]\u001B[A\u001B[A\n",
      "\n",
      "15it [00:01, 14.61it/s]\u001B[A\u001B[A\n",
      "\n",
      "\n",
      "2it [00:00, 43.51it/s][A\n",
      "\n",
      " 33%|███▎      | 5/15 [00:05<00:11,  1.12s/it]\u001B[A\n",
      "\n",
      "0it [00:00, ?it/s]\u001B[A\u001B[A\n",
      "\n",
      "2it [00:00, 17.83it/s]\u001B[A\u001B[A"
     ]
    },
    {
     "name": "stdout",
     "output_type": "stream",
     "text": [
      "TOTAL TRAIN LOSS 28.47941319147746\n",
      "TOTAL EVAL LOSS 26.41552448272705\n",
      "TRAIN \t1.0275921821594238 secs\n",
      "TRAIN accuracy : 0.11688311688311688\n",
      "EVAL \t0.04708504676818848 secs\n",
      "EVAL accuracy : 0.1111111111111111\n",
      "\n",
      "\n",
      "** ** * Saving fine - tuned model ** ** * \n",
      "Epoch n5\n"
     ]
    },
    {
     "name": "stderr",
     "output_type": "stream",
     "text": [
      "\n",
      "\n",
      "4it [00:00, 15.38it/s]\u001B[A\u001B[A\n",
      "\n",
      "6it [00:00, 15.90it/s]\u001B[A\u001B[A\n",
      "\n",
      "8it [00:00, 16.17it/s]\u001B[A\u001B[A\n",
      "\n",
      "10it [00:00, 14.58it/s]\u001B[A\u001B[A\n",
      "\n",
      "12it [00:00, 14.81it/s]\u001B[A\u001B[A\n",
      "\n",
      "15it [00:01, 14.87it/s]\u001B[A\u001B[A\n",
      "\n",
      "\n",
      "2it [00:00, 42.90it/s][A\n",
      "\n",
      " 40%|████      | 6/15 [00:06<00:09,  1.10s/it]\u001B[A\n",
      "\n",
      "0it [00:00, ?it/s]\u001B[A\u001B[A\n",
      "\n",
      "2it [00:00, 17.73it/s]\u001B[A\u001B[A"
     ]
    },
    {
     "name": "stdout",
     "output_type": "stream",
     "text": [
      "TOTAL TRAIN LOSS 23.705488602320354\n",
      "TOTAL EVAL LOSS 19.714955687522888\n",
      "TRAIN \t1.0101029872894287 secs\n",
      "TRAIN accuracy : 0.11428571428571428\n",
      "EVAL \t0.04760408401489258 secs\n",
      "EVAL accuracy : 0.10606060606060606\n",
      "\n",
      "\n",
      "** ** * Saving fine - tuned model ** ** * \n",
      "Epoch n6\n"
     ]
    },
    {
     "name": "stderr",
     "output_type": "stream",
     "text": [
      "\n",
      "\n",
      "4it [00:00, 15.25it/s]\u001B[A\u001B[A\n",
      "\n",
      "6it [00:00, 15.83it/s]\u001B[A\u001B[A\n",
      "\n",
      "8it [00:00, 16.06it/s]\u001B[A\u001B[A\n",
      "\n",
      "10it [00:00, 14.47it/s]\u001B[A\u001B[A\n",
      "\n",
      "12it [00:00, 14.83it/s]\u001B[A\u001B[A\n",
      "\n",
      "15it [00:01, 14.91it/s]\u001B[A\u001B[A\n",
      "\n",
      "\n",
      "2it [00:00, 45.04it/s][A\n",
      "\n",
      " 47%|████▋     | 7/15 [00:07<00:08,  1.09s/it]\u001B[A\n",
      "\n",
      "0it [00:00, ?it/s]\u001B[A\u001B[A\n",
      "\n",
      "2it [00:00, 17.64it/s]\u001B[A\u001B[A"
     ]
    },
    {
     "name": "stdout",
     "output_type": "stream",
     "text": [
      "TOTAL TRAIN LOSS 18.1732550462087\n",
      "TOTAL EVAL LOSS 15.614044666290283\n",
      "TRAIN \t1.0073888301849365 secs\n",
      "TRAIN accuracy : 0.12207792207792208\n",
      "EVAL \t0.04555702209472656 secs\n",
      "EVAL accuracy : 0.10437710437710437\n",
      "\n",
      "\n",
      "** ** * Saving fine - tuned model ** ** * \n",
      "Epoch n7\n"
     ]
    },
    {
     "name": "stderr",
     "output_type": "stream",
     "text": [
      "\n",
      "\n",
      "4it [00:00, 15.25it/s]\u001B[A\u001B[A\n",
      "\n",
      "6it [00:00, 15.78it/s]\u001B[A\u001B[A\n",
      "\n",
      "8it [00:00, 16.07it/s]\u001B[A\u001B[A\n",
      "\n",
      "10it [00:00, 14.46it/s]\u001B[A\u001B[A\n",
      "\n",
      "12it [00:00, 14.50it/s]\u001B[A\u001B[A\n",
      "\n",
      "15it [00:01, 14.46it/s]\u001B[A\u001B[A\n",
      "\n",
      "\n",
      "2it [00:00, 35.36it/s][A\n",
      "\n",
      " 53%|█████▎    | 8/15 [00:08<00:07,  1.09s/it]\u001B[A\n",
      "\n",
      "0it [00:00, ?it/s]\u001B[A\u001B[A\n",
      "\n",
      "2it [00:00, 15.78it/s]\u001B[A\u001B[A"
     ]
    },
    {
     "name": "stdout",
     "output_type": "stream",
     "text": [
      "TOTAL TRAIN LOSS 13.34826103846232\n",
      "TOTAL EVAL LOSS 11.834491491317749\n",
      "TRAIN \t1.038133144378662 secs\n",
      "TRAIN accuracy : 0.12987012987012986\n",
      "EVAL \t0.057576894760131836 secs\n",
      "EVAL accuracy : 0.14983164983164984\n",
      "\n",
      "\n",
      "** ** * Saving fine - tuned model ** ** * \n",
      "Epoch n8\n"
     ]
    },
    {
     "name": "stderr",
     "output_type": "stream",
     "text": [
      "\n",
      "\n",
      "4it [00:00, 13.86it/s]\u001B[A\u001B[A\n",
      "\n",
      "6it [00:00, 14.16it/s]\u001B[A\u001B[A\n",
      "\n",
      "8it [00:00, 14.44it/s]\u001B[A\u001B[A\n",
      "\n",
      "10it [00:00, 13.21it/s]\u001B[A\u001B[A\n",
      "\n",
      "12it [00:00, 13.68it/s]\u001B[A\u001B[A\n",
      "\n",
      "15it [00:01, 13.58it/s]\u001B[A\u001B[A\n",
      "\n",
      "\n",
      "2it [00:00, 34.07it/s][A\n",
      "\n",
      " 60%|██████    | 9/15 [00:10<00:06,  1.12s/it]\u001B[A\n",
      "\n",
      "0it [00:00, ?it/s]\u001B[A\u001B[A\n",
      "\n",
      "2it [00:00, 15.66it/s]\u001B[A\u001B[A"
     ]
    },
    {
     "name": "stdout",
     "output_type": "stream",
     "text": [
      "TOTAL TRAIN LOSS 11.637500802675882\n",
      "TOTAL EVAL LOSS 11.231973767280579\n",
      "TRAIN \t1.1056978702545166 secs\n",
      "TRAIN accuracy : 0.14545454545454545\n",
      "EVAL \t0.059686899185180664 secs\n",
      "EVAL accuracy : 0.14983164983164984\n",
      "\n",
      "\n",
      "** ** * Saving fine - tuned model ** ** * \n",
      "Epoch n9\n"
     ]
    },
    {
     "name": "stderr",
     "output_type": "stream",
     "text": [
      "\n",
      "\n",
      "4it [00:00, 13.76it/s]\u001B[A\u001B[A\n",
      "\n",
      "6it [00:00, 14.04it/s]\u001B[A\u001B[A\n",
      "\n",
      "8it [00:00, 14.32it/s]\u001B[A\u001B[A\n",
      "\n",
      "10it [00:00, 13.09it/s]\u001B[A\u001B[A\n",
      "\n",
      "12it [00:00, 13.30it/s]\u001B[A\u001B[A\n",
      "\n",
      "15it [00:01, 13.66it/s]\u001B[A\u001B[A\n",
      "\n",
      "\n",
      "2it [00:00, 41.57it/s][A\n",
      "\n",
      " 67%|██████▋   | 10/15 [00:11<00:05,  1.13s/it]\u001B[A\n",
      "\n",
      "0it [00:00, ?it/s]\u001B[A\u001B[A\n",
      "\n",
      "2it [00:00, 18.18it/s]\u001B[A\u001B[A"
     ]
    },
    {
     "name": "stdout",
     "output_type": "stream",
     "text": [
      "TOTAL TRAIN LOSS 10.390425523122152\n",
      "TOTAL EVAL LOSS 11.145139038562775\n",
      "TRAIN \t1.0989360809326172 secs\n",
      "TRAIN accuracy : 0.14805194805194805\n",
      "EVAL \t0.04930520057678223 secs\n",
      "EVAL accuracy : 0.14983164983164984\n",
      "\n",
      "\n",
      "** ** * Saving fine - tuned model ** ** * \n",
      "Epoch n10\n"
     ]
    },
    {
     "name": "stderr",
     "output_type": "stream",
     "text": [
      "\n",
      "\n",
      "4it [00:00, 15.51it/s]\u001B[A\u001B[A\n",
      "\n",
      "6it [00:00, 15.83it/s]\u001B[A\u001B[A\n",
      "\n",
      "8it [00:00, 16.10it/s]\u001B[A\u001B[A\n",
      "\n",
      "10it [00:00, 14.43it/s]\u001B[A\u001B[A\n",
      "\n",
      "12it [00:00, 14.91it/s]\u001B[A\u001B[A\n",
      "\n",
      "15it [00:01, 14.99it/s]\u001B[A\u001B[A\n",
      "\n",
      "\n",
      "2it [00:00, 44.70it/s][A\n",
      "\n",
      " 73%|███████▎  | 11/15 [00:12<00:04,  1.11s/it]\u001B[A\n",
      "\n",
      "0it [00:00, ?it/s]\u001B[A\u001B[A\n",
      "\n",
      "2it [00:00, 17.72it/s]\u001B[A\u001B[A"
     ]
    },
    {
     "name": "stdout",
     "output_type": "stream",
     "text": [
      "TOTAL TRAIN LOSS 9.58072833220164\n",
      "TOTAL EVAL LOSS 8.596044480800629\n",
      "TRAIN \t1.0015571117401123 secs\n",
      "TRAIN accuracy : 0.14805194805194805\n",
      "EVAL \t0.045729875564575195 secs\n",
      "EVAL accuracy : 0.14983164983164984\n",
      "\n",
      "\n",
      "** ** * Saving fine - tuned model ** ** * \n",
      "Epoch n11\n"
     ]
    },
    {
     "name": "stderr",
     "output_type": "stream",
     "text": [
      "\n",
      "\n",
      "4it [00:00, 15.55it/s]\u001B[A\u001B[A\n",
      "\n",
      "6it [00:00, 16.11it/s]\u001B[A\u001B[A\n",
      "\n",
      "8it [00:00, 16.36it/s]\u001B[A\u001B[A\n",
      "\n",
      "10it [00:00, 14.82it/s]\u001B[A\u001B[A\n",
      "\n",
      "12it [00:00, 15.33it/s]\u001B[A\u001B[A\n",
      "\n",
      "15it [00:00, 15.39it/s]\u001B[A\u001B[A\n",
      "\n",
      "\n",
      "2it [00:00, 43.31it/s][A\n",
      "\n",
      " 80%|████████  | 12/15 [00:13<00:03,  1.08s/it]\u001B[A\n",
      "\n",
      "0it [00:00, ?it/s]\u001B[A\u001B[A\n",
      "\n",
      "2it [00:00, 18.95it/s]\u001B[A\u001B[A"
     ]
    },
    {
     "name": "stdout",
     "output_type": "stream",
     "text": [
      "TOTAL TRAIN LOSS 8.378125150998434\n",
      "TOTAL EVAL LOSS 7.65130341053009\n",
      "TRAIN \t0.9758362770080566 secs\n",
      "TRAIN accuracy : 0.14805194805194805\n",
      "EVAL \t0.04742598533630371 secs\n",
      "EVAL accuracy : 0.14983164983164984\n",
      "\n",
      "\n",
      "** ** * Saving fine - tuned model ** ** * \n",
      "Epoch n12\n"
     ]
    },
    {
     "name": "stderr",
     "output_type": "stream",
     "text": [
      "\n",
      "\n",
      "4it [00:00, 16.21it/s]\u001B[A\u001B[A\n",
      "\n",
      "6it [00:00, 16.50it/s]\u001B[A\u001B[A\n",
      "\n",
      "8it [00:00, 16.65it/s]\u001B[A\u001B[A\n",
      "\n",
      "10it [00:00, 15.03it/s]\u001B[A\u001B[A\n",
      "\n",
      "12it [00:00, 15.26it/s]\u001B[A\u001B[A\n",
      "\n",
      "15it [00:00, 15.42it/s]\u001B[A\u001B[A\n",
      "\n",
      "\n",
      "2it [00:00, 42.27it/s][A\n",
      "\n",
      " 87%|████████▋ | 13/15 [00:14<00:02,  1.07s/it]\u001B[A\n",
      "\n",
      "0it [00:00, ?it/s]\u001B[A\u001B[A\n",
      "\n",
      "2it [00:00, 16.35it/s]\u001B[A\u001B[A"
     ]
    },
    {
     "name": "stdout",
     "output_type": "stream",
     "text": [
      "TOTAL TRAIN LOSS 7.901471376419067\n",
      "TOTAL EVAL LOSS 7.2298747301101685\n",
      "TRAIN \t0.9733750820159912 secs\n",
      "TRAIN accuracy : 0.14805194805194805\n",
      "EVAL \t0.048497915267944336 secs\n",
      "EVAL accuracy : 0.14983164983164984\n",
      "\n",
      "\n",
      "** ** * Saving fine - tuned model ** ** * \n",
      "Epoch n13\n"
     ]
    },
    {
     "name": "stderr",
     "output_type": "stream",
     "text": [
      "\n",
      "\n",
      "4it [00:00, 14.47it/s]\u001B[A\u001B[A\n",
      "\n",
      "6it [00:00, 14.89it/s]\u001B[A\u001B[A\n",
      "\n",
      "8it [00:00, 15.50it/s]\u001B[A\u001B[A\n",
      "\n",
      "10it [00:00, 13.74it/s]\u001B[A\u001B[A\n",
      "\n",
      "12it [00:00, 13.92it/s]\u001B[A\u001B[A\n",
      "\n",
      "15it [00:01, 14.09it/s]\u001B[A\u001B[A\n",
      "\n",
      "\n",
      "2it [00:00, 38.88it/s][A\n",
      "\n",
      " 93%|█████████▎| 14/15 [00:15<00:01,  1.08s/it]\u001B[A\n",
      "\n",
      "0it [00:00, ?it/s]\u001B[A\u001B[A\n",
      "\n",
      "2it [00:00, 16.01it/s]\u001B[A\u001B[A"
     ]
    },
    {
     "name": "stdout",
     "output_type": "stream",
     "text": [
      "TOTAL TRAIN LOSS 6.548569619655609\n",
      "TOTAL EVAL LOSS 5.996672511100769\n",
      "TRAIN \t1.065953016281128 secs\n",
      "TRAIN accuracy : 0.14805194805194805\n",
      "EVAL \t0.05236005783081055 secs\n",
      "EVAL accuracy : 0.14983164983164984\n",
      "\n",
      "\n",
      "** ** * Saving fine - tuned model ** ** * \n",
      "Epoch n14\n"
     ]
    },
    {
     "name": "stderr",
     "output_type": "stream",
     "text": [
      "\n",
      "\n",
      "4it [00:00, 14.24it/s]\u001B[A\u001B[A\n",
      "\n",
      "6it [00:00, 14.53it/s]\u001B[A\u001B[A\n",
      "\n",
      "8it [00:00, 14.71it/s]\u001B[A\u001B[A\n",
      "\n",
      "10it [00:00, 13.03it/s]\u001B[A\u001B[A\n",
      "\n",
      "12it [00:00, 13.25it/s]\u001B[A\u001B[A\n",
      "\n",
      "15it [00:01, 13.52it/s]\u001B[A\u001B[A\n",
      "\n",
      "\n",
      "2it [00:00, 33.42it/s][A\n",
      "\n",
      "100%|██████████| 15/15 [00:16<00:00,  1.10s/it]\u001B[A"
     ]
    },
    {
     "name": "stdout",
     "output_type": "stream",
     "text": [
      "TOTAL TRAIN LOSS 5.244806945323944\n",
      "TOTAL EVAL LOSS 3.754321038722992\n",
      "TRAIN \t1.1103119850158691 secs\n",
      "TRAIN accuracy : 0.14805194805194805\n",
      "EVAL \t0.06089901924133301 secs\n",
      "EVAL accuracy : 0.14983164983164984\n",
      "\n",
      "\n",
      "** ** * Saving fine - tuned model ** ** * \n"
     ]
    },
    {
     "name": "stderr",
     "output_type": "stream",
     "text": [
      "\n"
     ]
    },
    {
     "data": {
      "text/plain": "<Figure size 640x480 with 1 Axes>",
      "image/png": "[encoded data removed]"
     },
     "metadata": {},
     "output_type": "display_data"
    },
    {
     "name": "stderr",
     "output_type": "stream",
     "text": [
      " 60%|██████    | 3/5 [00:50<00:33, 16.87s/it]\n",
      "  0%|          | 0/15 [00:00<?, ?it/s]\u001B[A\n",
      "\n",
      "0it [00:00, ?it/s]\u001B[A\u001B[A"
     ]
    },
    {
     "name": "stdout",
     "output_type": "stream",
     "text": [
      "\n",
      " Experiment 4\n",
      "Epoch n0\n"
     ]
    },
    {
     "name": "stderr",
     "output_type": "stream",
     "text": [
      "\n",
      "\n",
      "2it [00:00, 14.44it/s]\u001B[A\u001B[A\n",
      "\n",
      "4it [00:00, 14.03it/s]\u001B[A\u001B[A\n",
      "\n",
      "6it [00:00, 13.65it/s]\u001B[A\u001B[A\n",
      "\n",
      "8it [00:00, 13.97it/s]\u001B[A\u001B[A\n",
      "\n",
      "10it [00:00, 12.33it/s]\u001B[A\u001B[A\n",
      "\n",
      "12it [00:00, 12.90it/s]\u001B[A\u001B[A\n",
      "\n",
      "15it [00:01, 12.86it/s]\u001B[A\u001B[A\n",
      "\n",
      "\n",
      "2it [00:00, 46.71it/s][A\n",
      "\n",
      "  7%|▋         | 1/15 [00:01<00:17,  1.22s/it]\u001B[A\n",
      "\n",
      "0it [00:00, ?it/s]\u001B[A\u001B[A\n",
      "\n",
      "2it [00:00, 15.17it/s]\u001B[A\u001B[A"
     ]
    },
    {
     "name": "stdout",
     "output_type": "stream",
     "text": [
      "TOTAL TRAIN LOSS 46.5406748453776\n",
      "TOTAL EVAL LOSS 44.14799928665161\n",
      "TRAIN \t1.1676218509674072 secs\n",
      "TRAIN accuracy : 0.0\n",
      "EVAL \t0.04390406608581543 secs\n",
      "EVAL accuracy : 0.0\n",
      "\n",
      "\n",
      "** ** * Saving fine - tuned model ** ** * \n",
      "Epoch n1\n"
     ]
    },
    {
     "name": "stderr",
     "output_type": "stream",
     "text": [
      "\n",
      "\n",
      "4it [00:00, 14.42it/s]\u001B[A\u001B[A\n",
      "\n",
      "6it [00:00, 13.83it/s]\u001B[A\u001B[A\n",
      "\n",
      "8it [00:00, 14.01it/s]\u001B[A\u001B[A\n",
      "\n",
      "10it [00:00, 12.36it/s]\u001B[A\u001B[A\n",
      "\n",
      "12it [00:00, 12.95it/s]\u001B[A\u001B[A\n",
      "\n",
      "15it [00:01, 12.85it/s]\u001B[A\u001B[A\n",
      "\n",
      "\n",
      "2it [00:00, 45.73it/s][A\n",
      "\n",
      " 13%|█▎        | 2/15 [00:02<00:15,  1.22s/it]\u001B[A\n",
      "\n",
      "0it [00:00, ?it/s]\u001B[A\u001B[A\n",
      "\n",
      "2it [00:00, 15.73it/s]\u001B[A\u001B[A"
     ]
    },
    {
     "name": "stdout",
     "output_type": "stream",
     "text": [
      "TOTAL TRAIN LOSS 42.216795444488525\n",
      "TOTAL EVAL LOSS 39.612571001052856\n",
      "TRAIN \t1.1680340766906738 secs\n",
      "TRAIN accuracy : 0.0\n",
      "EVAL \t0.04474496841430664 secs\n",
      "EVAL accuracy : 0.0\n",
      "\n",
      "\n",
      "** ** * Saving fine - tuned model ** ** * \n",
      "Epoch n2\n"
     ]
    },
    {
     "name": "stderr",
     "output_type": "stream",
     "text": [
      "\n",
      "\n",
      "4it [00:00, 14.92it/s]\u001B[A\u001B[A\n",
      "\n",
      "6it [00:00, 14.78it/s]\u001B[A\u001B[A\n",
      "\n",
      "8it [00:00, 15.05it/s]\u001B[A\u001B[A\n",
      "\n",
      "10it [00:00, 13.10it/s]\u001B[A\u001B[A\n",
      "\n",
      "12it [00:00, 13.91it/s]\u001B[A\u001B[A\n",
      "\n",
      "15it [00:01, 13.73it/s]\u001B[A\u001B[A\n",
      "\n",
      "\n",
      "2it [00:00, 50.84it/s][A\n",
      "\n",
      " 20%|██        | 3/15 [00:03<00:14,  1.19s/it]\u001B[A\n",
      "\n",
      "0it [00:00, ?it/s]\u001B[A\u001B[A\n",
      "\n",
      "2it [00:00, 17.45it/s]\u001B[A\u001B[A"
     ]
    },
    {
     "name": "stdout",
     "output_type": "stream",
     "text": [
      "TOTAL TRAIN LOSS 38.154002825419106\n",
      "TOTAL EVAL LOSS 36.045124530792236\n",
      "TRAIN \t1.0936331748962402 secs\n",
      "TRAIN accuracy : 0.007481296758104738\n",
      "EVAL \t0.04033493995666504 secs\n",
      "EVAL accuracy : 0.011441647597254004\n",
      "\n",
      "\n",
      "** ** * Saving fine - tuned model ** ** * \n",
      "Epoch n3\n"
     ]
    },
    {
     "name": "stderr",
     "output_type": "stream",
     "text": [
      "\n",
      "\n",
      "4it [00:00, 16.33it/s]\u001B[A\u001B[A\n",
      "\n",
      "6it [00:00, 15.69it/s]\u001B[A\u001B[A\n",
      "\n",
      "8it [00:00, 15.92it/s]\u001B[A\u001B[A\n",
      "\n",
      "10it [00:00, 13.62it/s]\u001B[A\u001B[A\n",
      "\n",
      "12it [00:00, 14.06it/s]\u001B[A\u001B[A\n",
      "\n",
      "15it [00:01, 13.93it/s]\u001B[A\u001B[A\n",
      "\n",
      "\n",
      "2it [00:00, 49.35it/s][A\n",
      "\n",
      " 27%|██▋       | 4/15 [00:04<00:12,  1.17s/it]\u001B[A\n",
      "\n",
      "0it [00:00, ?it/s]\u001B[A\u001B[A\n",
      "\n",
      "2it [00:00, 15.41it/s]\u001B[A\u001B[A"
     ]
    },
    {
     "name": "stdout",
     "output_type": "stream",
     "text": [
      "TOTAL TRAIN LOSS 33.70700661341349\n",
      "TOTAL EVAL LOSS 31.784313917160034\n",
      "TRAIN \t1.0780820846557617 secs\n",
      "TRAIN accuracy : 0.04987531172069826\n",
      "EVAL \t0.04146385192871094 secs\n",
      "EVAL accuracy : 0.029748283752860413\n",
      "\n",
      "\n",
      "** ** * Saving fine - tuned model ** ** * \n",
      "Epoch n4\n"
     ]
    },
    {
     "name": "stderr",
     "output_type": "stream",
     "text": [
      "\n",
      "\n",
      "4it [00:00, 14.83it/s]\u001B[A\u001B[A\n",
      "\n",
      "6it [00:00, 14.67it/s]\u001B[A\u001B[A\n",
      "\n",
      "8it [00:00, 15.03it/s]\u001B[A\u001B[A\n",
      "\n",
      "10it [00:00, 13.17it/s]\u001B[A\u001B[A\n",
      "\n",
      "12it [00:00, 14.04it/s]\u001B[A\u001B[A\n",
      "\n",
      "15it [00:01, 13.88it/s]\u001B[A\u001B[A\n",
      "\n",
      "\n",
      "2it [00:00, 52.97it/s][A\n",
      "\n",
      " 33%|███▎      | 5/15 [00:05<00:11,  1.16s/it]\u001B[A\n",
      "\n",
      "0it [00:00, ?it/s]\u001B[A\u001B[A\n",
      "\n",
      "2it [00:00, 17.24it/s]\u001B[A\u001B[A"
     ]
    },
    {
     "name": "stdout",
     "output_type": "stream",
     "text": [
      "TOTAL TRAIN LOSS 28.986696402231853\n",
      "TOTAL EVAL LOSS 26.642314195632935\n",
      "TRAIN \t1.0815057754516602 secs\n",
      "TRAIN accuracy : 0.08229426433915212\n",
      "EVAL \t0.03869199752807617 secs\n",
      "EVAL accuracy : 0.09153318077803203\n",
      "\n",
      "\n",
      "** ** * Saving fine - tuned model ** ** * \n",
      "Epoch n5\n"
     ]
    },
    {
     "name": "stderr",
     "output_type": "stream",
     "text": [
      "\n",
      "\n",
      "4it [00:00, 15.97it/s]\u001B[A\u001B[A\n",
      "\n",
      "6it [00:00, 15.39it/s]\u001B[A\u001B[A\n",
      "\n",
      "8it [00:00, 15.62it/s]\u001B[A\u001B[A\n",
      "\n",
      "10it [00:00, 13.48it/s]\u001B[A\u001B[A\n",
      "\n",
      "12it [00:00, 14.33it/s]\u001B[A\u001B[A\n",
      "\n",
      "15it [00:01, 14.04it/s]\u001B[A\u001B[A\n",
      "\n",
      "\n",
      "2it [00:00, 51.48it/s][A\n",
      "\n",
      " 40%|████      | 6/15 [00:06<00:10,  1.15s/it]\u001B[A\n",
      "\n",
      "0it [00:00, ?it/s]\u001B[A\u001B[A\n",
      "\n",
      "2it [00:00, 17.05it/s]\u001B[A\u001B[A"
     ]
    },
    {
     "name": "stdout",
     "output_type": "stream",
     "text": [
      "TOTAL TRAIN LOSS 23.611817359924316\n",
      "TOTAL EVAL LOSS 20.667216181755066\n",
      "TRAIN \t1.0689280033111572 secs\n",
      "TRAIN accuracy : 0.09226932668329177\n",
      "EVAL \t0.03994607925415039 secs\n",
      "EVAL accuracy : 0.09382151029748284\n",
      "\n",
      "\n",
      "** ** * Saving fine - tuned model ** ** * \n",
      "Epoch n6\n"
     ]
    },
    {
     "name": "stderr",
     "output_type": "stream",
     "text": [
      "\n",
      "\n",
      "4it [00:00, 16.23it/s]\u001B[A\u001B[A\n",
      "\n",
      "6it [00:00, 15.61it/s]\u001B[A\u001B[A\n",
      "\n",
      "8it [00:00, 15.74it/s]\u001B[A\u001B[A\n",
      "\n",
      "10it [00:00, 13.52it/s]\u001B[A\u001B[A\n",
      "\n",
      "12it [00:00, 14.29it/s]\u001B[A\u001B[A\n",
      "\n",
      "15it [00:01, 14.10it/s]\u001B[A\u001B[A\n",
      "\n",
      "\n",
      "2it [00:00, 50.80it/s][A\n",
      "\n",
      " 47%|████▋     | 7/15 [00:08<00:09,  1.14s/it]\u001B[A\n",
      "\n",
      "0it [00:00, ?it/s]\u001B[A\u001B[A\n",
      "\n",
      "2it [00:00, 17.36it/s]\u001B[A\u001B[A"
     ]
    },
    {
     "name": "stdout",
     "output_type": "stream",
     "text": [
      "TOTAL TRAIN LOSS 17.123356183369953\n",
      "TOTAL EVAL LOSS 15.728827714920044\n",
      "TRAIN \t1.0645191669464111 secs\n",
      "TRAIN accuracy : 0.11221945137157108\n",
      "EVAL \t0.040284156799316406 secs\n",
      "EVAL accuracy : 0.09382151029748284\n",
      "\n",
      "\n",
      "** ** * Saving fine - tuned model ** ** * \n",
      "Epoch n7\n"
     ]
    },
    {
     "name": "stderr",
     "output_type": "stream",
     "text": [
      "\n",
      "\n",
      "4it [00:00, 16.43it/s]\u001B[A\u001B[A\n",
      "\n",
      "6it [00:00, 15.76it/s]\u001B[A\u001B[A\n",
      "\n",
      "8it [00:00, 15.87it/s]\u001B[A\u001B[A\n",
      "\n",
      "10it [00:00, 13.45it/s]\u001B[A\u001B[A\n",
      "\n",
      "12it [00:00, 14.29it/s]\u001B[A\u001B[A\n",
      "\n",
      "15it [00:01, 14.06it/s]\u001B[A\u001B[A\n",
      "\n",
      "\n",
      "2it [00:00, 50.84it/s][A\n",
      "\n",
      " 53%|█████▎    | 8/15 [00:09<00:07,  1.13s/it]\u001B[A\n",
      "\n",
      "0it [00:00, ?it/s]\u001B[A\u001B[A\n",
      "\n",
      "2it [00:00, 17.28it/s]\u001B[A\u001B[A"
     ]
    },
    {
     "name": "stdout",
     "output_type": "stream",
     "text": [
      "TOTAL TRAIN LOSS 12.495832006136576\n",
      "TOTAL EVAL LOSS 11.343157291412354\n",
      "TRAIN \t1.0681171417236328 secs\n",
      "TRAIN accuracy : 0.12219451371571072\n",
      "EVAL \t0.04027080535888672 secs\n",
      "EVAL accuracy : 0.14874141876430205\n",
      "\n",
      "\n",
      "** ** * Saving fine - tuned model ** ** * \n",
      "Epoch n8\n"
     ]
    },
    {
     "name": "stderr",
     "output_type": "stream",
     "text": [
      "\n",
      "\n",
      "4it [00:00, 16.42it/s]\u001B[A\u001B[A\n",
      "\n",
      "6it [00:00, 15.75it/s]\u001B[A\u001B[A\n",
      "\n",
      "8it [00:00, 15.94it/s]\u001B[A\u001B[A\n",
      "\n",
      "10it [00:00, 13.58it/s]\u001B[A\u001B[A\n",
      "\n",
      "12it [00:00, 14.38it/s]\u001B[A\u001B[A\n",
      "\n",
      "15it [00:01, 14.24it/s]\u001B[A\u001B[A\n",
      "\n",
      "\n",
      "2it [00:00, 49.21it/s][A\n",
      "\n",
      " 60%|██████    | 9/15 [00:10<00:06,  1.12s/it]\u001B[A\n",
      "\n",
      "0it [00:00, ?it/s]\u001B[A\u001B[A\n",
      "\n",
      "2it [00:00, 16.97it/s]\u001B[A\u001B[A"
     ]
    },
    {
     "name": "stdout",
     "output_type": "stream",
     "text": [
      "TOTAL TRAIN LOSS 10.48569087187449\n",
      "TOTAL EVAL LOSS 10.089646577835083\n",
      "TRAIN \t1.0545790195465088 secs\n",
      "TRAIN accuracy : 0.1396508728179551\n",
      "EVAL \t0.0416719913482666 secs\n",
      "EVAL accuracy : 0.14874141876430205\n",
      "\n",
      "\n",
      "** ** * Saving fine - tuned model ** ** * \n",
      "Epoch n9\n"
     ]
    },
    {
     "name": "stderr",
     "output_type": "stream",
     "text": [
      "\n",
      "\n",
      "4it [00:00, 16.21it/s]\u001B[A\u001B[A\n",
      "\n",
      "6it [00:00, 15.59it/s]\u001B[A\u001B[A\n",
      "\n",
      "8it [00:00, 15.82it/s]\u001B[A\u001B[A\n",
      "\n",
      "10it [00:00, 13.61it/s]\u001B[A\u001B[A\n",
      "\n",
      "12it [00:00, 14.43it/s]\u001B[A\u001B[A\n",
      "\n",
      "15it [00:01, 14.20it/s]\u001B[A\u001B[A\n",
      "\n",
      "\n",
      "2it [00:00, 53.08it/s][A\n",
      "\n",
      " 67%|██████▋   | 10/15 [00:11<00:05,  1.12s/it]\u001B[A\n",
      "\n",
      "0it [00:00, ?it/s]\u001B[A\u001B[A\n",
      "\n",
      "2it [00:00, 17.06it/s]\u001B[A\u001B[A"
     ]
    },
    {
     "name": "stdout",
     "output_type": "stream",
     "text": [
      "TOTAL TRAIN LOSS 8.231634120146433\n",
      "TOTAL EVAL LOSS 7.567747533321381\n",
      "TRAIN \t1.0573508739471436 secs\n",
      "TRAIN accuracy : 0.14962593516209477\n",
      "EVAL \t0.03868389129638672 secs\n",
      "EVAL accuracy : 0.14874141876430205\n",
      "\n",
      "\n",
      "** ** * Saving fine - tuned model ** ** * \n",
      "Epoch n10\n"
     ]
    },
    {
     "name": "stderr",
     "output_type": "stream",
     "text": [
      "\n",
      "\n",
      "4it [00:00, 16.30it/s]\u001B[A\u001B[A\n",
      "\n",
      "6it [00:00, 15.62it/s]\u001B[A\u001B[A\n",
      "\n",
      "8it [00:00, 15.81it/s]\u001B[A\u001B[A\n",
      "\n",
      "10it [00:00, 13.51it/s]\u001B[A\u001B[A\n",
      "\n",
      "12it [00:00, 14.27it/s]\u001B[A\u001B[A\n",
      "\n",
      "15it [00:01, 14.12it/s]\u001B[A\u001B[A\n",
      "\n",
      "\n",
      "2it [00:00, 52.83it/s][A\n",
      "\n",
      " 73%|███████▎  | 11/15 [00:12<00:04,  1.11s/it]\u001B[A\n",
      "\n",
      "0it [00:00, ?it/s]\u001B[A\u001B[A\n",
      "\n",
      "2it [00:00, 17.04it/s]\u001B[A\u001B[A"
     ]
    },
    {
     "name": "stdout",
     "output_type": "stream",
     "text": [
      "TOTAL TRAIN LOSS 6.30589218934377\n",
      "TOTAL EVAL LOSS 6.45497053861618\n",
      "TRAIN \t1.0629198551177979 secs\n",
      "TRAIN accuracy : 0.14962593516209477\n",
      "EVAL \t0.03890204429626465 secs\n",
      "EVAL accuracy : 0.14874141876430205\n",
      "\n",
      "\n",
      "** ** * Saving fine - tuned model ** ** * \n",
      "Epoch n11\n"
     ]
    },
    {
     "name": "stderr",
     "output_type": "stream",
     "text": [
      "\n",
      "\n",
      "4it [00:00, 16.28it/s]\u001B[A\u001B[A\n",
      "\n",
      "6it [00:00, 15.68it/s]\u001B[A\u001B[A\n",
      "\n",
      "8it [00:00, 15.76it/s]\u001B[A\u001B[A\n",
      "\n",
      "10it [00:00, 13.45it/s]\u001B[A\u001B[A\n",
      "\n",
      "12it [00:00, 14.30it/s]\u001B[A\u001B[A\n",
      "\n",
      "15it [00:01, 14.12it/s]\u001B[A\u001B[A\n",
      "\n",
      "\n",
      "2it [00:00, 50.08it/s][A\n",
      "\n",
      " 80%|████████  | 12/15 [00:13<00:03,  1.11s/it]\u001B[A\n",
      "\n",
      "0it [00:00, ?it/s]\u001B[A\u001B[A\n",
      "\n",
      "2it [00:00, 15.22it/s]\u001B[A\u001B[A"
     ]
    },
    {
     "name": "stdout",
     "output_type": "stream",
     "text": [
      "TOTAL TRAIN LOSS 5.030227373043696\n",
      "TOTAL EVAL LOSS 3.5998842120170593\n",
      "TRAIN \t1.0628268718719482 secs\n",
      "TRAIN accuracy : 0.14962593516209477\n",
      "EVAL \t0.04089808464050293 secs\n",
      "EVAL accuracy : 0.14874141876430205\n",
      "\n",
      "\n",
      "** ** * Saving fine - tuned model ** ** * \n",
      "Epoch n12\n"
     ]
    },
    {
     "name": "stderr",
     "output_type": "stream",
     "text": [
      "\n",
      "\n",
      "4it [00:00, 14.58it/s]\u001B[A\u001B[A\n",
      "\n",
      "6it [00:00, 13.94it/s]\u001B[A\u001B[A\n",
      "\n",
      "8it [00:00, 14.05it/s]\u001B[A\u001B[A\n",
      "\n",
      "10it [00:00, 12.38it/s]\u001B[A\u001B[A\n",
      "\n",
      "12it [00:00, 13.00it/s]\u001B[A\u001B[A\n",
      "\n",
      "15it [00:01, 12.97it/s]\u001B[A\u001B[A\n",
      "\n",
      "\n",
      "2it [00:00, 45.30it/s][A\n",
      "\n",
      " 87%|████████▋ | 13/15 [00:14<00:02,  1.14s/it]\u001B[A\n",
      "\n",
      "0it [00:00, ?it/s]\u001B[A\u001B[A\n",
      "\n",
      "2it [00:00, 15.26it/s]\u001B[A\u001B[A"
     ]
    },
    {
     "name": "stdout",
     "output_type": "stream",
     "text": [
      "TOTAL TRAIN LOSS 3.186966379483541\n",
      "TOTAL EVAL LOSS 1.2453197687864304\n",
      "TRAIN \t1.1574852466583252 secs\n",
      "TRAIN accuracy : 0.14962593516209477\n",
      "EVAL \t0.045114755630493164 secs\n",
      "EVAL accuracy : 0.14874141876430205\n",
      "\n",
      "\n",
      "** ** * Saving fine - tuned model ** ** * \n",
      "Epoch n13\n"
     ]
    },
    {
     "name": "stderr",
     "output_type": "stream",
     "text": [
      "\n",
      "\n",
      "4it [00:00, 15.01it/s]\u001B[A\u001B[A\n",
      "\n",
      "6it [00:00, 14.85it/s]\u001B[A\u001B[A\n",
      "\n",
      "8it [00:00, 15.24it/s]\u001B[A\u001B[A\n",
      "\n",
      "10it [00:00, 13.25it/s]\u001B[A\u001B[A\n",
      "\n",
      "12it [00:00, 14.09it/s]\u001B[A\u001B[A\n",
      "\n",
      "15it [00:01, 14.08it/s]\u001B[A\u001B[A\n",
      "\n",
      "\n",
      "2it [00:00, 52.41it/s][A\n",
      "\n",
      " 93%|█████████▎| 14/15 [00:15<00:01,  1.13s/it]\u001B[A\n",
      "\n",
      "0it [00:00, ?it/s]\u001B[A\u001B[A\n",
      "\n",
      "2it [00:00, 17.51it/s]\u001B[A\u001B[A"
     ]
    },
    {
     "name": "stdout",
     "output_type": "stream",
     "text": [
      "TOTAL TRAIN LOSS 1.8559073954820633\n",
      "TOTAL EVAL LOSS 0.2418014407157898\n",
      "TRAIN \t1.0662519931793213 secs\n",
      "TRAIN accuracy : 0.14962593516209477\n",
      "EVAL \t0.03913593292236328 secs\n",
      "EVAL accuracy : 0.14874141876430205\n",
      "\n",
      "\n",
      "** ** * Saving fine - tuned model ** ** * \n",
      "Epoch n14\n"
     ]
    },
    {
     "name": "stderr",
     "output_type": "stream",
     "text": [
      "\n",
      "\n",
      "4it [00:00, 16.60it/s]\u001B[A\u001B[A\n",
      "\n",
      "6it [00:00, 15.81it/s]\u001B[A\u001B[A\n",
      "\n",
      "8it [00:00, 15.94it/s]\u001B[A\u001B[A\n",
      "\n",
      "10it [00:00, 13.62it/s]\u001B[A\u001B[A\n",
      "\n",
      "12it [00:00, 14.50it/s]\u001B[A\u001B[A\n",
      "\n",
      "15it [00:01, 14.29it/s]\u001B[A\u001B[A\n",
      "\n",
      "\n",
      "2it [00:00, 46.64it/s][A\n",
      "\n",
      "100%|██████████| 15/15 [00:17<00:00,  1.13s/it]\u001B[A"
     ]
    },
    {
     "name": "stdout",
     "output_type": "stream",
     "text": [
      "TOTAL TRAIN LOSS 0.8523758873343468\n",
      "TOTAL EVAL LOSS 0.07644010707736015\n",
      "TRAIN \t1.0504469871520996 secs\n",
      "TRAIN accuracy : 0.14962593516209477\n",
      "EVAL \t0.04379391670227051 secs\n",
      "EVAL accuracy : 0.14874141876430205\n",
      "\n",
      "\n",
      "** ** * Saving fine - tuned model ** ** * \n"
     ]
    },
    {
     "name": "stderr",
     "output_type": "stream",
     "text": [
      "\n"
     ]
    },
    {
     "data": {
      "text/plain": "<Figure size 640x480 with 1 Axes>",
      "image/png": "[encoded data removed]"
     },
     "metadata": {},
     "output_type": "display_data"
    },
    {
     "name": "stderr",
     "output_type": "stream",
     "text": [
      " 80%|████████  | 4/5 [01:07<00:16, 16.94s/it]\n",
      "  0%|          | 0/15 [00:00<?, ?it/s]\u001B[A\n",
      "\n",
      "0it [00:00, ?it/s]\u001B[A\u001B[A"
     ]
    },
    {
     "name": "stdout",
     "output_type": "stream",
     "text": [
      "\n",
      " Experiment 5\n",
      "Epoch n0\n"
     ]
    },
    {
     "name": "stderr",
     "output_type": "stream",
     "text": [
      "\n",
      "\n",
      "2it [00:00, 14.85it/s]\u001B[A\u001B[A\n",
      "\n",
      "4it [00:00, 13.07it/s]\u001B[A\u001B[A\n",
      "\n",
      "6it [00:00, 11.21it/s]\u001B[A\u001B[A\n",
      "\n",
      "8it [00:00, 12.01it/s]\u001B[A\u001B[A\n",
      "\n",
      "10it [00:00, 12.32it/s]\u001B[A\u001B[A\n",
      "\n",
      "12it [00:01, 12.23it/s]\u001B[A\u001B[A\n",
      "\n",
      "15it [00:01, 12.44it/s]\u001B[A\u001B[A\n",
      "\n",
      "\n",
      "2it [00:00, 33.73it/s][A\n",
      "\n",
      "  7%|▋         | 1/15 [00:01<00:17,  1.27s/it]\u001B[A\n",
      "\n",
      "0it [00:00, ?it/s]\u001B[A\u001B[A\n",
      "\n",
      "2it [00:00, 15.19it/s]\u001B[A\u001B[A"
     ]
    },
    {
     "name": "stdout",
     "output_type": "stream",
     "text": [
      "TOTAL TRAIN LOSS 45.60235055287679\n",
      "TOTAL EVAL LOSS 42.96643018722534\n",
      "TRAIN \t1.206941843032837 secs\n",
      "TRAIN accuracy : 0.0\n",
      "EVAL \t0.06037497520446777 secs\n",
      "EVAL accuracy : 0.0\n",
      "\n",
      "\n",
      "** ** * Saving fine - tuned model ** ** * \n",
      "Epoch n1\n"
     ]
    },
    {
     "name": "stderr",
     "output_type": "stream",
     "text": [
      "\n",
      "\n",
      "4it [00:00, 13.51it/s]\u001B[A\u001B[A\n",
      "\n",
      "6it [00:00, 12.12it/s]\u001B[A\u001B[A\n",
      "\n",
      "8it [00:00, 12.94it/s]\u001B[A\u001B[A\n",
      "\n",
      "10it [00:00, 13.43it/s]\u001B[A\u001B[A\n",
      "\n",
      "12it [00:00, 13.73it/s]\u001B[A\u001B[A\n",
      "\n",
      "15it [00:01, 13.88it/s]\u001B[A\u001B[A\n",
      "\n",
      "\n",
      "2it [00:00, 40.95it/s][A\n",
      "\n",
      " 13%|█▎        | 2/15 [00:02<00:16,  1.23s/it]\u001B[A\n",
      "\n",
      "0it [00:00, ?it/s]\u001B[A\u001B[A\n",
      "\n",
      "2it [00:00, 17.69it/s]\u001B[A\u001B[A"
     ]
    },
    {
     "name": "stdout",
     "output_type": "stream",
     "text": [
      "TOTAL TRAIN LOSS 40.906282583872475\n",
      "TOTAL EVAL LOSS 38.23646783828735\n",
      "TRAIN \t1.0812149047851562 secs\n",
      "TRAIN accuracy : 0.031496062992125984\n",
      "EVAL \t0.04990792274475098 secs\n",
      "EVAL accuracy : 0.05042016806722689\n",
      "\n",
      "\n",
      "** ** * Saving fine - tuned model ** ** * \n",
      "Epoch n2\n"
     ]
    },
    {
     "name": "stderr",
     "output_type": "stream",
     "text": [
      "\n",
      "\n",
      "4it [00:00, 15.04it/s]\u001B[A\u001B[A\n",
      "\n",
      "6it [00:00, 13.20it/s]\u001B[A\u001B[A\n",
      "\n",
      "8it [00:00, 14.01it/s]\u001B[A\u001B[A\n",
      "\n",
      "10it [00:00, 14.38it/s]\u001B[A\u001B[A\n",
      "\n",
      "12it [00:00, 14.43it/s]\u001B[A\u001B[A\n",
      "\n",
      "15it [00:01, 14.64it/s]\u001B[A\u001B[A\n",
      "\n",
      "\n",
      "2it [00:00, 44.58it/s][A\n",
      "\n",
      " 20%|██        | 3/15 [00:03<00:14,  1.19s/it]\u001B[A\n",
      "\n",
      "0it [00:00, ?it/s]\u001B[A\u001B[A\n",
      "\n",
      "2it [00:00, 17.89it/s]\u001B[A\u001B[A"
     ]
    },
    {
     "name": "stdout",
     "output_type": "stream",
     "text": [
      "TOTAL TRAIN LOSS 36.18089358011881\n",
      "TOTAL EVAL LOSS 33.08606266975403\n",
      "TRAIN \t1.0252289772033691 secs\n",
      "TRAIN accuracy : 0.08661417322834646\n",
      "EVAL \t0.045781850814819336 secs\n",
      "EVAL accuracy : 0.09243697478991597\n",
      "\n",
      "\n",
      "** ** * Saving fine - tuned model ** ** * \n",
      "Epoch n3\n"
     ]
    },
    {
     "name": "stderr",
     "output_type": "stream",
     "text": [
      "\n",
      "\n",
      "4it [00:00, 15.14it/s]\u001B[A\u001B[A\n",
      "\n",
      "6it [00:00, 13.19it/s]\u001B[A\u001B[A\n",
      "\n",
      "8it [00:00, 13.91it/s]\u001B[A\u001B[A\n",
      "\n",
      "10it [00:00, 14.24it/s]\u001B[A\u001B[A\n",
      "\n",
      "12it [00:00, 14.22it/s]\u001B[A\u001B[A\n",
      "\n",
      "15it [00:01, 14.41it/s]\u001B[A\u001B[A\n",
      "\n",
      "\n",
      "2it [00:00, 43.22it/s][A\n",
      "\n",
      " 27%|██▋       | 4/15 [00:04<00:12,  1.16s/it]\u001B[A\n",
      "\n",
      "0it [00:00, ?it/s]\u001B[A\u001B[A\n",
      "\n",
      "2it [00:00, 17.56it/s]\u001B[A\u001B[A"
     ]
    },
    {
     "name": "stdout",
     "output_type": "stream",
     "text": [
      "TOTAL TRAIN LOSS 31.286812782287598\n",
      "TOTAL EVAL LOSS 27.493202686309814\n",
      "TRAIN \t1.041961908340454 secs\n",
      "TRAIN accuracy : 0.11023622047244094\n",
      "EVAL \t0.04716062545776367 secs\n",
      "EVAL accuracy : 0.10084033613445378\n",
      "\n",
      "\n",
      "** ** * Saving fine - tuned model ** ** * \n",
      "Epoch n4\n"
     ]
    },
    {
     "name": "stderr",
     "output_type": "stream",
     "text": [
      "\n",
      "\n",
      "4it [00:00, 15.04it/s]\u001B[A\u001B[A\n",
      "\n",
      "6it [00:00, 13.10it/s]\u001B[A\u001B[A\n",
      "\n",
      "8it [00:00, 13.67it/s]\u001B[A\u001B[A\n",
      "\n",
      "10it [00:00, 14.04it/s]\u001B[A\u001B[A\n",
      "\n",
      "12it [00:00, 14.09it/s]\u001B[A\u001B[A\n",
      "\n",
      "15it [00:01, 14.35it/s]\u001B[A\u001B[A\n",
      "\n",
      "\n",
      "2it [00:00, 40.03it/s][A\n",
      "\n",
      " 33%|███▎      | 5/15 [00:05<00:11,  1.14s/it]\u001B[A\n",
      "\n",
      "0it [00:00, ?it/s]\u001B[A\u001B[A\n",
      "\n",
      "2it [00:00, 17.66it/s]\u001B[A\u001B[A"
     ]
    },
    {
     "name": "stdout",
     "output_type": "stream",
     "text": [
      "TOTAL TRAIN LOSS 26.159668286641438\n",
      "TOTAL EVAL LOSS 20.016591548919678\n",
      "TRAIN \t1.0459260940551758 secs\n",
      "TRAIN accuracy : 0.11286089238845144\n",
      "EVAL \t0.05089116096496582 secs\n",
      "EVAL accuracy : 0.11596638655462185\n",
      "\n",
      "\n",
      "** ** * Saving fine - tuned model ** ** * \n",
      "Epoch n5\n"
     ]
    },
    {
     "name": "stderr",
     "output_type": "stream",
     "text": [
      "\n",
      "\n",
      "4it [00:00, 14.96it/s]\u001B[A\u001B[A\n",
      "\n",
      "6it [00:00, 13.06it/s]\u001B[A\u001B[A\n",
      "\n",
      "8it [00:00, 13.83it/s]\u001B[A\u001B[A\n",
      "\n",
      "10it [00:00, 14.22it/s]\u001B[A\u001B[A\n",
      "\n",
      "12it [00:00, 14.31it/s]\u001B[A\u001B[A\n",
      "\n",
      "15it [00:01, 14.42it/s]\u001B[A\u001B[A\n",
      "\n",
      "\n",
      "2it [00:00, 40.98it/s][A\n",
      "\n",
      " 40%|████      | 6/15 [00:06<00:10,  1.13s/it]\u001B[A\n",
      "\n",
      "0it [00:00, ?it/s]\u001B[A\u001B[A\n",
      "\n",
      "2it [00:00, 15.00it/s]\u001B[A\u001B[A"
     ]
    },
    {
     "name": "stdout",
     "output_type": "stream",
     "text": [
      "TOTAL TRAIN LOSS 20.23859389623006\n",
      "TOTAL EVAL LOSS 16.068782210350037\n",
      "TRAIN \t1.041382074356079 secs\n",
      "TRAIN accuracy : 0.10498687664041995\n",
      "EVAL \t0.049748897552490234 secs\n",
      "EVAL accuracy : 0.10588235294117647\n",
      "\n",
      "\n",
      "** ** * Saving fine - tuned model ** ** * \n",
      "Epoch n6\n"
     ]
    },
    {
     "name": "stderr",
     "output_type": "stream",
     "text": [
      "\n",
      "\n",
      "4it [00:00, 13.10it/s]\u001B[A\u001B[A\n",
      "\n",
      "6it [00:00, 11.85it/s]\u001B[A\u001B[A\n",
      "\n",
      "8it [00:00, 12.82it/s]\u001B[A\u001B[A\n",
      "\n",
      "10it [00:00, 13.47it/s]\u001B[A\u001B[A\n",
      "\n",
      "12it [00:00, 13.73it/s]\u001B[A\u001B[A\n",
      "\n",
      "15it [00:01, 13.80it/s]\u001B[A\u001B[A\n",
      "\n",
      "\n",
      "2it [00:00, 41.05it/s][A\n",
      "\n",
      " 47%|████▋     | 7/15 [00:07<00:09,  1.13s/it]\u001B[A\n",
      "\n",
      "0it [00:00, ?it/s]\u001B[A\u001B[A\n",
      "\n",
      "2it [00:00, 17.36it/s]\u001B[A\u001B[A"
     ]
    },
    {
     "name": "stdout",
     "output_type": "stream",
     "text": [
      "TOTAL TRAIN LOSS 15.551610469818115\n",
      "TOTAL EVAL LOSS 11.666471362113953\n",
      "TRAIN \t1.0878159999847412 secs\n",
      "TRAIN accuracy : 0.09711286089238845\n",
      "EVAL \t0.04965710639953613 secs\n",
      "EVAL accuracy : 0.11596638655462185\n",
      "\n",
      "\n",
      "** ** * Saving fine - tuned model ** ** * \n",
      "Epoch n7\n"
     ]
    },
    {
     "name": "stderr",
     "output_type": "stream",
     "text": [
      "\n",
      "\n",
      "4it [00:00, 14.76it/s]\u001B[A\u001B[A\n",
      "\n",
      "6it [00:00, 12.94it/s]\u001B[A\u001B[A\n",
      "\n",
      "8it [00:00, 13.71it/s]\u001B[A\u001B[A\n",
      "\n",
      "10it [00:00, 14.03it/s]\u001B[A\u001B[A\n",
      "\n",
      "12it [00:00, 14.06it/s]\u001B[A\u001B[A\n",
      "\n",
      "15it [00:01, 14.25it/s]\u001B[A\u001B[A\n",
      "\n",
      "\n",
      "2it [00:00, 40.48it/s][A\n",
      "\n",
      " 53%|█████▎    | 8/15 [00:09<00:07,  1.13s/it]\u001B[A\n",
      "\n",
      "0it [00:00, ?it/s]\u001B[A\u001B[A\n",
      "\n",
      "2it [00:00, 17.24it/s]\u001B[A\u001B[A"
     ]
    },
    {
     "name": "stdout",
     "output_type": "stream",
     "text": [
      "TOTAL TRAIN LOSS 12.726591110229492\n",
      "TOTAL EVAL LOSS 11.23888075351715\n",
      "TRAIN \t1.0533781051635742 secs\n",
      "TRAIN accuracy : 0.11811023622047244\n",
      "EVAL \t0.050360918045043945 secs\n",
      "EVAL accuracy : 0.11092436974789915\n",
      "\n",
      "\n",
      "** ** * Saving fine - tuned model ** ** * \n",
      "Epoch n8\n"
     ]
    },
    {
     "name": "stderr",
     "output_type": "stream",
     "text": [
      "\n",
      "\n",
      "4it [00:00, 14.64it/s]\u001B[A\u001B[A\n",
      "\n",
      "6it [00:00, 12.87it/s]\u001B[A\u001B[A\n",
      "\n",
      "8it [00:00, 13.20it/s]\u001B[A\u001B[A\n",
      "\n",
      "10it [00:00, 13.29it/s]\u001B[A\u001B[A\n",
      "\n",
      "12it [00:00, 13.58it/s]\u001B[A\u001B[A\n",
      "\n",
      "15it [00:01, 13.83it/s]\u001B[A\u001B[A\n",
      "\n",
      "\n",
      "2it [00:00, 42.58it/s][A\n",
      "\n",
      " 60%|██████    | 9/15 [00:10<00:06,  1.13s/it]\u001B[A\n",
      "\n",
      "0it [00:00, ?it/s]\u001B[A\u001B[A\n",
      "\n",
      "2it [00:00, 17.26it/s]\u001B[A\u001B[A"
     ]
    },
    {
     "name": "stdout",
     "output_type": "stream",
     "text": [
      "TOTAL TRAIN LOSS 11.369786183039347\n",
      "TOTAL EVAL LOSS 10.389029383659363\n",
      "TRAIN \t1.0857930183410645 secs\n",
      "TRAIN accuracy : 0.14173228346456693\n",
      "EVAL \t0.04786825180053711 secs\n",
      "EVAL accuracy : 0.1495798319327731\n",
      "\n",
      "\n",
      "** ** * Saving fine - tuned model ** ** * \n",
      "Epoch n9\n"
     ]
    },
    {
     "name": "stderr",
     "output_type": "stream",
     "text": [
      "\n",
      "\n",
      "4it [00:00, 14.67it/s]\u001B[A\u001B[A\n",
      "\n",
      "6it [00:00, 12.92it/s]\u001B[A\u001B[A\n",
      "\n",
      "8it [00:00, 13.62it/s]\u001B[A\u001B[A\n",
      "\n",
      "10it [00:00, 13.87it/s]\u001B[A\u001B[A\n",
      "\n",
      "12it [00:00, 13.92it/s]\u001B[A\u001B[A\n",
      "\n",
      "15it [00:01, 14.14it/s]\u001B[A\u001B[A\n",
      "\n",
      "\n",
      "2it [00:00, 41.26it/s][A\n",
      "\n",
      " 67%|██████▋   | 10/15 [00:11<00:05,  1.13s/it]\u001B[A\n",
      "\n",
      "0it [00:00, ?it/s]\u001B[A\u001B[A\n",
      "\n",
      "2it [00:00, 16.95it/s]\u001B[A\u001B[A"
     ]
    },
    {
     "name": "stdout",
     "output_type": "stream",
     "text": [
      "TOTAL TRAIN LOSS 10.570560892422995\n",
      "TOTAL EVAL LOSS 8.294371366500854\n",
      "TRAIN \t1.0618679523468018 secs\n",
      "TRAIN accuracy : 0.14698162729658792\n",
      "EVAL \t0.049391984939575195 secs\n",
      "EVAL accuracy : 0.1495798319327731\n",
      "\n",
      "\n",
      "** ** * Saving fine - tuned model ** ** * \n",
      "Epoch n10\n"
     ]
    },
    {
     "name": "stderr",
     "output_type": "stream",
     "text": [
      "\n",
      "\n",
      "4it [00:00, 14.67it/s]\u001B[A\u001B[A\n",
      "\n",
      "6it [00:00, 12.90it/s]\u001B[A\u001B[A\n",
      "\n",
      "8it [00:00, 13.57it/s]\u001B[A\u001B[A\n",
      "\n",
      "10it [00:00, 13.86it/s]\u001B[A\u001B[A\n",
      "\n",
      "12it [00:00, 13.98it/s]\u001B[A\u001B[A\n",
      "\n",
      "15it [00:01, 14.14it/s]\u001B[A\u001B[A\n",
      "\n",
      "\n",
      "2it [00:00, 42.13it/s][A\n",
      "\n",
      " 73%|███████▎  | 11/15 [00:12<00:04,  1.12s/it]\u001B[A\n",
      "\n",
      "0it [00:00, ?it/s]\u001B[A\u001B[A\n",
      "\n",
      "2it [00:00, 15.41it/s]\u001B[A\u001B[A"
     ]
    },
    {
     "name": "stdout",
     "output_type": "stream",
     "text": [
      "TOTAL TRAIN LOSS 9.587987899780273\n",
      "TOTAL EVAL LOSS 9.230570495128632\n",
      "TRAIN \t1.0613350868225098 secs\n",
      "TRAIN accuracy : 0.14960629921259844\n",
      "EVAL \t0.04848003387451172 secs\n",
      "EVAL accuracy : 0.1495798319327731\n",
      "\n",
      "\n",
      "Epoch n11\n"
     ]
    },
    {
     "name": "stderr",
     "output_type": "stream",
     "text": [
      "\n",
      "\n",
      "4it [00:00, 13.24it/s]\u001B[A\u001B[A\n",
      "\n",
      "6it [00:00, 11.80it/s]\u001B[A\u001B[A\n",
      "\n",
      "8it [00:00, 12.39it/s]\u001B[A\u001B[A\n",
      "\n",
      "10it [00:00, 12.62it/s]\u001B[A\u001B[A\n",
      "\n",
      "12it [00:01, 12.51it/s]\u001B[A\u001B[A\n",
      "\n",
      "15it [00:01, 12.69it/s]\u001B[A\u001B[A\n",
      "\n",
      "\n",
      "2it [00:00, 35.16it/s][A\n",
      "\n",
      " 80%|████████  | 12/15 [00:13<00:03,  1.16s/it]\u001B[A\n",
      "\n",
      "0it [00:00, ?it/s]\u001B[A\u001B[A\n",
      "\n",
      "2it [00:00, 15.51it/s]\u001B[A\u001B[A"
     ]
    },
    {
     "name": "stdout",
     "output_type": "stream",
     "text": [
      "TOTAL TRAIN LOSS 9.004602948824564\n",
      "TOTAL EVAL LOSS 7.599209249019623\n",
      "TRAIN \t1.1829330921173096 secs\n",
      "TRAIN accuracy : 0.14960629921259844\n",
      "EVAL \t0.05779671669006348 secs\n",
      "EVAL accuracy : 0.1495798319327731\n",
      "\n",
      "\n",
      "** ** * Saving fine - tuned model ** ** * \n",
      "Epoch n12\n"
     ]
    },
    {
     "name": "stderr",
     "output_type": "stream",
     "text": [
      "\n",
      "\n",
      "4it [00:00, 13.31it/s]\u001B[A\u001B[A\n",
      "\n",
      "6it [00:00, 11.90it/s]\u001B[A\u001B[A\n",
      "\n",
      "8it [00:00, 12.41it/s]\u001B[A\u001B[A\n",
      "\n",
      "10it [00:00, 12.71it/s]\u001B[A\u001B[A\n",
      "\n",
      "12it [00:00, 12.93it/s]\u001B[A\u001B[A\n",
      "\n",
      "15it [00:01, 13.21it/s]\u001B[A\u001B[A\n",
      "\n",
      "\n",
      "2it [00:00, 43.75it/s][A\n",
      "\n",
      " 87%|████████▋ | 13/15 [00:14<00:02,  1.17s/it]\u001B[A\n",
      "\n",
      "0it [00:00, ?it/s]\u001B[A\u001B[A\n",
      "\n",
      "2it [00:00, 17.63it/s]\u001B[A\u001B[A"
     ]
    },
    {
     "name": "stdout",
     "output_type": "stream",
     "text": [
      "TOTAL TRAIN LOSS 8.595604876677195\n",
      "TOTAL EVAL LOSS 8.797267973423004\n",
      "TRAIN \t1.1364071369171143 secs\n",
      "TRAIN accuracy : 0.14960629921259844\n",
      "EVAL \t0.04683089256286621 secs\n",
      "EVAL accuracy : 0.1495798319327731\n",
      "\n",
      "\n",
      "Epoch n13\n"
     ]
    },
    {
     "name": "stderr",
     "output_type": "stream",
     "text": [
      "\n",
      "\n",
      "4it [00:00, 14.85it/s]\u001B[A\u001B[A\n",
      "\n",
      "6it [00:00, 13.04it/s]\u001B[A\u001B[A\n",
      "\n",
      "8it [00:00, 13.65it/s]\u001B[A\u001B[A\n",
      "\n",
      "10it [00:00, 14.02it/s]\u001B[A\u001B[A\n",
      "\n",
      "12it [00:00, 13.93it/s]\u001B[A\u001B[A\n",
      "\n",
      "15it [00:01, 14.14it/s]\u001B[A\u001B[A\n",
      "\n",
      "\n",
      "2it [00:00, 40.95it/s][A\n",
      "\n",
      " 93%|█████████▎| 14/15 [00:15<00:01,  1.15s/it]\u001B[A\n",
      "\n",
      "0it [00:00, ?it/s]\u001B[A\u001B[A\n",
      "\n",
      "2it [00:00, 17.34it/s]\u001B[A\u001B[A"
     ]
    },
    {
     "name": "stdout",
     "output_type": "stream",
     "text": [
      "TOTAL TRAIN LOSS 7.670907119909923\n",
      "TOTAL EVAL LOSS 7.0390114188194275\n",
      "TRAIN \t1.061476707458496 secs\n",
      "TRAIN accuracy : 0.14960629921259844\n",
      "EVAL \t0.04997611045837402 secs\n",
      "EVAL accuracy : 0.1495798319327731\n",
      "\n",
      "\n",
      "** ** * Saving fine - tuned model ** ** * \n",
      "Epoch n14\n"
     ]
    },
    {
     "name": "stderr",
     "output_type": "stream",
     "text": [
      "\n",
      "\n",
      "4it [00:00, 14.75it/s]\u001B[A\u001B[A\n",
      "\n",
      "6it [00:00, 12.94it/s]\u001B[A\u001B[A\n",
      "\n",
      "8it [00:00, 13.60it/s]\u001B[A\u001B[A\n",
      "\n",
      "10it [00:00, 13.92it/s]\u001B[A\u001B[A\n",
      "\n",
      "12it [00:00, 13.87it/s]\u001B[A\u001B[A\n",
      "\n",
      "15it [00:01, 14.11it/s]\u001B[A\u001B[A\n",
      "\n",
      "\n",
      "2it [00:00, 38.89it/s][A\n",
      "\n",
      "100%|██████████| 15/15 [00:17<00:00,  1.14s/it]\u001B[A"
     ]
    },
    {
     "name": "stdout",
     "output_type": "stream",
     "text": [
      "TOTAL TRAIN LOSS 6.7514041264851885\n",
      "TOTAL EVAL LOSS 5.251863449811935\n",
      "TRAIN \t1.064359188079834 secs\n",
      "TRAIN accuracy : 0.14960629921259844\n",
      "EVAL \t0.05233883857727051 secs\n",
      "EVAL accuracy : 0.1495798319327731\n",
      "\n",
      "\n",
      "** ** * Saving fine - tuned model ** ** * \n"
     ]
    },
    {
     "name": "stderr",
     "output_type": "stream",
     "text": [
      "\n"
     ]
    },
    {
     "data": {
      "text/plain": "<Figure size 640x480 with 1 Axes>",
      "image/png": "[encoded data removed]"
     },
     "metadata": {},
     "output_type": "display_data"
    },
    {
     "name": "stderr",
     "output_type": "stream",
     "text": [
      "100%|██████████| 5/5 [01:24<00:00, 16.95s/it]\n"
     ]
    }
   ],
   "source": [
    "df = experiment(num_experiments=5)"
   ],
   "metadata": {
    "collapsed": false,
    "ExecuteTime": {
     "end_time": "2024-01-19T18:28:34.217537Z",
     "start_time": "2024-01-19T18:27:09.455037Z"
    }
   },
   "id": "36a55170938c7bf8",
   "execution_count": 21
  },
  {
   "cell_type": "code",
   "outputs": [
    {
     "data": {
      "text/plain": "    Experiment    Model        Metric     Score\n0            1  GT_BERT  Val Accuracy  0.147992\n1            1  GT_BERT    Train Loss  1.602460\n2            1  GT_BERT      Val Loss  0.227427\n3            1  GT_BERT    Train Time  1.074423\n4            1  GT_BERT      Val Time  0.045204\n5            2  GT_BERT  Val Accuracy  0.149635\n6            2  GT_BERT    Train Loss  0.615337\n7            2  GT_BERT      Val Loss  0.029641\n8            2  GT_BERT    Train Time  1.098616\n9            2  GT_BERT      Val Time  0.043270\n10           3  GT_BERT  Val Accuracy  0.149832\n11           3  GT_BERT    Train Loss  5.244807\n12           3  GT_BERT      Val Loss  3.754321\n13           3  GT_BERT    Train Time  1.110312\n14           3  GT_BERT      Val Time  0.060899\n15           4  GT_BERT  Val Accuracy  0.148741\n16           4  GT_BERT    Train Loss  0.852376\n17           4  GT_BERT      Val Loss  0.076440\n18           4  GT_BERT    Train Time  1.050447\n19           4  GT_BERT      Val Time  0.043794\n20           5  GT_BERT  Val Accuracy  0.149580\n21           5  GT_BERT    Train Loss  6.751404\n22           5  GT_BERT      Val Loss  5.251863\n23           5  GT_BERT    Train Time  1.064359\n24           5  GT_BERT      Val Time  0.052339",
      "text/html": "<div>\n<style scoped>\n    .dataframe tbody tr th:only-of-type {\n        vertical-align: middle;\n    }\n\n    .dataframe tbody tr th {\n        vertical-align: top;\n    }\n\n    .dataframe thead th {\n        text-align: right;\n    }\n</style>\n<table border=\"1\" class=\"dataframe\">\n  <thead>\n    <tr style=\"text-align: right;\">\n      <th></th>\n      <th>Experiment</th>\n      <th>Model</th>\n      <th>Metric</th>\n      <th>Score</th>\n    </tr>\n  </thead>\n  <tbody>\n    <tr>\n      <th>0</th>\n      <td>1</td>\n      <td>GT_BERT</td>\n      <td>Val Accuracy</td>\n      <td>0.147992</td>\n    </tr>\n    <tr>\n      <th>1</th>\n      <td>1</td>\n      <td>GT_BERT</td>\n      <td>Train Loss</td>\n      <td>1.602460</td>\n    </tr>\n    <tr>\n      <th>2</th>\n      <td>1</td>\n      <td>GT_BERT</td>\n      <td>Val Loss</td>\n      <td>0.227427</td>\n    </tr>\n    <tr>\n      <th>3</th>\n      <td>1</td>\n      <td>GT_BERT</td>\n      <td>Train Time</td>\n      <td>1.074423</td>\n    </tr>\n    <tr>\n      <th>4</th>\n      <td>1</td>\n      <td>GT_BERT</td>\n      <td>Val Time</td>\n      <td>0.045204</td>\n    </tr>\n    <tr>\n      <th>5</th>\n      <td>2</td>\n      <td>GT_BERT</td>\n      <td>Val Accuracy</td>\n      <td>0.149635</td>\n    </tr>\n    <tr>\n      <th>6</th>\n      <td>2</td>\n      <td>GT_BERT</td>\n      <td>Train Loss</td>\n      <td>0.615337</td>\n    </tr>\n    <tr>\n      <th>7</th>\n      <td>2</td>\n      <td>GT_BERT</td>\n      <td>Val Loss</td>\n      <td>0.029641</td>\n    </tr>\n    <tr>\n      <th>8</th>\n      <td>2</td>\n      <td>GT_BERT</td>\n      <td>Train Time</td>\n      <td>1.098616</td>\n    </tr>\n    <tr>\n      <th>9</th>\n      <td>2</td>\n      <td>GT_BERT</td>\n      <td>Val Time</td>\n      <td>0.043270</td>\n    </tr>\n    <tr>\n      <th>10</th>\n      <td>3</td>\n      <td>GT_BERT</td>\n      <td>Val Accuracy</td>\n      <td>0.149832</td>\n    </tr>\n    <tr>\n      <th>11</th>\n      <td>3</td>\n      <td>GT_BERT</td>\n      <td>Train Loss</td>\n      <td>5.244807</td>\n    </tr>\n    <tr>\n      <th>12</th>\n      <td>3</td>\n      <td>GT_BERT</td>\n      <td>Val Loss</td>\n      <td>3.754321</td>\n    </tr>\n    <tr>\n      <th>13</th>\n      <td>3</td>\n      <td>GT_BERT</td>\n      <td>Train Time</td>\n      <td>1.110312</td>\n    </tr>\n    <tr>\n      <th>14</th>\n      <td>3</td>\n      <td>GT_BERT</td>\n      <td>Val Time</td>\n      <td>0.060899</td>\n    </tr>\n    <tr>\n      <th>15</th>\n      <td>4</td>\n      <td>GT_BERT</td>\n      <td>Val Accuracy</td>\n      <td>0.148741</td>\n    </tr>\n    <tr>\n      <th>16</th>\n      <td>4</td>\n      <td>GT_BERT</td>\n      <td>Train Loss</td>\n      <td>0.852376</td>\n    </tr>\n    <tr>\n      <th>17</th>\n      <td>4</td>\n      <td>GT_BERT</td>\n      <td>Val Loss</td>\n      <td>0.076440</td>\n    </tr>\n    <tr>\n      <th>18</th>\n      <td>4</td>\n      <td>GT_BERT</td>\n      <td>Train Time</td>\n      <td>1.050447</td>\n    </tr>\n    <tr>\n      <th>19</th>\n      <td>4</td>\n      <td>GT_BERT</td>\n      <td>Val Time</td>\n      <td>0.043794</td>\n    </tr>\n    <tr>\n      <th>20</th>\n      <td>5</td>\n      <td>GT_BERT</td>\n      <td>Val Accuracy</td>\n      <td>0.149580</td>\n    </tr>\n    <tr>\n      <th>21</th>\n      <td>5</td>\n      <td>GT_BERT</td>\n      <td>Train Loss</td>\n      <td>6.751404</td>\n    </tr>\n    <tr>\n      <th>22</th>\n      <td>5</td>\n      <td>GT_BERT</td>\n      <td>Val Loss</td>\n      <td>5.251863</td>\n    </tr>\n    <tr>\n      <th>23</th>\n      <td>5</td>\n      <td>GT_BERT</td>\n      <td>Train Time</td>\n      <td>1.064359</td>\n    </tr>\n    <tr>\n      <th>24</th>\n      <td>5</td>\n      <td>GT_BERT</td>\n      <td>Val Time</td>\n      <td>0.052339</td>\n    </tr>\n  </tbody>\n</table>\n</div>"
     },
     "execution_count": 22,
     "metadata": {},
     "output_type": "execute_result"
    }
   ],
   "source": [
    "df"
   ],
   "metadata": {
    "collapsed": false,
    "ExecuteTime": {
     "end_time": "2024-01-19T18:28:34.224621Z",
     "start_time": "2024-01-19T18:28:34.199826Z"
    }
   },
   "id": "4edbf283ecdebead",
   "execution_count": 22
  },
  {
   "cell_type": "code",
   "outputs": [],
   "source": [
    "# Group by Model and Metric and calculate average and standard deviation\n",
    "result_df = df.groupby(['Model', 'Metric']).agg({'Score': ['mean', 'std']}).reset_index()\n",
    "\n",
    "# Rename columns for clarity\n",
    "result_df.columns = ['Model', 'Metric', 'Average Score', 'Standard Deviation']\n",
    "\n",
    "result_df['Average Score'] = result_df['Average Score'].round(2)\n",
    "result_df['Standard Deviation'] = result_df['Standard Deviation'].round(2)\n",
    "\n",
    "# save the result\n",
    "result_df.to_csv(path_results + 'dataframes/' + 'GT_behrt_results_pretraining_1_global.csv')"
   ],
   "metadata": {
    "collapsed": false,
    "ExecuteTime": {
     "end_time": "2024-01-19T18:28:34.339254Z",
     "start_time": "2024-01-19T18:28:34.208017Z"
    }
   },
   "id": "d224df88f97d04a3",
   "execution_count": 23
  },
  {
   "cell_type": "code",
   "outputs": [
    {
     "data": {
      "text/plain": "     Model        Metric  Average Score  Standard Deviation\n0  GT_BERT    Train Loss           3.01                2.80\n1  GT_BERT    Train Time           1.08                0.02\n2  GT_BERT  Val Accuracy           0.15                0.00\n3  GT_BERT      Val Loss           1.87                2.46\n4  GT_BERT      Val Time           0.05                0.01",
      "text/html": "<div>\n<style scoped>\n    .dataframe tbody tr th:only-of-type {\n        vertical-align: middle;\n    }\n\n    .dataframe tbody tr th {\n        vertical-align: top;\n    }\n\n    .dataframe thead th {\n        text-align: right;\n    }\n</style>\n<table border=\"1\" class=\"dataframe\">\n  <thead>\n    <tr style=\"text-align: right;\">\n      <th></th>\n      <th>Model</th>\n      <th>Metric</th>\n      <th>Average Score</th>\n      <th>Standard Deviation</th>\n    </tr>\n  </thead>\n  <tbody>\n    <tr>\n      <th>0</th>\n      <td>GT_BERT</td>\n      <td>Train Loss</td>\n      <td>3.01</td>\n      <td>2.80</td>\n    </tr>\n    <tr>\n      <th>1</th>\n      <td>GT_BERT</td>\n      <td>Train Time</td>\n      <td>1.08</td>\n      <td>0.02</td>\n    </tr>\n    <tr>\n      <th>2</th>\n      <td>GT_BERT</td>\n      <td>Val Accuracy</td>\n      <td>0.15</td>\n      <td>0.00</td>\n    </tr>\n    <tr>\n      <th>3</th>\n      <td>GT_BERT</td>\n      <td>Val Loss</td>\n      <td>1.87</td>\n      <td>2.46</td>\n    </tr>\n    <tr>\n      <th>4</th>\n      <td>GT_BERT</td>\n      <td>Val Time</td>\n      <td>0.05</td>\n      <td>0.01</td>\n    </tr>\n  </tbody>\n</table>\n</div>"
     },
     "execution_count": 24,
     "metadata": {},
     "output_type": "execute_result"
    }
   ],
   "source": [
    " # print results\n",
    "result_df"
   ],
   "metadata": {
    "collapsed": false,
    "ExecuteTime": {
     "end_time": "2024-01-19T18:28:34.343313Z",
     "start_time": "2024-01-19T18:28:34.216338Z"
    }
   },
   "id": "1af64f654cc95d4f",
   "execution_count": 24
  },
  {
   "cell_type": "code",
   "outputs": [],
   "source": [],
   "metadata": {
    "collapsed": false,
    "ExecuteTime": {
     "end_time": "2024-01-19T18:28:34.363402Z",
     "start_time": "2024-01-19T18:28:34.218798Z"
    }
   },
   "id": "4c1248084784f05f",
   "execution_count": 24
  }
 ],
 "metadata": {
  "kernelspec": {
   "display_name": "Python 3",
   "language": "python",
   "name": "python3"
  },
  "language_info": {
   "codemirror_mode": {
    "name": "ipython",
    "version": 3
   },
   "file_extension": ".py",
   "mimetype": "text/x-python",
   "name": "python",
   "nbconvert_exporter": "python",
   "pygments_lexer": "ipython3",
   "version": "3.10.12"
  }
 },
 "nbformat": 4,
 "nbformat_minor": 5
}
