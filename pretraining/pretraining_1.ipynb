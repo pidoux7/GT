{
 "cells": [
  {
   "cell_type": "markdown",
   "id": "eb3309d60ce9652b",
   "metadata": {
    "collapsed": false
   },
   "source": [
    "#################################################### Importing Libraries ####################################################"
   ]
  },
  {
   "cell_type": "code",
   "execution_count": 1,
   "id": "initial_id",
   "metadata": {
    "collapsed": true,
    "ExecuteTime": {
     "end_time": "2024-01-21T11:20:53.604651Z",
     "start_time": "2024-01-21T11:20:36.939044Z"
    }
   },
   "outputs": [
    {
     "name": "stdout",
     "output_type": "stream",
     "text": [
      "Requirement already satisfied: import_ipynb in /Users/garance/.pyenv/versions/3.11.5/envs/projet_AMAL/lib/python3.11/site-packages (0.1.3)\r\n",
      "\r\n",
      "\u001B[1m[\u001B[0m\u001B[34;49mnotice\u001B[0m\u001B[1;39;49m]\u001B[0m\u001B[39;49m A new release of pip is available: \u001B[0m\u001B[31;49m23.2.1\u001B[0m\u001B[39;49m -> \u001B[0m\u001B[32;49m23.3.2\u001B[0m\r\n",
      "\u001B[1m[\u001B[0m\u001B[34;49mnotice\u001B[0m\u001B[1;39;49m]\u001B[0m\u001B[39;49m To update, run: \u001B[0m\u001B[32;49mpip install --upgrade pip\u001B[0m\r\n",
      "\r\n",
      "\u001B[1m[\u001B[0m\u001B[34;49mnotice\u001B[0m\u001B[1;39;49m]\u001B[0m\u001B[39;49m A new release of pip is available: \u001B[0m\u001B[31;49m23.2.1\u001B[0m\u001B[39;49m -> \u001B[0m\u001B[32;49m23.3.2\u001B[0m\r\n",
      "\u001B[1m[\u001B[0m\u001B[34;49mnotice\u001B[0m\u001B[1;39;49m]\u001B[0m\u001B[39;49m To update, run: \u001B[0m\u001B[32;49mpip install --upgrade pip\u001B[0m\r\n",
      "Requirement already satisfied: pytorch_pretrained_bert in /Users/garance/.pyenv/versions/3.11.5/envs/projet_AMAL/lib/python3.11/site-packages (0.6.2)\r\n",
      "Requirement already satisfied: torch>=0.4.1 in /Users/garance/.pyenv/versions/3.11.5/envs/projet_AMAL/lib/python3.11/site-packages (from pytorch_pretrained_bert) (2.1.0)\r\n",
      "Requirement already satisfied: numpy in /Users/garance/.pyenv/versions/3.11.5/envs/projet_AMAL/lib/python3.11/site-packages (from pytorch_pretrained_bert) (1.26.2)\r\n",
      "Requirement already satisfied: boto3 in /Users/garance/.pyenv/versions/3.11.5/envs/projet_AMAL/lib/python3.11/site-packages (from pytorch_pretrained_bert) (1.34.11)\r\n",
      "Requirement already satisfied: requests in /Users/garance/.pyenv/versions/3.11.5/envs/projet_AMAL/lib/python3.11/site-packages (from pytorch_pretrained_bert) (2.31.0)\r\n",
      "Requirement already satisfied: tqdm in /Users/garance/.pyenv/versions/3.11.5/envs/projet_AMAL/lib/python3.11/site-packages (from pytorch_pretrained_bert) (4.47.0)\r\n",
      "Requirement already satisfied: regex in /Users/garance/.pyenv/versions/3.11.5/envs/projet_AMAL/lib/python3.11/site-packages (from pytorch_pretrained_bert) (2023.12.25)\r\n",
      "Requirement already satisfied: filelock in /Users/garance/.pyenv/versions/3.11.5/envs/projet_AMAL/lib/python3.11/site-packages (from torch>=0.4.1->pytorch_pretrained_bert) (3.13.1)\r\n",
      "Requirement already satisfied: typing-extensions in /Users/garance/.pyenv/versions/3.11.5/envs/projet_AMAL/lib/python3.11/site-packages (from torch>=0.4.1->pytorch_pretrained_bert) (4.9.0)\r\n",
      "Requirement already satisfied: sympy in /Users/garance/.pyenv/versions/3.11.5/envs/projet_AMAL/lib/python3.11/site-packages (from torch>=0.4.1->pytorch_pretrained_bert) (1.12)\r\n",
      "Requirement already satisfied: networkx in /Users/garance/.pyenv/versions/3.11.5/envs/projet_AMAL/lib/python3.11/site-packages (from torch>=0.4.1->pytorch_pretrained_bert) (3.2.1)\r\n",
      "Requirement already satisfied: jinja2 in /Users/garance/.pyenv/versions/3.11.5/envs/projet_AMAL/lib/python3.11/site-packages (from torch>=0.4.1->pytorch_pretrained_bert) (3.1.3)\r\n",
      "Requirement already satisfied: fsspec in /Users/garance/.pyenv/versions/3.11.5/envs/projet_AMAL/lib/python3.11/site-packages (from torch>=0.4.1->pytorch_pretrained_bert) (2023.12.2)\r\n",
      "Requirement already satisfied: botocore<1.35.0,>=1.34.11 in /Users/garance/.pyenv/versions/3.11.5/envs/projet_AMAL/lib/python3.11/site-packages (from boto3->pytorch_pretrained_bert) (1.34.11)\r\n",
      "Requirement already satisfied: jmespath<2.0.0,>=0.7.1 in /Users/garance/.pyenv/versions/3.11.5/envs/projet_AMAL/lib/python3.11/site-packages (from boto3->pytorch_pretrained_bert) (1.0.1)\r\n",
      "Requirement already satisfied: s3transfer<0.11.0,>=0.10.0 in /Users/garance/.pyenv/versions/3.11.5/envs/projet_AMAL/lib/python3.11/site-packages (from boto3->pytorch_pretrained_bert) (0.10.0)\r\n",
      "Requirement already satisfied: charset-normalizer<4,>=2 in /Users/garance/.pyenv/versions/3.11.5/envs/projet_AMAL/lib/python3.11/site-packages (from requests->pytorch_pretrained_bert) (3.3.2)\r\n",
      "Requirement already satisfied: idna<4,>=2.5 in /Users/garance/.pyenv/versions/3.11.5/envs/projet_AMAL/lib/python3.11/site-packages (from requests->pytorch_pretrained_bert) (3.6)\r\n",
      "Requirement already satisfied: urllib3<3,>=1.21.1 in /Users/garance/.pyenv/versions/3.11.5/envs/projet_AMAL/lib/python3.11/site-packages (from requests->pytorch_pretrained_bert) (2.0.7)\r\n",
      "Requirement already satisfied: certifi>=2017.4.17 in /Users/garance/.pyenv/versions/3.11.5/envs/projet_AMAL/lib/python3.11/site-packages (from requests->pytorch_pretrained_bert) (2023.11.17)\r\n",
      "Requirement already satisfied: python-dateutil<3.0.0,>=2.1 in /Users/garance/.pyenv/versions/3.11.5/envs/projet_AMAL/lib/python3.11/site-packages (from botocore<1.35.0,>=1.34.11->boto3->pytorch_pretrained_bert) (2.8.2)\r\n",
      "Requirement already satisfied: MarkupSafe>=2.0 in /Users/garance/.pyenv/versions/3.11.5/envs/projet_AMAL/lib/python3.11/site-packages (from jinja2->torch>=0.4.1->pytorch_pretrained_bert) (2.1.3)\r\n",
      "Requirement already satisfied: mpmath>=0.19 in /Users/garance/.pyenv/versions/3.11.5/envs/projet_AMAL/lib/python3.11/site-packages (from sympy->torch>=0.4.1->pytorch_pretrained_bert) (1.3.0)\r\n",
      "Requirement already satisfied: six>=1.5 in /Users/garance/.pyenv/versions/3.11.5/envs/projet_AMAL/lib/python3.11/site-packages (from python-dateutil<3.0.0,>=2.1->botocore<1.35.0,>=1.34.11->boto3->pytorch_pretrained_bert) (1.16.0)\r\n",
      "\r\n",
      "\u001B[1m[\u001B[0m\u001B[34;49mnotice\u001B[0m\u001B[1;39;49m]\u001B[0m\u001B[39;49m A new release of pip is available: \u001B[0m\u001B[31;49m23.2.1\u001B[0m\u001B[39;49m -> \u001B[0m\u001B[32;49m23.3.2\u001B[0m\r\n",
      "\u001B[1m[\u001B[0m\u001B[34;49mnotice\u001B[0m\u001B[1;39;49m]\u001B[0m\u001B[39;49m To update, run: \u001B[0m\u001B[32;49mpip install --upgrade pip\u001B[0m\r\n",
      "Requirement already satisfied: sparse in /Users/garance/.pyenv/versions/3.11.5/envs/projet_AMAL/lib/python3.11/site-packages (0.14.0)\r\n",
      "Requirement already satisfied: numpy>=1.17 in /Users/garance/.pyenv/versions/3.11.5/envs/projet_AMAL/lib/python3.11/site-packages (from sparse) (1.26.2)\r\n",
      "Requirement already satisfied: scipy>=0.19 in /Users/garance/.pyenv/versions/3.11.5/envs/projet_AMAL/lib/python3.11/site-packages (from sparse) (1.11.4)\r\n",
      "Requirement already satisfied: numba>=0.49 in /Users/garance/.pyenv/versions/3.11.5/envs/projet_AMAL/lib/python3.11/site-packages (from sparse) (0.58.1)\r\n",
      "Requirement already satisfied: llvmlite<0.42,>=0.41.0dev0 in /Users/garance/.pyenv/versions/3.11.5/envs/projet_AMAL/lib/python3.11/site-packages (from numba>=0.49->sparse) (0.41.1)\r\n",
      "\r\n",
      "\u001B[1m[\u001B[0m\u001B[34;49mnotice\u001B[0m\u001B[1;39;49m]\u001B[0m\u001B[39;49m A new release of pip is available: \u001B[0m\u001B[31;49m23.2.1\u001B[0m\u001B[39;49m -> \u001B[0m\u001B[32;49m23.3.2\u001B[0m\r\n",
      "\u001B[1m[\u001B[0m\u001B[34;49mnotice\u001B[0m\u001B[1;39;49m]\u001B[0m\u001B[39;49m To update, run: \u001B[0m\u001B[32;49mpip install --upgrade pip\u001B[0m\r\n",
      "Requirement already satisfied: transformers in /Users/garance/.pyenv/versions/3.11.5/envs/projet_AMAL/lib/python3.11/site-packages (4.36.2)\r\n",
      "Requirement already satisfied: filelock in /Users/garance/.pyenv/versions/3.11.5/envs/projet_AMAL/lib/python3.11/site-packages (from transformers) (3.13.1)\r\n",
      "Requirement already satisfied: huggingface-hub<1.0,>=0.19.3 in /Users/garance/.pyenv/versions/3.11.5/envs/projet_AMAL/lib/python3.11/site-packages (from transformers) (0.20.2)\r\n",
      "Requirement already satisfied: numpy>=1.17 in /Users/garance/.pyenv/versions/3.11.5/envs/projet_AMAL/lib/python3.11/site-packages (from transformers) (1.26.2)\r\n",
      "Requirement already satisfied: packaging>=20.0 in /Users/garance/.pyenv/versions/3.11.5/envs/projet_AMAL/lib/python3.11/site-packages (from transformers) (23.2)\r\n",
      "Requirement already satisfied: pyyaml>=5.1 in /Users/garance/.pyenv/versions/3.11.5/envs/projet_AMAL/lib/python3.11/site-packages (from transformers) (6.0.1)\r\n",
      "Requirement already satisfied: regex!=2019.12.17 in /Users/garance/.pyenv/versions/3.11.5/envs/projet_AMAL/lib/python3.11/site-packages (from transformers) (2023.12.25)\r\n",
      "Requirement already satisfied: requests in /Users/garance/.pyenv/versions/3.11.5/envs/projet_AMAL/lib/python3.11/site-packages (from transformers) (2.31.0)\r\n",
      "Requirement already satisfied: tokenizers<0.19,>=0.14 in /Users/garance/.pyenv/versions/3.11.5/envs/projet_AMAL/lib/python3.11/site-packages (from transformers) (0.15.0)\r\n",
      "Requirement already satisfied: safetensors>=0.3.1 in /Users/garance/.pyenv/versions/3.11.5/envs/projet_AMAL/lib/python3.11/site-packages (from transformers) (0.4.1)\r\n",
      "Requirement already satisfied: tqdm>=4.27 in /Users/garance/.pyenv/versions/3.11.5/envs/projet_AMAL/lib/python3.11/site-packages (from transformers) (4.47.0)\r\n",
      "Requirement already satisfied: fsspec>=2023.5.0 in /Users/garance/.pyenv/versions/3.11.5/envs/projet_AMAL/lib/python3.11/site-packages (from huggingface-hub<1.0,>=0.19.3->transformers) (2023.12.2)\r\n",
      "Requirement already satisfied: typing-extensions>=3.7.4.3 in /Users/garance/.pyenv/versions/3.11.5/envs/projet_AMAL/lib/python3.11/site-packages (from huggingface-hub<1.0,>=0.19.3->transformers) (4.9.0)\r\n",
      "Requirement already satisfied: charset-normalizer<4,>=2 in /Users/garance/.pyenv/versions/3.11.5/envs/projet_AMAL/lib/python3.11/site-packages (from requests->transformers) (3.3.2)\r\n",
      "Requirement already satisfied: idna<4,>=2.5 in /Users/garance/.pyenv/versions/3.11.5/envs/projet_AMAL/lib/python3.11/site-packages (from requests->transformers) (3.6)\r\n",
      "Requirement already satisfied: urllib3<3,>=1.21.1 in /Users/garance/.pyenv/versions/3.11.5/envs/projet_AMAL/lib/python3.11/site-packages (from requests->transformers) (2.0.7)\r\n",
      "Requirement already satisfied: certifi>=2017.4.17 in /Users/garance/.pyenv/versions/3.11.5/envs/projet_AMAL/lib/python3.11/site-packages (from requests->transformers) (2023.11.17)\r\n",
      "\r\n",
      "\u001B[1m[\u001B[0m\u001B[34;49mnotice\u001B[0m\u001B[1;39;49m]\u001B[0m\u001B[39;49m A new release of pip is available: \u001B[0m\u001B[31;49m23.2.1\u001B[0m\u001B[39;49m -> \u001B[0m\u001B[32;49m23.3.2\u001B[0m\r\n",
      "\u001B[1m[\u001B[0m\u001B[34;49mnotice\u001B[0m\u001B[1;39;49m]\u001B[0m\u001B[39;49m To update, run: \u001B[0m\u001B[32;49mpip install --upgrade pip\u001B[0m\r\n",
      "Requirement already satisfied: torchmetrics in /Users/garance/.pyenv/versions/3.11.5/envs/projet_AMAL/lib/python3.11/site-packages (1.2.1)\r\n",
      "Requirement already satisfied: numpy>1.20.0 in /Users/garance/.pyenv/versions/3.11.5/envs/projet_AMAL/lib/python3.11/site-packages (from torchmetrics) (1.26.2)\r\n",
      "Requirement already satisfied: packaging>17.1 in /Users/garance/.pyenv/versions/3.11.5/envs/projet_AMAL/lib/python3.11/site-packages (from torchmetrics) (23.2)\r\n",
      "Requirement already satisfied: torch>=1.8.1 in /Users/garance/.pyenv/versions/3.11.5/envs/projet_AMAL/lib/python3.11/site-packages (from torchmetrics) (2.1.0)\r\n",
      "Requirement already satisfied: lightning-utilities>=0.8.0 in /Users/garance/.pyenv/versions/3.11.5/envs/projet_AMAL/lib/python3.11/site-packages (from torchmetrics) (0.10.0)\r\n",
      "Requirement already satisfied: setuptools in /Users/garance/.pyenv/versions/3.11.5/envs/projet_AMAL/lib/python3.11/site-packages (from lightning-utilities>=0.8.0->torchmetrics) (65.5.0)\r\n",
      "Requirement already satisfied: typing-extensions in /Users/garance/.pyenv/versions/3.11.5/envs/projet_AMAL/lib/python3.11/site-packages (from lightning-utilities>=0.8.0->torchmetrics) (4.9.0)\r\n",
      "Requirement already satisfied: filelock in /Users/garance/.pyenv/versions/3.11.5/envs/projet_AMAL/lib/python3.11/site-packages (from torch>=1.8.1->torchmetrics) (3.13.1)\r\n",
      "Requirement already satisfied: sympy in /Users/garance/.pyenv/versions/3.11.5/envs/projet_AMAL/lib/python3.11/site-packages (from torch>=1.8.1->torchmetrics) (1.12)\r\n",
      "Requirement already satisfied: networkx in /Users/garance/.pyenv/versions/3.11.5/envs/projet_AMAL/lib/python3.11/site-packages (from torch>=1.8.1->torchmetrics) (3.2.1)\r\n",
      "Requirement already satisfied: jinja2 in /Users/garance/.pyenv/versions/3.11.5/envs/projet_AMAL/lib/python3.11/site-packages (from torch>=1.8.1->torchmetrics) (3.1.3)\r\n",
      "Requirement already satisfied: fsspec in /Users/garance/.pyenv/versions/3.11.5/envs/projet_AMAL/lib/python3.11/site-packages (from torch>=1.8.1->torchmetrics) (2023.12.2)\r\n",
      "Requirement already satisfied: MarkupSafe>=2.0 in /Users/garance/.pyenv/versions/3.11.5/envs/projet_AMAL/lib/python3.11/site-packages (from jinja2->torch>=1.8.1->torchmetrics) (2.1.3)\r\n",
      "Requirement already satisfied: mpmath>=0.19 in /Users/garance/.pyenv/versions/3.11.5/envs/projet_AMAL/lib/python3.11/site-packages (from sympy->torch>=1.8.1->torchmetrics) (1.3.0)\r\n",
      "\r\n",
      "\u001B[1m[\u001B[0m\u001B[34;49mnotice\u001B[0m\u001B[1;39;49m]\u001B[0m\u001B[39;49m A new release of pip is available: \u001B[0m\u001B[31;49m23.2.1\u001B[0m\u001B[39;49m -> \u001B[0m\u001B[32;49m23.3.2\u001B[0m\r\n",
      "\u001B[1m[\u001B[0m\u001B[34;49mnotice\u001B[0m\u001B[1;39;49m]\u001B[0m\u001B[39;49m To update, run: \u001B[0m\u001B[32;49mpip install --upgrade pip\u001B[0m\r\n",
      "2.1.0\n",
      "\r\n",
      "\u001B[1m[\u001B[0m\u001B[34;49mnotice\u001B[0m\u001B[1;39;49m]\u001B[0m\u001B[39;49m A new release of pip is available: \u001B[0m\u001B[31;49m23.2.1\u001B[0m\u001B[39;49m -> \u001B[0m\u001B[32;49m23.3.2\u001B[0m\r\n",
      "\u001B[1m[\u001B[0m\u001B[34;49mnotice\u001B[0m\u001B[1;39;49m]\u001B[0m\u001B[39;49m To update, run: \u001B[0m\u001B[32;49mpip install --upgrade pip\u001B[0m\r\n",
      "\r\n",
      "\u001B[1m[\u001B[0m\u001B[34;49mnotice\u001B[0m\u001B[1;39;49m]\u001B[0m\u001B[39;49m A new release of pip is available: \u001B[0m\u001B[31;49m23.2.1\u001B[0m\u001B[39;49m -> \u001B[0m\u001B[32;49m23.3.2\u001B[0m\r\n",
      "\u001B[1m[\u001B[0m\u001B[34;49mnotice\u001B[0m\u001B[1;39;49m]\u001B[0m\u001B[39;49m To update, run: \u001B[0m\u001B[32;49mpip install --upgrade pip\u001B[0m\r\n",
      "\r\n",
      "\u001B[1m[\u001B[0m\u001B[34;49mnotice\u001B[0m\u001B[1;39;49m]\u001B[0m\u001B[39;49m A new release of pip is available: \u001B[0m\u001B[31;49m23.2.1\u001B[0m\u001B[39;49m -> \u001B[0m\u001B[32;49m23.3.2\u001B[0m\r\n",
      "\u001B[1m[\u001B[0m\u001B[34;49mnotice\u001B[0m\u001B[1;39;49m]\u001B[0m\u001B[39;49m To update, run: \u001B[0m\u001B[32;49mpip install --upgrade pip\u001B[0m\r\n"
     ]
    }
   ],
   "source": [
    "!pip install import_ipynb\n",
    "!pip install -U -q PyDrive\n",
    "!pip install pytorch_pretrained_bert\n",
    "!pip install sparse\n",
    "!pip install transformers\n",
    "!pip install torchmetrics\n",
    "import os\n",
    "import torch\n",
    "os.environ['TORCH'] = torch.__version__\n",
    "print(torch.__version__)\n",
    "!pip install -q torch-scatter -f https://data.pyg.org/whl/torch-${TORCH}.html\n",
    "!pip install -q torch-sparse -f https://data.pyg.org/whl/torch-${TORCH}.html\n",
    "!pip install -q git+https://github.com/pyg-team/pytorch_geometric.git"
   ]
  },
  {
   "cell_type": "code",
   "execution_count": 2,
   "id": "39fd4fd9552085c2",
   "metadata": {
    "collapsed": false,
    "ExecuteTime": {
     "end_time": "2024-01-21T11:20:54.857401Z",
     "start_time": "2024-01-21T11:20:53.603933Z"
    }
   },
   "outputs": [
    {
     "name": "stdout",
     "output_type": "stream",
     "text": [
      "Requirement already satisfied: einops in /Users/garance/.pyenv/versions/3.11.5/envs/projet_AMAL/lib/python3.11/site-packages (0.7.0)\r\n",
      "\r\n",
      "\u001B[1m[\u001B[0m\u001B[34;49mnotice\u001B[0m\u001B[1;39;49m]\u001B[0m\u001B[39;49m A new release of pip is available: \u001B[0m\u001B[31;49m23.2.1\u001B[0m\u001B[39;49m -> \u001B[0m\u001B[32;49m23.3.2\u001B[0m\r\n",
      "\u001B[1m[\u001B[0m\u001B[34;49mnotice\u001B[0m\u001B[1;39;49m]\u001B[0m\u001B[39;49m To update, run: \u001B[0m\u001B[32;49mpip install --upgrade pip\u001B[0m\r\n"
     ]
    }
   ],
   "source": [
    "!pip install einops"
   ]
  },
  {
   "cell_type": "code",
   "execution_count": 3,
   "id": "a6e0e82211314cd0",
   "metadata": {
    "collapsed": false,
    "ExecuteTime": {
     "end_time": "2024-01-21T11:20:57.422686Z",
     "start_time": "2024-01-21T11:20:54.859621Z"
    }
   },
   "outputs": [
    {
     "name": "stderr",
     "output_type": "stream",
     "text": [
      "/Users/garance/.pyenv/versions/3.11.5/envs/projet_AMAL/lib/python3.11/site-packages/torch_geometric/typing.py:63: UserWarning: An issue occurred while importing 'torch-scatter'. Disabling its usage. Stacktrace: dlopen(/Users/garance/.pyenv/versions/3.11.5/envs/projet_AMAL/lib/python3.11/site-packages/torch_scatter/_scatter_cpu.so, 0x0006): Symbol not found: __ZN5torch8autograd13_wrap_outputsERKNSt3__16vectorIN2at6TensorENS1_9allocatorIS4_EEEERKNS1_13unordered_setIPN3c1010TensorImplENS1_4hashISD_EENS1_8equal_toISD_EENS5_ISD_EEEESL_NSB_8ArrayRefINSB_8optionalIS4_EEEERKNS1_10shared_ptrINS0_4NodeEEENS1_8functionIFS7_S7_S7_EEE\n",
      "  Referenced from: <BEF9F452-9D77-323E-91B8-AF667F303838> /Users/garance/.pyenv/versions/3.11.5/envs/projet_AMAL/lib/python3.11/site-packages/torch_scatter/_scatter_cpu.so\n",
      "  Expected in:     <66FB8649-BB87-3CD6-A177-462038DCAE02> /Users/garance/.pyenv/versions/3.11.5/envs/projet_AMAL/lib/python3.11/site-packages/torch/lib/libtorch_cpu.dylib\n",
      "  warnings.warn(f\"An issue occurred while importing 'torch-scatter'. \"\n",
      "/Users/garance/.pyenv/versions/3.11.5/envs/projet_AMAL/lib/python3.11/site-packages/torch_geometric/typing.py:101: UserWarning: An issue occurred while importing 'torch-sparse'. Disabling its usage. Stacktrace: dlopen(/Users/garance/.pyenv/versions/3.11.5/envs/projet_AMAL/lib/python3.11/site-packages/torch_sparse/_spmm_cpu.so, 0x0006): Symbol not found: __ZN5torch8autograd13_wrap_outputsERKNSt3__16vectorIN2at6TensorENS1_9allocatorIS4_EEEERKNS1_13unordered_setIPN3c1010TensorImplENS1_4hashISD_EENS1_8equal_toISD_EENS5_ISD_EEEESL_NSB_8ArrayRefINSB_8optionalIS4_EEEERKNS1_10shared_ptrINS0_4NodeEEENS1_8functionIFS7_S7_S7_EEE\n",
      "  Referenced from: <4D05D979-F268-321D-A145-18B3BDA59213> /Users/garance/.pyenv/versions/3.11.5/envs/projet_AMAL/lib/python3.11/site-packages/torch_sparse/_spmm_cpu.so\n",
      "  Expected in:     <66FB8649-BB87-3CD6-A177-462038DCAE02> /Users/garance/.pyenv/versions/3.11.5/envs/projet_AMAL/lib/python3.11/site-packages/torch/lib/libtorch_cpu.dylib\n",
      "  warnings.warn(f\"An issue occurred while importing 'torch-sparse'. \"\n"
     ]
    }
   ],
   "source": [
    "# Authenticate and create the PyDrive client.\n",
    "# This only needs to be done once per notebook.\n",
    "\n",
    "import torch\n",
    "from torch_geometric.data import Data\n",
    "\n",
    "import numpy as np\n",
    "import sparse\n",
    "\n",
    "import torch.nn as nn\n",
    "import torch.nn.functional as F\n",
    "import torch_geometric.nn as tgmnn\n",
    "from torch_geometric.nn import global_mean_pool\n",
    "from torch_geometric.loader import DataListLoader as GraphLoader\n",
    "from torch_geometric.data import Batch\n",
    "\n",
    "from torch.nn import TransformerEncoder, TransformerEncoderLayer, TransformerDecoder, TransformerDecoderLayer\n",
    "import time\n",
    "from sklearn import preprocessing\n",
    "import math\n",
    "from torch.utils.data import Dataset\n",
    "import copy\n",
    "import sklearn.metrics as skm\n",
    "import pandas as pd\n",
    "import random\n",
    "from torch.utils.data.dataset import Dataset\n",
    "import pytorch_pretrained_bert as Bert\n",
    "import itertools\n",
    "from einops import rearrange, repeat\n",
    "\n",
    "import ast\n",
    "from typing import Optional, Tuple, Union\n",
    "from torch_geometric.nn.conv import MessagePassing\n",
    "from torch_geometric.nn.dense.linear import Linear\n",
    "from torch_geometric.typing import Adj, OptTensor, PairTensor, SparseTensor\n",
    "from torch_geometric.utils import softmax\n",
    "from torch_geometric.nn.conv import MessagePassing\n",
    "from torch_geometric.nn import LayerNorm\n",
    "import torch.nn.functional as F\n",
    "from torch import Tensor\n",
    "\n",
    "from sklearn.model_selection import ShuffleSplit\n",
    "import pickle\n",
    "from matplotlib import pyplot as plt\n",
    "from tqdm import tqdm\n",
    "\n",
    "from torch.utils.tensorboard import SummaryWriter"
   ]
  },
  {
   "cell_type": "code",
   "outputs": [],
   "source": [
    "# if you are using a mac this cell aims to solve this error: \n",
    "# NotImplementedError: The operator 'aten::scatter_reduce.two_out' is not currently implemented for the MPS device. If you want this op to be added in priority during the prototype phase of this feature, please comment on https://github.com/pytorch/pytorch/issues/77764. As a temporary fix, you can set the environment variable ⁠ PYTORCH_ENABLE_MPS_FALLBACK=1 ⁠ to use the CPU as a fallback for this op. WARNING: this will be slower than running natively on MPS.\n",
    "\n",
    "# You will probably need first to execute this bash command in your terminal: touch .zshenv && echo 'export PYTORCH_ENABLE_MPS_FALLBACK=1' >> .zshenv\n",
    "# And then restart the notebook\n",
    "\n",
    "#import os\n",
    "os.environ['PYTORCH_ENABLE_MPS_FALLBACK'] = '1'"
   ],
   "metadata": {
    "collapsed": false,
    "ExecuteTime": {
     "end_time": "2024-01-21T11:20:57.425165Z",
     "start_time": "2024-01-21T11:20:57.423420Z"
    }
   },
   "id": "2f8a5093d5adb88f",
   "execution_count": 4
  },
  {
   "cell_type": "markdown",
   "source": [
    "#################################################### Start tensorboard ####################################################"
   ],
   "metadata": {
    "collapsed": false
   },
   "id": "907727436e6962d1"
  },
  {
   "cell_type": "code",
   "outputs": [],
   "source": [
    "# %load_ext tensorboard\n",
    "# %reload_ext tensorboard\n",
    "# # %tensorboard --logdir $log_dir --port 6006"
   ],
   "metadata": {
    "collapsed": false,
    "ExecuteTime": {
     "end_time": "2024-01-21T11:20:57.430620Z",
     "start_time": "2024-01-21T11:20:57.425519Z"
    }
   },
   "id": "28d968c06dab59b6",
   "execution_count": 5
  },
  {
   "cell_type": "markdown",
   "source": [
    "#################################################### Defining classes ####################################################"
   ],
   "metadata": {
    "collapsed": false
   },
   "id": "a93aef5aba8cac70"
  },
  {
   "cell_type": "code",
   "execution_count": 6,
   "id": "4f4d4485cac2fe92",
   "metadata": {
    "collapsed": false,
    "ExecuteTime": {
     "end_time": "2024-01-21T11:20:57.439312Z",
     "start_time": "2024-01-21T11:20:57.434832Z"
    }
   },
   "outputs": [],
   "source": [
    "#######################################################################################################################################\n",
    "###################################################### Transformer Conv ###############################################################\n",
    "#######################################################################################################################################\n",
    "\n",
    "class TransformerConv(MessagePassing):\n",
    "    _alpha: OptTensor\n",
    "    def __init__(\n",
    "        self,\n",
    "        in_channels: Union[int, Tuple[int, int]],\n",
    "        out_channels: int,\n",
    "        heads: int = 1,\n",
    "        concat: bool = True,\n",
    "        beta: bool = False,\n",
    "        dropout: float = 0.,\n",
    "        edge_dim: Optional[int] = None,\n",
    "        bias: bool = True,\n",
    "        root_weight: bool = True,\n",
    "        **kwargs,\n",
    "    ):\n",
    "        kwargs.setdefault('aggr', 'add')\n",
    "        super().__init__(node_dim=0, **kwargs)\n",
    "\n",
    "        self.in_channels = in_channels\n",
    "        self.out_channels = out_channels\n",
    "        self.heads = heads\n",
    "        self.beta = beta and root_weight\n",
    "        self.root_weight = root_weight\n",
    "        self.concat = concat\n",
    "        self.dropout = dropout\n",
    "        self.edge_dim = edge_dim\n",
    "        self._alpha = None\n",
    "\n",
    "        if isinstance(in_channels, int):\n",
    "            in_channels = (in_channels, in_channels)\n",
    "\n",
    "        self.lin_key = Linear(in_channels[0], heads * out_channels)\n",
    "        self.lin_query = Linear(in_channels[1], heads * out_channels)\n",
    "        self.lin_value = Linear(in_channels[0], heads * out_channels)\n",
    "        self.layernorm1 = LayerNorm(out_channels)\n",
    "        self.layernorm2 = LayerNorm(out_channels)\n",
    "        self.gelu = nn.GELU()\n",
    "        self.proj = Linear(heads * out_channels, out_channels)\n",
    "        self.ffn = Linear(out_channels, out_channels)\n",
    "        self.ffn2 = Linear(out_channels, out_channels)\n",
    "        if edge_dim is not None:\n",
    "            self.lin_edge = Linear(edge_dim, heads * out_channels, bias=False)\n",
    "        else:\n",
    "            self.lin_edge = self.register_parameter('lin_edge', None)\n",
    "\n",
    "\n",
    "        self.reset_parameters()\n",
    "\n",
    "    def reset_parameters(self):\n",
    "        super().reset_parameters()\n",
    "        self.lin_key.reset_parameters()\n",
    "        self.lin_query.reset_parameters()\n",
    "        self.lin_value.reset_parameters()\n",
    "        if self.edge_dim:\n",
    "            self.lin_edge.reset_parameters()\n",
    "\n",
    "\n",
    "    def forward(self, x: Union[Tensor, PairTensor], edge_index: Adj,\n",
    "                edge_attr: OptTensor = None, batch=None, return_attention_weights=None):\n",
    "        # type: (Union[Tensor, PairTensor], Tensor, OptTensor, NoneType) -> Tensor  # noqa\n",
    "        # type: (Union[Tensor, PairTensor], SparseTensor, OptTensor, NoneType) -> Tensor  # noqa\n",
    "        # type: (Union[Tensor, PairTensor], Tensor, OptTensor, bool) -> Tuple[Tensor, Tuple[Tensor, Tensor]]  # noqa\n",
    "        # type: (Union[Tensor, PairTensor], Tensor, OptTensor, bool) -> Tuple[Tensor, Tuple[Tensor, Tensor]]  # noqa\n",
    "        # type: (Union[Tensor, PairTensor], SparseTensor, OptTensor, bool) -> Tuple[Tensor, SparseTensor]  # noqa\n",
    "        r\"\"\"Runs the forward pass of the module.\n",
    "\n",
    "        Args:\n",
    "            return_attention_weights (bool, optional): If set to :obj:`True`,\n",
    "                will additionally return the tuple\n",
    "                :obj:`(edge_index, attention_weights)`, holding the computed\n",
    "                attention weights for each edge. (default: :obj:`None`)\n",
    "        \"\"\"\n",
    "        H, C = self.heads, self.out_channels\n",
    "        residual = x\n",
    "        x = self.layernorm1(x, batch)\n",
    "        if isinstance(x, Tensor):\n",
    "            x: PairTensor = (x, x)\n",
    "        query = self.lin_query(x[1]).view(-1, H, C)\n",
    "        key = self.lin_key(x[0]).view(-1, H, C)\n",
    "        value = self.lin_value(x[0]).view(-1, H, C)\n",
    "        # propagate_type: (query: Tensor, key:Tensor, value: Tensor, edge_attr: OptTensor) # noqa\n",
    "        out = self.propagate(edge_index, query=query, key=key, value=value,\n",
    "                             edge_attr=edge_attr, size=None)\n",
    "        alpha = self._alpha\n",
    "        self._alpha = None\n",
    "        if self.concat:\n",
    "            out = self.proj(out.view(-1, self.heads * self.out_channels))\n",
    "        else:\n",
    "            out = out.mean(dim=1)\n",
    "        out = F.dropout(out, p=self.dropout, training=self.training)\n",
    "        out = out+residual\n",
    "        residual = out\n",
    "\n",
    "        out = self.layernorm2(out)\n",
    "        out = self.gelu(self.ffn(out))\n",
    "        out = F.dropout(out, p=self.dropout, training=self.training)\n",
    "        out = self.ffn2(out)\n",
    "        out = F.dropout(out, p=self.dropout, training=self.training)\n",
    "        out = out + residual\n",
    "        if isinstance(return_attention_weights, bool):\n",
    "            assert alpha is not None\n",
    "            if isinstance(edge_index, Tensor):\n",
    "                return out, (edge_index, alpha)\n",
    "            elif isinstance(edge_index, SparseTensor):\n",
    "                return out, edge_index.set_value(alpha, layout='coo')\n",
    "        else:\n",
    "            return out\n",
    "\n",
    "    def message(self, query_i: Tensor, key_j: Tensor, value_j: Tensor,\n",
    "                edge_attr: OptTensor, index: Tensor, ptr: OptTensor,\n",
    "                size_i: Optional[int]) -> Tensor:\n",
    "\n",
    "\n",
    "        if self.lin_edge is not None:\n",
    "            assert edge_attr is not None\n",
    "            edge_attr = self.lin_edge(edge_attr).view(-1, self.heads,\n",
    "                                                      self.out_channels)\n",
    "            key_j = key_j + edge_attr\n",
    "\n",
    "        alpha = (query_i * key_j).sum(dim=-1) / math.sqrt(self.out_channels)\n",
    "        alpha = softmax(alpha, index, ptr, size_i)\n",
    "        self._alpha = alpha\n",
    "        alpha = F.dropout(alpha, p=self.dropout, training=self.training)\n",
    "\n",
    "        out = value_j\n",
    "        if edge_attr is not None:\n",
    "            out = out + edge_attr\n",
    "\n",
    "        out = out * alpha.view(-1, self.heads, 1)\n",
    "        return out\n",
    "\n",
    "    def __repr__(self) -> str:\n",
    "        return (f'{self.__class__.__name__}({self.in_channels}, '\n",
    "                f'{self.out_channels}, heads={self.heads})')"
   ]
  },
  {
   "cell_type": "code",
   "execution_count": 7,
   "id": "f416b0d45c5ca51c",
   "metadata": {
    "collapsed": false,
    "ExecuteTime": {
     "end_time": "2024-01-21T11:20:57.440892Z",
     "start_time": "2024-01-21T11:20:57.438956Z"
    }
   },
   "outputs": [],
   "source": [
    "#######################################################################################################################################\n",
    "###################################################### Graph Transformer ###############################################################\n",
    "#######################################################################################################################################\n",
    "\n",
    "class GraphTransformer(torch.nn.Module):\n",
    "    def __init__(self, config):\n",
    "        super().__init__()\n",
    "        \n",
    "        self.transformerconv1 = TransformerConv(config.hidden_size // 5, config.hidden_size // 5, heads=2, edge_dim=config.hidden_size // 5, dropout=config.hidden_dropout_prob, concat=True)\n",
    "        self.transformerconv2 = TransformerConv(config.hidden_size // 5, config.hidden_size // 5, heads=2, edge_dim=config.hidden_size // 5, dropout=config.hidden_dropout_prob, concat=True)\n",
    "        self.transformerconv3 = TransformerConv(config.hidden_size // 5, config.hidden_size // 5, heads=2, edge_dim=config.hidden_size // 5, dropout=config.hidden_dropout_prob, concat=False)\n",
    "        \n",
    "        self.embed = nn.Embedding(config.vocab_size, config.hidden_size // 5) \n",
    "        self.embed_ee = nn.Embedding(config.node_attr_size, config.hidden_size // 5)\n",
    "                    \n",
    "\n",
    "    def forward(self, x, edge_index, edge_index_readout, edge_attr, batch):\n",
    "        #print(\"GT\")\n",
    "        indices = (x==0).nonzero().squeeze()\n",
    "        h_nodes = self.transformerconv1(x=self.embed(x), edge_index=edge_index, edge_attr=self.embed_ee(edge_attr), batch=batch)\n",
    "        h_nodes = nn.GELU()(h_nodes)\n",
    "        h_nodes = self.transformerconv2(x=h_nodes, edge_index=edge_index, edge_attr=self.embed_ee(edge_attr), batch=batch)\n",
    "        h_nodes = nn.GELU()(h_nodes)\n",
    "        h_nodes = self.transformerconv3(x=h_nodes, edge_index=edge_index, edge_attr=self.embed_ee(edge_attr), batch=batch)\n",
    "        x = h_nodes[indices]\n",
    "        return x, h_nodes"
   ]
  },
  {
   "cell_type": "code",
   "execution_count": 8,
   "id": "b2c6b6ff5ca752b7",
   "metadata": {
    "collapsed": false,
    "ExecuteTime": {
     "end_time": "2024-01-21T11:20:57.453670Z",
     "start_time": "2024-01-21T11:20:57.442050Z"
    }
   },
   "outputs": [],
   "source": [
    "#######################################################################################################################################\n",
    "######################################################## Bert Config ##################################################################\n",
    "#######################################################################################################################################\n",
    "\n",
    "class BertConfig(Bert.modeling.BertConfig):\n",
    "    def __init__(self, config):\n",
    "        super(BertConfig, self).__init__(\n",
    "            vocab_size_or_config_json_file=config.get('vocab_size'),\n",
    "            hidden_size=config['hidden_size'],\n",
    "            num_hidden_layers=config.get('num_hidden_layers'),\n",
    "            num_attention_heads=config.get('num_attention_heads'),\n",
    "            intermediate_size=config.get('intermediate_size'),\n",
    "            hidden_act=config.get('hidden_act'),\n",
    "            hidden_dropout_prob=config.get('hidden_dropout_prob'),\n",
    "            attention_probs_dropout_prob=config.get('attention_probs_dropout_prob'),\n",
    "            max_position_embeddings = config.get('max_position_embedding'),\n",
    "            initializer_range=config.get('initializer_range'),\n",
    "        )\n",
    "        self.age_vocab_size = config.get('age_vocab_size')\n",
    "        self.type_vocab_size = config.get('type_vocab_size')\n",
    "        self.time_vocab_size = config.get('time_vocab_size')\n",
    "        self.graph_dropout_prob = config.get('graph_dropout_prob')\n",
    "        self.node_attr_size = config.get('node_attr_size')\n",
    "        "
   ]
  },
  {
   "cell_type": "code",
   "execution_count": 9,
   "id": "8e7c1dd8",
   "metadata": {
    "ExecuteTime": {
     "end_time": "2024-01-21T11:20:57.454721Z",
     "start_time": "2024-01-21T11:20:57.444742Z"
    }
   },
   "outputs": [],
   "source": [
    "class Pre_training_1(nn.Module):\n",
    "    def __init__(self, config):\n",
    "        super(Pre_training_1, self).__init__()\n",
    "        self.config = config\n",
    "        self.gnn = GraphTransformer(config)\n",
    "        self.linear = nn.Linear(self.config.hidden_size // 5, self.config.vocab_size)\n",
    "        self.layers = nn.ModuleList([self.gnn, self.linear])\n",
    "\n",
    "    def forward(self, nodes, edge_index, edge_index_readout, edge_attr, batch):\n",
    "        # Define the forward pass using self.gnn and self.linear as needed\n",
    "        vst,x = self.gnn(nodes, edge_index, edge_index_readout, edge_attr, batch)\n",
    "        x = self.linear(x)\n",
    "        return x"
   ]
  },
  {
   "cell_type": "code",
   "execution_count": 10,
   "id": "e351bc79848c792a",
   "metadata": {
    "collapsed": false,
    "ExecuteTime": {
     "end_time": "2024-01-21T11:20:57.455514Z",
     "start_time": "2024-01-21T11:20:57.448635Z"
    }
   },
   "outputs": [],
   "source": [
    "#######################################################################################################################################\n",
    "############################################################ GDSet ####################################################################\n",
    "#######################################################################################################################################\n",
    "\n",
    "class GDSet(Dataset):\n",
    "    def __init__(self, g):\n",
    "        self.g = g\n",
    "\n",
    "    def __getitem__(self, index):\n",
    "\n",
    "        g = self.g[index]\n",
    "        for i in range(len(g)):\n",
    "          g[i]['posi_ids'] = i\n",
    "        return g\n",
    "\n",
    "    def __len__(self):\n",
    "        return len(self.g)"
   ]
  },
  {
   "cell_type": "markdown",
   "id": "af27382901bf1746",
   "metadata": {
    "collapsed": false
   },
   "source": [
    "#################################################### Importing Data ######################################################"
   ]
  },
  {
   "cell_type": "code",
   "outputs": [],
   "source": [
    "path = '../../data/'\n",
    "path_results = '../../results/'"
   ],
   "metadata": {
    "collapsed": false,
    "ExecuteTime": {
     "end_time": "2024-01-21T11:20:57.455934Z",
     "start_time": "2024-01-21T11:20:57.450520Z"
    }
   },
   "id": "532b044cc487cb7c",
   "execution_count": 11
  },
  {
   "cell_type": "code",
   "execution_count": 12,
   "id": "81192e04deabcfb9",
   "metadata": {
    "collapsed": false,
    "ExecuteTime": {
     "end_time": "2024-01-21T11:20:58.700872Z",
     "start_time": "2024-01-21T11:20:57.452429Z"
    }
   },
   "outputs": [],
   "source": [
    "with open(path + 'data_pad100.pkl', 'rb') as handle:\n",
    "    dataset = pickle.load(handle)"
   ]
  },
  {
   "cell_type": "markdown",
   "id": "d9db8d113daefd13",
   "metadata": {
    "collapsed": false
   },
   "source": [
    "##################################################### Splitting Data ######################################################"
   ]
  },
  {
   "cell_type": "code",
   "execution_count": 13,
   "id": "36bd142a2914b09e",
   "metadata": {
    "collapsed": false,
    "ExecuteTime": {
     "end_time": "2024-01-21T11:20:58.702963Z",
     "start_time": "2024-01-21T11:20:58.701113Z"
    }
   },
   "outputs": [],
   "source": [
    "#######################################################################################################################################\n",
    "pourcentage_nodes_to_mask = 0.15\n",
    "labels_masked_nodes = []\n",
    "mask_node_embeddings = 2"
   ]
  },
  {
   "cell_type": "code",
   "execution_count": 14,
   "id": "11f332815fae943e",
   "metadata": {
    "collapsed": false,
    "ExecuteTime": {
     "end_time": "2024-01-21T11:20:58.707557Z",
     "start_time": "2024-01-21T11:20:58.704192Z"
    }
   },
   "outputs": [],
   "source": [
    "def split_dataset(dataset, train_params, random_seed=1):\n",
    "  rs = ShuffleSplit(n_splits=1, test_size=train_params.get('test_split'), random_state=random_seed)\n",
    "\n",
    "  for i, (train_index_tmp, test_index) in enumerate(rs.split(dataset)):\n",
    "    rs2 = ShuffleSplit(n_splits=1, test_size=train_params.get('val_split'), random_state=random_seed)\n",
    "    \n",
    "    for j, (train_index, val_index) in enumerate(rs2.split(train_index_tmp)):\n",
    "      train_index = train_index_tmp[train_index]\n",
    "      val_index = train_index_tmp[val_index]\n",
    "      trainDSet = [dataset[x] for x in train_index]\n",
    "      valDSet = [dataset[x] for x in val_index]\n",
    "      testDSet = [dataset[x] for x in test_index]\n",
    "\n",
    "      return trainDSet, valDSet, testDSet"
   ]
  },
  {
   "cell_type": "markdown",
   "id": "55a004db21db04ce",
   "metadata": {
    "collapsed": false
   },
   "source": [
    "###################################################### Config Files ######################################################"
   ]
  },
  {
   "cell_type": "code",
   "execution_count": 15,
   "id": "c2724e7a55d6dadc",
   "metadata": {
    "collapsed": false,
    "ExecuteTime": {
     "end_time": "2024-01-21T11:20:58.728324Z",
     "start_time": "2024-01-21T11:20:58.720944Z"
    }
   },
   "outputs": [],
   "source": [
    "train_params = {\n",
    "    'batch_size': 5,\n",
    "    'max_len_seq': 50,\n",
    "    'device': \"cuda\" if torch.cuda.is_available() else (\"mps\" if torch.backends.mps.is_available() else \"cpu\"),\n",
    "    #'device': \"cpu\",\n",
    "    'data_len' : len(dataset),\n",
    "    'val_split' : 0.1,\n",
    "    'test_split' : 0.2,\n",
    "    'train_data_len' : int(0.9*0.8*len(dataset)),   # the train dataset is 90% of 80% of the whole dataset\n",
    "    'val_data_len' : int(0.1*0.8*len(dataset)),   # the validation dataset is 10% of 80% of the whole dataset\n",
    "    'test_data_len' : int(0.2*len(dataset)),   # the test dataset is 20% of the whole dataset\n",
    "    'epochs' : 15,\n",
    "    'lr': 0.0001,\n",
    "    'weight_decay': 0.0001\n",
    "}\n",
    "\n",
    "model_config = {\n",
    "    'vocab_size': 9405, # number of disease + symbols for word embedding (avec vst) + 1 for mask\n",
    "    'edge_relationship_size': 8, # number of vocab for edge_attr\n",
    "    'hidden_size': 50*5, # word embedding and seg embedding hidden size\n",
    "    'seg_vocab_size': 2, # number of vocab for seg embedding\n",
    "    'age_vocab_size': 151, # number of vocab for age embedding\n",
    "    'time_vocab_size': 380, # number of vocab for time embedding\n",
    "    'type_vocab_size': 11+1, # number of vocab for type embedding + 1 for mask\n",
    "    'node_attr_size': 8, # number of vocab for node_attr embedding\n",
    "    'num_labels':1,\n",
    "    'max_position_embedding': 50, # maximum number of tokens\n",
    "    'hidden_dropout_prob': 0.2, # dropout rate\n",
    "    'graph_dropout_prob': 0.2, # dropout rate\n",
    "    'num_hidden_layers': 6, # number of multi-head attention layers required\n",
    "    'num_attention_heads': 2, # number of attention heads\n",
    "    'attention_probs_dropout_prob': 0.2, # multi-head attention dropout rate\n",
    "    'intermediate_size': 512, # the size of the \"intermediate\" layer in the transformer encoder\n",
    "    'hidden_act': 'gelu', # The non-linear activation function in the encoder and the pooler \"gelu\", 'relu', 'swish' are supported\n",
    "    'initializer_range': 0.02, # parameter weight initializer range\n",
    "    'n_layers' : 3 - 1,\n",
    "    'alpha' : 0.1\n",
    "}"
   ]
  },
  {
   "cell_type": "markdown",
   "id": "2d4fe3f5c666bab2",
   "metadata": {
    "collapsed": false
   },
   "source": [
    "######################################################## DEVICE ##########################################################"
   ]
  },
  {
   "cell_type": "code",
   "execution_count": 16,
   "id": "1c787c2405763db0",
   "metadata": {
    "collapsed": false,
    "ExecuteTime": {
     "end_time": "2024-01-21T11:20:58.728881Z",
     "start_time": "2024-01-21T11:20:58.722990Z"
    }
   },
   "outputs": [
    {
     "name": "stdout",
     "output_type": "stream",
     "text": [
      "device:  mps\n"
     ]
    }
   ],
   "source": [
    "# print which device is used\n",
    "print('device: ', train_params['device'])"
   ]
  },
  {
   "cell_type": "markdown",
   "id": "7cb286a7f3cab35",
   "metadata": {
    "collapsed": false
   },
   "source": [
    "#################################################### Training Functions ####################################################"
   ]
  },
  {
   "cell_type": "code",
   "execution_count": 18,
   "id": "f469dbb0caa05f8e",
   "metadata": {
    "collapsed": false,
    "ExecuteTime": {
     "end_time": "2024-01-21T11:20:58.732505Z",
     "start_time": "2024-01-21T11:20:58.728721Z"
    }
   },
   "outputs": [],
   "source": [
    "def train(model, optim, trainload, device, writer, epoch):\n",
    "    tr_loss = 0\n",
    "    start = time.time()\n",
    "    model.train()\n",
    "    \n",
    "    CE_loss = torch.nn.CrossEntropyLoss(ignore_index=3)\n",
    "    \n",
    "    for step, data in tqdm(enumerate(trainload)):\n",
    "        optim.zero_grad()\n",
    "\n",
    "        batched_data = Batch()\n",
    "        graph_batch = batched_data.from_data_list(list(itertools.chain.from_iterable(data)))\n",
    "        graph_batch = graph_batch.to(device)\n",
    "        nodes = graph_batch.x\n",
    "                \n",
    "        list_index = [i for i in range(nodes.shape[0])]\n",
    "        random.shuffle(list_index)\n",
    "        index_nodes_to_mask = list_index[:int((nodes.shape[0]) * pourcentage_nodes_to_mask)]\n",
    "        index_nodes_not_masked = list(set(list_index) - set(index_nodes_to_mask))\n",
    "        labels_nodes = nodes\n",
    "        ytrue = nodes\n",
    "\n",
    "        labels_nodes[index_nodes_not_masked] = 3\n",
    "        nodes[index_nodes_to_mask] = mask_node_embeddings\n",
    "        \n",
    "        edge_index = graph_batch.edge_index\n",
    "        edge_index_readout = graph_batch.edge_index\n",
    "        edge_attr = graph_batch.edge_attr\n",
    "        batch = graph_batch.batch\n",
    "\n",
    "        pred = model(nodes, edge_index, edge_index_readout, edge_attr, batch)\n",
    "        \n",
    "        loss = CE_loss(pred, labels_nodes)\n",
    "        # Update TensorBoard for train loss per iteration\n",
    "        writer.add_scalar('Train Loss per Iteration', loss.item(), epoch * len(trainload) + step)\n",
    "        \n",
    "        loss.backward()\n",
    "        tr_loss += loss.item()\n",
    "        optim.step()\n",
    "\n",
    "        del loss\n",
    "\n",
    "    print(\"TOTAL TRAIN LOSS\", (tr_loss * train_params['batch_size']) / len(trainload))\n",
    "    cost = time.time() - start\n",
    "    \n",
    "    # Update TensorBoard for total train loss per epoch\n",
    "    writer.add_scalar('Total Train Loss per Epoch', (tr_loss * train_params['batch_size']) / len(trainload), epoch)\n",
    "    \n",
    "    return tr_loss, cost, pred,ytrue"
   ]
  },
  {
   "cell_type": "code",
   "execution_count": 19,
   "id": "98d4b3ccd3dccc1f",
   "metadata": {
    "collapsed": false,
    "ExecuteTime": {
     "end_time": "2024-01-21T11:20:58.738946Z",
     "start_time": "2024-01-21T11:20:58.732733Z"
    }
   },
   "outputs": [],
   "source": [
    "def eval(model, _valload, device, writer, epoch):\n",
    "    tr_loss = 0\n",
    "    start = time.time()\n",
    "    model.eval()\n",
    "    CE_loss = torch.nn.CrossEntropyLoss(ignore_index=3)\n",
    "    \n",
    "    with torch.no_grad():\n",
    "        for step, data in tqdm(enumerate(_valload)):\n",
    "            batched_data = Batch()\n",
    "            graph_batch = batched_data.from_data_list(list(itertools.chain.from_iterable(data)))\n",
    "            graph_batch = graph_batch.to(device)\n",
    "            nodes = graph_batch.x\n",
    "                    \n",
    "            list_index = [i for i in range(nodes.shape[0])]\n",
    "            random.shuffle(list_index)\n",
    "            index_nodes_to_mask = list_index[:int((nodes.shape[0]) * pourcentage_nodes_to_mask)]\n",
    "            index_nodes_not_masked = list(set(list_index) - set(index_nodes_to_mask))\n",
    "            labels_nodes = nodes\n",
    "            ytrue = nodes\n",
    "            \n",
    "            labels_nodes[index_nodes_not_masked] = 3\n",
    "            nodes[index_nodes_to_mask] = mask_node_embeddings\n",
    "            \n",
    "            edge_index = graph_batch.edge_index\n",
    "            edge_index_readout = graph_batch.edge_index\n",
    "            edge_attr = graph_batch.edge_attr\n",
    "            batch = graph_batch.batch\n",
    "\n",
    "            pred = model(nodes, edge_index, edge_index_readout, edge_attr, batch)\n",
    "\n",
    "            loss = CE_loss(pred, labels_nodes)\n",
    "            # Update TensorBoard for eval loss per iteration\n",
    "            writer.add_scalar('Eval Loss per Iteration', loss.item(), epoch * len(_valload) + step)\n",
    "            \n",
    "            tr_loss += loss.item()\n",
    "            \n",
    "            del loss\n",
    "\n",
    "    print(\"TOTAL EVAL LOSS\", (tr_loss * train_params['batch_size']) / len(_valload))\n",
    "    \n",
    "    # Update TensorBoard for total eval loss per epoch\n",
    "    writer.add_scalar('Total Eval Loss per Epoch', (tr_loss * train_params['batch_size']) / len(_valload), epoch)\n",
    "    \n",
    "    cost = time.time() - start\n",
    "    return tr_loss, cost, pred, ytrue"
   ]
  },
  {
   "cell_type": "code",
   "execution_count": 20,
   "id": "e74b020a899d96a8",
   "metadata": {
    "collapsed": false,
    "ExecuteTime": {
     "end_time": "2024-01-21T11:20:58.740194Z",
     "start_time": "2024-01-21T11:20:58.737356Z"
    }
   },
   "outputs": [],
   "source": [
    "def run_epoch(model, optim_model, trainload, valload, device, exp, writer):\n",
    "    best_val = math.inf\n",
    "    loss_train_liste = []\n",
    "    loss_val_liste = []\n",
    "    \n",
    "    for e in tqdm(range(train_params[\"epochs\"])):\n",
    "        print(\"Epoch n\" + str(e))\n",
    "        train_loss, train_time_cost, pred_train, ytrue_train = train(model, optim_model, trainload, device, writer, e)\n",
    "        val_loss, val_time_cost, pred_eval, ytrue_eval = eval(model, valload, device, writer, e)\n",
    "        accuracy_train = skm.accuracy_score(ytrue_train.cpu().detach().numpy(), pred_train.cpu().detach().numpy().argmax(axis=1))\n",
    "        accuracy_eval = skm.accuracy_score(ytrue_eval.cpu().detach().numpy(), pred_eval.cpu().detach().numpy().argmax(axis=1))\n",
    "\n",
    "        train_loss = (train_loss * train_params['batch_size']) / len(trainload)\n",
    "        val_loss = (val_loss * train_params['batch_size']) / len(valload)\n",
    "        loss_train_liste.append(train_loss)\n",
    "        loss_val_liste.append(val_loss)\n",
    "        print('TRAIN \\t{} secs'.format(train_time_cost))\n",
    "        print(f'TRAIN accuracy : {accuracy_train}')\n",
    "        \n",
    "        with open(path_results + 'losses_and_times/' + \"pre_training_1_log_train_\" + f'{exp}' + \".txt\", 'a') as f:\n",
    "            f.write(\"Epoch n\" + str(e) + '\\n TRAIN {}\\t{} secs\\n'.format(train_loss, train_time_cost))\n",
    "            f.write('EVAL {}\\t{} secs\\n'.format(val_loss, val_time_cost) + '\\n\\n\\n')\n",
    "        print('EVAL \\t{} secs'.format(val_time_cost))\n",
    "        print('EVAL accuracy : {}\\n\\n'.format(accuracy_eval))\n",
    "\n",
    "        if val_loss < best_val:\n",
    "            print(\"** ** * Saving fine - tuned model ** ** * \")\n",
    "            torch.save(model.gnn.state_dict(), path_results + 'weights/' + 'GraphTransformer_pretrain_1_num_' + f'{exp}' + '.pch')\n",
    "            best_val = val_loss\n",
    "            \n",
    "    epoch = [i for i in range(train_params[\"epochs\"])]\n",
    "    plt.plot(epoch, loss_train_liste)\n",
    "    plt.legend(['train'])\n",
    "    plt.plot(epoch,loss_val_liste)\n",
    "    plt.legend(['val'])\n",
    "    plt.xlabel('Epochs')\n",
    "    plt.ylabel('Loss')\n",
    "    plt.savefig(path_results + 'plots/' + 'Pre_training_1.png')\n",
    "    plt.show()\n",
    "\n",
    "    return train_loss, val_loss, accuracy_train, accuracy_eval, train_time_cost, val_time_cost"
   ]
  },
  {
   "cell_type": "markdown",
   "id": "9fedbac940be492c",
   "metadata": {
    "collapsed": false
   },
   "source": [
    "################################################### Experiences ####################################################"
   ]
  },
  {
   "cell_type": "code",
   "outputs": [],
   "source": [
    "def experiment(num_experiments=5):\n",
    "    conf = BertConfig(model_config)\n",
    "    df = pd.DataFrame(columns=['Experiment', 'Model', 'Metric', 'Score'])\n",
    "\n",
    "    for exp in tqdm(range(num_experiments)):\n",
    "        model = Pre_training_1(conf).to(train_params['device'])\n",
    "        transformer_vars = [i for i in model.parameters()]\n",
    "        optim_model = torch.optim.AdamW(transformer_vars, lr=train_params['lr'], weight_decay=train_params['weight_decay'])\n",
    "\n",
    "        # Set log directory for TensorBoard\n",
    "        writer = SummaryWriter(path_results + 'runs/' + 'pre_training_1/' + str(exp + 1))\n",
    "\n",
    "\n",
    "        print(f\"\\n Experiment {exp + 1}\")\n",
    "        trainDSet, valDSet, testDSet = split_dataset(dataset, train_params, random_seed=exp)\n",
    "        trainload = GraphLoader(GDSet(trainDSet), batch_size=train_params['batch_size'], shuffle=False)\n",
    "        valload = GraphLoader(GDSet(valDSet), batch_size=train_params['batch_size'], shuffle=False)\n",
    "\n",
    "        train_loss, val_loss, accuracy_train, accuracy_eval, train_time_cost, val_time_cost = run_epoch(\n",
    "            model, optim_model, trainload, valload, train_params['device'], exp, writer\n",
    "        )\n",
    "\n",
    "        df.loc[len(df)] = [exp + 1, 'GT_BERT', 'Val Accuracy', accuracy_eval]\n",
    "        df.loc[len(df)] = [exp + 1, 'GT_BERT', 'Train Loss', train_loss]\n",
    "        df.loc[len(df)] = [exp + 1, 'GT_BERT', 'Val Loss', val_loss]\n",
    "        df.loc[len(df)] = [exp + 1, 'GT_BERT', 'Train Time', train_time_cost]\n",
    "        df.loc[len(df)] = [exp + 1, 'GT_BERT', 'Val Time', val_time_cost]\n",
    "\n",
    "        # Close the writer for the current experiment\n",
    "        writer.close()\n",
    "\n",
    "    df.to_csv(path_results + 'dataframes/' + 'GT_behrt_results_pretraining_1.csv')\n",
    "\n",
    "    return df"
   ],
   "metadata": {
    "collapsed": false,
    "ExecuteTime": {
     "end_time": "2024-01-21T11:20:58.746417Z",
     "start_time": "2024-01-21T11:20:58.741464Z"
    }
   },
   "id": "f0d104d43e45d3da",
   "execution_count": 21
  },
  {
   "cell_type": "markdown",
   "id": "d25222bec6977e32",
   "metadata": {
    "collapsed": false
   },
   "source": [
    "######################################################## Main #########################################################"
   ]
  },
  {
   "cell_type": "code",
   "outputs": [
    {
     "name": "stderr",
     "output_type": "stream",
     "text": [
      "  0%|          | 0/5 [00:00<?, ?it/s]\n",
      "  0%|          | 0/15 [00:00<?, ?it/s]\u001B[A\n",
      "\n",
      "0it [00:00, ?it/s]\u001B[A\u001B[A"
     ]
    },
    {
     "name": "stdout",
     "output_type": "stream",
     "text": [
      "\n",
      " Experiment 1\n",
      "Epoch n0\n"
     ]
    },
    {
     "name": "stderr",
     "output_type": "stream",
     "text": [
      "/Users/garance/.pyenv/versions/3.11.5/envs/projet_AMAL/lib/python3.11/site-packages/torch_geometric/utils/scatter.py:94: UserWarning: The operator 'aten::scatter_reduce.two_out' is not currently supported on the MPS backend and will fall back to run on the CPU. This may have performance implications. (Triggered internally at /Users/runner/work/pytorch/pytorch/pytorch/aten/src/ATen/mps/MPSFallback.mm:13.)\n",
      "  return src.new_zeros(size).scatter_reduce_(\n",
      "\n",
      "\n",
      "1it [00:05,  5.70s/it]\u001B[A\u001B[A\n",
      "\n",
      "2it [00:08,  4.80s/it]\u001B[A\u001B[A\n",
      "\n",
      "3it [00:10,  4.14s/it]\u001B[A\u001B[A\n",
      "\n",
      "4it [00:13,  3.68s/it]\u001B[A\u001B[A\n",
      "\n",
      "5it [00:16,  3.39s/it]\u001B[A\u001B[A\n",
      "\n",
      "6it [00:19,  3.19s/it]\u001B[A\u001B[A\n",
      "\n",
      "7it [00:21,  3.06s/it]\u001B[A\u001B[A\n",
      "\n",
      "8it [00:24,  2.96s/it]\u001B[A\u001B[A\n",
      "\n",
      "9it [00:27,  2.90s/it]\u001B[A\u001B[A\n",
      "\n",
      "10it [00:30,  2.96s/it]\u001B[A\u001B[A\n",
      "\n",
      "11it [00:33,  2.97s/it]\u001B[A\u001B[A\n",
      "\n",
      "12it [00:36,  2.96s/it]\u001B[A\u001B[A\n",
      "\n",
      "13it [00:39,  2.96s/it]\u001B[A\u001B[A\n",
      "\n",
      "14it [00:42,  2.96s/it]\u001B[A\u001B[A\n",
      "\n",
      "15it [00:45,  3.03s/it]\u001B[A\u001B[A\n",
      "\n",
      "\n",
      "0it [00:00, ?it/s]\u001B[A\u001B[A"
     ]
    },
    {
     "name": "stdout",
     "output_type": "stream",
     "text": [
      "TOTAL TRAIN LOSS 44.54426638285319\n"
     ]
    },
    {
     "name": "stderr",
     "output_type": "stream",
     "text": [
      "\n",
      "\n",
      "1it [00:01,  1.74s/it]\u001B[A\u001B[A\n",
      "\n",
      "2it [00:03,  1.90s/it]\u001B[A\u001B[A\n",
      "\n",
      "  7%|▋         | 1/15 [00:49<11:30, 49.34s/it]\u001B[A\n",
      "\n",
      "0it [00:00, ?it/s]\u001B[A\u001B[A\n",
      "\n",
      "1it [00:00,  8.07it/s]\u001B[A\u001B[A"
     ]
    },
    {
     "name": "stdout",
     "output_type": "stream",
     "text": [
      "TOTAL EVAL LOSS 41.25795841217041\n",
      "TRAIN \t45.50439500808716 secs\n",
      "TRAIN accuracy : 0.0\n",
      "EVAL \t3.796976089477539 secs\n",
      "EVAL accuracy : 0.0\n",
      "\n",
      "\n",
      "** ** * Saving fine - tuned model ** ** * \n",
      "Epoch n1\n"
     ]
    },
    {
     "name": "stderr",
     "output_type": "stream",
     "text": [
      "\n",
      "\n",
      "3it [00:00,  9.06it/s]\u001B[A\u001B[A\n",
      "\n",
      "5it [00:00, 10.27it/s]\u001B[A\u001B[A\n",
      "\n",
      "7it [00:00, 10.62it/s]\u001B[A\u001B[A\n",
      "\n",
      "9it [00:00, 11.25it/s]\u001B[A\u001B[A\n",
      "\n",
      "11it [00:01,  9.44it/s]\u001B[A\u001B[A\n",
      "\n",
      "13it [00:01, 10.22it/s]\u001B[A\u001B[A\n",
      "\n",
      "15it [00:01, 11.04it/s]\u001B[A\u001B[A\n",
      "\n",
      "\n",
      "2it [00:00, 39.32it/s][A\n",
      "\n",
      " 13%|█▎        | 2/15 [00:50<07:34, 34.97s/it]\u001B[A\n",
      "\n",
      "0it [00:00, ?it/s]\u001B[A\u001B[A"
     ]
    },
    {
     "name": "stdout",
     "output_type": "stream",
     "text": [
      "TOTAL TRAIN LOSS 39.27411222457886\n",
      "TOTAL EVAL LOSS 36.456639766693115\n",
      "TRAIN \t1.3599011898040771 secs\n",
      "TRAIN accuracy : 0.08342480790340286\n",
      "EVAL \t0.052001953125 secs\n",
      "EVAL accuracy : 0.09302325581395349\n",
      "\n",
      "\n",
      "** ** * Saving fine - tuned model ** ** * \n",
      "Epoch n2\n"
     ]
    },
    {
     "name": "stderr",
     "output_type": "stream",
     "text": [
      "\n",
      "\n",
      "2it [00:00, 11.78it/s]\u001B[A\u001B[A\n",
      "\n",
      "4it [00:00, 11.93it/s]\u001B[A\u001B[A\n",
      "\n",
      "6it [00:00, 12.06it/s]\u001B[A\u001B[A\n",
      "\n",
      "8it [00:00, 11.94it/s]\u001B[A\u001B[A\n",
      "\n",
      "10it [00:00,  9.93it/s]\u001B[A\u001B[A\n",
      "\n",
      "12it [00:01, 11.05it/s]\u001B[A\u001B[A\n",
      "\n",
      "15it [00:01, 11.39it/s]\u001B[A\u001B[A\n",
      "\n",
      "\n",
      "2it [00:00, 41.01it/s][A\n",
      "\n",
      " 20%|██        | 3/15 [00:52<04:58, 24.89s/it]\u001B[A\n",
      "\n",
      "0it [00:00, ?it/s]\u001B[A\u001B[A"
     ]
    },
    {
     "name": "stdout",
     "output_type": "stream",
     "text": [
      "TOTAL TRAIN LOSS 34.469208081563316\n",
      "TOTAL EVAL LOSS 31.89697504043579\n",
      "TRAIN \t1.3181259632110596 secs\n",
      "TRAIN accuracy : 0.12952799121844127\n",
      "EVAL \t0.04985499382019043 secs\n",
      "EVAL accuracy : 0.08879492600422834\n",
      "\n",
      "\n",
      "** ** * Saving fine - tuned model ** ** * \n",
      "Epoch n3\n"
     ]
    },
    {
     "name": "stderr",
     "output_type": "stream",
     "text": [
      "\n",
      "\n",
      "2it [00:00, 12.26it/s]\u001B[A\u001B[A\n",
      "\n",
      "4it [00:00, 12.32it/s]\u001B[A\u001B[A\n",
      "\n",
      "6it [00:00, 12.35it/s]\u001B[A\u001B[A\n",
      "\n",
      "8it [00:00, 11.93it/s]\u001B[A\u001B[A\n",
      "\n",
      "10it [00:00,  9.74it/s]\u001B[A\u001B[A\n",
      "\n",
      "12it [00:01, 10.85it/s]\u001B[A\u001B[A\n",
      "\n",
      "15it [00:01, 11.29it/s]\u001B[A\u001B[A\n",
      "\n",
      "\n",
      "2it [00:00, 42.99it/s][A\n",
      "\n",
      " 27%|██▋       | 4/15 [00:53<03:16, 17.84s/it]\u001B[A\n",
      "\n",
      "0it [00:00, ?it/s]\u001B[A\u001B[A"
     ]
    },
    {
     "name": "stdout",
     "output_type": "stream",
     "text": [
      "TOTAL TRAIN LOSS 29.093619028727215\n",
      "TOTAL EVAL LOSS 26.479170322418213\n",
      "TRAIN \t1.3294191360473633 secs\n",
      "TRAIN accuracy : 0.12952799121844127\n",
      "EVAL \t0.047699928283691406 secs\n",
      "EVAL accuracy : 0.10359408033826638\n",
      "\n",
      "\n",
      "** ** * Saving fine - tuned model ** ** * \n",
      "Epoch n4\n"
     ]
    },
    {
     "name": "stderr",
     "output_type": "stream",
     "text": [
      "\n",
      "\n",
      "2it [00:00, 12.10it/s]\u001B[A\u001B[A\n",
      "\n",
      "4it [00:00, 12.25it/s]\u001B[A\u001B[A\n",
      "\n",
      "6it [00:00, 12.55it/s]\u001B[A\u001B[A\n",
      "\n",
      "8it [00:00, 12.25it/s]\u001B[A\u001B[A\n",
      "\n",
      "10it [00:00, 10.10it/s]\u001B[A\u001B[A\n",
      "\n",
      "12it [00:01, 11.20it/s]\u001B[A\u001B[A\n",
      "\n",
      "15it [00:01, 11.58it/s]\u001B[A\u001B[A\n",
      "\n",
      "\n",
      "2it [00:00, 41.86it/s][A\n",
      "\n",
      " 33%|███▎      | 5/15 [00:54<02:09, 12.90s/it]\u001B[A\n",
      "\n",
      "0it [00:00, ?it/s]\u001B[A\u001B[A"
     ]
    },
    {
     "name": "stdout",
     "output_type": "stream",
     "text": [
      "TOTAL TRAIN LOSS 23.325904369354248\n",
      "TOTAL EVAL LOSS 21.395440101623535\n",
      "TRAIN \t1.296839952468872 secs\n",
      "TRAIN accuracy : 0.13172338090010977\n",
      "EVAL \t0.04876518249511719 secs\n",
      "EVAL accuracy : 0.09513742071881606\n",
      "\n",
      "\n",
      "** ** * Saving fine - tuned model ** ** * \n",
      "Epoch n5\n"
     ]
    },
    {
     "name": "stderr",
     "output_type": "stream",
     "text": [
      "\n",
      "\n",
      "2it [00:00, 12.52it/s]\u001B[A\u001B[A\n",
      "\n",
      "4it [00:00, 12.39it/s]\u001B[A\u001B[A\n",
      "\n",
      "6it [00:00, 12.42it/s]\u001B[A\u001B[A\n",
      "\n",
      "8it [00:00, 12.05it/s]\u001B[A\u001B[A\n",
      "\n",
      "10it [00:00,  9.69it/s]\u001B[A\u001B[A\n",
      "\n",
      "12it [00:01, 10.81it/s]\u001B[A\u001B[A\n",
      "\n",
      "15it [00:01, 11.24it/s]\u001B[A\u001B[A\n",
      "\n",
      "\n",
      "2it [00:00, 40.06it/s][A\n",
      "\n",
      " 40%|████      | 6/15 [00:56<01:25,  9.45s/it]\u001B[A\n",
      "\n",
      "0it [00:00, ?it/s]\u001B[A\u001B[A"
     ]
    },
    {
     "name": "stdout",
     "output_type": "stream",
     "text": [
      "TOTAL TRAIN LOSS 16.949893633524578\n",
      "TOTAL EVAL LOSS 15.287155508995056\n",
      "TRAIN \t1.3357748985290527 secs\n",
      "TRAIN accuracy : 0.13172338090010977\n",
      "EVAL \t0.05106306076049805 secs\n",
      "EVAL accuracy : 0.09936575052854123\n",
      "\n",
      "\n",
      "** ** * Saving fine - tuned model ** ** * \n",
      "Epoch n6\n"
     ]
    },
    {
     "name": "stderr",
     "output_type": "stream",
     "text": [
      "\n",
      "\n",
      "2it [00:00, 11.87it/s]\u001B[A\u001B[A\n",
      "\n",
      "4it [00:00, 12.00it/s]\u001B[A\u001B[A\n",
      "\n",
      "6it [00:00, 12.09it/s]\u001B[A\u001B[A\n",
      "\n",
      "8it [00:00, 11.84it/s]\u001B[A\u001B[A\n",
      "\n",
      "10it [00:00,  9.74it/s]\u001B[A\u001B[A\n",
      "\n",
      "12it [00:01, 10.69it/s]\u001B[A\u001B[A\n",
      "\n",
      "15it [00:01, 11.06it/s]\u001B[A\u001B[A\n",
      "\n",
      "\n",
      "2it [00:00, 37.94it/s][A\n",
      "\n",
      " 47%|████▋     | 7/15 [00:57<00:56,  7.05s/it]\u001B[A\n",
      "\n",
      "0it [00:00, ?it/s]\u001B[A\u001B[A"
     ]
    },
    {
     "name": "stdout",
     "output_type": "stream",
     "text": [
      "TOTAL TRAIN LOSS 12.819836576779684\n",
      "TOTAL EVAL LOSS 12.447347044944763\n",
      "TRAIN \t1.3568241596221924 secs\n",
      "TRAIN accuracy : 0.14270032930845225\n",
      "EVAL \t0.0538177490234375 secs\n",
      "EVAL accuracy : 0.11627906976744186\n",
      "\n",
      "\n",
      "** ** * Saving fine - tuned model ** ** * \n",
      "Epoch n7\n"
     ]
    },
    {
     "name": "stderr",
     "output_type": "stream",
     "text": [
      "\n",
      "\n",
      "2it [00:00, 12.17it/s]\u001B[A\u001B[A\n",
      "\n",
      "4it [00:00, 12.20it/s]\u001B[A\u001B[A\n",
      "\n",
      "6it [00:00, 12.13it/s]\u001B[A\u001B[A\n",
      "\n",
      "8it [00:00, 11.71it/s]\u001B[A\u001B[A\n",
      "\n",
      "10it [00:00,  9.53it/s]\u001B[A\u001B[A\n",
      "\n",
      "12it [00:01, 10.54it/s]\u001B[A\u001B[A\n",
      "\n",
      "15it [00:01, 10.90it/s]\u001B[A\u001B[A\n",
      "\n",
      "\n",
      "2it [00:00, 36.43it/s][A\n",
      "\n",
      " 53%|█████▎    | 8/15 [00:59<00:37,  5.37s/it]\u001B[A\n",
      "\n",
      "0it [00:00, ?it/s]\u001B[A\u001B[A"
     ]
    },
    {
     "name": "stdout",
     "output_type": "stream",
     "text": [
      "TOTAL TRAIN LOSS 11.147570610046387\n",
      "TOTAL EVAL LOSS 10.738543272018433\n",
      "TRAIN \t1.3770928382873535 secs\n",
      "TRAIN accuracy : 0.14050493962678376\n",
      "EVAL \t0.055950164794921875 secs\n",
      "EVAL accuracy : 0.14799154334038056\n",
      "\n",
      "\n",
      "** ** * Saving fine - tuned model ** ** * \n",
      "Epoch n8\n"
     ]
    },
    {
     "name": "stderr",
     "output_type": "stream",
     "text": [
      "\n",
      "\n",
      "2it [00:00, 11.88it/s]\u001B[A\u001B[A\n",
      "\n",
      "4it [00:00, 12.12it/s]\u001B[A\u001B[A\n",
      "\n",
      "6it [00:00, 12.27it/s]\u001B[A\u001B[A\n",
      "\n",
      "8it [00:00, 11.89it/s]\u001B[A\u001B[A\n",
      "\n",
      "10it [00:00,  9.84it/s]\u001B[A\u001B[A\n",
      "\n",
      "12it [00:01, 10.76it/s]\u001B[A\u001B[A\n",
      "\n",
      "15it [00:01, 11.19it/s]\u001B[A\u001B[A\n",
      "\n",
      "\n",
      "2it [00:00, 42.26it/s][A\n",
      "\n",
      " 60%|██████    | 9/15 [01:00<00:25,  4.18s/it]\u001B[A\n",
      "\n",
      "0it [00:00, ?it/s]\u001B[A\u001B[A"
     ]
    },
    {
     "name": "stdout",
     "output_type": "stream",
     "text": [
      "TOTAL TRAIN LOSS 10.185219168663025\n",
      "TOTAL EVAL LOSS 10.537685453891754\n",
      "TRAIN \t1.341308832168579 secs\n",
      "TRAIN accuracy : 0.14818880351262348\n",
      "EVAL \t0.0484468936920166 secs\n",
      "EVAL accuracy : 0.14799154334038056\n",
      "\n",
      "\n",
      "** ** * Saving fine - tuned model ** ** * \n",
      "Epoch n9\n"
     ]
    },
    {
     "name": "stderr",
     "output_type": "stream",
     "text": [
      "\n",
      "\n",
      "2it [00:00, 12.03it/s]\u001B[A\u001B[A\n",
      "\n",
      "4it [00:00, 12.11it/s]\u001B[A\u001B[A\n",
      "\n",
      "6it [00:00, 12.44it/s]\u001B[A\u001B[A\n",
      "\n",
      "8it [00:00, 12.20it/s]\u001B[A\u001B[A\n",
      "\n",
      "10it [00:00,  9.97it/s]\u001B[A\u001B[A\n",
      "\n",
      "12it [00:01, 10.96it/s]\u001B[A\u001B[A\n",
      "\n",
      "15it [00:01, 11.35it/s]\u001B[A\u001B[A\n",
      "\n",
      "\n",
      "2it [00:00, 39.89it/s][A\n",
      "\n",
      " 67%|██████▋   | 10/15 [01:02<00:16,  3.34s/it]\u001B[A\n",
      "\n",
      "0it [00:00, ?it/s]\u001B[A\u001B[A"
     ]
    },
    {
     "name": "stdout",
     "output_type": "stream",
     "text": [
      "TOTAL TRAIN LOSS 9.340239723523458\n",
      "TOTAL EVAL LOSS 11.479800343513489\n",
      "TRAIN \t1.322998046875 secs\n",
      "TRAIN accuracy : 0.14928649835345773\n",
      "EVAL \t0.05121493339538574 secs\n",
      "EVAL accuracy : 0.14799154334038056\n",
      "\n",
      "\n",
      "Epoch n10\n"
     ]
    },
    {
     "name": "stderr",
     "output_type": "stream",
     "text": [
      "\n",
      "\n",
      "2it [00:00, 12.61it/s]\u001B[A\u001B[A\n",
      "\n",
      "4it [00:00, 12.72it/s]\u001B[A\u001B[A\n",
      "\n",
      "6it [00:00, 12.62it/s]\u001B[A\u001B[A\n",
      "\n",
      "8it [00:00, 12.14it/s]\u001B[A\u001B[A\n",
      "\n",
      "10it [00:00,  9.98it/s]\u001B[A\u001B[A\n",
      "\n",
      "12it [00:01, 10.93it/s]\u001B[A\u001B[A\n",
      "\n",
      "15it [00:01, 11.33it/s]\u001B[A\u001B[A\n",
      "\n",
      "\n",
      "2it [00:00, 41.48it/s][A\n",
      "\n",
      " 73%|███████▎  | 11/15 [01:03<00:11,  2.76s/it]\u001B[A\n",
      "\n",
      "0it [00:00, ?it/s]\u001B[A\u001B[A"
     ]
    },
    {
     "name": "stdout",
     "output_type": "stream",
     "text": [
      "TOTAL TRAIN LOSS 8.567564169565836\n",
      "TOTAL EVAL LOSS 10.339932441711426\n",
      "TRAIN \t1.3253214359283447 secs\n",
      "TRAIN accuracy : 0.14928649835345773\n",
      "EVAL \t0.04922914505004883 secs\n",
      "EVAL accuracy : 0.14799154334038056\n",
      "\n",
      "\n",
      "** ** * Saving fine - tuned model ** ** * \n",
      "Epoch n11\n"
     ]
    },
    {
     "name": "stderr",
     "output_type": "stream",
     "text": [
      "\n",
      "\n",
      "2it [00:00, 11.68it/s]\u001B[A\u001B[A\n",
      "\n",
      "4it [00:00, 11.93it/s]\u001B[A\u001B[A\n",
      "\n",
      "6it [00:00, 12.07it/s]\u001B[A\u001B[A\n",
      "\n",
      "8it [00:00, 11.68it/s]\u001B[A\u001B[A\n",
      "\n",
      "10it [00:00,  9.63it/s]\u001B[A\u001B[A\n",
      "\n",
      "12it [00:01, 10.74it/s]\u001B[A\u001B[A\n",
      "\n",
      "15it [00:01, 11.14it/s]\u001B[A\u001B[A\n",
      "\n",
      "\n",
      "2it [00:00, 41.48it/s][A\n",
      "\n",
      " 80%|████████  | 12/15 [01:04<00:07,  2.36s/it]\u001B[A\n",
      "\n",
      "0it [00:00, ?it/s]\u001B[A\u001B[A"
     ]
    },
    {
     "name": "stdout",
     "output_type": "stream",
     "text": [
      "TOTAL TRAIN LOSS 7.967341363430023\n",
      "TOTAL EVAL LOSS 9.12353128194809\n",
      "TRAIN \t1.3476190567016602 secs\n",
      "TRAIN accuracy : 0.14928649835345773\n",
      "EVAL \t0.0492558479309082 secs\n",
      "EVAL accuracy : 0.14799154334038056\n",
      "\n",
      "\n",
      "** ** * Saving fine - tuned model ** ** * \n",
      "Epoch n12\n"
     ]
    },
    {
     "name": "stderr",
     "output_type": "stream",
     "text": [
      "\n",
      "\n",
      "2it [00:00, 12.59it/s]\u001B[A\u001B[A\n",
      "\n",
      "4it [00:00, 12.66it/s]\u001B[A\u001B[A\n",
      "\n",
      "6it [00:00, 12.85it/s]\u001B[A\u001B[A\n",
      "\n",
      "8it [00:00, 12.48it/s]\u001B[A\u001B[A\n",
      "\n",
      "10it [00:00, 10.15it/s]\u001B[A\u001B[A\n",
      "\n",
      "12it [00:01, 11.20it/s]\u001B[A\u001B[A\n",
      "\n",
      "15it [00:01, 11.63it/s]\u001B[A\u001B[A\n",
      "\n",
      "\n",
      "2it [00:00, 42.32it/s][A\n",
      "\n",
      " 87%|████████▋ | 13/15 [01:06<00:04,  2.06s/it]\u001B[A\n",
      "\n",
      "0it [00:00, ?it/s]\u001B[A\u001B[A"
     ]
    },
    {
     "name": "stdout",
     "output_type": "stream",
     "text": [
      "TOTAL TRAIN LOSS 6.618424663941066\n",
      "TOTAL EVAL LOSS 5.60657262802124\n",
      "TRAIN \t1.2903800010681152 secs\n",
      "TRAIN accuracy : 0.14928649835345773\n",
      "EVAL \t0.048297882080078125 secs\n",
      "EVAL accuracy : 0.14799154334038056\n",
      "\n",
      "\n",
      "** ** * Saving fine - tuned model ** ** * \n",
      "Epoch n13\n"
     ]
    },
    {
     "name": "stderr",
     "output_type": "stream",
     "text": [
      "\n",
      "\n",
      "2it [00:00, 12.25it/s]\u001B[A\u001B[A\n",
      "\n",
      "4it [00:00, 12.37it/s]\u001B[A\u001B[A\n",
      "\n",
      "6it [00:00, 12.59it/s]\u001B[A\u001B[A\n",
      "\n",
      "8it [00:00, 12.24it/s]\u001B[A\u001B[A\n",
      "\n",
      "10it [00:00,  9.93it/s]\u001B[A\u001B[A\n",
      "\n",
      "12it [00:01, 10.94it/s]\u001B[A\u001B[A\n",
      "\n",
      "15it [00:01, 11.34it/s]\u001B[A\u001B[A\n",
      "\n",
      "\n",
      "2it [00:00, 40.83it/s][A\n",
      "\n",
      " 93%|█████████▎| 14/15 [01:07<00:01,  1.86s/it]\u001B[A\n",
      "\n",
      "0it [00:00, ?it/s]\u001B[A\u001B[A"
     ]
    },
    {
     "name": "stdout",
     "output_type": "stream",
     "text": [
      "TOTAL TRAIN LOSS 5.636082788308461\n",
      "TOTAL EVAL LOSS 5.688945055007935\n",
      "TRAIN \t1.323498010635376 secs\n",
      "TRAIN accuracy : 0.14928649835345773\n",
      "EVAL \t0.05018901824951172 secs\n",
      "EVAL accuracy : 0.14799154334038056\n",
      "\n",
      "\n",
      "Epoch n14\n"
     ]
    },
    {
     "name": "stderr",
     "output_type": "stream",
     "text": [
      "\n",
      "\n",
      "2it [00:00, 12.32it/s]\u001B[A\u001B[A\n",
      "\n",
      "4it [00:00, 12.39it/s]\u001B[A\u001B[A\n",
      "\n",
      "6it [00:00, 12.57it/s]\u001B[A\u001B[A\n",
      "\n",
      "8it [00:00, 12.10it/s]\u001B[A\u001B[A\n",
      "\n",
      "10it [00:00,  9.81it/s]\u001B[A\u001B[A\n",
      "\n",
      "12it [00:01, 10.83it/s]\u001B[A\u001B[A\n",
      "\n",
      "15it [00:01, 11.26it/s]\u001B[A\u001B[A\n",
      "\n",
      "\n",
      "2it [00:00, 40.56it/s][A\n",
      "\n",
      "100%|██████████| 15/15 [01:08<00:00,  4.60s/it]\u001B[A\n"
     ]
    },
    {
     "name": "stdout",
     "output_type": "stream",
     "text": [
      "TOTAL TRAIN LOSS 4.242877508203189\n",
      "TOTAL EVAL LOSS 2.43842214345932\n",
      "TRAIN \t1.3327527046203613 secs\n",
      "TRAIN accuracy : 0.14928649835345773\n",
      "EVAL \t0.050402164459228516 secs\n",
      "EVAL accuracy : 0.14799154334038056\n",
      "\n",
      "\n",
      "** ** * Saving fine - tuned model ** ** * \n"
     ]
    },
    {
     "data": {
      "text/plain": "<Figure size 640x480 with 1 Axes>",
      "image/png": "[encoded data removed]"
     },
     "metadata": {},
     "output_type": "display_data"
    },
    {
     "name": "stderr",
     "output_type": "stream",
     "text": [
      " 20%|██        | 1/5 [01:09<04:36, 69.19s/it]\n",
      "  0%|          | 0/15 [00:00<?, ?it/s]\u001B[A\n",
      "\n",
      "0it [00:00, ?it/s]\u001B[A\u001B[A"
     ]
    },
    {
     "name": "stdout",
     "output_type": "stream",
     "text": [
      "\n",
      " Experiment 2\n",
      "Epoch n0\n"
     ]
    },
    {
     "name": "stderr",
     "output_type": "stream",
     "text": [
      "\n",
      "\n",
      "1it [00:03,  3.22s/it]\u001B[A\u001B[A\n",
      "\n",
      "2it [00:06,  3.15s/it]\u001B[A\u001B[A\n",
      "\n",
      "3it [00:09,  3.16s/it]\u001B[A\u001B[A\n",
      "\n",
      "4it [00:12,  3.22s/it]\u001B[A\u001B[A\n",
      "\n",
      "5it [00:16,  3.26s/it]\u001B[A\u001B[A\n",
      "\n",
      "6it [00:19,  3.29s/it]\u001B[A\u001B[A\n",
      "\n",
      "7it [00:22,  3.32s/it]\u001B[A\u001B[A\n",
      "\n",
      "8it [00:26,  3.33s/it]\u001B[A\u001B[A\n",
      "\n",
      "9it [00:29,  3.36s/it]\u001B[A\u001B[A\n",
      "\n",
      "10it [00:32,  3.34s/it]\u001B[A\u001B[A\n",
      "\n",
      "11it [00:36,  3.35s/it]\u001B[A\u001B[A\n",
      "\n",
      "12it [00:39,  3.36s/it]\u001B[A\u001B[A\n",
      "\n",
      "13it [00:43,  3.37s/it]\u001B[A\u001B[A\n",
      "\n",
      "14it [00:46,  3.43s/it]\u001B[A\u001B[A\n",
      "\n",
      "15it [00:50,  3.35s/it]\u001B[A\u001B[A\n",
      "\n",
      "\n",
      "0it [00:00, ?it/s]\u001B[A\u001B[A"
     ]
    },
    {
     "name": "stdout",
     "output_type": "stream",
     "text": [
      "TOTAL TRAIN LOSS 46.36526425679525\n"
     ]
    },
    {
     "name": "stderr",
     "output_type": "stream",
     "text": [
      "\n",
      "\n",
      "1it [00:01,  1.99s/it]\u001B[A\u001B[A\n",
      "\n",
      "2it [00:04,  2.04s/it]\u001B[A\u001B[A\n",
      "\n",
      "  7%|▋         | 1/15 [00:54<12:41, 54.37s/it]\u001B[A\n",
      "\n",
      "0it [00:00, ?it/s]\u001B[A\u001B[A\n",
      "\n",
      "2it [00:00, 12.66it/s]\u001B[A\u001B[A"
     ]
    },
    {
     "name": "stdout",
     "output_type": "stream",
     "text": [
      "TOTAL EVAL LOSS 43.85599613189697\n",
      "TRAIN \t50.26697897911072 secs\n",
      "TRAIN accuracy : 0.0\n",
      "EVAL \t4.077505111694336 secs\n",
      "EVAL accuracy : 0.0\n",
      "\n",
      "\n",
      "** ** * Saving fine - tuned model ** ** * \n",
      "Epoch n1\n"
     ]
    },
    {
     "name": "stderr",
     "output_type": "stream",
     "text": [
      "\n",
      "\n",
      "4it [00:00, 13.15it/s]\u001B[A\u001B[A\n",
      "\n",
      "6it [00:00, 12.92it/s]\u001B[A\u001B[A\n",
      "\n",
      "8it [00:00, 13.34it/s]\u001B[A\u001B[A\n",
      "\n",
      "10it [00:00,  9.99it/s]\u001B[A\u001B[A\n",
      "\n",
      "12it [00:01, 10.75it/s]\u001B[A\u001B[A\n",
      "\n",
      "15it [00:01, 11.89it/s]\u001B[A\u001B[A\n",
      "\n",
      "\n",
      "2it [00:00, 41.64it/s][A\n",
      "\n",
      " 13%|█▎        | 2/15 [00:55<08:19, 38.46s/it]\u001B[A\n",
      "\n",
      "0it [00:00, ?it/s]\u001B[A\u001B[A"
     ]
    },
    {
     "name": "stdout",
     "output_type": "stream",
     "text": [
      "TOTAL TRAIN LOSS 42.08894077936808\n",
      "TOTAL EVAL LOSS 38.99579167366028\n",
      "TRAIN \t1.2626397609710693 secs\n",
      "TRAIN accuracy : 0.0025380710659898475\n",
      "EVAL \t0.049105167388916016 secs\n",
      "EVAL accuracy : 0.0\n",
      "\n",
      "\n",
      "** ** * Saving fine - tuned model ** ** * \n",
      "Epoch n2\n"
     ]
    },
    {
     "name": "stderr",
     "output_type": "stream",
     "text": [
      "\n",
      "\n",
      "2it [00:00, 14.31it/s]\u001B[A\u001B[A\n",
      "\n",
      "4it [00:00, 14.39it/s]\u001B[A\u001B[A\n",
      "\n",
      "6it [00:00, 13.73it/s]\u001B[A\u001B[A\n",
      "\n",
      "8it [00:00, 13.49it/s]\u001B[A\u001B[A\n",
      "\n",
      "10it [00:00,  9.97it/s]\u001B[A\u001B[A\n",
      "\n",
      "12it [00:01, 10.71it/s]\u001B[A\u001B[A\n",
      "\n",
      "15it [00:01, 11.84it/s]\u001B[A\u001B[A\n",
      "\n",
      "\n",
      "2it [00:00, 42.36it/s][A\n",
      "\n",
      " 20%|██        | 3/15 [00:57<05:27, 27.32s/it]\u001B[A\n",
      "\n",
      "0it [00:00, ?it/s]\u001B[A\u001B[A"
     ]
    },
    {
     "name": "stdout",
     "output_type": "stream",
     "text": [
      "TOTAL TRAIN LOSS 38.31567653020223\n",
      "TOTAL EVAL LOSS 36.16797208786011\n",
      "TRAIN \t1.2682240009307861 secs\n",
      "TRAIN accuracy : 0.04568527918781726\n",
      "EVAL \t0.04828691482543945 secs\n",
      "EVAL accuracy : 0.07846715328467153\n",
      "\n",
      "\n",
      "** ** * Saving fine - tuned model ** ** * \n",
      "Epoch n3\n"
     ]
    },
    {
     "name": "stderr",
     "output_type": "stream",
     "text": [
      "\n",
      "\n",
      "2it [00:00, 13.74it/s]\u001B[A\u001B[A\n",
      "\n",
      "4it [00:00, 13.93it/s]\u001B[A\u001B[A\n",
      "\n",
      "6it [00:00, 13.35it/s]\u001B[A\u001B[A\n",
      "\n",
      "8it [00:00, 13.37it/s]\u001B[A\u001B[A\n",
      "\n",
      "10it [00:00,  9.92it/s]\u001B[A\u001B[A\n",
      "\n",
      "12it [00:01, 10.49it/s]\u001B[A\u001B[A\n",
      "\n",
      "15it [00:01, 11.67it/s]\u001B[A\u001B[A\n",
      "\n",
      "\n",
      "2it [00:00, 41.35it/s][A\n",
      "\n",
      " 27%|██▋       | 4/15 [00:58<03:34, 19.53s/it]\u001B[A\n",
      "\n",
      "0it [00:00, ?it/s]\u001B[A\u001B[A"
     ]
    },
    {
     "name": "stdout",
     "output_type": "stream",
     "text": [
      "TOTAL TRAIN LOSS 33.809810956319176\n",
      "TOTAL EVAL LOSS 31.87320828437805\n",
      "TRAIN \t1.2861509323120117 secs\n",
      "TRAIN accuracy : 0.1065989847715736\n",
      "EVAL \t0.04954075813293457 secs\n",
      "EVAL accuracy : 0.10218978102189781\n",
      "\n",
      "\n",
      "** ** * Saving fine - tuned model ** ** * \n",
      "Epoch n4\n"
     ]
    },
    {
     "name": "stderr",
     "output_type": "stream",
     "text": [
      "\n",
      "\n",
      "2it [00:00, 14.05it/s]\u001B[A\u001B[A\n",
      "\n",
      "4it [00:00, 13.81it/s]\u001B[A\u001B[A\n",
      "\n",
      "6it [00:00, 13.22it/s]\u001B[A\u001B[A\n",
      "\n",
      "8it [00:00, 13.36it/s]\u001B[A\u001B[A\n",
      "\n",
      "10it [00:00, 10.04it/s]\u001B[A\u001B[A\n",
      "\n",
      "12it [00:01, 10.64it/s]\u001B[A\u001B[A\n",
      "\n",
      "15it [00:01, 11.63it/s]\u001B[A\u001B[A\n",
      "\n",
      "\n",
      "2it [00:00, 40.30it/s][A\n",
      "\n",
      " 33%|███▎      | 5/15 [00:59<02:20, 14.08s/it]\u001B[A\n",
      "\n",
      "0it [00:00, ?it/s]\u001B[A\u001B[A"
     ]
    },
    {
     "name": "stdout",
     "output_type": "stream",
     "text": [
      "TOTAL TRAIN LOSS 29.34308910369873\n",
      "TOTAL EVAL LOSS 26.523622274398804\n",
      "TRAIN \t1.291384220123291 secs\n",
      "TRAIN accuracy : 0.12436548223350254\n",
      "EVAL \t0.05072474479675293 secs\n",
      "EVAL accuracy : 0.10583941605839416\n",
      "\n",
      "\n",
      "** ** * Saving fine - tuned model ** ** * \n",
      "Epoch n5\n"
     ]
    },
    {
     "name": "stderr",
     "output_type": "stream",
     "text": [
      "\n",
      "\n",
      "2it [00:00, 13.10it/s]\u001B[A\u001B[A\n",
      "\n",
      "4it [00:00, 13.27it/s]\u001B[A\u001B[A\n",
      "\n",
      "6it [00:00, 12.76it/s]\u001B[A\u001B[A\n",
      "\n",
      "8it [00:00, 13.01it/s]\u001B[A\u001B[A\n",
      "\n",
      "9it [00:00,  8.01it/s]\u001B[A\u001B[A\n",
      "\n",
      "11it [00:01,  8.84it/s]\u001B[A\u001B[A\n",
      "\n",
      "13it [00:01,  9.72it/s]\u001B[A\u001B[A\n",
      "\n",
      "15it [00:01, 11.38it/s]\u001B[A\u001B[A\n",
      "\n",
      "\n",
      "2it [00:00, 40.78it/s][A\n",
      "\n",
      " 40%|████      | 6/15 [01:01<01:32, 10.27s/it]\u001B[A\n",
      "\n",
      "0it [00:00, ?it/s]\u001B[A\u001B[A"
     ]
    },
    {
     "name": "stdout",
     "output_type": "stream",
     "text": [
      "TOTAL TRAIN LOSS 24.484535773595173\n",
      "TOTAL EVAL LOSS 21.080610752105713\n",
      "TRAIN \t1.3192150592803955 secs\n",
      "TRAIN accuracy : 0.1218274111675127\n",
      "EVAL \t0.05020880699157715 secs\n",
      "EVAL accuracy : 0.10401459854014598\n",
      "\n",
      "\n",
      "** ** * Saving fine - tuned model ** ** * \n",
      "Epoch n6\n"
     ]
    },
    {
     "name": "stderr",
     "output_type": "stream",
     "text": [
      "\n",
      "\n",
      "2it [00:00, 12.73it/s]\u001B[A\u001B[A\n",
      "\n",
      "4it [00:00, 13.16it/s]\u001B[A\u001B[A\n",
      "\n",
      "6it [00:00, 12.88it/s]\u001B[A\u001B[A\n",
      "\n",
      "8it [00:00, 12.94it/s]\u001B[A\u001B[A\n",
      "\n",
      "9it [00:00,  7.99it/s]\u001B[A\u001B[A\n",
      "\n",
      "11it [00:01,  8.92it/s]\u001B[A\u001B[A\n",
      "\n",
      "13it [00:01,  9.81it/s]\u001B[A\u001B[A\n",
      "\n",
      "15it [00:01, 11.50it/s]\u001B[A\u001B[A\n",
      "\n",
      "\n",
      "2it [00:00, 38.46it/s][A\n",
      "\n",
      " 47%|████▋     | 7/15 [01:02<01:00,  7.60s/it]\u001B[A\n",
      "\n",
      "0it [00:00, ?it/s]\u001B[A\u001B[A"
     ]
    },
    {
     "name": "stdout",
     "output_type": "stream",
     "text": [
      "TOTAL TRAIN LOSS 18.532419204711914\n",
      "TOTAL EVAL LOSS 16.128525733947754\n",
      "TRAIN \t1.3049101829528809 secs\n",
      "TRAIN accuracy : 0.09644670050761421\n",
      "EVAL \t0.05304694175720215 secs\n",
      "EVAL accuracy : 0.11313868613138686\n",
      "\n",
      "\n",
      "** ** * Saving fine - tuned model ** ** * \n",
      "Epoch n7\n"
     ]
    },
    {
     "name": "stderr",
     "output_type": "stream",
     "text": [
      "\n",
      "\n",
      "2it [00:00, 13.41it/s]\u001B[A\u001B[A\n",
      "\n",
      "4it [00:00, 13.36it/s]\u001B[A\u001B[A\n",
      "\n",
      "6it [00:00, 12.87it/s]\u001B[A\u001B[A\n",
      "\n",
      "8it [00:00, 12.81it/s]\u001B[A\u001B[A\n",
      "\n",
      "9it [00:00,  7.81it/s]\u001B[A\u001B[A\n",
      "\n",
      "11it [00:01,  8.69it/s]\u001B[A\u001B[A\n",
      "\n",
      "13it [00:01,  9.62it/s]\u001B[A\u001B[A\n",
      "\n",
      "15it [00:01, 11.12it/s]\u001B[A\u001B[A\n",
      "\n",
      "\n",
      "2it [00:00, 34.34it/s][A\n",
      "\n",
      " 53%|█████▎    | 8/15 [01:03<00:40,  5.75s/it]\u001B[A\n",
      "\n",
      "0it [00:00, ?it/s]\u001B[A\u001B[A"
     ]
    },
    {
     "name": "stdout",
     "output_type": "stream",
     "text": [
      "TOTAL TRAIN LOSS 14.354999780654907\n",
      "TOTAL EVAL LOSS 13.331412672996521\n",
      "TRAIN \t1.3497388362884521 secs\n",
      "TRAIN accuracy : 0.1116751269035533\n",
      "EVAL \t0.05942821502685547 secs\n",
      "EVAL accuracy : 0.10401459854014598\n",
      "\n",
      "\n",
      "** ** * Saving fine - tuned model ** ** * \n",
      "Epoch n8\n"
     ]
    },
    {
     "name": "stderr",
     "output_type": "stream",
     "text": [
      "\n",
      "\n",
      "2it [00:00, 12.86it/s]\u001B[A\u001B[A\n",
      "\n",
      "4it [00:00, 13.07it/s]\u001B[A\u001B[A\n",
      "\n",
      "6it [00:00, 12.72it/s]\u001B[A\u001B[A\n",
      "\n",
      "8it [00:00, 12.95it/s]\u001B[A\u001B[A\n",
      "\n",
      "9it [00:00,  7.91it/s]\u001B[A\u001B[A\n",
      "\n",
      "11it [00:01,  8.85it/s]\u001B[A\u001B[A\n",
      "\n",
      "13it [00:01,  9.74it/s]\u001B[A\u001B[A\n",
      "\n",
      "15it [00:01, 11.44it/s]\u001B[A\u001B[A\n",
      "\n",
      "\n",
      "2it [00:00, 40.90it/s][A\n",
      "\n",
      " 60%|██████    | 9/15 [01:05<00:26,  4.44s/it]\u001B[A\n",
      "\n",
      "0it [00:00, ?it/s]\u001B[A\u001B[A"
     ]
    },
    {
     "name": "stdout",
     "output_type": "stream",
     "text": [
      "TOTAL TRAIN LOSS 11.489587704340616\n",
      "TOTAL EVAL LOSS 9.500527679920197\n",
      "TRAIN \t1.312593936920166 secs\n",
      "TRAIN accuracy : 0.1319796954314721\n",
      "EVAL \t0.04997897148132324 secs\n",
      "EVAL accuracy : 0.14963503649635038\n",
      "\n",
      "\n",
      "** ** * Saving fine - tuned model ** ** * \n",
      "Epoch n9\n"
     ]
    },
    {
     "name": "stderr",
     "output_type": "stream",
     "text": [
      "\n",
      "\n",
      "2it [00:00, 13.71it/s]\u001B[A\u001B[A\n",
      "\n",
      "4it [00:00, 13.91it/s]\u001B[A\u001B[A\n",
      "\n",
      "6it [00:00, 13.42it/s]\u001B[A\u001B[A\n",
      "\n",
      "8it [00:00, 13.67it/s]\u001B[A\u001B[A\n",
      "\n",
      "10it [00:00, 10.07it/s]\u001B[A\u001B[A\n",
      "\n",
      "12it [00:01, 10.74it/s]\u001B[A\u001B[A\n",
      "\n",
      "15it [00:01, 11.90it/s]\u001B[A\u001B[A\n",
      "\n",
      "\n",
      "2it [00:00, 40.78it/s][A\n",
      "\n",
      " 67%|██████▋   | 10/15 [01:06<00:17,  3.50s/it]\u001B[A\n",
      "\n",
      "0it [00:00, ?it/s]\u001B[A\u001B[A"
     ]
    },
    {
     "name": "stdout",
     "output_type": "stream",
     "text": [
      "TOTAL TRAIN LOSS 9.785056789716085\n",
      "TOTAL EVAL LOSS 9.681882858276367\n",
      "TRAIN \t1.2620820999145508 secs\n",
      "TRAIN accuracy : 0.14974619289340102\n",
      "EVAL \t0.05013084411621094 secs\n",
      "EVAL accuracy : 0.14963503649635038\n",
      "\n",
      "\n",
      "Epoch n10\n"
     ]
    },
    {
     "name": "stderr",
     "output_type": "stream",
     "text": [
      "\n",
      "\n",
      "2it [00:00, 13.80it/s]\u001B[A\u001B[A\n",
      "\n",
      "4it [00:00, 13.98it/s]\u001B[A\u001B[A\n",
      "\n",
      "6it [00:00, 13.54it/s]\u001B[A\u001B[A\n",
      "\n",
      "8it [00:00, 13.79it/s]\u001B[A\u001B[A\n",
      "\n",
      "10it [00:00,  9.96it/s]\u001B[A\u001B[A\n",
      "\n",
      "12it [00:01, 10.65it/s]\u001B[A\u001B[A\n",
      "\n",
      "15it [00:01, 11.83it/s]\u001B[A\u001B[A\n",
      "\n",
      "\n",
      "2it [00:00, 39.38it/s][A\n",
      "\n",
      " 73%|███████▎  | 11/15 [01:07<00:11,  2.85s/it]\u001B[A\n",
      "\n",
      "0it [00:00, ?it/s]\u001B[A\u001B[A"
     ]
    },
    {
     "name": "stdout",
     "output_type": "stream",
     "text": [
      "TOTAL TRAIN LOSS 8.597739319006601\n",
      "TOTAL EVAL LOSS 8.569563031196594\n",
      "TRAIN \t1.269345998764038 secs\n",
      "TRAIN accuracy : 0.14974619289340102\n",
      "EVAL \t0.05184793472290039 secs\n",
      "EVAL accuracy : 0.14963503649635038\n",
      "\n",
      "\n",
      "** ** * Saving fine - tuned model ** ** * \n",
      "Epoch n11\n"
     ]
    },
    {
     "name": "stderr",
     "output_type": "stream",
     "text": [
      "\n",
      "\n",
      "2it [00:00, 14.09it/s]\u001B[A\u001B[A\n",
      "\n",
      "4it [00:00, 14.18it/s]\u001B[A\u001B[A\n",
      "\n",
      "6it [00:00, 13.57it/s]\u001B[A\u001B[A\n",
      "\n",
      "8it [00:00, 13.38it/s]\u001B[A\u001B[A\n",
      "\n",
      "10it [00:00,  9.89it/s]\u001B[A\u001B[A\n",
      "\n",
      "12it [00:01, 10.67it/s]\u001B[A\u001B[A\n",
      "\n",
      "15it [00:01, 11.74it/s]\u001B[A\u001B[A\n",
      "\n",
      "\n",
      "2it [00:00, 41.33it/s][A\n",
      "\n",
      " 80%|████████  | 12/15 [01:09<00:07,  2.40s/it]\u001B[A\n",
      "\n",
      "0it [00:00, ?it/s]\u001B[A\u001B[A"
     ]
    },
    {
     "name": "stdout",
     "output_type": "stream",
     "text": [
      "TOTAL TRAIN LOSS 7.4720691839853925\n",
      "TOTAL EVAL LOSS 5.415187478065491\n",
      "TRAIN \t1.2783539295196533 secs\n",
      "TRAIN accuracy : 0.14974619289340102\n",
      "EVAL \t0.0494999885559082 secs\n",
      "EVAL accuracy : 0.14963503649635038\n",
      "\n",
      "\n",
      "** ** * Saving fine - tuned model ** ** * \n",
      "Epoch n12\n"
     ]
    },
    {
     "name": "stderr",
     "output_type": "stream",
     "text": [
      "\n",
      "\n",
      "2it [00:00, 14.07it/s]\u001B[A\u001B[A\n",
      "\n",
      "4it [00:00, 14.30it/s]\u001B[A\u001B[A\n",
      "\n",
      "6it [00:00, 13.74it/s]\u001B[A\u001B[A\n",
      "\n",
      "8it [00:00, 13.79it/s]\u001B[A\u001B[A\n",
      "\n",
      "10it [00:00, 10.01it/s]\u001B[A\u001B[A\n",
      "\n",
      "12it [00:01, 10.70it/s]\u001B[A\u001B[A\n",
      "\n",
      "15it [00:01, 11.90it/s]\u001B[A\u001B[A\n",
      "\n",
      "\n",
      "2it [00:00, 41.60it/s][A\n",
      "\n",
      " 87%|████████▋ | 13/15 [01:10<00:04,  2.08s/it]\u001B[A\n",
      "\n",
      "0it [00:00, ?it/s]\u001B[A\u001B[A"
     ]
    },
    {
     "name": "stdout",
     "output_type": "stream",
     "text": [
      "TOTAL TRAIN LOSS 6.153044561545054\n",
      "TOTAL EVAL LOSS 5.51902174949646\n",
      "TRAIN \t1.2613489627838135 secs\n",
      "TRAIN accuracy : 0.14974619289340102\n",
      "EVAL \t0.049250125885009766 secs\n",
      "EVAL accuracy : 0.14963503649635038\n",
      "\n",
      "\n",
      "Epoch n13\n"
     ]
    },
    {
     "name": "stderr",
     "output_type": "stream",
     "text": [
      "\n",
      "\n",
      "2it [00:00, 13.99it/s]\u001B[A\u001B[A\n",
      "\n",
      "4it [00:00, 14.09it/s]\u001B[A\u001B[A\n",
      "\n",
      "6it [00:00, 13.10it/s]\u001B[A\u001B[A\n",
      "\n",
      "8it [00:00, 13.45it/s]\u001B[A\u001B[A\n",
      "\n",
      "10it [00:00,  9.85it/s]\u001B[A\u001B[A\n",
      "\n",
      "12it [00:01, 10.38it/s]\u001B[A\u001B[A\n",
      "\n",
      "15it [00:01, 11.43it/s]\u001B[A\u001B[A\n",
      "\n",
      "\n",
      "2it [00:00, 42.52it/s][A\n",
      "\n",
      " 93%|█████████▎| 14/15 [01:12<00:01,  1.87s/it]\u001B[A\n",
      "\n",
      "0it [00:00, ?it/s]\u001B[A\u001B[A"
     ]
    },
    {
     "name": "stdout",
     "output_type": "stream",
     "text": [
      "TOTAL TRAIN LOSS 4.9165984988212585\n",
      "TOTAL EVAL LOSS 2.907649278640747\n",
      "TRAIN \t1.3139839172363281 secs\n",
      "TRAIN accuracy : 0.14974619289340102\n",
      "EVAL \t0.048120975494384766 secs\n",
      "EVAL accuracy : 0.14963503649635038\n",
      "\n",
      "\n",
      "** ** * Saving fine - tuned model ** ** * \n",
      "Epoch n14\n"
     ]
    },
    {
     "name": "stderr",
     "output_type": "stream",
     "text": [
      "\n",
      "\n",
      "2it [00:00, 14.01it/s]\u001B[A\u001B[A\n",
      "\n",
      "4it [00:00, 14.05it/s]\u001B[A\u001B[A\n",
      "\n",
      "6it [00:00, 13.48it/s]\u001B[A\u001B[A\n",
      "\n",
      "8it [00:00, 13.54it/s]\u001B[A\u001B[A\n",
      "\n",
      "10it [00:00,  9.97it/s]\u001B[A\u001B[A\n",
      "\n",
      "12it [00:01, 10.74it/s]\u001B[A\u001B[A\n",
      "\n",
      "15it [00:01, 11.84it/s]\u001B[A\u001B[A\n",
      "\n",
      "\n",
      "2it [00:00, 42.35it/s][A\n",
      "\n",
      "100%|██████████| 15/15 [01:13<00:00,  4.89s/it]\u001B[A\n"
     ]
    },
    {
     "name": "stdout",
     "output_type": "stream",
     "text": [
      "TOTAL TRAIN LOSS 2.5542798191308975\n",
      "TOTAL EVAL LOSS 0.6677091866731644\n",
      "TRAIN \t1.2681808471679688 secs\n",
      "TRAIN accuracy : 0.14974619289340102\n",
      "EVAL \t0.04832792282104492 secs\n",
      "EVAL accuracy : 0.14963503649635038\n",
      "\n",
      "\n",
      "** ** * Saving fine - tuned model ** ** * \n"
     ]
    },
    {
     "data": {
      "text/plain": "<Figure size 640x480 with 1 Axes>",
      "image/png": "[encoded data removed]"
     },
     "metadata": {},
     "output_type": "display_data"
    },
    {
     "name": "stderr",
     "output_type": "stream",
     "text": [
      " 40%|████      | 2/5 [02:22<03:31, 70.48s/it]\n",
      "  0%|          | 0/15 [00:00<?, ?it/s]\u001B[A\n",
      "\n",
      "0it [00:00, ?it/s]\u001B[A\u001B[A"
     ]
    },
    {
     "name": "stdout",
     "output_type": "stream",
     "text": [
      "\n",
      " Experiment 3\n",
      "Epoch n0\n"
     ]
    },
    {
     "name": "stderr",
     "output_type": "stream",
     "text": [
      "\n",
      "\n",
      "1it [00:03,  3.56s/it]\u001B[A\u001B[A\n",
      "\n",
      "2it [00:07,  3.57s/it]\u001B[A\u001B[A\n",
      "\n",
      "3it [00:08,  2.89s/it]\u001B[A\u001B[A\n",
      "\n",
      "4it [00:12,  3.13s/it]\u001B[A\u001B[A\n",
      "\n",
      "5it [00:15,  3.29s/it]\u001B[A\u001B[A\n",
      "\n",
      "6it [00:19,  3.39s/it]\u001B[A\u001B[A\n",
      "\n",
      "7it [00:22,  3.41s/it]\u001B[A\u001B[A\n",
      "\n",
      "8it [00:26,  3.51s/it]\u001B[A\u001B[A\n",
      "\n",
      "9it [00:30,  3.60s/it]\u001B[A\u001B[A\n",
      "\n",
      "10it [00:34,  3.68s/it]\u001B[A\u001B[A\n",
      "\n",
      "11it [00:38,  3.72s/it]\u001B[A\u001B[A\n",
      "\n",
      "12it [00:41,  3.76s/it]\u001B[A\u001B[A\n",
      "\n",
      "13it [00:47,  3.68s/it]\u001B[A\u001B[A\n",
      "  0%|          | 0/15 [00:47<?, ?it/s]\n",
      " 40%|████      | 2/5 [03:10<04:45, 95.30s/it]\n"
     ]
    },
    {
     "ename": "KeyboardInterrupt",
     "evalue": "",
     "output_type": "error",
     "traceback": [
      "\u001B[0;31m---------------------------------------------------------------------------\u001B[0m",
      "\u001B[0;31mKeyboardInterrupt\u001B[0m                         Traceback (most recent call last)",
      "Cell \u001B[0;32mIn[22], line 1\u001B[0m\n\u001B[0;32m----> 1\u001B[0m df \u001B[38;5;241m=\u001B[39m \u001B[43mexperiment\u001B[49m\u001B[43m(\u001B[49m\u001B[43mnum_experiments\u001B[49m\u001B[38;5;241;43m=\u001B[39;49m\u001B[38;5;241;43m5\u001B[39;49m\u001B[43m)\u001B[49m\n",
      "Cell \u001B[0;32mIn[21], line 19\u001B[0m, in \u001B[0;36mexperiment\u001B[0;34m(num_experiments)\u001B[0m\n\u001B[1;32m     16\u001B[0m trainload \u001B[38;5;241m=\u001B[39m GraphLoader(GDSet(trainDSet), batch_size\u001B[38;5;241m=\u001B[39mtrain_params[\u001B[38;5;124m'\u001B[39m\u001B[38;5;124mbatch_size\u001B[39m\u001B[38;5;124m'\u001B[39m], shuffle\u001B[38;5;241m=\u001B[39m\u001B[38;5;28;01mFalse\u001B[39;00m)\n\u001B[1;32m     17\u001B[0m valload \u001B[38;5;241m=\u001B[39m GraphLoader(GDSet(valDSet), batch_size\u001B[38;5;241m=\u001B[39mtrain_params[\u001B[38;5;124m'\u001B[39m\u001B[38;5;124mbatch_size\u001B[39m\u001B[38;5;124m'\u001B[39m], shuffle\u001B[38;5;241m=\u001B[39m\u001B[38;5;28;01mFalse\u001B[39;00m)\n\u001B[0;32m---> 19\u001B[0m train_loss, val_loss, accuracy_train, accuracy_eval, train_time_cost, val_time_cost \u001B[38;5;241m=\u001B[39m \u001B[43mrun_epoch\u001B[49m\u001B[43m(\u001B[49m\n\u001B[1;32m     20\u001B[0m \u001B[43m    \u001B[49m\u001B[43mmodel\u001B[49m\u001B[43m,\u001B[49m\u001B[43m \u001B[49m\u001B[43moptim_model\u001B[49m\u001B[43m,\u001B[49m\u001B[43m \u001B[49m\u001B[43mtrainload\u001B[49m\u001B[43m,\u001B[49m\u001B[43m \u001B[49m\u001B[43mvalload\u001B[49m\u001B[43m,\u001B[49m\u001B[43m \u001B[49m\u001B[43mtrain_params\u001B[49m\u001B[43m[\u001B[49m\u001B[38;5;124;43m'\u001B[39;49m\u001B[38;5;124;43mdevice\u001B[39;49m\u001B[38;5;124;43m'\u001B[39;49m\u001B[43m]\u001B[49m\u001B[43m,\u001B[49m\u001B[43m \u001B[49m\u001B[43mexp\u001B[49m\u001B[43m,\u001B[49m\u001B[43m \u001B[49m\u001B[43mwriter\u001B[49m\n\u001B[1;32m     21\u001B[0m \u001B[43m\u001B[49m\u001B[43m)\u001B[49m\n\u001B[1;32m     23\u001B[0m df\u001B[38;5;241m.\u001B[39mloc[\u001B[38;5;28mlen\u001B[39m(df)] \u001B[38;5;241m=\u001B[39m [exp \u001B[38;5;241m+\u001B[39m \u001B[38;5;241m1\u001B[39m, \u001B[38;5;124m'\u001B[39m\u001B[38;5;124mGT_BERT\u001B[39m\u001B[38;5;124m'\u001B[39m, \u001B[38;5;124m'\u001B[39m\u001B[38;5;124mVal Accuracy\u001B[39m\u001B[38;5;124m'\u001B[39m, accuracy_eval]\n\u001B[1;32m     24\u001B[0m df\u001B[38;5;241m.\u001B[39mloc[\u001B[38;5;28mlen\u001B[39m(df)] \u001B[38;5;241m=\u001B[39m [exp \u001B[38;5;241m+\u001B[39m \u001B[38;5;241m1\u001B[39m, \u001B[38;5;124m'\u001B[39m\u001B[38;5;124mGT_BERT\u001B[39m\u001B[38;5;124m'\u001B[39m, \u001B[38;5;124m'\u001B[39m\u001B[38;5;124mTrain Loss\u001B[39m\u001B[38;5;124m'\u001B[39m, train_loss]\n",
      "Cell \u001B[0;32mIn[20], line 8\u001B[0m, in \u001B[0;36mrun_epoch\u001B[0;34m(model, optim_model, trainload, valload, device, exp, writer)\u001B[0m\n\u001B[1;32m      6\u001B[0m \u001B[38;5;28;01mfor\u001B[39;00m e \u001B[38;5;129;01min\u001B[39;00m tqdm(\u001B[38;5;28mrange\u001B[39m(train_params[\u001B[38;5;124m\"\u001B[39m\u001B[38;5;124mepochs\u001B[39m\u001B[38;5;124m\"\u001B[39m])):\n\u001B[1;32m      7\u001B[0m     \u001B[38;5;28mprint\u001B[39m(\u001B[38;5;124m\"\u001B[39m\u001B[38;5;124mEpoch n\u001B[39m\u001B[38;5;124m\"\u001B[39m \u001B[38;5;241m+\u001B[39m \u001B[38;5;28mstr\u001B[39m(e))\n\u001B[0;32m----> 8\u001B[0m     train_loss, train_time_cost, pred_train, ytrue_train \u001B[38;5;241m=\u001B[39m \u001B[43mtrain\u001B[49m\u001B[43m(\u001B[49m\u001B[43mmodel\u001B[49m\u001B[43m,\u001B[49m\u001B[43m \u001B[49m\u001B[43moptim_model\u001B[49m\u001B[43m,\u001B[49m\u001B[43m \u001B[49m\u001B[43mtrainload\u001B[49m\u001B[43m,\u001B[49m\u001B[43m \u001B[49m\u001B[43mdevice\u001B[49m\u001B[43m,\u001B[49m\u001B[43m \u001B[49m\u001B[43mwriter\u001B[49m\u001B[43m,\u001B[49m\u001B[43m \u001B[49m\u001B[43me\u001B[49m\u001B[43m)\u001B[49m\n\u001B[1;32m      9\u001B[0m     val_loss, val_time_cost, pred_eval, ytrue_eval \u001B[38;5;241m=\u001B[39m \u001B[38;5;28meval\u001B[39m(model, valload, device, writer, e)\n\u001B[1;32m     10\u001B[0m     accuracy_train \u001B[38;5;241m=\u001B[39m skm\u001B[38;5;241m.\u001B[39maccuracy_score(ytrue_train\u001B[38;5;241m.\u001B[39mcpu()\u001B[38;5;241m.\u001B[39mdetach()\u001B[38;5;241m.\u001B[39mnumpy(), pred_train\u001B[38;5;241m.\u001B[39mcpu()\u001B[38;5;241m.\u001B[39mdetach()\u001B[38;5;241m.\u001B[39mnumpy()\u001B[38;5;241m.\u001B[39margmax(axis\u001B[38;5;241m=\u001B[39m\u001B[38;5;241m1\u001B[39m))\n",
      "Cell \u001B[0;32mIn[18], line 31\u001B[0m, in \u001B[0;36mtrain\u001B[0;34m(model, optim, trainload, device, writer, epoch)\u001B[0m\n\u001B[1;32m     28\u001B[0m edge_attr \u001B[38;5;241m=\u001B[39m graph_batch\u001B[38;5;241m.\u001B[39medge_attr\n\u001B[1;32m     29\u001B[0m batch \u001B[38;5;241m=\u001B[39m graph_batch\u001B[38;5;241m.\u001B[39mbatch\n\u001B[0;32m---> 31\u001B[0m pred \u001B[38;5;241m=\u001B[39m \u001B[43mmodel\u001B[49m\u001B[43m(\u001B[49m\u001B[43mnodes\u001B[49m\u001B[43m,\u001B[49m\u001B[43m \u001B[49m\u001B[43medge_index\u001B[49m\u001B[43m,\u001B[49m\u001B[43m \u001B[49m\u001B[43medge_index_readout\u001B[49m\u001B[43m,\u001B[49m\u001B[43m \u001B[49m\u001B[43medge_attr\u001B[49m\u001B[43m,\u001B[49m\u001B[43m \u001B[49m\u001B[43mbatch\u001B[49m\u001B[43m)\u001B[49m\n\u001B[1;32m     33\u001B[0m loss \u001B[38;5;241m=\u001B[39m CE_loss(pred, labels_nodes)\n\u001B[1;32m     34\u001B[0m \u001B[38;5;66;03m# Update TensorBoard for train loss per iteration\u001B[39;00m\n",
      "File \u001B[0;32m~/.pyenv/versions/3.11.5/envs/projet_AMAL/lib/python3.11/site-packages/torch/nn/modules/module.py:1518\u001B[0m, in \u001B[0;36mModule._wrapped_call_impl\u001B[0;34m(self, *args, **kwargs)\u001B[0m\n\u001B[1;32m   1516\u001B[0m     \u001B[38;5;28;01mreturn\u001B[39;00m \u001B[38;5;28mself\u001B[39m\u001B[38;5;241m.\u001B[39m_compiled_call_impl(\u001B[38;5;241m*\u001B[39margs, \u001B[38;5;241m*\u001B[39m\u001B[38;5;241m*\u001B[39mkwargs)  \u001B[38;5;66;03m# type: ignore[misc]\u001B[39;00m\n\u001B[1;32m   1517\u001B[0m \u001B[38;5;28;01melse\u001B[39;00m:\n\u001B[0;32m-> 1518\u001B[0m     \u001B[38;5;28;01mreturn\u001B[39;00m \u001B[38;5;28;43mself\u001B[39;49m\u001B[38;5;241;43m.\u001B[39;49m\u001B[43m_call_impl\u001B[49m\u001B[43m(\u001B[49m\u001B[38;5;241;43m*\u001B[39;49m\u001B[43margs\u001B[49m\u001B[43m,\u001B[49m\u001B[43m \u001B[49m\u001B[38;5;241;43m*\u001B[39;49m\u001B[38;5;241;43m*\u001B[39;49m\u001B[43mkwargs\u001B[49m\u001B[43m)\u001B[49m\n",
      "File \u001B[0;32m~/.pyenv/versions/3.11.5/envs/projet_AMAL/lib/python3.11/site-packages/torch/nn/modules/module.py:1527\u001B[0m, in \u001B[0;36mModule._call_impl\u001B[0;34m(self, *args, **kwargs)\u001B[0m\n\u001B[1;32m   1522\u001B[0m \u001B[38;5;66;03m# If we don't have any hooks, we want to skip the rest of the logic in\u001B[39;00m\n\u001B[1;32m   1523\u001B[0m \u001B[38;5;66;03m# this function, and just call forward.\u001B[39;00m\n\u001B[1;32m   1524\u001B[0m \u001B[38;5;28;01mif\u001B[39;00m \u001B[38;5;129;01mnot\u001B[39;00m (\u001B[38;5;28mself\u001B[39m\u001B[38;5;241m.\u001B[39m_backward_hooks \u001B[38;5;129;01mor\u001B[39;00m \u001B[38;5;28mself\u001B[39m\u001B[38;5;241m.\u001B[39m_backward_pre_hooks \u001B[38;5;129;01mor\u001B[39;00m \u001B[38;5;28mself\u001B[39m\u001B[38;5;241m.\u001B[39m_forward_hooks \u001B[38;5;129;01mor\u001B[39;00m \u001B[38;5;28mself\u001B[39m\u001B[38;5;241m.\u001B[39m_forward_pre_hooks\n\u001B[1;32m   1525\u001B[0m         \u001B[38;5;129;01mor\u001B[39;00m _global_backward_pre_hooks \u001B[38;5;129;01mor\u001B[39;00m _global_backward_hooks\n\u001B[1;32m   1526\u001B[0m         \u001B[38;5;129;01mor\u001B[39;00m _global_forward_hooks \u001B[38;5;129;01mor\u001B[39;00m _global_forward_pre_hooks):\n\u001B[0;32m-> 1527\u001B[0m     \u001B[38;5;28;01mreturn\u001B[39;00m \u001B[43mforward_call\u001B[49m\u001B[43m(\u001B[49m\u001B[38;5;241;43m*\u001B[39;49m\u001B[43margs\u001B[49m\u001B[43m,\u001B[49m\u001B[43m \u001B[49m\u001B[38;5;241;43m*\u001B[39;49m\u001B[38;5;241;43m*\u001B[39;49m\u001B[43mkwargs\u001B[49m\u001B[43m)\u001B[49m\n\u001B[1;32m   1529\u001B[0m \u001B[38;5;28;01mtry\u001B[39;00m:\n\u001B[1;32m   1530\u001B[0m     result \u001B[38;5;241m=\u001B[39m \u001B[38;5;28;01mNone\u001B[39;00m\n",
      "Cell \u001B[0;32mIn[9], line 11\u001B[0m, in \u001B[0;36mPre_training_1.forward\u001B[0;34m(self, nodes, edge_index, edge_index_readout, edge_attr, batch)\u001B[0m\n\u001B[1;32m      9\u001B[0m \u001B[38;5;28;01mdef\u001B[39;00m \u001B[38;5;21mforward\u001B[39m(\u001B[38;5;28mself\u001B[39m, nodes, edge_index, edge_index_readout, edge_attr, batch):\n\u001B[1;32m     10\u001B[0m     \u001B[38;5;66;03m# Define the forward pass using self.gnn and self.linear as needed\u001B[39;00m\n\u001B[0;32m---> 11\u001B[0m     vst,x \u001B[38;5;241m=\u001B[39m \u001B[38;5;28;43mself\u001B[39;49m\u001B[38;5;241;43m.\u001B[39;49m\u001B[43mgnn\u001B[49m\u001B[43m(\u001B[49m\u001B[43mnodes\u001B[49m\u001B[43m,\u001B[49m\u001B[43m \u001B[49m\u001B[43medge_index\u001B[49m\u001B[43m,\u001B[49m\u001B[43m \u001B[49m\u001B[43medge_index_readout\u001B[49m\u001B[43m,\u001B[49m\u001B[43m \u001B[49m\u001B[43medge_attr\u001B[49m\u001B[43m,\u001B[49m\u001B[43m \u001B[49m\u001B[43mbatch\u001B[49m\u001B[43m)\u001B[49m\n\u001B[1;32m     12\u001B[0m     x \u001B[38;5;241m=\u001B[39m \u001B[38;5;28mself\u001B[39m\u001B[38;5;241m.\u001B[39mlinear(x)\n\u001B[1;32m     13\u001B[0m     \u001B[38;5;28;01mreturn\u001B[39;00m x\n",
      "File \u001B[0;32m~/.pyenv/versions/3.11.5/envs/projet_AMAL/lib/python3.11/site-packages/torch/nn/modules/module.py:1518\u001B[0m, in \u001B[0;36mModule._wrapped_call_impl\u001B[0;34m(self, *args, **kwargs)\u001B[0m\n\u001B[1;32m   1516\u001B[0m     \u001B[38;5;28;01mreturn\u001B[39;00m \u001B[38;5;28mself\u001B[39m\u001B[38;5;241m.\u001B[39m_compiled_call_impl(\u001B[38;5;241m*\u001B[39margs, \u001B[38;5;241m*\u001B[39m\u001B[38;5;241m*\u001B[39mkwargs)  \u001B[38;5;66;03m# type: ignore[misc]\u001B[39;00m\n\u001B[1;32m   1517\u001B[0m \u001B[38;5;28;01melse\u001B[39;00m:\n\u001B[0;32m-> 1518\u001B[0m     \u001B[38;5;28;01mreturn\u001B[39;00m \u001B[38;5;28;43mself\u001B[39;49m\u001B[38;5;241;43m.\u001B[39;49m\u001B[43m_call_impl\u001B[49m\u001B[43m(\u001B[49m\u001B[38;5;241;43m*\u001B[39;49m\u001B[43margs\u001B[49m\u001B[43m,\u001B[49m\u001B[43m \u001B[49m\u001B[38;5;241;43m*\u001B[39;49m\u001B[38;5;241;43m*\u001B[39;49m\u001B[43mkwargs\u001B[49m\u001B[43m)\u001B[49m\n",
      "File \u001B[0;32m~/.pyenv/versions/3.11.5/envs/projet_AMAL/lib/python3.11/site-packages/torch/nn/modules/module.py:1527\u001B[0m, in \u001B[0;36mModule._call_impl\u001B[0;34m(self, *args, **kwargs)\u001B[0m\n\u001B[1;32m   1522\u001B[0m \u001B[38;5;66;03m# If we don't have any hooks, we want to skip the rest of the logic in\u001B[39;00m\n\u001B[1;32m   1523\u001B[0m \u001B[38;5;66;03m# this function, and just call forward.\u001B[39;00m\n\u001B[1;32m   1524\u001B[0m \u001B[38;5;28;01mif\u001B[39;00m \u001B[38;5;129;01mnot\u001B[39;00m (\u001B[38;5;28mself\u001B[39m\u001B[38;5;241m.\u001B[39m_backward_hooks \u001B[38;5;129;01mor\u001B[39;00m \u001B[38;5;28mself\u001B[39m\u001B[38;5;241m.\u001B[39m_backward_pre_hooks \u001B[38;5;129;01mor\u001B[39;00m \u001B[38;5;28mself\u001B[39m\u001B[38;5;241m.\u001B[39m_forward_hooks \u001B[38;5;129;01mor\u001B[39;00m \u001B[38;5;28mself\u001B[39m\u001B[38;5;241m.\u001B[39m_forward_pre_hooks\n\u001B[1;32m   1525\u001B[0m         \u001B[38;5;129;01mor\u001B[39;00m _global_backward_pre_hooks \u001B[38;5;129;01mor\u001B[39;00m _global_backward_hooks\n\u001B[1;32m   1526\u001B[0m         \u001B[38;5;129;01mor\u001B[39;00m _global_forward_hooks \u001B[38;5;129;01mor\u001B[39;00m _global_forward_pre_hooks):\n\u001B[0;32m-> 1527\u001B[0m     \u001B[38;5;28;01mreturn\u001B[39;00m \u001B[43mforward_call\u001B[49m\u001B[43m(\u001B[49m\u001B[38;5;241;43m*\u001B[39;49m\u001B[43margs\u001B[49m\u001B[43m,\u001B[49m\u001B[43m \u001B[49m\u001B[38;5;241;43m*\u001B[39;49m\u001B[38;5;241;43m*\u001B[39;49m\u001B[43mkwargs\u001B[49m\u001B[43m)\u001B[49m\n\u001B[1;32m   1529\u001B[0m \u001B[38;5;28;01mtry\u001B[39;00m:\n\u001B[1;32m   1530\u001B[0m     result \u001B[38;5;241m=\u001B[39m \u001B[38;5;28;01mNone\u001B[39;00m\n",
      "Cell \u001B[0;32mIn[7], line 20\u001B[0m, in \u001B[0;36mGraphTransformer.forward\u001B[0;34m(self, x, edge_index, edge_index_readout, edge_attr, batch)\u001B[0m\n\u001B[1;32m     17\u001B[0m \u001B[38;5;28;01mdef\u001B[39;00m \u001B[38;5;21mforward\u001B[39m(\u001B[38;5;28mself\u001B[39m, x, edge_index, edge_index_readout, edge_attr, batch):\n\u001B[1;32m     18\u001B[0m     \u001B[38;5;66;03m#print(\"GT\")\u001B[39;00m\n\u001B[1;32m     19\u001B[0m     indices \u001B[38;5;241m=\u001B[39m (x\u001B[38;5;241m==\u001B[39m\u001B[38;5;241m0\u001B[39m)\u001B[38;5;241m.\u001B[39mnonzero()\u001B[38;5;241m.\u001B[39msqueeze()\n\u001B[0;32m---> 20\u001B[0m     h_nodes \u001B[38;5;241m=\u001B[39m \u001B[38;5;28;43mself\u001B[39;49m\u001B[38;5;241;43m.\u001B[39;49m\u001B[43mtransformerconv1\u001B[49m\u001B[43m(\u001B[49m\u001B[43mx\u001B[49m\u001B[38;5;241;43m=\u001B[39;49m\u001B[38;5;28;43mself\u001B[39;49m\u001B[38;5;241;43m.\u001B[39;49m\u001B[43membed\u001B[49m\u001B[43m(\u001B[49m\u001B[43mx\u001B[49m\u001B[43m)\u001B[49m\u001B[43m,\u001B[49m\u001B[43m \u001B[49m\u001B[43medge_index\u001B[49m\u001B[38;5;241;43m=\u001B[39;49m\u001B[43medge_index\u001B[49m\u001B[43m,\u001B[49m\u001B[43m \u001B[49m\u001B[43medge_attr\u001B[49m\u001B[38;5;241;43m=\u001B[39;49m\u001B[38;5;28;43mself\u001B[39;49m\u001B[38;5;241;43m.\u001B[39;49m\u001B[43membed_ee\u001B[49m\u001B[43m(\u001B[49m\u001B[43medge_attr\u001B[49m\u001B[43m)\u001B[49m\u001B[43m,\u001B[49m\u001B[43m \u001B[49m\u001B[43mbatch\u001B[49m\u001B[38;5;241;43m=\u001B[39;49m\u001B[43mbatch\u001B[49m\u001B[43m)\u001B[49m\n\u001B[1;32m     21\u001B[0m     h_nodes \u001B[38;5;241m=\u001B[39m nn\u001B[38;5;241m.\u001B[39mGELU()(h_nodes)\n\u001B[1;32m     22\u001B[0m     h_nodes \u001B[38;5;241m=\u001B[39m \u001B[38;5;28mself\u001B[39m\u001B[38;5;241m.\u001B[39mtransformerconv2(x\u001B[38;5;241m=\u001B[39mh_nodes, edge_index\u001B[38;5;241m=\u001B[39medge_index, edge_attr\u001B[38;5;241m=\u001B[39m\u001B[38;5;28mself\u001B[39m\u001B[38;5;241m.\u001B[39membed_ee(edge_attr), batch\u001B[38;5;241m=\u001B[39mbatch)\n",
      "File \u001B[0;32m~/.pyenv/versions/3.11.5/envs/projet_AMAL/lib/python3.11/site-packages/torch/nn/modules/module.py:1518\u001B[0m, in \u001B[0;36mModule._wrapped_call_impl\u001B[0;34m(self, *args, **kwargs)\u001B[0m\n\u001B[1;32m   1516\u001B[0m     \u001B[38;5;28;01mreturn\u001B[39;00m \u001B[38;5;28mself\u001B[39m\u001B[38;5;241m.\u001B[39m_compiled_call_impl(\u001B[38;5;241m*\u001B[39margs, \u001B[38;5;241m*\u001B[39m\u001B[38;5;241m*\u001B[39mkwargs)  \u001B[38;5;66;03m# type: ignore[misc]\u001B[39;00m\n\u001B[1;32m   1517\u001B[0m \u001B[38;5;28;01melse\u001B[39;00m:\n\u001B[0;32m-> 1518\u001B[0m     \u001B[38;5;28;01mreturn\u001B[39;00m \u001B[38;5;28;43mself\u001B[39;49m\u001B[38;5;241;43m.\u001B[39;49m\u001B[43m_call_impl\u001B[49m\u001B[43m(\u001B[49m\u001B[38;5;241;43m*\u001B[39;49m\u001B[43margs\u001B[49m\u001B[43m,\u001B[49m\u001B[43m \u001B[49m\u001B[38;5;241;43m*\u001B[39;49m\u001B[38;5;241;43m*\u001B[39;49m\u001B[43mkwargs\u001B[49m\u001B[43m)\u001B[49m\n",
      "File \u001B[0;32m~/.pyenv/versions/3.11.5/envs/projet_AMAL/lib/python3.11/site-packages/torch/nn/modules/module.py:1527\u001B[0m, in \u001B[0;36mModule._call_impl\u001B[0;34m(self, *args, **kwargs)\u001B[0m\n\u001B[1;32m   1522\u001B[0m \u001B[38;5;66;03m# If we don't have any hooks, we want to skip the rest of the logic in\u001B[39;00m\n\u001B[1;32m   1523\u001B[0m \u001B[38;5;66;03m# this function, and just call forward.\u001B[39;00m\n\u001B[1;32m   1524\u001B[0m \u001B[38;5;28;01mif\u001B[39;00m \u001B[38;5;129;01mnot\u001B[39;00m (\u001B[38;5;28mself\u001B[39m\u001B[38;5;241m.\u001B[39m_backward_hooks \u001B[38;5;129;01mor\u001B[39;00m \u001B[38;5;28mself\u001B[39m\u001B[38;5;241m.\u001B[39m_backward_pre_hooks \u001B[38;5;129;01mor\u001B[39;00m \u001B[38;5;28mself\u001B[39m\u001B[38;5;241m.\u001B[39m_forward_hooks \u001B[38;5;129;01mor\u001B[39;00m \u001B[38;5;28mself\u001B[39m\u001B[38;5;241m.\u001B[39m_forward_pre_hooks\n\u001B[1;32m   1525\u001B[0m         \u001B[38;5;129;01mor\u001B[39;00m _global_backward_pre_hooks \u001B[38;5;129;01mor\u001B[39;00m _global_backward_hooks\n\u001B[1;32m   1526\u001B[0m         \u001B[38;5;129;01mor\u001B[39;00m _global_forward_hooks \u001B[38;5;129;01mor\u001B[39;00m _global_forward_pre_hooks):\n\u001B[0;32m-> 1527\u001B[0m     \u001B[38;5;28;01mreturn\u001B[39;00m \u001B[43mforward_call\u001B[49m\u001B[43m(\u001B[49m\u001B[38;5;241;43m*\u001B[39;49m\u001B[43margs\u001B[49m\u001B[43m,\u001B[49m\u001B[43m \u001B[49m\u001B[38;5;241;43m*\u001B[39;49m\u001B[38;5;241;43m*\u001B[39;49m\u001B[43mkwargs\u001B[49m\u001B[43m)\u001B[49m\n\u001B[1;32m   1529\u001B[0m \u001B[38;5;28;01mtry\u001B[39;00m:\n\u001B[1;32m   1530\u001B[0m     result \u001B[38;5;241m=\u001B[39m \u001B[38;5;28;01mNone\u001B[39;00m\n",
      "Cell \u001B[0;32mIn[6], line 99\u001B[0m, in \u001B[0;36mTransformerConv.forward\u001B[0;34m(self, x, edge_index, edge_attr, batch, return_attention_weights)\u001B[0m\n\u001B[1;32m     96\u001B[0m residual \u001B[38;5;241m=\u001B[39m out\n\u001B[1;32m     98\u001B[0m out \u001B[38;5;241m=\u001B[39m \u001B[38;5;28mself\u001B[39m\u001B[38;5;241m.\u001B[39mlayernorm2(out)\n\u001B[0;32m---> 99\u001B[0m out \u001B[38;5;241m=\u001B[39m \u001B[38;5;28mself\u001B[39m\u001B[38;5;241m.\u001B[39mgelu(\u001B[38;5;28;43mself\u001B[39;49m\u001B[38;5;241;43m.\u001B[39;49m\u001B[43mffn\u001B[49m\u001B[43m(\u001B[49m\u001B[43mout\u001B[49m\u001B[43m)\u001B[49m)\n\u001B[1;32m    100\u001B[0m out \u001B[38;5;241m=\u001B[39m F\u001B[38;5;241m.\u001B[39mdropout(out, p\u001B[38;5;241m=\u001B[39m\u001B[38;5;28mself\u001B[39m\u001B[38;5;241m.\u001B[39mdropout, training\u001B[38;5;241m=\u001B[39m\u001B[38;5;28mself\u001B[39m\u001B[38;5;241m.\u001B[39mtraining)\n\u001B[1;32m    101\u001B[0m out \u001B[38;5;241m=\u001B[39m \u001B[38;5;28mself\u001B[39m\u001B[38;5;241m.\u001B[39mffn2(out)\n",
      "File \u001B[0;32m~/.pyenv/versions/3.11.5/envs/projet_AMAL/lib/python3.11/site-packages/torch/nn/modules/module.py:1518\u001B[0m, in \u001B[0;36mModule._wrapped_call_impl\u001B[0;34m(self, *args, **kwargs)\u001B[0m\n\u001B[1;32m   1516\u001B[0m     \u001B[38;5;28;01mreturn\u001B[39;00m \u001B[38;5;28mself\u001B[39m\u001B[38;5;241m.\u001B[39m_compiled_call_impl(\u001B[38;5;241m*\u001B[39margs, \u001B[38;5;241m*\u001B[39m\u001B[38;5;241m*\u001B[39mkwargs)  \u001B[38;5;66;03m# type: ignore[misc]\u001B[39;00m\n\u001B[1;32m   1517\u001B[0m \u001B[38;5;28;01melse\u001B[39;00m:\n\u001B[0;32m-> 1518\u001B[0m     \u001B[38;5;28;01mreturn\u001B[39;00m \u001B[38;5;28;43mself\u001B[39;49m\u001B[38;5;241;43m.\u001B[39;49m\u001B[43m_call_impl\u001B[49m\u001B[43m(\u001B[49m\u001B[38;5;241;43m*\u001B[39;49m\u001B[43margs\u001B[49m\u001B[43m,\u001B[49m\u001B[43m \u001B[49m\u001B[38;5;241;43m*\u001B[39;49m\u001B[38;5;241;43m*\u001B[39;49m\u001B[43mkwargs\u001B[49m\u001B[43m)\u001B[49m\n",
      "File \u001B[0;32m~/.pyenv/versions/3.11.5/envs/projet_AMAL/lib/python3.11/site-packages/torch/nn/modules/module.py:1527\u001B[0m, in \u001B[0;36mModule._call_impl\u001B[0;34m(self, *args, **kwargs)\u001B[0m\n\u001B[1;32m   1522\u001B[0m \u001B[38;5;66;03m# If we don't have any hooks, we want to skip the rest of the logic in\u001B[39;00m\n\u001B[1;32m   1523\u001B[0m \u001B[38;5;66;03m# this function, and just call forward.\u001B[39;00m\n\u001B[1;32m   1524\u001B[0m \u001B[38;5;28;01mif\u001B[39;00m \u001B[38;5;129;01mnot\u001B[39;00m (\u001B[38;5;28mself\u001B[39m\u001B[38;5;241m.\u001B[39m_backward_hooks \u001B[38;5;129;01mor\u001B[39;00m \u001B[38;5;28mself\u001B[39m\u001B[38;5;241m.\u001B[39m_backward_pre_hooks \u001B[38;5;129;01mor\u001B[39;00m \u001B[38;5;28mself\u001B[39m\u001B[38;5;241m.\u001B[39m_forward_hooks \u001B[38;5;129;01mor\u001B[39;00m \u001B[38;5;28mself\u001B[39m\u001B[38;5;241m.\u001B[39m_forward_pre_hooks\n\u001B[1;32m   1525\u001B[0m         \u001B[38;5;129;01mor\u001B[39;00m _global_backward_pre_hooks \u001B[38;5;129;01mor\u001B[39;00m _global_backward_hooks\n\u001B[1;32m   1526\u001B[0m         \u001B[38;5;129;01mor\u001B[39;00m _global_forward_hooks \u001B[38;5;129;01mor\u001B[39;00m _global_forward_pre_hooks):\n\u001B[0;32m-> 1527\u001B[0m     \u001B[38;5;28;01mreturn\u001B[39;00m \u001B[43mforward_call\u001B[49m\u001B[43m(\u001B[49m\u001B[38;5;241;43m*\u001B[39;49m\u001B[43margs\u001B[49m\u001B[43m,\u001B[49m\u001B[43m \u001B[49m\u001B[38;5;241;43m*\u001B[39;49m\u001B[38;5;241;43m*\u001B[39;49m\u001B[43mkwargs\u001B[49m\u001B[43m)\u001B[49m\n\u001B[1;32m   1529\u001B[0m \u001B[38;5;28;01mtry\u001B[39;00m:\n\u001B[1;32m   1530\u001B[0m     result \u001B[38;5;241m=\u001B[39m \u001B[38;5;28;01mNone\u001B[39;00m\n",
      "File \u001B[0;32m~/.pyenv/versions/3.11.5/envs/projet_AMAL/lib/python3.11/site-packages/torch_geometric/nn/dense/linear.py:130\u001B[0m, in \u001B[0;36mLinear.forward\u001B[0;34m(self, x)\u001B[0m\n\u001B[1;32m    125\u001B[0m \u001B[38;5;28;01mdef\u001B[39;00m \u001B[38;5;21mforward\u001B[39m(\u001B[38;5;28mself\u001B[39m, x: Tensor) \u001B[38;5;241m-\u001B[39m\u001B[38;5;241m>\u001B[39m Tensor:\n\u001B[1;32m    126\u001B[0m \u001B[38;5;250m    \u001B[39m\u001B[38;5;124mr\u001B[39m\u001B[38;5;124;03m\"\"\"\u001B[39;00m\n\u001B[1;32m    127\u001B[0m \u001B[38;5;124;03m    Args:\u001B[39;00m\n\u001B[1;32m    128\u001B[0m \u001B[38;5;124;03m        x (torch.Tensor): The input features.\u001B[39;00m\n\u001B[1;32m    129\u001B[0m \u001B[38;5;124;03m    \"\"\"\u001B[39;00m\n\u001B[0;32m--> 130\u001B[0m     \u001B[38;5;28;01mreturn\u001B[39;00m \u001B[43mF\u001B[49m\u001B[38;5;241;43m.\u001B[39;49m\u001B[43mlinear\u001B[49m\u001B[43m(\u001B[49m\u001B[43mx\u001B[49m\u001B[43m,\u001B[49m\u001B[43m \u001B[49m\u001B[38;5;28;43mself\u001B[39;49m\u001B[38;5;241;43m.\u001B[39;49m\u001B[43mweight\u001B[49m\u001B[43m,\u001B[49m\u001B[43m \u001B[49m\u001B[38;5;28;43mself\u001B[39;49m\u001B[38;5;241;43m.\u001B[39;49m\u001B[43mbias\u001B[49m\u001B[43m)\u001B[49m\n",
      "\u001B[0;31mKeyboardInterrupt\u001B[0m: "
     ]
    }
   ],
   "source": [
    "df = experiment(num_experiments=5)"
   ],
   "metadata": {
    "collapsed": false,
    "ExecuteTime": {
     "end_time": "2024-01-21T11:24:09.621082Z",
     "start_time": "2024-01-21T11:20:58.744758Z"
    }
   },
   "id": "36a55170938c7bf8",
   "execution_count": 22
  },
  {
   "cell_type": "code",
   "outputs": [
    {
     "data": {
      "text/plain": "    Experiment    Model        Metric      Score\n0            1  GT_BERT  Val Accuracy   0.147826\n1            1  GT_BERT    Train Loss   0.000004\n2            1  GT_BERT      Val Loss   0.000000\n3            1  GT_BERT    Train Time  76.409270\n4            1  GT_BERT      Val Time   3.805819\n5            2  GT_BERT  Val Accuracy   0.150000\n6            2  GT_BERT    Train Loss   0.000001\n7            2  GT_BERT      Val Loss   0.000000\n8            2  GT_BERT    Train Time  75.925956\n9            2  GT_BERT      Val Time   4.217366\n10           3  GT_BERT  Val Accuracy   0.147887\n11           3  GT_BERT    Train Loss   0.000002\n12           3  GT_BERT      Val Loss   0.000000\n13           3  GT_BERT    Train Time  73.605045\n14           3  GT_BERT      Val Time   4.199621\n15           4  GT_BERT  Val Accuracy   0.147059\n16           4  GT_BERT    Train Loss   0.000002\n17           4  GT_BERT      Val Loss   0.000000\n18           4  GT_BERT    Train Time  80.288804\n19           4  GT_BERT      Val Time   4.489087\n20           5  GT_BERT  Val Accuracy   0.148472\n21           5  GT_BERT    Train Loss   0.000001\n22           5  GT_BERT      Val Loss   0.000000\n23           5  GT_BERT    Train Time  85.481094\n24           5  GT_BERT      Val Time   5.057503",
      "text/html": "<div>\n<style scoped>\n    .dataframe tbody tr th:only-of-type {\n        vertical-align: middle;\n    }\n\n    .dataframe tbody tr th {\n        vertical-align: top;\n    }\n\n    .dataframe thead th {\n        text-align: right;\n    }\n</style>\n<table border=\"1\" class=\"dataframe\">\n  <thead>\n    <tr style=\"text-align: right;\">\n      <th></th>\n      <th>Experiment</th>\n      <th>Model</th>\n      <th>Metric</th>\n      <th>Score</th>\n    </tr>\n  </thead>\n  <tbody>\n    <tr>\n      <th>0</th>\n      <td>1</td>\n      <td>GT_BERT</td>\n      <td>Val Accuracy</td>\n      <td>0.147826</td>\n    </tr>\n    <tr>\n      <th>1</th>\n      <td>1</td>\n      <td>GT_BERT</td>\n      <td>Train Loss</td>\n      <td>0.000004</td>\n    </tr>\n    <tr>\n      <th>2</th>\n      <td>1</td>\n      <td>GT_BERT</td>\n      <td>Val Loss</td>\n      <td>0.000000</td>\n    </tr>\n    <tr>\n      <th>3</th>\n      <td>1</td>\n      <td>GT_BERT</td>\n      <td>Train Time</td>\n      <td>76.409270</td>\n    </tr>\n    <tr>\n      <th>4</th>\n      <td>1</td>\n      <td>GT_BERT</td>\n      <td>Val Time</td>\n      <td>3.805819</td>\n    </tr>\n    <tr>\n      <th>5</th>\n      <td>2</td>\n      <td>GT_BERT</td>\n      <td>Val Accuracy</td>\n      <td>0.150000</td>\n    </tr>\n    <tr>\n      <th>6</th>\n      <td>2</td>\n      <td>GT_BERT</td>\n      <td>Train Loss</td>\n      <td>0.000001</td>\n    </tr>\n    <tr>\n      <th>7</th>\n      <td>2</td>\n      <td>GT_BERT</td>\n      <td>Val Loss</td>\n      <td>0.000000</td>\n    </tr>\n    <tr>\n      <th>8</th>\n      <td>2</td>\n      <td>GT_BERT</td>\n      <td>Train Time</td>\n      <td>75.925956</td>\n    </tr>\n    <tr>\n      <th>9</th>\n      <td>2</td>\n      <td>GT_BERT</td>\n      <td>Val Time</td>\n      <td>4.217366</td>\n    </tr>\n    <tr>\n      <th>10</th>\n      <td>3</td>\n      <td>GT_BERT</td>\n      <td>Val Accuracy</td>\n      <td>0.147887</td>\n    </tr>\n    <tr>\n      <th>11</th>\n      <td>3</td>\n      <td>GT_BERT</td>\n      <td>Train Loss</td>\n      <td>0.000002</td>\n    </tr>\n    <tr>\n      <th>12</th>\n      <td>3</td>\n      <td>GT_BERT</td>\n      <td>Val Loss</td>\n      <td>0.000000</td>\n    </tr>\n    <tr>\n      <th>13</th>\n      <td>3</td>\n      <td>GT_BERT</td>\n      <td>Train Time</td>\n      <td>73.605045</td>\n    </tr>\n    <tr>\n      <th>14</th>\n      <td>3</td>\n      <td>GT_BERT</td>\n      <td>Val Time</td>\n      <td>4.199621</td>\n    </tr>\n    <tr>\n      <th>15</th>\n      <td>4</td>\n      <td>GT_BERT</td>\n      <td>Val Accuracy</td>\n      <td>0.147059</td>\n    </tr>\n    <tr>\n      <th>16</th>\n      <td>4</td>\n      <td>GT_BERT</td>\n      <td>Train Loss</td>\n      <td>0.000002</td>\n    </tr>\n    <tr>\n      <th>17</th>\n      <td>4</td>\n      <td>GT_BERT</td>\n      <td>Val Loss</td>\n      <td>0.000000</td>\n    </tr>\n    <tr>\n      <th>18</th>\n      <td>4</td>\n      <td>GT_BERT</td>\n      <td>Train Time</td>\n      <td>80.288804</td>\n    </tr>\n    <tr>\n      <th>19</th>\n      <td>4</td>\n      <td>GT_BERT</td>\n      <td>Val Time</td>\n      <td>4.489087</td>\n    </tr>\n    <tr>\n      <th>20</th>\n      <td>5</td>\n      <td>GT_BERT</td>\n      <td>Val Accuracy</td>\n      <td>0.148472</td>\n    </tr>\n    <tr>\n      <th>21</th>\n      <td>5</td>\n      <td>GT_BERT</td>\n      <td>Train Loss</td>\n      <td>0.000001</td>\n    </tr>\n    <tr>\n      <th>22</th>\n      <td>5</td>\n      <td>GT_BERT</td>\n      <td>Val Loss</td>\n      <td>0.000000</td>\n    </tr>\n    <tr>\n      <th>23</th>\n      <td>5</td>\n      <td>GT_BERT</td>\n      <td>Train Time</td>\n      <td>85.481094</td>\n    </tr>\n    <tr>\n      <th>24</th>\n      <td>5</td>\n      <td>GT_BERT</td>\n      <td>Val Time</td>\n      <td>5.057503</td>\n    </tr>\n  </tbody>\n</table>\n</div>"
     },
     "execution_count": 22,
     "metadata": {},
     "output_type": "execute_result"
    }
   ],
   "source": [
    "df"
   ],
   "metadata": {
    "collapsed": false,
    "ExecuteTime": {
     "end_time": "2024-01-20T14:03:19.796523Z",
     "start_time": "2024-01-20T14:03:19.508815Z"
    }
   },
   "id": "4edbf283ecdebead",
   "execution_count": 22
  },
  {
   "cell_type": "code",
   "outputs": [],
   "source": [
    "# Group by Model and Metric and calculate average and standard deviation\n",
    "result_df = df.groupby(['Model', 'Metric']).agg({'Score': ['mean', 'std']}).reset_index()\n",
    "\n",
    "# Rename columns for clarity\n",
    "result_df.columns = ['Model', 'Metric', 'Average Score', 'Standard Deviation']\n",
    "\n",
    "result_df['Average Score'] = result_df['Average Score'].round(2)\n",
    "result_df['Standard Deviation'] = result_df['Standard Deviation'].round(2)\n",
    "\n",
    "# save the result\n",
    "result_df.to_csv(path_results + 'dataframes/' + 'GT_behrt_results_pretraining_1_global.csv')"
   ],
   "metadata": {
    "collapsed": false,
    "ExecuteTime": {
     "end_time": "2024-01-20T14:03:19.827367Z",
     "start_time": "2024-01-20T14:03:19.517073Z"
    }
   },
   "id": "d224df88f97d04a3",
   "execution_count": 23
  },
  {
   "cell_type": "code",
   "outputs": [
    {
     "data": {
      "text/plain": "     Model        Metric  Average Score  Standard Deviation\n0  GT_BERT    Train Loss           0.00                0.00\n1  GT_BERT    Train Time          78.34                4.66\n2  GT_BERT  Val Accuracy           0.15                0.00\n3  GT_BERT      Val Loss           0.00                0.00\n4  GT_BERT      Val Time           4.35                0.46",
      "text/html": "<div>\n<style scoped>\n    .dataframe tbody tr th:only-of-type {\n        vertical-align: middle;\n    }\n\n    .dataframe tbody tr th {\n        vertical-align: top;\n    }\n\n    .dataframe thead th {\n        text-align: right;\n    }\n</style>\n<table border=\"1\" class=\"dataframe\">\n  <thead>\n    <tr style=\"text-align: right;\">\n      <th></th>\n      <th>Model</th>\n      <th>Metric</th>\n      <th>Average Score</th>\n      <th>Standard Deviation</th>\n    </tr>\n  </thead>\n  <tbody>\n    <tr>\n      <th>0</th>\n      <td>GT_BERT</td>\n      <td>Train Loss</td>\n      <td>0.00</td>\n      <td>0.00</td>\n    </tr>\n    <tr>\n      <th>1</th>\n      <td>GT_BERT</td>\n      <td>Train Time</td>\n      <td>78.34</td>\n      <td>4.66</td>\n    </tr>\n    <tr>\n      <th>2</th>\n      <td>GT_BERT</td>\n      <td>Val Accuracy</td>\n      <td>0.15</td>\n      <td>0.00</td>\n    </tr>\n    <tr>\n      <th>3</th>\n      <td>GT_BERT</td>\n      <td>Val Loss</td>\n      <td>0.00</td>\n      <td>0.00</td>\n    </tr>\n    <tr>\n      <th>4</th>\n      <td>GT_BERT</td>\n      <td>Val Time</td>\n      <td>4.35</td>\n      <td>0.46</td>\n    </tr>\n  </tbody>\n</table>\n</div>"
     },
     "execution_count": 24,
     "metadata": {},
     "output_type": "execute_result"
    }
   ],
   "source": [
    " # print results\n",
    "result_df"
   ],
   "metadata": {
    "collapsed": false,
    "ExecuteTime": {
     "end_time": "2024-01-20T14:03:19.834919Z",
     "start_time": "2024-01-20T14:03:19.522791Z"
    }
   },
   "id": "1af64f654cc95d4f",
   "execution_count": 24
  },
  {
   "cell_type": "code",
   "outputs": [],
   "source": [],
   "metadata": {
    "collapsed": false,
    "ExecuteTime": {
     "end_time": "2024-01-20T14:03:19.837251Z",
     "start_time": "2024-01-20T14:03:19.523045Z"
    }
   },
   "id": "4c1248084784f05f",
   "execution_count": 24
  }
 ],
 "metadata": {
  "kernelspec": {
   "display_name": "Python 3",
   "language": "python",
   "name": "python3"
  },
  "language_info": {
   "codemirror_mode": {
    "name": "ipython",
    "version": 3
   },
   "file_extension": ".py",
   "mimetype": "text/x-python",
   "name": "python",
   "nbconvert_exporter": "python",
   "pygments_lexer": "ipython3",
   "version": "3.10.12"
  }
 },
 "nbformat": 4,
 "nbformat_minor": 5
}
